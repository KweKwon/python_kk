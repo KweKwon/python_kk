{
 "cells": [
  {
   "cell_type": "markdown",
   "id": "14ef55ee",
   "metadata": {},
   "source": [
    "# 컨텐츠 기반 추천시스템 - TMDB5000 Movie Dataset"
   ]
  },
  {
   "cell_type": "code",
   "execution_count": 5,
   "id": "825129f9",
   "metadata": {},
   "outputs": [],
   "source": [
    "import pandas as pd\n",
    "import numpy as np\n",
    "import matplotlib.pyplot as mlp\n",
    "import seaborn as sns"
   ]
  },
  {
   "cell_type": "code",
   "execution_count": 6,
   "id": "9fbd05e7",
   "metadata": {},
   "outputs": [],
   "source": [
    "data = pd.read_csv('https://raw.githubusercontent.com/haram4th/ablearn/main/tmdb_5000_movies.csv')"
   ]
  },
  {
   "cell_type": "code",
   "execution_count": 7,
   "id": "187658c2",
   "metadata": {},
   "outputs": [
    {
     "data": {
      "text/html": [
       "<div>\n",
       "<style scoped>\n",
       "    .dataframe tbody tr th:only-of-type {\n",
       "        vertical-align: middle;\n",
       "    }\n",
       "\n",
       "    .dataframe tbody tr th {\n",
       "        vertical-align: top;\n",
       "    }\n",
       "\n",
       "    .dataframe thead th {\n",
       "        text-align: right;\n",
       "    }\n",
       "</style>\n",
       "<table border=\"1\" class=\"dataframe\">\n",
       "  <thead>\n",
       "    <tr style=\"text-align: right;\">\n",
       "      <th></th>\n",
       "      <th>budget</th>\n",
       "      <th>genres</th>\n",
       "      <th>homepage</th>\n",
       "      <th>id</th>\n",
       "      <th>keywords</th>\n",
       "      <th>original_language</th>\n",
       "      <th>original_title</th>\n",
       "      <th>overview</th>\n",
       "      <th>popularity</th>\n",
       "      <th>production_companies</th>\n",
       "      <th>production_countries</th>\n",
       "      <th>release_date</th>\n",
       "      <th>revenue</th>\n",
       "      <th>runtime</th>\n",
       "      <th>spoken_languages</th>\n",
       "      <th>status</th>\n",
       "      <th>tagline</th>\n",
       "      <th>title</th>\n",
       "      <th>vote_average</th>\n",
       "      <th>vote_count</th>\n",
       "    </tr>\n",
       "  </thead>\n",
       "  <tbody>\n",
       "    <tr>\n",
       "      <th>0</th>\n",
       "      <td>237000000</td>\n",
       "      <td>[{\"id\": 28, \"name\": \"Action\"}, {\"id\": 12, \"nam...</td>\n",
       "      <td>http://www.avatarmovie.com/</td>\n",
       "      <td>19995</td>\n",
       "      <td>[{\"id\": 1463, \"name\": \"culture clash\"}, {\"id\":...</td>\n",
       "      <td>en</td>\n",
       "      <td>Avatar</td>\n",
       "      <td>In the 22nd century, a paraplegic Marine is di...</td>\n",
       "      <td>150.437577</td>\n",
       "      <td>[{\"name\": \"Ingenious Film Partners\", \"id\": 289...</td>\n",
       "      <td>[{\"iso_3166_1\": \"US\", \"name\": \"United States o...</td>\n",
       "      <td>2009-12-10</td>\n",
       "      <td>2787965087</td>\n",
       "      <td>162.0</td>\n",
       "      <td>[{\"iso_639_1\": \"en\", \"name\": \"English\"}, {\"iso...</td>\n",
       "      <td>Released</td>\n",
       "      <td>Enter the World of Pandora.</td>\n",
       "      <td>Avatar</td>\n",
       "      <td>7.2</td>\n",
       "      <td>11800</td>\n",
       "    </tr>\n",
       "    <tr>\n",
       "      <th>1</th>\n",
       "      <td>300000000</td>\n",
       "      <td>[{\"id\": 12, \"name\": \"Adventure\"}, {\"id\": 14, \"...</td>\n",
       "      <td>http://disney.go.com/disneypictures/pirates/</td>\n",
       "      <td>285</td>\n",
       "      <td>[{\"id\": 270, \"name\": \"ocean\"}, {\"id\": 726, \"na...</td>\n",
       "      <td>en</td>\n",
       "      <td>Pirates of the Caribbean: At World's End</td>\n",
       "      <td>Captain Barbossa, long believed to be dead, ha...</td>\n",
       "      <td>139.082615</td>\n",
       "      <td>[{\"name\": \"Walt Disney Pictures\", \"id\": 2}, {\"...</td>\n",
       "      <td>[{\"iso_3166_1\": \"US\", \"name\": \"United States o...</td>\n",
       "      <td>2007-05-19</td>\n",
       "      <td>961000000</td>\n",
       "      <td>169.0</td>\n",
       "      <td>[{\"iso_639_1\": \"en\", \"name\": \"English\"}]</td>\n",
       "      <td>Released</td>\n",
       "      <td>At the end of the world, the adventure begins.</td>\n",
       "      <td>Pirates of the Caribbean: At World's End</td>\n",
       "      <td>6.9</td>\n",
       "      <td>4500</td>\n",
       "    </tr>\n",
       "  </tbody>\n",
       "</table>\n",
       "</div>"
      ],
      "text/plain": [
       "      budget                                             genres  \\\n",
       "0  237000000  [{\"id\": 28, \"name\": \"Action\"}, {\"id\": 12, \"nam...   \n",
       "1  300000000  [{\"id\": 12, \"name\": \"Adventure\"}, {\"id\": 14, \"...   \n",
       "\n",
       "                                       homepage     id  \\\n",
       "0                   http://www.avatarmovie.com/  19995   \n",
       "1  http://disney.go.com/disneypictures/pirates/    285   \n",
       "\n",
       "                                            keywords original_language  \\\n",
       "0  [{\"id\": 1463, \"name\": \"culture clash\"}, {\"id\":...                en   \n",
       "1  [{\"id\": 270, \"name\": \"ocean\"}, {\"id\": 726, \"na...                en   \n",
       "\n",
       "                             original_title  \\\n",
       "0                                    Avatar   \n",
       "1  Pirates of the Caribbean: At World's End   \n",
       "\n",
       "                                            overview  popularity  \\\n",
       "0  In the 22nd century, a paraplegic Marine is di...  150.437577   \n",
       "1  Captain Barbossa, long believed to be dead, ha...  139.082615   \n",
       "\n",
       "                                production_companies  \\\n",
       "0  [{\"name\": \"Ingenious Film Partners\", \"id\": 289...   \n",
       "1  [{\"name\": \"Walt Disney Pictures\", \"id\": 2}, {\"...   \n",
       "\n",
       "                                production_countries release_date     revenue  \\\n",
       "0  [{\"iso_3166_1\": \"US\", \"name\": \"United States o...   2009-12-10  2787965087   \n",
       "1  [{\"iso_3166_1\": \"US\", \"name\": \"United States o...   2007-05-19   961000000   \n",
       "\n",
       "   runtime                                   spoken_languages    status  \\\n",
       "0    162.0  [{\"iso_639_1\": \"en\", \"name\": \"English\"}, {\"iso...  Released   \n",
       "1    169.0           [{\"iso_639_1\": \"en\", \"name\": \"English\"}]  Released   \n",
       "\n",
       "                                          tagline  \\\n",
       "0                     Enter the World of Pandora.   \n",
       "1  At the end of the world, the adventure begins.   \n",
       "\n",
       "                                      title  vote_average  vote_count  \n",
       "0                                    Avatar           7.2       11800  \n",
       "1  Pirates of the Caribbean: At World's End           6.9        4500  "
      ]
     },
     "execution_count": 7,
     "metadata": {},
     "output_type": "execute_result"
    }
   ],
   "source": [
    "data.head(2)"
   ]
  },
  {
   "cell_type": "code",
   "execution_count": 8,
   "id": "24dd0034",
   "metadata": {
    "scrolled": true
   },
   "outputs": [
    {
     "name": "stdout",
     "output_type": "stream",
     "text": [
      "<class 'pandas.core.frame.DataFrame'>\n",
      "RangeIndex: 4803 entries, 0 to 4802\n",
      "Data columns (total 20 columns):\n",
      " #   Column                Non-Null Count  Dtype  \n",
      "---  ------                --------------  -----  \n",
      " 0   budget                4803 non-null   int64  \n",
      " 1   genres                4803 non-null   object \n",
      " 2   homepage              1712 non-null   object \n",
      " 3   id                    4803 non-null   int64  \n",
      " 4   keywords              4803 non-null   object \n",
      " 5   original_language     4803 non-null   object \n",
      " 6   original_title        4803 non-null   object \n",
      " 7   overview              4800 non-null   object \n",
      " 8   popularity            4803 non-null   float64\n",
      " 9   production_companies  4803 non-null   object \n",
      " 10  production_countries  4803 non-null   object \n",
      " 11  release_date          4802 non-null   object \n",
      " 12  revenue               4803 non-null   int64  \n",
      " 13  runtime               4801 non-null   float64\n",
      " 14  spoken_languages      4803 non-null   object \n",
      " 15  status                4803 non-null   object \n",
      " 16  tagline               3959 non-null   object \n",
      " 17  title                 4803 non-null   object \n",
      " 18  vote_average          4803 non-null   float64\n",
      " 19  vote_count            4803 non-null   int64  \n",
      "dtypes: float64(3), int64(4), object(13)\n",
      "memory usage: 750.6+ KB\n"
     ]
    }
   ],
   "source": [
    "data.info()"
   ]
  },
  {
   "cell_type": "code",
   "execution_count": 9,
   "id": "245302cc",
   "metadata": {},
   "outputs": [
    {
     "data": {
      "text/plain": [
       "'[{\"id\": 28, \"name\": \"Action\"}, {\"id\": 12, \"name\": \"Adventure\"}, {\"id\": 14, \"name\": \"Fantasy\"}, {\"id\": 878, \"name\": \"Science Fiction\"}]'"
      ]
     },
     "execution_count": 9,
     "metadata": {},
     "output_type": "execute_result"
    }
   ],
   "source": [
    "data['genres'][0]"
   ]
  },
  {
   "cell_type": "code",
   "execution_count": 10,
   "id": "568af9b8",
   "metadata": {},
   "outputs": [
    {
     "name": "stdout",
     "output_type": "stream",
     "text": [
      "<class 'str'>\n"
     ]
    }
   ],
   "source": [
    "print(type(data['genres'][0]))"
   ]
  },
  {
   "cell_type": "code",
   "execution_count": 11,
   "id": "e4aef9f2",
   "metadata": {},
   "outputs": [],
   "source": [
    "import json"
   ]
  },
  {
   "cell_type": "code",
   "execution_count": 12,
   "id": "1dbec289",
   "metadata": {},
   "outputs": [
    {
     "data": {
      "text/plain": [
       "[{'id': 28, 'name': 'Action'},\n",
       " {'id': 12, 'name': 'Adventure'},\n",
       " {'id': 14, 'name': 'Fantasy'},\n",
       " {'id': 878, 'name': 'Science Fiction'}]"
      ]
     },
     "execution_count": 12,
     "metadata": {},
     "output_type": "execute_result"
    }
   ],
   "source": [
    "test = json.loads(data['genres'][0])\n",
    "test"
   ]
  },
  {
   "cell_type": "code",
   "execution_count": 13,
   "id": "6519929a",
   "metadata": {},
   "outputs": [
    {
     "name": "stdout",
     "output_type": "stream",
     "text": [
      "Action\n",
      "Adventure\n",
      "Fantasy\n",
      "Science Fiction\n"
     ]
    }
   ],
   "source": [
    "for i in test:\n",
    "    print(list(i.values())[1])"
   ]
  },
  {
   "cell_type": "code",
   "execution_count": 14,
   "id": "abd4e1b6",
   "metadata": {},
   "outputs": [
    {
     "name": "stdout",
     "output_type": "stream",
     "text": [
      "Action\n",
      "Adventure\n",
      "Fantasy\n",
      "Science Fiction\n"
     ]
    }
   ],
   "source": [
    "for i in test:\n",
    "    print(i['name'])"
   ]
  },
  {
   "cell_type": "code",
   "execution_count": 15,
   "id": "a3e8f9e5",
   "metadata": {},
   "outputs": [
    {
     "data": {
      "text/plain": [
       "['Action', 'Adventure', 'Fantasy', 'Science Fiction']"
      ]
     },
     "execution_count": 15,
     "metadata": {},
     "output_type": "execute_result"
    }
   ],
   "source": [
    "genre = []\n",
    "for i in test:\n",
    "    genre.append(i['name'])\n",
    "genre"
   ]
  },
  {
   "cell_type": "code",
   "execution_count": 16,
   "id": "3e375f7f",
   "metadata": {},
   "outputs": [],
   "source": [
    "genre = ', '.join(genre)"
   ]
  },
  {
   "cell_type": "code",
   "execution_count": 17,
   "id": "1c551387",
   "metadata": {},
   "outputs": [
    {
     "data": {
      "text/plain": [
       "'Action, Adventure, Fantasy, Science Fiction'"
      ]
     },
     "execution_count": 17,
     "metadata": {},
     "output_type": "execute_result"
    }
   ],
   "source": [
    "genre"
   ]
  },
  {
   "cell_type": "code",
   "execution_count": 18,
   "id": "2d88799b",
   "metadata": {},
   "outputs": [],
   "source": [
    "data['genres'] = data['genres'].apply(json.loads)"
   ]
  },
  {
   "cell_type": "code",
   "execution_count": 19,
   "id": "61d87e2a",
   "metadata": {},
   "outputs": [],
   "source": [
    "data['genres'] = data['genres'].apply(lambda x: [i['name'] for i in x])"
   ]
  },
  {
   "cell_type": "code",
   "execution_count": 20,
   "id": "c379e24a",
   "metadata": {},
   "outputs": [],
   "source": [
    "data['genres'] = data['genres'].apply(lambda x: \" \".join(x))"
   ]
  },
  {
   "cell_type": "code",
   "execution_count": 21,
   "id": "b49093c7",
   "metadata": {
    "scrolled": true
   },
   "outputs": [
    {
     "data": {
      "text/plain": [
       "Index(['budget', 'genres', 'homepage', 'id', 'keywords', 'original_language',\n",
       "       'original_title', 'overview', 'popularity', 'production_companies',\n",
       "       'production_countries', 'release_date', 'revenue', 'runtime',\n",
       "       'spoken_languages', 'status', 'tagline', 'title', 'vote_average',\n",
       "       'vote_count'],\n",
       "      dtype='object')"
      ]
     },
     "execution_count": 21,
     "metadata": {},
     "output_type": "execute_result"
    }
   ],
   "source": [
    "data.columns"
   ]
  },
  {
   "cell_type": "code",
   "execution_count": 22,
   "id": "62e49b26",
   "metadata": {},
   "outputs": [],
   "source": [
    "for col in ['keywords', 'production_companies', 'production_countries', 'spoken_languages']:\n",
    "    data[col] = data[col].apply(json.loads)\n",
    "    data[col] = data[col].apply(lambda x: [i['name'] for i in x])\n",
    "    data[col] = data[col].apply(lambda x: \" \".join(x))"
   ]
  },
  {
   "cell_type": "code",
   "execution_count": 23,
   "id": "6c9804c6",
   "metadata": {},
   "outputs": [
    {
     "data": {
      "text/html": [
       "<div>\n",
       "<style scoped>\n",
       "    .dataframe tbody tr th:only-of-type {\n",
       "        vertical-align: middle;\n",
       "    }\n",
       "\n",
       "    .dataframe tbody tr th {\n",
       "        vertical-align: top;\n",
       "    }\n",
       "\n",
       "    .dataframe thead th {\n",
       "        text-align: right;\n",
       "    }\n",
       "</style>\n",
       "<table border=\"1\" class=\"dataframe\">\n",
       "  <thead>\n",
       "    <tr style=\"text-align: right;\">\n",
       "      <th></th>\n",
       "      <th>budget</th>\n",
       "      <th>genres</th>\n",
       "      <th>homepage</th>\n",
       "      <th>id</th>\n",
       "      <th>keywords</th>\n",
       "      <th>original_language</th>\n",
       "      <th>original_title</th>\n",
       "      <th>overview</th>\n",
       "      <th>popularity</th>\n",
       "      <th>production_companies</th>\n",
       "      <th>production_countries</th>\n",
       "      <th>release_date</th>\n",
       "      <th>revenue</th>\n",
       "      <th>runtime</th>\n",
       "      <th>spoken_languages</th>\n",
       "      <th>status</th>\n",
       "      <th>tagline</th>\n",
       "      <th>title</th>\n",
       "      <th>vote_average</th>\n",
       "      <th>vote_count</th>\n",
       "    </tr>\n",
       "  </thead>\n",
       "  <tbody>\n",
       "    <tr>\n",
       "      <th>0</th>\n",
       "      <td>237000000</td>\n",
       "      <td>Action Adventure Fantasy Science Fiction</td>\n",
       "      <td>http://www.avatarmovie.com/</td>\n",
       "      <td>19995</td>\n",
       "      <td>culture clash future space war space colony so...</td>\n",
       "      <td>en</td>\n",
       "      <td>Avatar</td>\n",
       "      <td>In the 22nd century, a paraplegic Marine is di...</td>\n",
       "      <td>150.437577</td>\n",
       "      <td>Ingenious Film Partners Twentieth Century Fox ...</td>\n",
       "      <td>United States of America United Kingdom</td>\n",
       "      <td>2009-12-10</td>\n",
       "      <td>2787965087</td>\n",
       "      <td>162.0</td>\n",
       "      <td>English Español</td>\n",
       "      <td>Released</td>\n",
       "      <td>Enter the World of Pandora.</td>\n",
       "      <td>Avatar</td>\n",
       "      <td>7.2</td>\n",
       "      <td>11800</td>\n",
       "    </tr>\n",
       "    <tr>\n",
       "      <th>1</th>\n",
       "      <td>300000000</td>\n",
       "      <td>Adventure Fantasy Action</td>\n",
       "      <td>http://disney.go.com/disneypictures/pirates/</td>\n",
       "      <td>285</td>\n",
       "      <td>ocean drug abuse exotic island east india trad...</td>\n",
       "      <td>en</td>\n",
       "      <td>Pirates of the Caribbean: At World's End</td>\n",
       "      <td>Captain Barbossa, long believed to be dead, ha...</td>\n",
       "      <td>139.082615</td>\n",
       "      <td>Walt Disney Pictures Jerry Bruckheimer Films S...</td>\n",
       "      <td>United States of America</td>\n",
       "      <td>2007-05-19</td>\n",
       "      <td>961000000</td>\n",
       "      <td>169.0</td>\n",
       "      <td>English</td>\n",
       "      <td>Released</td>\n",
       "      <td>At the end of the world, the adventure begins.</td>\n",
       "      <td>Pirates of the Caribbean: At World's End</td>\n",
       "      <td>6.9</td>\n",
       "      <td>4500</td>\n",
       "    </tr>\n",
       "  </tbody>\n",
       "</table>\n",
       "</div>"
      ],
      "text/plain": [
       "      budget                                    genres  \\\n",
       "0  237000000  Action Adventure Fantasy Science Fiction   \n",
       "1  300000000                  Adventure Fantasy Action   \n",
       "\n",
       "                                       homepage     id  \\\n",
       "0                   http://www.avatarmovie.com/  19995   \n",
       "1  http://disney.go.com/disneypictures/pirates/    285   \n",
       "\n",
       "                                            keywords original_language  \\\n",
       "0  culture clash future space war space colony so...                en   \n",
       "1  ocean drug abuse exotic island east india trad...                en   \n",
       "\n",
       "                             original_title  \\\n",
       "0                                    Avatar   \n",
       "1  Pirates of the Caribbean: At World's End   \n",
       "\n",
       "                                            overview  popularity  \\\n",
       "0  In the 22nd century, a paraplegic Marine is di...  150.437577   \n",
       "1  Captain Barbossa, long believed to be dead, ha...  139.082615   \n",
       "\n",
       "                                production_companies  \\\n",
       "0  Ingenious Film Partners Twentieth Century Fox ...   \n",
       "1  Walt Disney Pictures Jerry Bruckheimer Films S...   \n",
       "\n",
       "                      production_countries release_date     revenue  runtime  \\\n",
       "0  United States of America United Kingdom   2009-12-10  2787965087    162.0   \n",
       "1                 United States of America   2007-05-19   961000000    169.0   \n",
       "\n",
       "  spoken_languages    status                                         tagline  \\\n",
       "0  English Español  Released                     Enter the World of Pandora.   \n",
       "1          English  Released  At the end of the world, the adventure begins.   \n",
       "\n",
       "                                      title  vote_average  vote_count  \n",
       "0                                    Avatar           7.2       11800  \n",
       "1  Pirates of the Caribbean: At World's End           6.9        4500  "
      ]
     },
     "execution_count": 23,
     "metadata": {},
     "output_type": "execute_result"
    }
   ],
   "source": [
    "data.head(2)"
   ]
  },
  {
   "cell_type": "code",
   "execution_count": 24,
   "id": "7b740c14",
   "metadata": {},
   "outputs": [
    {
     "data": {
      "text/plain": [
       "Index(['budget', 'genres', 'homepage', 'id', 'keywords', 'original_language',\n",
       "       'original_title', 'overview', 'popularity', 'production_companies',\n",
       "       'production_countries', 'release_date', 'revenue', 'runtime',\n",
       "       'spoken_languages', 'status', 'tagline', 'title', 'vote_average',\n",
       "       'vote_count'],\n",
       "      dtype='object')"
      ]
     },
     "execution_count": 24,
     "metadata": {},
     "output_type": "execute_result"
    }
   ],
   "source": [
    "data.columns"
   ]
  },
  {
   "cell_type": "code",
   "execution_count": 25,
   "id": "4e7068e5",
   "metadata": {},
   "outputs": [
    {
     "data": {
      "text/plain": [
       "0       culture clash future space war space colony so...\n",
       "1       ocean drug abuse exotic island east india trad...\n",
       "2       spy based on novel secret agent sequel mi6 bri...\n",
       "3       dc comics crime fighter terrorist secret ident...\n",
       "4       based on novel mars medallion space travel pri...\n",
       "                              ...                        \n",
       "4798    united states–mexico barrier legs arms paper k...\n",
       "4799                                                     \n",
       "4800    date love at first sight narration investigati...\n",
       "4801                                                     \n",
       "4802                 obsession camcorder crush dream girl\n",
       "Name: keywords, Length: 4803, dtype: object"
      ]
     },
     "execution_count": 25,
     "metadata": {},
     "output_type": "execute_result"
    }
   ],
   "source": [
    "data['keywords']"
   ]
  },
  {
   "cell_type": "code",
   "execution_count": 26,
   "id": "7ce840db",
   "metadata": {},
   "outputs": [
    {
     "data": {
      "text/html": [
       "<div>\n",
       "<style scoped>\n",
       "    .dataframe tbody tr th:only-of-type {\n",
       "        vertical-align: middle;\n",
       "    }\n",
       "\n",
       "    .dataframe tbody tr th {\n",
       "        vertical-align: top;\n",
       "    }\n",
       "\n",
       "    .dataframe thead th {\n",
       "        text-align: right;\n",
       "    }\n",
       "</style>\n",
       "<table border=\"1\" class=\"dataframe\">\n",
       "  <thead>\n",
       "    <tr style=\"text-align: right;\">\n",
       "      <th></th>\n",
       "      <th>id</th>\n",
       "      <th>title</th>\n",
       "      <th>genres</th>\n",
       "      <th>vote_average</th>\n",
       "      <th>popularity</th>\n",
       "      <th>keywords</th>\n",
       "      <th>overview</th>\n",
       "    </tr>\n",
       "  </thead>\n",
       "  <tbody>\n",
       "    <tr>\n",
       "      <th>0</th>\n",
       "      <td>19995</td>\n",
       "      <td>Avatar</td>\n",
       "      <td>Action Adventure Fantasy Science Fiction</td>\n",
       "      <td>7.2</td>\n",
       "      <td>150.437577</td>\n",
       "      <td>culture clash future space war space colony so...</td>\n",
       "      <td>In the 22nd century, a paraplegic Marine is di...</td>\n",
       "    </tr>\n",
       "    <tr>\n",
       "      <th>1</th>\n",
       "      <td>285</td>\n",
       "      <td>Pirates of the Caribbean: At World's End</td>\n",
       "      <td>Adventure Fantasy Action</td>\n",
       "      <td>6.9</td>\n",
       "      <td>139.082615</td>\n",
       "      <td>ocean drug abuse exotic island east india trad...</td>\n",
       "      <td>Captain Barbossa, long believed to be dead, ha...</td>\n",
       "    </tr>\n",
       "  </tbody>\n",
       "</table>\n",
       "</div>"
      ],
      "text/plain": [
       "      id                                     title  \\\n",
       "0  19995                                    Avatar   \n",
       "1    285  Pirates of the Caribbean: At World's End   \n",
       "\n",
       "                                     genres  vote_average  popularity  \\\n",
       "0  Action Adventure Fantasy Science Fiction           7.2  150.437577   \n",
       "1                  Adventure Fantasy Action           6.9  139.082615   \n",
       "\n",
       "                                            keywords  \\\n",
       "0  culture clash future space war space colony so...   \n",
       "1  ocean drug abuse exotic island east india trad...   \n",
       "\n",
       "                                            overview  \n",
       "0  In the 22nd century, a paraplegic Marine is di...  \n",
       "1  Captain Barbossa, long believed to be dead, ha...  "
      ]
     },
     "execution_count": 26,
     "metadata": {},
     "output_type": "execute_result"
    }
   ],
   "source": [
    "data = data[['id', 'title', 'genres', 'vote_average', 'popularity', 'keywords', 'overview']]\n",
    "data.head(2)"
   ]
  },
  {
   "cell_type": "markdown",
   "id": "3e4a329e",
   "metadata": {},
   "source": [
    "* genres의 단어를 벡터화 해서 코사인 유사도를 통해 비슷한 장르를 가진 행을 찾고\n",
    "* 유사도가 높은 행을 기준으로 내림차순 정렬"
   ]
  },
  {
   "cell_type": "code",
   "execution_count": 27,
   "id": "0e467eee",
   "metadata": {},
   "outputs": [],
   "source": [
    "from sklearn.feature_extraction.text import CountVectorizer"
   ]
  },
  {
   "cell_type": "code",
   "execution_count": 28,
   "id": "67bd9da6",
   "metadata": {
    "scrolled": true
   },
   "outputs": [
    {
     "name": "stdout",
     "output_type": "stream",
     "text": [
      "  (0, 0)\t1\n",
      "  (0, 16)\t1\n",
      "  (0, 124)\t1\n",
      "  (0, 232)\t1\n",
      "  (0, 138)\t1\n",
      "  (0, 1)\t1\n",
      "  (0, 24)\t1\n",
      "  (0, 135)\t1\n",
      "  (0, 233)\t1\n",
      "  (1, 0)\t1\n",
      "  (1, 16)\t1\n",
      "  (1, 124)\t1\n",
      "  (1, 24)\t1\n",
      "  (1, 125)\t1\n",
      "  (2, 0)\t1\n",
      "  (2, 16)\t1\n",
      "  (2, 1)\t1\n",
      "  (2, 64)\t1\n",
      "  (2, 20)\t1\n",
      "  (3, 0)\t1\n",
      "  (3, 64)\t1\n",
      "  (3, 90)\t1\n",
      "  (3, 234)\t1\n",
      "  (3, 4)\t1\n",
      "  (3, 68)\t1\n",
      "  :\t:\n",
      "  (4796, 90)\t1\n",
      "  (4796, 234)\t1\n",
      "  (4796, 106)\t1\n",
      "  (4796, 144)\t1\n",
      "  (4797, 234)\t1\n",
      "  (4797, 153)\t1\n",
      "  (4797, 157)\t1\n",
      "  (4798, 0)\t1\n",
      "  (4798, 64)\t1\n",
      "  (4798, 234)\t1\n",
      "  (4798, 4)\t1\n",
      "  (4798, 78)\t1\n",
      "  (4799, 44)\t1\n",
      "  (4799, 214)\t1\n",
      "  (4799, 58)\t1\n",
      "  (4800, 90)\t1\n",
      "  (4800, 44)\t1\n",
      "  (4800, 214)\t1\n",
      "  (4800, 104)\t1\n",
      "  (4800, 50)\t1\n",
      "  (4800, 250)\t1\n",
      "  (4800, 182)\t1\n",
      "  (4800, 251)\t1\n",
      "  (4800, 229)\t1\n",
      "  (4802, 80)\t1\n"
     ]
    }
   ],
   "source": [
    "cv = CountVectorizer(ngram_range=(1,2))\n",
    "genre_mat = cv.fit_transform(data['genres'])\n",
    "print(genre_mat)"
   ]
  },
  {
   "cell_type": "code",
   "execution_count": 29,
   "id": "9d828f9c",
   "metadata": {},
   "outputs": [
    {
     "data": {
      "text/plain": [
       "(4803, 276)"
      ]
     },
     "execution_count": 29,
     "metadata": {},
     "output_type": "execute_result"
    }
   ],
   "source": [
    "genre_mat.shape"
   ]
  },
  {
   "cell_type": "markdown",
   "id": "bb90afa6",
   "metadata": {},
   "source": [
    "코사인 유사도를 사용해 genre_mat의 유사도를 산출 후 genre_sim에 저장\n",
    "* 비슷한 장르 영화를 찾기 위해 계산\n",
    "* 코사인 유사도는 주로 문자, 문서의 유사도 계산에 사용됨"
   ]
  },
  {
   "cell_type": "code",
   "execution_count": 30,
   "id": "0e62de61",
   "metadata": {},
   "outputs": [],
   "source": [
    "from sklearn.metrics.pairwise import cosine_similarity"
   ]
  },
  {
   "cell_type": "code",
   "execution_count": 31,
   "id": "7ef266a5",
   "metadata": {},
   "outputs": [
    {
     "name": "stdout",
     "output_type": "stream",
     "text": [
      "(4803, 4803)\n",
      "[[1.         0.59628479 0.4472136  ... 0.         0.         0.        ]\n",
      " [0.59628479 1.         0.4        ... 0.         0.         0.        ]\n",
      " [0.4472136  0.4        1.         ... 0.         0.         0.        ]\n",
      " [0.12598816 0.16903085 0.3380617  ... 0.12598816 0.         0.        ]\n",
      " [0.75592895 0.3380617  0.50709255 ... 0.         0.         0.        ]]\n"
     ]
    }
   ],
   "source": [
    "genre_sim = cosine_similarity(genre_mat, genre_mat)\n",
    "print(genre_sim.shape)\n",
    "print(genre_sim[:5])"
   ]
  },
  {
   "cell_type": "code",
   "execution_count": 32,
   "id": "ee0d2174",
   "metadata": {},
   "outputs": [
    {
     "data": {
      "text/plain": [
       "0    Action Adventure Fantasy Science Fiction\n",
       "1                    Adventure Fantasy Action\n",
       "2                      Action Adventure Crime\n",
       "3                 Action Crime Drama Thriller\n",
       "4            Action Adventure Science Fiction\n",
       "Name: genres, dtype: object"
      ]
     },
     "execution_count": 32,
     "metadata": {},
     "output_type": "execute_result"
    }
   ],
   "source": [
    "data['genres'][:5]"
   ]
  },
  {
   "cell_type": "code",
   "execution_count": 33,
   "id": "ec5b4015",
   "metadata": {},
   "outputs": [
    {
     "name": "stdout",
     "output_type": "stream",
     "text": [
      "[3 1 0 2 4]\n"
     ]
    }
   ],
   "source": [
    "a = np.array([34,67,1,6688,0])\n",
    "s = a.argsort()\n",
    "print(s[::-1])"
   ]
  },
  {
   "cell_type": "code",
   "execution_count": 34,
   "id": "6ed07258",
   "metadata": {},
   "outputs": [
    {
     "data": {
      "text/plain": [
       "[12, 7, 9, 5]"
      ]
     },
     "execution_count": 34,
     "metadata": {},
     "output_type": "execute_result"
    }
   ],
   "source": [
    "[5,9,7,12][::-1]"
   ]
  },
  {
   "cell_type": "code",
   "execution_count": 35,
   "id": "9f67283c",
   "metadata": {},
   "outputs": [],
   "source": [
    "sorted_genre_sim = genre_sim.argsort()[:, ::-1]"
   ]
  },
  {
   "cell_type": "code",
   "execution_count": 36,
   "id": "d0ed00ba",
   "metadata": {},
   "outputs": [
    {
     "data": {
      "text/plain": [
       "array([[   0, 3494,  813, ..., 3038, 3037, 2401]], dtype=int64)"
      ]
     },
     "execution_count": 36,
     "metadata": {},
     "output_type": "execute_result"
    }
   ],
   "source": [
    "sorted_genre_sim[:1]"
   ]
  },
  {
   "cell_type": "code",
   "execution_count": 37,
   "id": "0fa5ee94",
   "metadata": {},
   "outputs": [
    {
     "data": {
      "text/plain": [
       "id                                                          19995\n",
       "title                                                      Avatar\n",
       "genres                   Action Adventure Fantasy Science Fiction\n",
       "vote_average                                                  7.2\n",
       "popularity                                             150.437577\n",
       "keywords        culture clash future space war space colony so...\n",
       "overview        In the 22nd century, a paraplegic Marine is di...\n",
       "Name: 0, dtype: object"
      ]
     },
     "execution_count": 37,
     "metadata": {},
     "output_type": "execute_result"
    }
   ],
   "source": [
    "data.loc[0]"
   ]
  },
  {
   "cell_type": "code",
   "execution_count": 38,
   "id": "34607024",
   "metadata": {},
   "outputs": [
    {
     "data": {
      "text/html": [
       "<div>\n",
       "<style scoped>\n",
       "    .dataframe tbody tr th:only-of-type {\n",
       "        vertical-align: middle;\n",
       "    }\n",
       "\n",
       "    .dataframe tbody tr th {\n",
       "        vertical-align: top;\n",
       "    }\n",
       "\n",
       "    .dataframe thead th {\n",
       "        text-align: right;\n",
       "    }\n",
       "</style>\n",
       "<table border=\"1\" class=\"dataframe\">\n",
       "  <thead>\n",
       "    <tr style=\"text-align: right;\">\n",
       "      <th></th>\n",
       "      <th>id</th>\n",
       "      <th>title</th>\n",
       "      <th>genres</th>\n",
       "      <th>vote_average</th>\n",
       "      <th>popularity</th>\n",
       "      <th>keywords</th>\n",
       "      <th>overview</th>\n",
       "    </tr>\n",
       "  </thead>\n",
       "  <tbody>\n",
       "    <tr>\n",
       "      <th>0</th>\n",
       "      <td>19995</td>\n",
       "      <td>Avatar</td>\n",
       "      <td>Action Adventure Fantasy Science Fiction</td>\n",
       "      <td>7.2</td>\n",
       "      <td>150.437577</td>\n",
       "      <td>culture clash future space war space colony so...</td>\n",
       "      <td>In the 22nd century, a paraplegic Marine is di...</td>\n",
       "    </tr>\n",
       "    <tr>\n",
       "      <th>3494</th>\n",
       "      <td>27549</td>\n",
       "      <td>Beastmaster 2: Through the Portal of Time</td>\n",
       "      <td>Action Adventure Fantasy Science Fiction</td>\n",
       "      <td>4.6</td>\n",
       "      <td>1.478505</td>\n",
       "      <td>based on novel time travel sequel psychotronic...</td>\n",
       "      <td>Mark Singer returns as Dar, the warrior who ca...</td>\n",
       "    </tr>\n",
       "    <tr>\n",
       "      <th>813</th>\n",
       "      <td>1924</td>\n",
       "      <td>Superman</td>\n",
       "      <td>Action Adventure Fantasy Science Fiction</td>\n",
       "      <td>6.9</td>\n",
       "      <td>48.507081</td>\n",
       "      <td>saving the world journalist dc comics crime fi...</td>\n",
       "      <td>Mild-mannered Clark Kent works as a reporter a...</td>\n",
       "    </tr>\n",
       "    <tr>\n",
       "      <th>870</th>\n",
       "      <td>8536</td>\n",
       "      <td>Superman II</td>\n",
       "      <td>Action Adventure Fantasy Science Fiction</td>\n",
       "      <td>6.5</td>\n",
       "      <td>30.515175</td>\n",
       "      <td>saving the world dc comics sequel superhero ba...</td>\n",
       "      <td>Three escaped criminals from the planet Krypto...</td>\n",
       "    </tr>\n",
       "    <tr>\n",
       "      <th>46</th>\n",
       "      <td>127585</td>\n",
       "      <td>X-Men: Days of Future Past</td>\n",
       "      <td>Action Adventure Fantasy Science Fiction</td>\n",
       "      <td>7.5</td>\n",
       "      <td>118.078691</td>\n",
       "      <td>1970s mutant time travel marvel comic based on...</td>\n",
       "      <td>The ultimate X-Men ensemble fights a war for t...</td>\n",
       "    </tr>\n",
       "    <tr>\n",
       "      <th>14</th>\n",
       "      <td>49521</td>\n",
       "      <td>Man of Steel</td>\n",
       "      <td>Action Adventure Fantasy Science Fiction</td>\n",
       "      <td>6.5</td>\n",
       "      <td>99.398009</td>\n",
       "      <td>saving the world dc comics superhero based on ...</td>\n",
       "      <td>A young boy learns that he has extraordinary p...</td>\n",
       "    </tr>\n",
       "    <tr>\n",
       "      <th>1296</th>\n",
       "      <td>9531</td>\n",
       "      <td>Superman III</td>\n",
       "      <td>Comedy Action Adventure Fantasy Science Fiction</td>\n",
       "      <td>5.3</td>\n",
       "      <td>22.164202</td>\n",
       "      <td>saving the world dc comics super computer iden...</td>\n",
       "      <td>Aiming to defeat the Man of Steel, wealthy exe...</td>\n",
       "    </tr>\n",
       "    <tr>\n",
       "      <th>1652</th>\n",
       "      <td>14164</td>\n",
       "      <td>Dragonball Evolution</td>\n",
       "      <td>Action Adventure Fantasy Science Fiction Thriller</td>\n",
       "      <td>2.9</td>\n",
       "      <td>21.677732</td>\n",
       "      <td>karate superhero revenge dragon duringcreditss...</td>\n",
       "      <td>The young warrior Son Goku sets out on a quest...</td>\n",
       "    </tr>\n",
       "    <tr>\n",
       "      <th>419</th>\n",
       "      <td>8247</td>\n",
       "      <td>Jumper</td>\n",
       "      <td>Adventure Fantasy Science Fiction</td>\n",
       "      <td>5.9</td>\n",
       "      <td>21.218000</td>\n",
       "      <td>adolescence based on novel loss of child fight...</td>\n",
       "      <td>David Rice is a man who knows no boundaries, a...</td>\n",
       "    </tr>\n",
       "    <tr>\n",
       "      <th>420</th>\n",
       "      <td>11253</td>\n",
       "      <td>Hellboy II: The Golden Army</td>\n",
       "      <td>Adventure Fantasy Science Fiction</td>\n",
       "      <td>6.5</td>\n",
       "      <td>58.579760</td>\n",
       "      <td>auction northern ireland resignation superhero...</td>\n",
       "      <td>In this continuation to the adventure of the d...</td>\n",
       "    </tr>\n",
       "  </tbody>\n",
       "</table>\n",
       "</div>"
      ],
      "text/plain": [
       "          id                                      title  \\\n",
       "0      19995                                     Avatar   \n",
       "3494   27549  Beastmaster 2: Through the Portal of Time   \n",
       "813     1924                                   Superman   \n",
       "870     8536                                Superman II   \n",
       "46    127585                 X-Men: Days of Future Past   \n",
       "14     49521                               Man of Steel   \n",
       "1296    9531                               Superman III   \n",
       "1652   14164                       Dragonball Evolution   \n",
       "419     8247                                     Jumper   \n",
       "420    11253                Hellboy II: The Golden Army   \n",
       "\n",
       "                                                 genres  vote_average  \\\n",
       "0              Action Adventure Fantasy Science Fiction           7.2   \n",
       "3494           Action Adventure Fantasy Science Fiction           4.6   \n",
       "813            Action Adventure Fantasy Science Fiction           6.9   \n",
       "870            Action Adventure Fantasy Science Fiction           6.5   \n",
       "46             Action Adventure Fantasy Science Fiction           7.5   \n",
       "14             Action Adventure Fantasy Science Fiction           6.5   \n",
       "1296    Comedy Action Adventure Fantasy Science Fiction           5.3   \n",
       "1652  Action Adventure Fantasy Science Fiction Thriller           2.9   \n",
       "419                   Adventure Fantasy Science Fiction           5.9   \n",
       "420                   Adventure Fantasy Science Fiction           6.5   \n",
       "\n",
       "      popularity                                           keywords  \\\n",
       "0     150.437577  culture clash future space war space colony so...   \n",
       "3494    1.478505  based on novel time travel sequel psychotronic...   \n",
       "813    48.507081  saving the world journalist dc comics crime fi...   \n",
       "870    30.515175  saving the world dc comics sequel superhero ba...   \n",
       "46    118.078691  1970s mutant time travel marvel comic based on...   \n",
       "14     99.398009  saving the world dc comics superhero based on ...   \n",
       "1296   22.164202  saving the world dc comics super computer iden...   \n",
       "1652   21.677732  karate superhero revenge dragon duringcreditss...   \n",
       "419    21.218000  adolescence based on novel loss of child fight...   \n",
       "420    58.579760  auction northern ireland resignation superhero...   \n",
       "\n",
       "                                               overview  \n",
       "0     In the 22nd century, a paraplegic Marine is di...  \n",
       "3494  Mark Singer returns as Dar, the warrior who ca...  \n",
       "813   Mild-mannered Clark Kent works as a reporter a...  \n",
       "870   Three escaped criminals from the planet Krypto...  \n",
       "46    The ultimate X-Men ensemble fights a war for t...  \n",
       "14    A young boy learns that he has extraordinary p...  \n",
       "1296  Aiming to defeat the Man of Steel, wealthy exe...  \n",
       "1652  The young warrior Son Goku sets out on a quest...  \n",
       "419   David Rice is a man who knows no boundaries, a...  \n",
       "420   In this continuation to the adventure of the d...  "
      ]
     },
     "execution_count": 38,
     "metadata": {},
     "output_type": "execute_result"
    }
   ],
   "source": [
    "data.iloc[sorted_genre_sim[813, :(10)].reshape(-1)]"
   ]
  },
  {
   "cell_type": "code",
   "execution_count": 39,
   "id": "7c4a6c38",
   "metadata": {},
   "outputs": [],
   "source": [
    "def find_sim_movie(df, sorted_genre_sim, title_name, top_n=10):\n",
    "    title_movie = df[df['title'] == title_name]\n",
    "    title_index = title_movie.index.values\n",
    "    similar_indexex = sorted_genre_sim[title_index, : (top_n)]\n",
    "    print(similar_indexex)\n",
    "    similar_indexex = similar_indexex.reshape(-1)\n",
    "    return df.iloc[similar_indexex]"
   ]
  },
  {
   "cell_type": "code",
   "execution_count": 40,
   "id": "5b934d7c",
   "metadata": {
    "scrolled": true
   },
   "outputs": [
    {
     "name": "stdout",
     "output_type": "stream",
     "text": [
      "[[ 262    1  129  199  206  208   98 2343 2390  379]]\n"
     ]
    },
    {
     "data": {
      "text/html": [
       "<div>\n",
       "<style scoped>\n",
       "    .dataframe tbody tr th:only-of-type {\n",
       "        vertical-align: middle;\n",
       "    }\n",
       "\n",
       "    .dataframe tbody tr th {\n",
       "        vertical-align: top;\n",
       "    }\n",
       "\n",
       "    .dataframe thead th {\n",
       "        text-align: right;\n",
       "    }\n",
       "</style>\n",
       "<table border=\"1\" class=\"dataframe\">\n",
       "  <thead>\n",
       "    <tr style=\"text-align: right;\">\n",
       "      <th></th>\n",
       "      <th>id</th>\n",
       "      <th>title</th>\n",
       "      <th>genres</th>\n",
       "      <th>vote_average</th>\n",
       "      <th>popularity</th>\n",
       "      <th>keywords</th>\n",
       "      <th>overview</th>\n",
       "    </tr>\n",
       "  </thead>\n",
       "  <tbody>\n",
       "    <tr>\n",
       "      <th>262</th>\n",
       "      <td>120</td>\n",
       "      <td>The Lord of the Rings: The Fellowship of the Ring</td>\n",
       "      <td>Adventure Fantasy Action</td>\n",
       "      <td>8.0</td>\n",
       "      <td>138.049577</td>\n",
       "      <td>elves dwarves orcs middle-earth (tolkien) hobb...</td>\n",
       "      <td>Young hobbit Frodo Baggins, after inheriting a...</td>\n",
       "    </tr>\n",
       "    <tr>\n",
       "      <th>1</th>\n",
       "      <td>285</td>\n",
       "      <td>Pirates of the Caribbean: At World's End</td>\n",
       "      <td>Adventure Fantasy Action</td>\n",
       "      <td>6.9</td>\n",
       "      <td>139.082615</td>\n",
       "      <td>ocean drug abuse exotic island east india trad...</td>\n",
       "      <td>Captain Barbossa, long believed to be dead, ha...</td>\n",
       "    </tr>\n",
       "    <tr>\n",
       "      <th>129</th>\n",
       "      <td>10195</td>\n",
       "      <td>Thor</td>\n",
       "      <td>Adventure Fantasy Action</td>\n",
       "      <td>6.6</td>\n",
       "      <td>86.493424</td>\n",
       "      <td>new mexico banishment shield marvel comic hamm...</td>\n",
       "      <td>Against his father Odin's will, The Mighty Tho...</td>\n",
       "    </tr>\n",
       "    <tr>\n",
       "      <th>199</th>\n",
       "      <td>22</td>\n",
       "      <td>Pirates of the Caribbean: The Curse of the Bla...</td>\n",
       "      <td>Adventure Fantasy Action</td>\n",
       "      <td>7.5</td>\n",
       "      <td>271.972889</td>\n",
       "      <td>exotic island blacksmith east india trading co...</td>\n",
       "      <td>Jack Sparrow, a freewheeling 17th-century pira...</td>\n",
       "    </tr>\n",
       "    <tr>\n",
       "      <th>206</th>\n",
       "      <td>18823</td>\n",
       "      <td>Clash of the Titans</td>\n",
       "      <td>Adventure Fantasy Action</td>\n",
       "      <td>5.6</td>\n",
       "      <td>47.686442</td>\n",
       "      <td>hades mythology greek mythology zeus medusa my...</td>\n",
       "      <td>Born of a god but raised as a man, Perseus is ...</td>\n",
       "    </tr>\n",
       "    <tr>\n",
       "      <th>208</th>\n",
       "      <td>1911</td>\n",
       "      <td>The 13th Warrior</td>\n",
       "      <td>Adventure Fantasy Action</td>\n",
       "      <td>6.4</td>\n",
       "      <td>27.220157</td>\n",
       "      <td>witch cave arabian scandinavia bagdad viking i...</td>\n",
       "      <td>In AD 922, Arab courtier, Ahmad Ibn Fadlan acc...</td>\n",
       "    </tr>\n",
       "    <tr>\n",
       "      <th>98</th>\n",
       "      <td>49051</td>\n",
       "      <td>The Hobbit: An Unexpected Journey</td>\n",
       "      <td>Adventure Fantasy Action</td>\n",
       "      <td>7.0</td>\n",
       "      <td>108.849621</td>\n",
       "      <td>riddle elves dwarves orcs middle-earth (tolkie...</td>\n",
       "      <td>Bilbo Baggins, a hobbit enjoying his quiet lif...</td>\n",
       "    </tr>\n",
       "    <tr>\n",
       "      <th>2343</th>\n",
       "      <td>9610</td>\n",
       "      <td>Conan the Destroyer</td>\n",
       "      <td>Adventure Fantasy Action</td>\n",
       "      <td>5.8</td>\n",
       "      <td>18.379124</td>\n",
       "      <td>swordplay sword magic warrior woman lone wolf ...</td>\n",
       "      <td>Based on a character created by Robert E. Howa...</td>\n",
       "    </tr>\n",
       "    <tr>\n",
       "      <th>2390</th>\n",
       "      <td>9626</td>\n",
       "      <td>Red Sonja</td>\n",
       "      <td>Adventure Fantasy Action</td>\n",
       "      <td>5.0</td>\n",
       "      <td>12.752463</td>\n",
       "      <td>monster swordplay queen talisman marvel comic ...</td>\n",
       "      <td>The tyrant Gedren seeks the total power in a w...</td>\n",
       "    </tr>\n",
       "    <tr>\n",
       "      <th>379</th>\n",
       "      <td>9387</td>\n",
       "      <td>Conan the Barbarian</td>\n",
       "      <td>Adventure Fantasy Action</td>\n",
       "      <td>6.6</td>\n",
       "      <td>31.802807</td>\n",
       "      <td>gladiator repayment despot barbarian sword and...</td>\n",
       "      <td>A film adaptation of the classic sword and sor...</td>\n",
       "    </tr>\n",
       "  </tbody>\n",
       "</table>\n",
       "</div>"
      ],
      "text/plain": [
       "         id                                              title  \\\n",
       "262     120  The Lord of the Rings: The Fellowship of the Ring   \n",
       "1       285           Pirates of the Caribbean: At World's End   \n",
       "129   10195                                               Thor   \n",
       "199      22  Pirates of the Caribbean: The Curse of the Bla...   \n",
       "206   18823                                Clash of the Titans   \n",
       "208    1911                                   The 13th Warrior   \n",
       "98    49051                  The Hobbit: An Unexpected Journey   \n",
       "2343   9610                                Conan the Destroyer   \n",
       "2390   9626                                          Red Sonja   \n",
       "379    9387                                Conan the Barbarian   \n",
       "\n",
       "                        genres  vote_average  popularity  \\\n",
       "262   Adventure Fantasy Action           8.0  138.049577   \n",
       "1     Adventure Fantasy Action           6.9  139.082615   \n",
       "129   Adventure Fantasy Action           6.6   86.493424   \n",
       "199   Adventure Fantasy Action           7.5  271.972889   \n",
       "206   Adventure Fantasy Action           5.6   47.686442   \n",
       "208   Adventure Fantasy Action           6.4   27.220157   \n",
       "98    Adventure Fantasy Action           7.0  108.849621   \n",
       "2343  Adventure Fantasy Action           5.8   18.379124   \n",
       "2390  Adventure Fantasy Action           5.0   12.752463   \n",
       "379   Adventure Fantasy Action           6.6   31.802807   \n",
       "\n",
       "                                               keywords  \\\n",
       "262   elves dwarves orcs middle-earth (tolkien) hobb...   \n",
       "1     ocean drug abuse exotic island east india trad...   \n",
       "129   new mexico banishment shield marvel comic hamm...   \n",
       "199   exotic island blacksmith east india trading co...   \n",
       "206   hades mythology greek mythology zeus medusa my...   \n",
       "208   witch cave arabian scandinavia bagdad viking i...   \n",
       "98    riddle elves dwarves orcs middle-earth (tolkie...   \n",
       "2343  swordplay sword magic warrior woman lone wolf ...   \n",
       "2390  monster swordplay queen talisman marvel comic ...   \n",
       "379   gladiator repayment despot barbarian sword and...   \n",
       "\n",
       "                                               overview  \n",
       "262   Young hobbit Frodo Baggins, after inheriting a...  \n",
       "1     Captain Barbossa, long believed to be dead, ha...  \n",
       "129   Against his father Odin's will, The Mighty Tho...  \n",
       "199   Jack Sparrow, a freewheeling 17th-century pira...  \n",
       "206   Born of a god but raised as a man, Perseus is ...  \n",
       "208   In AD 922, Arab courtier, Ahmad Ibn Fadlan acc...  \n",
       "98    Bilbo Baggins, a hobbit enjoying his quiet lif...  \n",
       "2343  Based on a character created by Robert E. Howa...  \n",
       "2390  The tyrant Gedren seeks the total power in a w...  \n",
       "379   A film adaptation of the classic sword and sor...  "
      ]
     },
     "execution_count": 40,
     "metadata": {},
     "output_type": "execute_result"
    }
   ],
   "source": [
    "find_sim_movie(data, sorted_genre_sim, \"Pirates of the Caribbean: At World's End\", 10)"
   ]
  },
  {
   "cell_type": "code",
   "execution_count": 41,
   "id": "6eceb031",
   "metadata": {},
   "outputs": [],
   "source": [
    "import joblib"
   ]
  },
  {
   "cell_type": "code",
   "execution_count": 42,
   "id": "6efa5066",
   "metadata": {},
   "outputs": [
    {
     "data": {
      "text/plain": [
       "['./movie_data']"
      ]
     },
     "execution_count": 42,
     "metadata": {},
     "output_type": "execute_result"
    }
   ],
   "source": [
    "joblib.dump(data,'./movie_data')"
   ]
  },
  {
   "cell_type": "code",
   "execution_count": 43,
   "id": "51e65445",
   "metadata": {},
   "outputs": [
    {
     "data": {
      "text/plain": [
       "['./movie_similarity']"
      ]
     },
     "execution_count": 43,
     "metadata": {},
     "output_type": "execute_result"
    }
   ],
   "source": [
    "joblib.dump(sorted_genre_sim, './movie_similarity')"
   ]
  },
  {
   "cell_type": "code",
   "execution_count": 45,
   "id": "3f9f1b8f",
   "metadata": {},
   "outputs": [
    {
     "data": {
      "text/html": [
       "<div>\n",
       "<style scoped>\n",
       "    .dataframe tbody tr th:only-of-type {\n",
       "        vertical-align: middle;\n",
       "    }\n",
       "\n",
       "    .dataframe tbody tr th {\n",
       "        vertical-align: top;\n",
       "    }\n",
       "\n",
       "    .dataframe thead th {\n",
       "        text-align: right;\n",
       "    }\n",
       "</style>\n",
       "<table border=\"1\" class=\"dataframe\">\n",
       "  <thead>\n",
       "    <tr style=\"text-align: right;\">\n",
       "      <th></th>\n",
       "      <th>id</th>\n",
       "      <th>title</th>\n",
       "      <th>genres</th>\n",
       "      <th>vote_average</th>\n",
       "      <th>popularity</th>\n",
       "      <th>keywords</th>\n",
       "      <th>overview</th>\n",
       "    </tr>\n",
       "  </thead>\n",
       "  <tbody>\n",
       "    <tr>\n",
       "      <th>0</th>\n",
       "      <td>19995</td>\n",
       "      <td>Avatar</td>\n",
       "      <td>Action Adventure Fantasy Science Fiction</td>\n",
       "      <td>7.2</td>\n",
       "      <td>150.437577</td>\n",
       "      <td>culture clash future space war space colony so...</td>\n",
       "      <td>In the 22nd century, a paraplegic Marine is di...</td>\n",
       "    </tr>\n",
       "    <tr>\n",
       "      <th>1</th>\n",
       "      <td>285</td>\n",
       "      <td>Pirates of the Caribbean: At World's End</td>\n",
       "      <td>Adventure Fantasy Action</td>\n",
       "      <td>6.9</td>\n",
       "      <td>139.082615</td>\n",
       "      <td>ocean drug abuse exotic island east india trad...</td>\n",
       "      <td>Captain Barbossa, long believed to be dead, ha...</td>\n",
       "    </tr>\n",
       "    <tr>\n",
       "      <th>2</th>\n",
       "      <td>206647</td>\n",
       "      <td>Spectre</td>\n",
       "      <td>Action Adventure Crime</td>\n",
       "      <td>6.3</td>\n",
       "      <td>107.376788</td>\n",
       "      <td>spy based on novel secret agent sequel mi6 bri...</td>\n",
       "      <td>A cryptic message from Bond’s past sends him o...</td>\n",
       "    </tr>\n",
       "    <tr>\n",
       "      <th>3</th>\n",
       "      <td>49026</td>\n",
       "      <td>The Dark Knight Rises</td>\n",
       "      <td>Action Crime Drama Thriller</td>\n",
       "      <td>7.6</td>\n",
       "      <td>112.312950</td>\n",
       "      <td>dc comics crime fighter terrorist secret ident...</td>\n",
       "      <td>Following the death of District Attorney Harve...</td>\n",
       "    </tr>\n",
       "    <tr>\n",
       "      <th>4</th>\n",
       "      <td>49529</td>\n",
       "      <td>John Carter</td>\n",
       "      <td>Action Adventure Science Fiction</td>\n",
       "      <td>6.1</td>\n",
       "      <td>43.926995</td>\n",
       "      <td>based on novel mars medallion space travel pri...</td>\n",
       "      <td>John Carter is a war-weary, former military ca...</td>\n",
       "    </tr>\n",
       "    <tr>\n",
       "      <th>...</th>\n",
       "      <td>...</td>\n",
       "      <td>...</td>\n",
       "      <td>...</td>\n",
       "      <td>...</td>\n",
       "      <td>...</td>\n",
       "      <td>...</td>\n",
       "      <td>...</td>\n",
       "    </tr>\n",
       "    <tr>\n",
       "      <th>4798</th>\n",
       "      <td>9367</td>\n",
       "      <td>El Mariachi</td>\n",
       "      <td>Action Crime Thriller</td>\n",
       "      <td>6.6</td>\n",
       "      <td>14.269792</td>\n",
       "      <td>united states–mexico barrier legs arms paper k...</td>\n",
       "      <td>El Mariachi just wants to play his guitar and ...</td>\n",
       "    </tr>\n",
       "    <tr>\n",
       "      <th>4799</th>\n",
       "      <td>72766</td>\n",
       "      <td>Newlyweds</td>\n",
       "      <td>Comedy Romance</td>\n",
       "      <td>5.9</td>\n",
       "      <td>0.642552</td>\n",
       "      <td></td>\n",
       "      <td>A newlywed couple's honeymoon is upended by th...</td>\n",
       "    </tr>\n",
       "    <tr>\n",
       "      <th>4800</th>\n",
       "      <td>231617</td>\n",
       "      <td>Signed, Sealed, Delivered</td>\n",
       "      <td>Comedy Drama Romance TV Movie</td>\n",
       "      <td>7.0</td>\n",
       "      <td>1.444476</td>\n",
       "      <td>date love at first sight narration investigati...</td>\n",
       "      <td>\"Signed, Sealed, Delivered\" introduces a dedic...</td>\n",
       "    </tr>\n",
       "    <tr>\n",
       "      <th>4801</th>\n",
       "      <td>126186</td>\n",
       "      <td>Shanghai Calling</td>\n",
       "      <td></td>\n",
       "      <td>5.7</td>\n",
       "      <td>0.857008</td>\n",
       "      <td></td>\n",
       "      <td>When ambitious New York attorney Sam is sent t...</td>\n",
       "    </tr>\n",
       "    <tr>\n",
       "      <th>4802</th>\n",
       "      <td>25975</td>\n",
       "      <td>My Date with Drew</td>\n",
       "      <td>Documentary</td>\n",
       "      <td>6.3</td>\n",
       "      <td>1.929883</td>\n",
       "      <td>obsession camcorder crush dream girl</td>\n",
       "      <td>Ever since the second grade when he first saw ...</td>\n",
       "    </tr>\n",
       "  </tbody>\n",
       "</table>\n",
       "<p>4803 rows × 7 columns</p>\n",
       "</div>"
      ],
      "text/plain": [
       "          id                                     title  \\\n",
       "0      19995                                    Avatar   \n",
       "1        285  Pirates of the Caribbean: At World's End   \n",
       "2     206647                                   Spectre   \n",
       "3      49026                     The Dark Knight Rises   \n",
       "4      49529                               John Carter   \n",
       "...      ...                                       ...   \n",
       "4798    9367                               El Mariachi   \n",
       "4799   72766                                 Newlyweds   \n",
       "4800  231617                 Signed, Sealed, Delivered   \n",
       "4801  126186                          Shanghai Calling   \n",
       "4802   25975                         My Date with Drew   \n",
       "\n",
       "                                        genres  vote_average  popularity  \\\n",
       "0     Action Adventure Fantasy Science Fiction           7.2  150.437577   \n",
       "1                     Adventure Fantasy Action           6.9  139.082615   \n",
       "2                       Action Adventure Crime           6.3  107.376788   \n",
       "3                  Action Crime Drama Thriller           7.6  112.312950   \n",
       "4             Action Adventure Science Fiction           6.1   43.926995   \n",
       "...                                        ...           ...         ...   \n",
       "4798                     Action Crime Thriller           6.6   14.269792   \n",
       "4799                            Comedy Romance           5.9    0.642552   \n",
       "4800             Comedy Drama Romance TV Movie           7.0    1.444476   \n",
       "4801                                                     5.7    0.857008   \n",
       "4802                               Documentary           6.3    1.929883   \n",
       "\n",
       "                                               keywords  \\\n",
       "0     culture clash future space war space colony so...   \n",
       "1     ocean drug abuse exotic island east india trad...   \n",
       "2     spy based on novel secret agent sequel mi6 bri...   \n",
       "3     dc comics crime fighter terrorist secret ident...   \n",
       "4     based on novel mars medallion space travel pri...   \n",
       "...                                                 ...   \n",
       "4798  united states–mexico barrier legs arms paper k...   \n",
       "4799                                                      \n",
       "4800  date love at first sight narration investigati...   \n",
       "4801                                                      \n",
       "4802               obsession camcorder crush dream girl   \n",
       "\n",
       "                                               overview  \n",
       "0     In the 22nd century, a paraplegic Marine is di...  \n",
       "1     Captain Barbossa, long believed to be dead, ha...  \n",
       "2     A cryptic message from Bond’s past sends him o...  \n",
       "3     Following the death of District Attorney Harve...  \n",
       "4     John Carter is a war-weary, former military ca...  \n",
       "...                                                 ...  \n",
       "4798  El Mariachi just wants to play his guitar and ...  \n",
       "4799  A newlywed couple's honeymoon is upended by th...  \n",
       "4800  \"Signed, Sealed, Delivered\" introduces a dedic...  \n",
       "4801  When ambitious New York attorney Sam is sent t...  \n",
       "4802  Ever since the second grade when he first saw ...  \n",
       "\n",
       "[4803 rows x 7 columns]"
      ]
     },
     "execution_count": 45,
     "metadata": {},
     "output_type": "execute_result"
    }
   ],
   "source": [
    "data"
   ]
  },
  {
   "cell_type": "code",
   "execution_count": null,
   "id": "4245ce60",
   "metadata": {},
   "outputs": [],
   "source": []
  },
  {
   "cell_type": "code",
   "execution_count": null,
   "id": "4b65303d",
   "metadata": {},
   "outputs": [],
   "source": []
  },
  {
   "cell_type": "code",
   "execution_count": null,
   "id": "39401d94",
   "metadata": {},
   "outputs": [],
   "source": []
  },
  {
   "cell_type": "code",
   "execution_count": null,
   "id": "81480e9c",
   "metadata": {},
   "outputs": [],
   "source": []
  },
  {
   "cell_type": "code",
   "execution_count": null,
   "id": "7a03af55",
   "metadata": {},
   "outputs": [],
   "source": []
  },
  {
   "cell_type": "code",
   "execution_count": null,
   "id": "d6d3e346",
   "metadata": {},
   "outputs": [],
   "source": []
  },
  {
   "cell_type": "code",
   "execution_count": null,
   "id": "973662c3",
   "metadata": {},
   "outputs": [],
   "source": []
  },
  {
   "cell_type": "code",
   "execution_count": null,
   "id": "339dd755",
   "metadata": {},
   "outputs": [],
   "source": []
  },
  {
   "cell_type": "code",
   "execution_count": null,
   "id": "4c7c896e",
   "metadata": {},
   "outputs": [],
   "source": []
  },
  {
   "cell_type": "code",
   "execution_count": null,
   "id": "ab448acb",
   "metadata": {},
   "outputs": [],
   "source": []
  }
 ],
 "metadata": {
  "kernelspec": {
   "display_name": "testenv",
   "language": "python",
   "name": "testenv"
  },
  "language_info": {
   "codemirror_mode": {
    "name": "ipython",
    "version": 3
   },
   "file_extension": ".py",
   "mimetype": "text/x-python",
   "name": "python",
   "nbconvert_exporter": "python",
   "pygments_lexer": "ipython3",
   "version": "3.8.17"
  }
 },
 "nbformat": 4,
 "nbformat_minor": 5
}
