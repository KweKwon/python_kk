{
 "cells": [
  {
   "cell_type": "code",
   "execution_count": 3,
   "id": "5c6fe195",
   "metadata": {},
   "outputs": [],
   "source": [
    "import json"
   ]
  },
  {
   "cell_type": "code",
   "execution_count": 4,
   "id": "a0c11a02",
   "metadata": {
    "scrolled": true
   },
   "outputs": [],
   "source": [
    "with open(\"C:/Bigdata/data/전국치킨집리스트.json\",\"r\") as file:\n",
    "    data = file.read()"
   ]
  },
  {
   "cell_type": "code",
   "execution_count": 5,
   "id": "39c184db",
   "metadata": {},
   "outputs": [
    {
     "data": {
      "text/plain": [
       "'[{\"header\": {\"description\": \"\\\\uc18c\\\\uc0c1\\\\uacf5\\\\uc778\\\\uc2dc\\\\uc7a5\\\\uc9c4\\\\ud765\\\\uacf5\\\\ub2e8 \\\\uc8fc\\\\uc6'"
      ]
     },
     "execution_count": 5,
     "metadata": {},
     "output_type": "execute_result"
    }
   ],
   "source": [
    "data[:100]"
   ]
  },
  {
   "cell_type": "code",
   "execution_count": 6,
   "id": "9797ccdd",
   "metadata": {},
   "outputs": [],
   "source": [
    "data = json.loads(data)"
   ]
  },
  {
   "cell_type": "code",
   "execution_count": 7,
   "id": "c83ceead",
   "metadata": {},
   "outputs": [
    {
     "data": {
      "text/plain": [
       "37"
      ]
     },
     "execution_count": 7,
     "metadata": {},
     "output_type": "execute_result"
    }
   ],
   "source": [
    "len(data)"
   ]
  },
  {
   "cell_type": "code",
   "execution_count": 8,
   "id": "2d043249",
   "metadata": {},
   "outputs": [
    {
     "data": {
      "text/plain": [
       "dict_keys(['bizesId', 'bizesNm', 'brchNm', 'indsLclsCd', 'indsLclsNm', 'indsMclsCd', 'indsMclsNm', 'indsSclsCd', 'indsSclsNm', 'ksicCd', 'ksicNm', 'ctprvnCd', 'ctprvnNm', 'signguCd', 'signguNm', 'adongCd', 'adongNm', 'ldongCd', 'ldongNm', 'lnoCd', 'plotSctCd', 'plotSctNm', 'lnoMnno', 'lnoSlno', 'lnoAdr', 'rdnmCd', 'rdnm', 'bldMnno', 'bldSlno', 'bldMngNo', 'bldNm', 'rdnmAdr', 'oldZipcd', 'newZipcd', 'dongNo', 'flrNo', 'hoNo', 'lon', 'lat'])"
      ]
     },
     "execution_count": 8,
     "metadata": {},
     "output_type": "execute_result"
    }
   ],
   "source": [
    "data[0]['body']['items'][0].keys()"
   ]
  },
  {
   "cell_type": "code",
   "execution_count": 9,
   "id": "7514b540",
   "metadata": {},
   "outputs": [
    {
     "data": {
      "text/plain": [
       "2"
      ]
     },
     "execution_count": 9,
     "metadata": {},
     "output_type": "execute_result"
    }
   ],
   "source": [
    "len(data[0]) # dict 에 len()을 쓰면 key의 갯수"
   ]
  },
  {
   "cell_type": "code",
   "execution_count": 10,
   "id": "f5f08078",
   "metadata": {},
   "outputs": [
    {
     "data": {
      "text/plain": [
       "dict_keys(['header', 'body'])"
      ]
     },
     "execution_count": 10,
     "metadata": {},
     "output_type": "execute_result"
    }
   ],
   "source": [
    "data[0].keys()"
   ]
  },
  {
   "cell_type": "code",
   "execution_count": 11,
   "id": "36bd01b0",
   "metadata": {},
   "outputs": [
    {
     "data": {
      "text/plain": [
       "dict_keys(['items', 'numOfRows', 'pageNo', 'totalCount'])"
      ]
     },
     "execution_count": 11,
     "metadata": {},
     "output_type": "execute_result"
    }
   ],
   "source": [
    "data[0]['body'].keys()"
   ]
  },
  {
   "cell_type": "code",
   "execution_count": 12,
   "id": "dffcefd6",
   "metadata": {},
   "outputs": [
    {
     "data": {
      "text/plain": [
       "1000"
      ]
     },
     "execution_count": 12,
     "metadata": {},
     "output_type": "execute_result"
    }
   ],
   "source": [
    "len(data[0]['body']['items'])"
   ]
  },
  {
   "cell_type": "code",
   "execution_count": 13,
   "id": "467fa91a",
   "metadata": {},
   "outputs": [
    {
     "data": {
      "text/plain": [
       "dict_keys(['bizesId', 'bizesNm', 'brchNm', 'indsLclsCd', 'indsLclsNm', 'indsMclsCd', 'indsMclsNm', 'indsSclsCd', 'indsSclsNm', 'ksicCd', 'ksicNm', 'ctprvnCd', 'ctprvnNm', 'signguCd', 'signguNm', 'adongCd', 'adongNm', 'ldongCd', 'ldongNm', 'lnoCd', 'plotSctCd', 'plotSctNm', 'lnoMnno', 'lnoSlno', 'lnoAdr', 'rdnmCd', 'rdnm', 'bldMnno', 'bldSlno', 'bldMngNo', 'bldNm', 'rdnmAdr', 'oldZipcd', 'newZipcd', 'dongNo', 'flrNo', 'hoNo', 'lon', 'lat'])"
      ]
     },
     "execution_count": 13,
     "metadata": {},
     "output_type": "execute_result"
    }
   ],
   "source": [
    "data[0]['body']['items'][0].keys()"
   ]
  },
  {
   "cell_type": "code",
   "execution_count": 14,
   "id": "73fca33c",
   "metadata": {},
   "outputs": [
    {
     "data": {
      "text/plain": [
       "dict_values(['10027626', '장모님치킨가창점', '가창점', 'Q', '음식', 'Q05', '닭/오리요리', 'Q05A08', '후라이드/양념치킨', 'I56193', '치킨 전문점', '27', '대구광역시', '27710', '달성군', '2771031000', '가창면', '2771031024', '가창면', '2771031024101200001', '1', '대지', 120, 1, '대구광역시 달성군 가창면 냉천리 120-1', '277103148001', '대구광역시 달성군 가창면 가창동로', 6, '', '2771031024101200004036858', '', '대구광역시 달성군 가창면 가창동로 6', '711861', '42938', '', '1', '', 128.644458591419, 35.7826625402814])"
      ]
     },
     "execution_count": 14,
     "metadata": {},
     "output_type": "execute_result"
    }
   ],
   "source": [
    "data[0]['body']['items'][0].values()"
   ]
  },
  {
   "cell_type": "code",
   "execution_count": 15,
   "id": "d8d371b3",
   "metadata": {},
   "outputs": [],
   "source": [
    "# JSON 파일 구조 파악\n",
    "# 반복문에 넣어서 data에 있는 리스트 자료를 꺼냄\n",
    "# 꺼낸 자료에 있는 딕셔너리를 'key'로 접근해 추출\n",
    "# 리스트안에 담긴 가게 1개의 정보를 딕셔너리 사용법을 이용해 추출 후 변수에 저장\n",
    "# 추출된 정보를 가게 1곳의 정보로 묶어 리스트에 저장"
   ]
  },
  {
   "cell_type": "code",
   "execution_count": 16,
   "id": "c739dc92",
   "metadata": {},
   "outputs": [
    {
     "data": {
      "text/plain": [
       "37"
      ]
     },
     "execution_count": 16,
     "metadata": {},
     "output_type": "execute_result"
    }
   ],
   "source": [
    "len(data)"
   ]
  },
  {
   "cell_type": "code",
   "execution_count": 17,
   "id": "b75ceb93",
   "metadata": {},
   "outputs": [
    {
     "data": {
      "text/plain": [
       "range(0, 37)"
      ]
     },
     "execution_count": 17,
     "metadata": {},
     "output_type": "execute_result"
    }
   ],
   "source": [
    "range(len(data))"
   ]
  },
  {
   "cell_type": "code",
   "execution_count": 18,
   "id": "468cf3a8",
   "metadata": {},
   "outputs": [],
   "source": [
    "# for j in range(len(data)):\n",
    "#     for i in range(len(data[0]['body']['items'])):\n",
    "#         print(i)\n",
    "#         bizesId = data[j]['body']['items'][i]['bizesId'] # 가게번호\n",
    "#         bizesNm = data[j]['body']['items'][i]['bizesNm'] # 가게명\n",
    "#         ctprvnCd = data[j]['body']['items'][i]['ctprvnCd'] # 시도코드\n",
    "#         ctprvnNm = data[j]['body']['items'][i]['ctprvnNm'] # 시도명\n",
    "#         signguCd = data[j]['body']['items'][i]['signguCd'] # 시군구 코드\n",
    "#         signguNm = data[j]['body']['items'][i]['signguNm'] # 시군구 명\n",
    "#         ldongCd = data[j]['body']['items'][i]['ldongCd'] # 법정동 코드\n",
    "#         ldongNm = data[j]['body']['items'][i]['ldongNm'] # 법정동 명\n",
    "#         lnoAdr = data[j]['body']['items'][i]['lnoAdr'] # 지번주소\n",
    "#         rdnmAdr = data[j]['body']['items'][i]['rdnmAdr'] # 도로명주소\n",
    "#         flrNo = data[j]['body']['items'][i]['flrNo'] # 층넘버\n",
    "#         hoNo = data[j]['body']['items'][i]['hoNo'] # 호실번호\n",
    "#         lon = data[j]['body']['items'][i]['lon'] # 위도\n",
    "#         lat = data[j]['body']['items'][i]['lat'] # 위도\n",
    "#         print(bizesId,bizesNm,ctprvnCd,ctprvnNm,signguCd,signguNm,ldongCd,ldongNm,lnoAdr,rdnmAdr,flrNo,hoNo,lon,lat)"
   ]
  },
  {
   "cell_type": "code",
   "execution_count": 19,
   "id": "3ed71038",
   "metadata": {},
   "outputs": [
    {
     "data": {
      "text/plain": [
       "36064"
      ]
     },
     "execution_count": 19,
     "metadata": {},
     "output_type": "execute_result"
    }
   ],
   "source": [
    "shop_info = []\n",
    "for i in data:\n",
    "    for j in i['body']['items']:\n",
    "        bizesId = j['bizesId'] # 가게번호\n",
    "        bizesNm = j['bizesNm'] # 가게명\n",
    "        ctprvnCd = j['ctprvnCd'] # 시도코드\n",
    "        ctprvnNm = j['ctprvnNm'] # 시도명\n",
    "        signguCd = j['signguCd'] # 시군구 코드\n",
    "        signguNm = j['signguNm'] # 시군구 명\n",
    "        ldongCd = j['ldongCd'] # 법정동 코드\n",
    "        ldongNm = j['ldongNm'] # 법정동 명\n",
    "        lnoAdr = j['lnoAdr'] # 지번주소\n",
    "        rdnmAdr = j['rdnmAdr'] # 도로명주소\n",
    "        newZipcd = j['newZipcd'] # 우편번호\n",
    "        flrNo = j['flrNo'] # 층넘버\n",
    "        hoNo = j['hoNo'] # 호실번호\n",
    "        lon = j['lon'] # 위도\n",
    "        lat = j['lat'] # 위도\n",
    "        shop_info.append([bizesId,bizesNm,ctprvnCd,ctprvnNm,signguCd,signguNm,ldongCd,ldongNm,lnoAdr,rdnmAdr,newZipcd,flrNo,hoNo,lon,lat])\n",
    "len(shop_info)"
   ]
  },
  {
   "cell_type": "code",
   "execution_count": 20,
   "id": "db85fd5f",
   "metadata": {},
   "outputs": [
    {
     "ename": "KeyError",
     "evalue": "'bizesld'",
     "output_type": "error",
     "traceback": [
      "\u001b[1;31m---------------------------------------------------------------------------\u001b[0m",
      "\u001b[1;31mKeyError\u001b[0m                                  Traceback (most recent call last)",
      "Cell \u001b[1;32mIn[20], line 1\u001b[0m\n\u001b[1;32m----> 1\u001b[0m shop_sample \u001b[38;5;241m=\u001b[39m [\u001b[43mdata\u001b[49m\u001b[43m[\u001b[49m\u001b[38;5;241;43m0\u001b[39;49m\u001b[43m]\u001b[49m\u001b[43m[\u001b[49m\u001b[38;5;124;43m'\u001b[39;49m\u001b[38;5;124;43mbody\u001b[39;49m\u001b[38;5;124;43m'\u001b[39;49m\u001b[43m]\u001b[49m\u001b[43m[\u001b[49m\u001b[38;5;124;43m'\u001b[39;49m\u001b[38;5;124;43mitems\u001b[39;49m\u001b[38;5;124;43m'\u001b[39;49m\u001b[43m]\u001b[49m\u001b[43m[\u001b[49m\u001b[38;5;241;43m0\u001b[39;49m\u001b[43m]\u001b[49m\u001b[43m[\u001b[49m\u001b[38;5;124;43m'\u001b[39;49m\u001b[38;5;124;43mbizesld\u001b[39;49m\u001b[38;5;124;43m'\u001b[39;49m\u001b[43m]\u001b[49m,\n\u001b[0;32m      2\u001b[0m data[\u001b[38;5;241m0\u001b[39m][\u001b[38;5;124m'\u001b[39m\u001b[38;5;124mbody\u001b[39m\u001b[38;5;124m'\u001b[39m][\u001b[38;5;124m'\u001b[39m\u001b[38;5;124mitems\u001b[39m\u001b[38;5;124m'\u001b[39m][\u001b[38;5;241m0\u001b[39m][\u001b[38;5;124m'\u001b[39m\u001b[38;5;124mbizesId\u001b[39m\u001b[38;5;124m'\u001b[39m], \u001b[38;5;66;03m# 가게번호\u001b[39;00m\n\u001b[0;32m      3\u001b[0m data[\u001b[38;5;241m0\u001b[39m][\u001b[38;5;124m'\u001b[39m\u001b[38;5;124mbody\u001b[39m\u001b[38;5;124m'\u001b[39m][\u001b[38;5;124m'\u001b[39m\u001b[38;5;124mitems\u001b[39m\u001b[38;5;124m'\u001b[39m][\u001b[38;5;241m0\u001b[39m][\u001b[38;5;124m'\u001b[39m\u001b[38;5;124mbizesNm\u001b[39m\u001b[38;5;124m'\u001b[39m], \u001b[38;5;66;03m# 가게명\u001b[39;00m\n\u001b[0;32m      4\u001b[0m data[\u001b[38;5;241m0\u001b[39m][\u001b[38;5;124m'\u001b[39m\u001b[38;5;124mbody\u001b[39m\u001b[38;5;124m'\u001b[39m][\u001b[38;5;124m'\u001b[39m\u001b[38;5;124mitems\u001b[39m\u001b[38;5;124m'\u001b[39m][\u001b[38;5;241m0\u001b[39m][\u001b[38;5;124m'\u001b[39m\u001b[38;5;124mctprvnCd\u001b[39m\u001b[38;5;124m'\u001b[39m], \u001b[38;5;66;03m# 시도코드\u001b[39;00m\n\u001b[0;32m      5\u001b[0m data[\u001b[38;5;241m0\u001b[39m][\u001b[38;5;124m'\u001b[39m\u001b[38;5;124mbody\u001b[39m\u001b[38;5;124m'\u001b[39m][\u001b[38;5;124m'\u001b[39m\u001b[38;5;124mitems\u001b[39m\u001b[38;5;124m'\u001b[39m][\u001b[38;5;241m0\u001b[39m][\u001b[38;5;124m'\u001b[39m\u001b[38;5;124mctprvnNm\u001b[39m\u001b[38;5;124m'\u001b[39m], \u001b[38;5;66;03m# 시도명\u001b[39;00m\n\u001b[0;32m      6\u001b[0m data[\u001b[38;5;241m0\u001b[39m][\u001b[38;5;124m'\u001b[39m\u001b[38;5;124mbody\u001b[39m\u001b[38;5;124m'\u001b[39m][\u001b[38;5;124m'\u001b[39m\u001b[38;5;124mitems\u001b[39m\u001b[38;5;124m'\u001b[39m][\u001b[38;5;241m0\u001b[39m][\u001b[38;5;124m'\u001b[39m\u001b[38;5;124msignguCd\u001b[39m\u001b[38;5;124m'\u001b[39m], \u001b[38;5;66;03m# 시군구 코드\u001b[39;00m\n\u001b[0;32m      7\u001b[0m data[\u001b[38;5;241m0\u001b[39m][\u001b[38;5;124m'\u001b[39m\u001b[38;5;124mbody\u001b[39m\u001b[38;5;124m'\u001b[39m][\u001b[38;5;124m'\u001b[39m\u001b[38;5;124mitems\u001b[39m\u001b[38;5;124m'\u001b[39m][\u001b[38;5;241m0\u001b[39m][\u001b[38;5;124m'\u001b[39m\u001b[38;5;124msignguNm\u001b[39m\u001b[38;5;124m'\u001b[39m], \u001b[38;5;66;03m# 시군구 명\u001b[39;00m\n\u001b[0;32m      8\u001b[0m data[\u001b[38;5;241m0\u001b[39m][\u001b[38;5;124m'\u001b[39m\u001b[38;5;124mbody\u001b[39m\u001b[38;5;124m'\u001b[39m][\u001b[38;5;124m'\u001b[39m\u001b[38;5;124mitems\u001b[39m\u001b[38;5;124m'\u001b[39m][\u001b[38;5;241m0\u001b[39m][\u001b[38;5;124m'\u001b[39m\u001b[38;5;124mldongCd\u001b[39m\u001b[38;5;124m'\u001b[39m], \u001b[38;5;66;03m# 법정동 코드\u001b[39;00m\n\u001b[0;32m      9\u001b[0m data[\u001b[38;5;241m0\u001b[39m][\u001b[38;5;124m'\u001b[39m\u001b[38;5;124mbody\u001b[39m\u001b[38;5;124m'\u001b[39m][\u001b[38;5;124m'\u001b[39m\u001b[38;5;124mitems\u001b[39m\u001b[38;5;124m'\u001b[39m][\u001b[38;5;241m0\u001b[39m][\u001b[38;5;124m'\u001b[39m\u001b[38;5;124mldongNm\u001b[39m\u001b[38;5;124m'\u001b[39m], \u001b[38;5;66;03m# 법정동 명\u001b[39;00m\n\u001b[0;32m     10\u001b[0m data[\u001b[38;5;241m0\u001b[39m][\u001b[38;5;124m'\u001b[39m\u001b[38;5;124mbody\u001b[39m\u001b[38;5;124m'\u001b[39m][\u001b[38;5;124m'\u001b[39m\u001b[38;5;124mitems\u001b[39m\u001b[38;5;124m'\u001b[39m][\u001b[38;5;241m0\u001b[39m][\u001b[38;5;124m'\u001b[39m\u001b[38;5;124mlnoAdr\u001b[39m\u001b[38;5;124m'\u001b[39m], \u001b[38;5;66;03m# 지번주소\u001b[39;00m\n\u001b[0;32m     11\u001b[0m data[\u001b[38;5;241m0\u001b[39m][\u001b[38;5;124m'\u001b[39m\u001b[38;5;124mbody\u001b[39m\u001b[38;5;124m'\u001b[39m][\u001b[38;5;124m'\u001b[39m\u001b[38;5;124mitems\u001b[39m\u001b[38;5;124m'\u001b[39m][\u001b[38;5;241m0\u001b[39m][\u001b[38;5;124m'\u001b[39m\u001b[38;5;124mrdnmAdr\u001b[39m\u001b[38;5;124m'\u001b[39m], \u001b[38;5;66;03m# 도로명주소\u001b[39;00m\n\u001b[0;32m     12\u001b[0m data[\u001b[38;5;241m0\u001b[39m][\u001b[38;5;124m'\u001b[39m\u001b[38;5;124mbody\u001b[39m\u001b[38;5;124m'\u001b[39m][\u001b[38;5;124m'\u001b[39m\u001b[38;5;124mitems\u001b[39m\u001b[38;5;124m'\u001b[39m][\u001b[38;5;241m0\u001b[39m][\u001b[38;5;124m'\u001b[39m\u001b[38;5;124mnewZipcd\u001b[39m\u001b[38;5;124m'\u001b[39m], \u001b[38;5;66;03m# 우편번호\u001b[39;00m\n\u001b[0;32m     13\u001b[0m data[\u001b[38;5;241m0\u001b[39m][\u001b[38;5;124m'\u001b[39m\u001b[38;5;124mbody\u001b[39m\u001b[38;5;124m'\u001b[39m][\u001b[38;5;124m'\u001b[39m\u001b[38;5;124mitems\u001b[39m\u001b[38;5;124m'\u001b[39m][\u001b[38;5;241m0\u001b[39m][\u001b[38;5;124m'\u001b[39m\u001b[38;5;124mflrNo\u001b[39m\u001b[38;5;124m'\u001b[39m], \u001b[38;5;66;03m# 층넘버\u001b[39;00m\n\u001b[0;32m     14\u001b[0m data[\u001b[38;5;241m0\u001b[39m][\u001b[38;5;124m'\u001b[39m\u001b[38;5;124mbody\u001b[39m\u001b[38;5;124m'\u001b[39m][\u001b[38;5;124m'\u001b[39m\u001b[38;5;124mitems\u001b[39m\u001b[38;5;124m'\u001b[39m][\u001b[38;5;241m0\u001b[39m][\u001b[38;5;124m'\u001b[39m\u001b[38;5;124mhoNo\u001b[39m\u001b[38;5;124m'\u001b[39m], \u001b[38;5;66;03m# 호실번호\u001b[39;00m\n\u001b[0;32m     15\u001b[0m data[\u001b[38;5;241m0\u001b[39m][\u001b[38;5;124m'\u001b[39m\u001b[38;5;124mbody\u001b[39m\u001b[38;5;124m'\u001b[39m][\u001b[38;5;124m'\u001b[39m\u001b[38;5;124mitems\u001b[39m\u001b[38;5;124m'\u001b[39m][\u001b[38;5;241m0\u001b[39m][\u001b[38;5;124m'\u001b[39m\u001b[38;5;124mlon\u001b[39m\u001b[38;5;124m'\u001b[39m], \u001b[38;5;66;03m# 위도\u001b[39;00m\n\u001b[0;32m     16\u001b[0m data[\u001b[38;5;241m0\u001b[39m][\u001b[38;5;124m'\u001b[39m\u001b[38;5;124mbody\u001b[39m\u001b[38;5;124m'\u001b[39m][\u001b[38;5;124m'\u001b[39m\u001b[38;5;124mitems\u001b[39m\u001b[38;5;124m'\u001b[39m][\u001b[38;5;241m0\u001b[39m][\u001b[38;5;124m'\u001b[39m\u001b[38;5;124mlat\u001b[39m\u001b[38;5;124m'\u001b[39m]]\n",
      "\u001b[1;31mKeyError\u001b[0m: 'bizesld'"
     ]
    }
   ],
   "source": [
    "shop_sample = [data[0]['body']['items'][0]['bizesld'],\n",
    "data[0]['body']['items'][0]['bizesId'], # 가게번호\n",
    "data[0]['body']['items'][0]['bizesNm'], # 가게명\n",
    "data[0]['body']['items'][0]['ctprvnCd'], # 시도코드\n",
    "data[0]['body']['items'][0]['ctprvnNm'], # 시도명\n",
    "data[0]['body']['items'][0]['signguCd'], # 시군구 코드\n",
    "data[0]['body']['items'][0]['signguNm'], # 시군구 명\n",
    "data[0]['body']['items'][0]['ldongCd'], # 법정동 코드\n",
    "data[0]['body']['items'][0]['ldongNm'], # 법정동 명\n",
    "data[0]['body']['items'][0]['lnoAdr'], # 지번주소\n",
    "data[0]['body']['items'][0]['rdnmAdr'], # 도로명주소\n",
    "data[0]['body']['items'][0]['newZipcd'], # 우편번호\n",
    "data[0]['body']['items'][0]['flrNo'], # 층넘버\n",
    "data[0]['body']['items'][0]['hoNo'], # 호실번호\n",
    "data[0]['body']['items'][0]['lon'], # 위도\n",
    "data[0]['body']['items'][0]['lat']] # 위도\n",
    "# shop_sample.append([bizesId,bizesNm,ctprvnCd,ctprvnNm,signguCd,signguNm,ldongCd,ldongNm,lnoAdr,rdnmAdr,newZipcd,flrNo,hoNo,lon,lat])"
   ]
  },
  {
   "cell_type": "code",
   "execution_count": 21,
   "id": "0d8e905e",
   "metadata": {},
   "outputs": [
    {
     "ename": "NameError",
     "evalue": "name 'shop_sample' is not defined",
     "output_type": "error",
     "traceback": [
      "\u001b[1;31m---------------------------------------------------------------------------\u001b[0m",
      "\u001b[1;31mNameError\u001b[0m                                 Traceback (most recent call last)",
      "Cell \u001b[1;32mIn[21], line 1\u001b[0m\n\u001b[1;32m----> 1\u001b[0m \u001b[38;5;28;01mfor\u001b[39;00m i \u001b[38;5;129;01min\u001b[39;00m \u001b[43mshop_sample\u001b[49m:\n\u001b[0;32m      2\u001b[0m     pirnt(i)\n",
      "\u001b[1;31mNameError\u001b[0m: name 'shop_sample' is not defined"
     ]
    }
   ],
   "source": [
    "for i in shop_sample:\n",
    "    pirnt(i)"
   ]
  },
  {
   "cell_type": "code",
   "execution_count": 22,
   "id": "27da707e",
   "metadata": {},
   "outputs": [],
   "source": [
    "shop_infolist = []\n",
    "for i in data:\n",
    "    for j in i['body']['items']:\n",
    "        bizesId = j['bizesId'] # 가게번호\n",
    "        bizesNm = j['bizesNm'] # 가게명\n",
    "        ctprvnCd = j['ctprvnCd'] # 시도코드\n",
    "        ctprvnNm = j['ctprvnNm'] # 시도명\n",
    "        signguCd = j['signguCd'] # 시군구 코드\n",
    "        signguNm = j['signguNm'] # 시군구 명\n",
    "        ldongCd = j['ldongCd'] # 법정동 코드\n",
    "        ldongNm = j['ldongNm'] # 법정동 명\n",
    "        lnoAdr = j['lnoAdr'] # 지번주소\n",
    "        rdnmAdr = j['rdnmAdr'] # 도로명주소\n",
    "        newZipcd = j['newZipcd'] # 우편번호\n",
    "        flrNo = j['flrNo'] # 층넘버\n",
    "        hoNo = j['hoNo'] # 호실번호\n",
    "        lon = j['lon'] # 위도\n",
    "        lat = j['lat'] # 위도\n",
    "        shop_infolist.append([bizesId,bizesNm,ctprvnCd,ctprvnNm,signguCd,signguNm,ldongCd,ldongNm,lnoAdr,rdnmAdr,newZipcd,flrNo,hoNo,lon,lat])"
   ]
  },
  {
   "cell_type": "code",
   "execution_count": 23,
   "id": "0021dd2d",
   "metadata": {},
   "outputs": [
    {
     "data": {
      "text/plain": [
       "36064"
      ]
     },
     "execution_count": 23,
     "metadata": {},
     "output_type": "execute_result"
    }
   ],
   "source": [
    "len(shop_infolist)"
   ]
  },
  {
   "cell_type": "markdown",
   "id": "138e7be0",
   "metadata": {},
   "source": [
    "csv 파일로 저장\n"
   ]
  },
  {
   "cell_type": "code",
   "execution_count": 24,
   "id": "f584a2ed",
   "metadata": {},
   "outputs": [],
   "source": [
    "colnames = ['bizesId',',bizesNm','ctprvnCd','ctprvnNm','signguCd','signguNm','ldongCd','ldongNm','lnoAdr','rdnmAdr','newZipcd','flrNo','hoNo','lon','lat']"
   ]
  },
  {
   "cell_type": "code",
   "execution_count": 25,
   "id": "8abf9945",
   "metadata": {},
   "outputs": [
    {
     "data": {
      "text/plain": [
       "['bizesId',\n",
       " ',bizesNm',\n",
       " 'ctprvnCd',\n",
       " 'ctprvnNm',\n",
       " 'signguCd',\n",
       " 'signguNm',\n",
       " 'ldongCd',\n",
       " 'ldongNm',\n",
       " 'lnoAdr',\n",
       " 'rdnmAdr',\n",
       " 'newZipcd',\n",
       " 'flrNo',\n",
       " 'hoNo',\n",
       " 'lon',\n",
       " 'lat']"
      ]
     },
     "execution_count": 25,
     "metadata": {},
     "output_type": "execute_result"
    }
   ],
   "source": [
    "colnames"
   ]
  },
  {
   "cell_type": "code",
   "execution_count": 26,
   "id": "a195aafe",
   "metadata": {},
   "outputs": [],
   "source": [
    "import csv"
   ]
  },
  {
   "cell_type": "code",
   "execution_count": 27,
   "id": "57f5e672",
   "metadata": {},
   "outputs": [],
   "source": [
    "with open('전국치킨집리스트03.csv','w', newline=\"\", encoding='utf-8') as file:\n",
    "    writer = csv.writer(file)\n",
    "    writer.writerows(shop_infolist)"
   ]
  },
  {
   "cell_type": "code",
   "execution_count": 28,
   "id": "bfcb0322",
   "metadata": {},
   "outputs": [],
   "source": [
    "shopdata = data[0]['body']['items'][0]"
   ]
  },
  {
   "cell_type": "code",
   "execution_count": 29,
   "id": "67422602",
   "metadata": {},
   "outputs": [
    {
     "name": "stdout",
     "output_type": "stream",
     "text": [
      "['10027626', '장모님치킨가창점', '27', '대구광역시', '27710', '달성군', '2771031024', '가창면', '대구광역시 달성군 가창면 냉천리 120-1', '대구광역시 달성군 가창면 가창동로 6', '1', '', '', 128.644458591419, '10027626', '장모님치킨가창점', '27', '대구광역시', '27710', '달성군', '2771031024', '가창면', '대구광역시 달성군 가창면 냉천리 120-1', '대구광역시 달성군 가창면 가창동로 6', '1', '', '', 128.644458591419, '10027626', '장모님치킨가창점', '27', '대구광역시', '27710', '달성군', '2771031024', '가창면', '대구광역시 달성군 가창면 냉천리 120-1', '대구광역시 달성군 가창면 가창동로 6', '1', '', '', 128.644458591419, '10027626', '장모님치킨가창점', '27', '대구광역시', '27710', '달성군', '2771031024', '가창면', '대구광역시 달성군 가창면 냉천리 120-1', '대구광역시 달성군 가창면 가창동로 6', '1', '', '', 128.644458591419, '10027626', '장모님치킨가창점', '27', '대구광역시', '27710', '달성군', '2771031024', '가창면', '대구광역시 달성군 가창면 냉천리 120-1', '대구광역시 달성군 가창면 가창동로 6', '1', '', '', 128.644458591419, '10027626', '장모님치킨가창점', '27', '대구광역시', '27710', '달성군', '2771031024', '가창면', '대구광역시 달성군 가창면 냉천리 120-1', '대구광역시 달성군 가창면 가창동로 6', '1', '', '', 128.644458591419, '10027626', '장모님치킨가창점', '27', '대구광역시', '27710', '달성군', '2771031024', '가창면', '대구광역시 달성군 가창면 냉천리 120-1', '대구광역시 달성군 가창면 가창동로 6', '1', '', '', 128.644458591419, '10027626', '장모님치킨가창점', '27', '대구광역시', '27710', '달성군', '2771031024', '가창면', '대구광역시 달성군 가창면 냉천리 120-1', '대구광역시 달성군 가창면 가창동로 6', '1', '', '', 128.644458591419, '10027626', '장모님치킨가창점', '27', '대구광역시', '27710', '달성군', '2771031024', '가창면', '대구광역시 달성군 가창면 냉천리 120-1', '대구광역시 달성군 가창면 가창동로 6', '1', '', '', 128.644458591419, '10027626', '장모님치킨가창점', '27', '대구광역시', '27710', '달성군', '2771031024', '가창면', '대구광역시 달성군 가창면 냉천리 120-1', '대구광역시 달성군 가창면 가창동로 6', '1', '', '', 128.644458591419, '10027626', '장모님치킨가창점', '27', '대구광역시', '27710', '달성군', '2771031024', '가창면', '대구광역시 달성군 가창면 냉천리 120-1', '대구광역시 달성군 가창면 가창동로 6', '1', '', '', 128.644458591419, '10027626', '장모님치킨가창점', '27', '대구광역시', '27710', '달성군', '2771031024', '가창면', '대구광역시 달성군 가창면 냉천리 120-1', '대구광역시 달성군 가창면 가창동로 6', '1', '', '', 128.644458591419, '10027626', '장모님치킨가창점', '27', '대구광역시', '27710', '달성군', '2771031024', '가창면', '대구광역시 달성군 가창면 냉천리 120-1', '대구광역시 달성군 가창면 가창동로 6', '1', '', '', 128.644458591419, '10027626', '장모님치킨가창점', '27', '대구광역시', '27710', '달성군', '2771031024', '가창면', '대구광역시 달성군 가창면 냉천리 120-1', '대구광역시 달성군 가창면 가창동로 6', '1', '', '', 128.644458591419, '10027626', '장모님치킨가창점', '27', '대구광역시', '27710', '달성군', '2771031024', '가창면', '대구광역시 달성군 가창면 냉천리 120-1', '대구광역시 달성군 가창면 가창동로 6', '1', '', '', 128.644458591419, '10027626', '장모님치킨가창점', '27', '대구광역시', '27710', '달성군', '2771031024', '가창면', '대구광역시 달성군 가창면 냉천리 120-1', '대구광역시 달성군 가창면 가창동로 6', '1', '', '', 128.644458591419, '10027626', '장모님치킨가창점', '27', '대구광역시', '27710', '달성군', '2771031024', '가창면', '대구광역시 달성군 가창면 냉천리 120-1', '대구광역시 달성군 가창면 가창동로 6', '1', '', '', 128.644458591419, '10027626', '장모님치킨가창점', '27', '대구광역시', '27710', '달성군', '2771031024', '가창면', '대구광역시 달성군 가창면 냉천리 120-1', '대구광역시 달성군 가창면 가창동로 6', '1', '', '', 128.644458591419, '10027626', '장모님치킨가창점', '27', '대구광역시', '27710', '달성군', '2771031024', '가창면', '대구광역시 달성군 가창면 냉천리 120-1', '대구광역시 달성군 가창면 가창동로 6', '1', '', '', 128.644458591419, '10027626', '장모님치킨가창점', '27', '대구광역시', '27710', '달성군', '2771031024', '가창면', '대구광역시 달성군 가창면 냉천리 120-1', '대구광역시 달성군 가창면 가창동로 6', '1', '', '', 128.644458591419, '10027626', '장모님치킨가창점', '27', '대구광역시', '27710', '달성군', '2771031024', '가창면', '대구광역시 달성군 가창면 냉천리 120-1', '대구광역시 달성군 가창면 가창동로 6', '1', '', '', 128.644458591419, '10027626', '장모님치킨가창점', '27', '대구광역시', '27710', '달성군', '2771031024', '가창면', '대구광역시 달성군 가창면 냉천리 120-1', '대구광역시 달성군 가창면 가창동로 6', '1', '', '', 128.644458591419, '10027626', '장모님치킨가창점', '27', '대구광역시', '27710', '달성군', '2771031024', '가창면', '대구광역시 달성군 가창면 냉천리 120-1', '대구광역시 달성군 가창면 가창동로 6', '1', '', '', 128.644458591419, '10027626', '장모님치킨가창점', '27', '대구광역시', '27710', '달성군', '2771031024', '가창면', '대구광역시 달성군 가창면 냉천리 120-1', '대구광역시 달성군 가창면 가창동로 6', '1', '', '', 128.644458591419, '10027626', '장모님치킨가창점', '27', '대구광역시', '27710', '달성군', '2771031024', '가창면', '대구광역시 달성군 가창면 냉천리 120-1', '대구광역시 달성군 가창면 가창동로 6', '1', '', '', 128.644458591419, '10027626', '장모님치킨가창점', '27', '대구광역시', '27710', '달성군', '2771031024', '가창면', '대구광역시 달성군 가창면 냉천리 120-1', '대구광역시 달성군 가창면 가창동로 6', '1', '', '', 128.644458591419, '10027626', '장모님치킨가창점', '27', '대구광역시', '27710', '달성군', '2771031024', '가창면', '대구광역시 달성군 가창면 냉천리 120-1', '대구광역시 달성군 가창면 가창동로 6', '1', '', '', 128.644458591419, '10027626', '장모님치킨가창점', '27', '대구광역시', '27710', '달성군', '2771031024', '가창면', '대구광역시 달성군 가창면 냉천리 120-1', '대구광역시 달성군 가창면 가창동로 6', '1', '', '', 128.644458591419, '10027626', '장모님치킨가창점', '27', '대구광역시', '27710', '달성군', '2771031024', '가창면', '대구광역시 달성군 가창면 냉천리 120-1', '대구광역시 달성군 가창면 가창동로 6', '1', '', '', 128.644458591419, '10027626', '장모님치킨가창점', '27', '대구광역시', '27710', '달성군', '2771031024', '가창면', '대구광역시 달성군 가창면 냉천리 120-1', '대구광역시 달성군 가창면 가창동로 6', '1', '', '', 128.644458591419, '10027626', '장모님치킨가창점', '27', '대구광역시', '27710', '달성군', '2771031024', '가창면', '대구광역시 달성군 가창면 냉천리 120-1', '대구광역시 달성군 가창면 가창동로 6', '1', '', '', 128.644458591419, '10027626', '장모님치킨가창점', '27', '대구광역시', '27710', '달성군', '2771031024', '가창면', '대구광역시 달성군 가창면 냉천리 120-1', '대구광역시 달성군 가창면 가창동로 6', '1', '', '', 128.644458591419, '10027626', '장모님치킨가창점', '27', '대구광역시', '27710', '달성군', '2771031024', '가창면', '대구광역시 달성군 가창면 냉천리 120-1', '대구광역시 달성군 가창면 가창동로 6', '1', '', '', 128.644458591419, '10027626', '장모님치킨가창점', '27', '대구광역시', '27710', '달성군', '2771031024', '가창면', '대구광역시 달성군 가창면 냉천리 120-1', '대구광역시 달성군 가창면 가창동로 6', '1', '', '', 128.644458591419, '10027626', '장모님치킨가창점', '27', '대구광역시', '27710', '달성군', '2771031024', '가창면', '대구광역시 달성군 가창면 냉천리 120-1', '대구광역시 달성군 가창면 가창동로 6', '1', '', '', 128.644458591419, '10027626', '장모님치킨가창점', '27', '대구광역시', '27710', '달성군', '2771031024', '가창면', '대구광역시 달성군 가창면 냉천리 120-1', '대구광역시 달성군 가창면 가창동로 6', '1', '', '', 128.644458591419, '10027626', '장모님치킨가창점', '27', '대구광역시', '27710', '달성군', '2771031024', '가창면', '대구광역시 달성군 가창면 냉천리 120-1', '대구광역시 달성군 가창면 가창동로 6', '1', '', '', 128.644458591419]\n"
     ]
    }
   ],
   "source": [
    "chickenshoplist = []\n",
    "for shop in data:\n",
    "    shopId = shopdata['bizesId']\n",
    "    shopNm = shopdata['bizesNm']\n",
    "    sidoCd = shopdata['ctprvnCd']\n",
    "    sidoNm = shopdata['ctprvnNm']\n",
    "    gunguCd = shopdata['signguCd']\n",
    "    gunguNm = shopdata['signguNm']\n",
    "    garCd = shopdata['ldongCd']\n",
    "    garNm = shopdata['ldongNm']\n",
    "    jibunAdr = shopdata['lnoAdr']\n",
    "    rdAdr = shopdata['rdnmAdr']\n",
    "    fNo = shopdata['flrNo']\n",
    "    hNo = shopdata['hoNo']\n",
    "    wido = shopdata['lon']\n",
    "    gyungdo = shopdata['lat']\n",
    "    chickenshoplist.append(shopId)\n",
    "    chickenshoplist.append(shopNm)\n",
    "    chickenshoplist.append(sidoCd)\n",
    "    chickenshoplist.append(sidoNm)\n",
    "    chickenshoplist.append(gunguCd)\n",
    "    chickenshoplist.append(gunguNm)\n",
    "    chickenshoplist.append(garCd)\n",
    "    chickenshoplist.append(garNm)\n",
    "    chickenshoplist.append(jibunAdr)\n",
    "    chickenshoplist.append(rdAdr)\n",
    "    chickenshoplist.append(fNo)\n",
    "    chickenshoplist.append(hNo)\n",
    "    chickenshoplist.append(hNo)\n",
    "    chickenshoplist.append(wido)\n",
    "print(chickenshoplist)\n",
    "\n",
    "     "
   ]
  },
  {
   "cell_type": "code",
   "execution_count": 30,
   "id": "6806b70e",
   "metadata": {},
   "outputs": [
    {
     "data": {
      "text/plain": [
       "37"
      ]
     },
     "execution_count": 30,
     "metadata": {},
     "output_type": "execute_result"
    }
   ],
   "source": [
    "chickenshoplist2 =[]\n",
    "for shop in data:\n",
    "    value = list(shopdata.values())\n",
    "    chickenshoplist2.append(value)\n",
    "len(chickenshoplist2)"
   ]
  },
  {
   "cell_type": "code",
   "execution_count": 31,
   "id": "58cc9b4b",
   "metadata": {},
   "outputs": [],
   "source": [
    "# 반복문과 딕셔너리 함수를 사용해서 언패킹"
   ]
  },
  {
   "cell_type": "code",
   "execution_count": 32,
   "id": "5f33969a",
   "metadata": {},
   "outputs": [],
   "source": [
    "import json"
   ]
  },
  {
   "cell_type": "code",
   "execution_count": 33,
   "id": "75de09ec",
   "metadata": {},
   "outputs": [],
   "source": [
    "with open(\"C:/Bigdata/data/전국치킨집리스트.json\",\"r\") as file:\n",
    "    data = file.read()"
   ]
  },
  {
   "cell_type": "code",
   "execution_count": 34,
   "id": "ec7fddeb",
   "metadata": {},
   "outputs": [],
   "source": [
    "data2 = json.loads(data)"
   ]
  },
  {
   "cell_type": "markdown",
   "id": "cccdc1fb",
   "metadata": {},
   "source": [
    "data2[0]['body']['items'][0]['']\n"
   ]
  },
  {
   "cell_type": "code",
   "execution_count": 35,
   "id": "3bd77b5e",
   "metadata": {},
   "outputs": [],
   "source": [
    "chicken_shops = []\n",
    "for shops in data2:\n",
    "    for sp_info in shops['body']['items']:\n",
    "        temp = list(sp_info.values())\n",
    "        chicken_shops.append(temp)"
   ]
  },
  {
   "cell_type": "code",
   "execution_count": 36,
   "id": "4709d2e2",
   "metadata": {},
   "outputs": [
    {
     "data": {
      "text/plain": [
       "36064"
      ]
     },
     "execution_count": 36,
     "metadata": {},
     "output_type": "execute_result"
    }
   ],
   "source": [
    "len(chicken_shops)"
   ]
  },
  {
   "cell_type": "markdown",
   "id": "78310d24",
   "metadata": {},
   "source": [
    "pandas로 JSON 데이터 언패킹 하기\n"
   ]
  },
  {
   "cell_type": "code",
   "execution_count": 37,
   "id": "1b8f19fd",
   "metadata": {},
   "outputs": [],
   "source": [
    "import pandas as pd"
   ]
  },
  {
   "cell_type": "code",
   "execution_count": 38,
   "id": "1d9cfcf4",
   "metadata": {},
   "outputs": [
    {
     "data": {
      "text/html": [
       "<div>\n",
       "<style scoped>\n",
       "    .dataframe tbody tr th:only-of-type {\n",
       "        vertical-align: middle;\n",
       "    }\n",
       "\n",
       "    .dataframe tbody tr th {\n",
       "        vertical-align: top;\n",
       "    }\n",
       "\n",
       "    .dataframe thead th {\n",
       "        text-align: right;\n",
       "    }\n",
       "</style>\n",
       "<table border=\"1\" class=\"dataframe\">\n",
       "  <thead>\n",
       "    <tr style=\"text-align: right;\">\n",
       "      <th></th>\n",
       "      <th>bizesId</th>\n",
       "      <th>bizesNm</th>\n",
       "      <th>brchNm</th>\n",
       "      <th>indsLclsCd</th>\n",
       "      <th>indsLclsNm</th>\n",
       "      <th>indsMclsCd</th>\n",
       "      <th>indsMclsNm</th>\n",
       "      <th>indsSclsCd</th>\n",
       "      <th>indsSclsNm</th>\n",
       "      <th>ksicCd</th>\n",
       "      <th>...</th>\n",
       "      <th>bldMngNo</th>\n",
       "      <th>bldNm</th>\n",
       "      <th>rdnmAdr</th>\n",
       "      <th>oldZipcd</th>\n",
       "      <th>newZipcd</th>\n",
       "      <th>dongNo</th>\n",
       "      <th>flrNo</th>\n",
       "      <th>hoNo</th>\n",
       "      <th>lon</th>\n",
       "      <th>lat</th>\n",
       "    </tr>\n",
       "  </thead>\n",
       "  <tbody>\n",
       "    <tr>\n",
       "      <th>0</th>\n",
       "      <td>10027626</td>\n",
       "      <td>장모님치킨가창점</td>\n",
       "      <td>가창점</td>\n",
       "      <td>Q</td>\n",
       "      <td>음식</td>\n",
       "      <td>Q05</td>\n",
       "      <td>닭/오리요리</td>\n",
       "      <td>Q05A08</td>\n",
       "      <td>후라이드/양념치킨</td>\n",
       "      <td>I56193</td>\n",
       "      <td>...</td>\n",
       "      <td>2771031024101200004036858</td>\n",
       "      <td></td>\n",
       "      <td>대구광역시 달성군 가창면 가창동로 6</td>\n",
       "      <td>711861</td>\n",
       "      <td>42938</td>\n",
       "      <td></td>\n",
       "      <td>1</td>\n",
       "      <td></td>\n",
       "      <td>128.644459</td>\n",
       "      <td>35.782663</td>\n",
       "    </tr>\n",
       "    <tr>\n",
       "      <th>1</th>\n",
       "      <td>10098244</td>\n",
       "      <td>짱구피자치킨</td>\n",
       "      <td></td>\n",
       "      <td>Q</td>\n",
       "      <td>음식</td>\n",
       "      <td>Q05</td>\n",
       "      <td>닭/오리요리</td>\n",
       "      <td>Q05A08</td>\n",
       "      <td>후라이드/양념치킨</td>\n",
       "      <td>I56193</td>\n",
       "      <td>...</td>\n",
       "      <td>4125010300102680011008557</td>\n",
       "      <td></td>\n",
       "      <td>경기도 동두천시 못골로 30</td>\n",
       "      <td>483030</td>\n",
       "      <td>11320</td>\n",
       "      <td></td>\n",
       "      <td></td>\n",
       "      <td></td>\n",
       "      <td>127.065903</td>\n",
       "      <td>37.901262</td>\n",
       "    </tr>\n",
       "    <tr>\n",
       "      <th>2</th>\n",
       "      <td>10099459</td>\n",
       "      <td>쭈노치킨</td>\n",
       "      <td></td>\n",
       "      <td>Q</td>\n",
       "      <td>음식</td>\n",
       "      <td>Q05</td>\n",
       "      <td>닭/오리요리</td>\n",
       "      <td>Q05A08</td>\n",
       "      <td>후라이드/양념치킨</td>\n",
       "      <td>I56193</td>\n",
       "      <td>...</td>\n",
       "      <td>4157025324105380008019970</td>\n",
       "      <td></td>\n",
       "      <td>경기도 김포시 고촌읍 장차로13번길 18</td>\n",
       "      <td>415811</td>\n",
       "      <td>10126</td>\n",
       "      <td></td>\n",
       "      <td>1</td>\n",
       "      <td></td>\n",
       "      <td>126.769859</td>\n",
       "      <td>37.603752</td>\n",
       "    </tr>\n",
       "    <tr>\n",
       "      <th>3</th>\n",
       "      <td>10136167</td>\n",
       "      <td>치킨뱅이</td>\n",
       "      <td></td>\n",
       "      <td>Q</td>\n",
       "      <td>음식</td>\n",
       "      <td>Q05</td>\n",
       "      <td>닭/오리요리</td>\n",
       "      <td>Q05A08</td>\n",
       "      <td>후라이드/양념치킨</td>\n",
       "      <td>I56193</td>\n",
       "      <td>...</td>\n",
       "      <td>4213011000108300006022278</td>\n",
       "      <td></td>\n",
       "      <td>강원도 원주시 금불3길 5</td>\n",
       "      <td>220938</td>\n",
       "      <td>26423</td>\n",
       "      <td></td>\n",
       "      <td>1</td>\n",
       "      <td></td>\n",
       "      <td>127.932025</td>\n",
       "      <td>37.348358</td>\n",
       "    </tr>\n",
       "    <tr>\n",
       "      <th>4</th>\n",
       "      <td>10136346</td>\n",
       "      <td>치킨월드율량점</td>\n",
       "      <td>율량점</td>\n",
       "      <td>Q</td>\n",
       "      <td>음식</td>\n",
       "      <td>Q05</td>\n",
       "      <td>닭/오리요리</td>\n",
       "      <td>Q05A08</td>\n",
       "      <td>후라이드/양념치킨</td>\n",
       "      <td>I56193</td>\n",
       "      <td>...</td>\n",
       "      <td>4311111500108060000045239</td>\n",
       "      <td></td>\n",
       "      <td>충청북도 청주시 청원구 공항로138번길 53</td>\n",
       "      <td>363818</td>\n",
       "      <td>28328</td>\n",
       "      <td></td>\n",
       "      <td>1</td>\n",
       "      <td></td>\n",
       "      <td>127.487586</td>\n",
       "      <td>36.669816</td>\n",
       "    </tr>\n",
       "    <tr>\n",
       "      <th>...</th>\n",
       "      <td>...</td>\n",
       "      <td>...</td>\n",
       "      <td>...</td>\n",
       "      <td>...</td>\n",
       "      <td>...</td>\n",
       "      <td>...</td>\n",
       "      <td>...</td>\n",
       "      <td>...</td>\n",
       "      <td>...</td>\n",
       "      <td>...</td>\n",
       "      <td>...</td>\n",
       "      <td>...</td>\n",
       "      <td>...</td>\n",
       "      <td>...</td>\n",
       "      <td>...</td>\n",
       "      <td>...</td>\n",
       "      <td>...</td>\n",
       "      <td>...</td>\n",
       "      <td>...</td>\n",
       "      <td>...</td>\n",
       "      <td>...</td>\n",
       "    </tr>\n",
       "    <tr>\n",
       "      <th>995</th>\n",
       "      <td>11927120</td>\n",
       "      <td>두두두마리치킨</td>\n",
       "      <td></td>\n",
       "      <td>Q</td>\n",
       "      <td>음식</td>\n",
       "      <td>Q05</td>\n",
       "      <td>닭/오리요리</td>\n",
       "      <td>Q05A08</td>\n",
       "      <td>후라이드/양념치킨</td>\n",
       "      <td>I56193</td>\n",
       "      <td>...</td>\n",
       "      <td>4719034028104640013062144</td>\n",
       "      <td></td>\n",
       "      <td>경상북도 구미시 해평면 강동로 1671</td>\n",
       "      <td>730873</td>\n",
       "      <td>39154</td>\n",
       "      <td></td>\n",
       "      <td>1</td>\n",
       "      <td></td>\n",
       "      <td>128.390989</td>\n",
       "      <td>36.199637</td>\n",
       "    </tr>\n",
       "    <tr>\n",
       "      <th>996</th>\n",
       "      <td>11927310</td>\n",
       "      <td>호식이두마리치킨</td>\n",
       "      <td></td>\n",
       "      <td>Q</td>\n",
       "      <td>음식</td>\n",
       "      <td>Q05</td>\n",
       "      <td>닭/오리요리</td>\n",
       "      <td>Q05A08</td>\n",
       "      <td>후라이드/양념치킨</td>\n",
       "      <td>I56193</td>\n",
       "      <td>...</td>\n",
       "      <td>4272025029104520007040192</td>\n",
       "      <td></td>\n",
       "      <td>강원도 홍천군 홍천읍 남산강변로 32</td>\n",
       "      <td>250930</td>\n",
       "      <td>25149</td>\n",
       "      <td></td>\n",
       "      <td>1</td>\n",
       "      <td></td>\n",
       "      <td>127.882012</td>\n",
       "      <td>37.685865</td>\n",
       "    </tr>\n",
       "    <tr>\n",
       "      <th>997</th>\n",
       "      <td>11927491</td>\n",
       "      <td>또봉이치킨</td>\n",
       "      <td></td>\n",
       "      <td>Q</td>\n",
       "      <td>음식</td>\n",
       "      <td>Q05</td>\n",
       "      <td>닭/오리요리</td>\n",
       "      <td>Q05A08</td>\n",
       "      <td>후라이드/양념치킨</td>\n",
       "      <td>I56193</td>\n",
       "      <td>...</td>\n",
       "      <td>2820010200100690027020930</td>\n",
       "      <td></td>\n",
       "      <td>인천광역시 남동구 풀무로 9-2</td>\n",
       "      <td>405230</td>\n",
       "      <td>21510</td>\n",
       "      <td></td>\n",
       "      <td>1</td>\n",
       "      <td></td>\n",
       "      <td>126.709187</td>\n",
       "      <td>37.469419</td>\n",
       "    </tr>\n",
       "    <tr>\n",
       "      <th>998</th>\n",
       "      <td>11927616</td>\n",
       "      <td>투마리치킨하늘도시점</td>\n",
       "      <td>하늘도시점</td>\n",
       "      <td>Q</td>\n",
       "      <td>음식</td>\n",
       "      <td>Q05</td>\n",
       "      <td>닭/오리요리</td>\n",
       "      <td>Q05A08</td>\n",
       "      <td>후라이드/양념치킨</td>\n",
       "      <td>I56193</td>\n",
       "      <td>...</td>\n",
       "      <td>2811014600100330008000001</td>\n",
       "      <td></td>\n",
       "      <td>인천광역시 중구 운중로 85-1</td>\n",
       "      <td>400811</td>\n",
       "      <td>22359</td>\n",
       "      <td></td>\n",
       "      <td>1</td>\n",
       "      <td></td>\n",
       "      <td>126.542880</td>\n",
       "      <td>37.493596</td>\n",
       "    </tr>\n",
       "    <tr>\n",
       "      <th>999</th>\n",
       "      <td>11927757</td>\n",
       "      <td>노랑통닭</td>\n",
       "      <td>구리수택점</td>\n",
       "      <td>Q</td>\n",
       "      <td>음식</td>\n",
       "      <td>Q05</td>\n",
       "      <td>닭/오리요리</td>\n",
       "      <td>Q05A08</td>\n",
       "      <td>후라이드/양념치킨</td>\n",
       "      <td>I56193</td>\n",
       "      <td>...</td>\n",
       "      <td>4131010500104480006008791</td>\n",
       "      <td>구리신성미소지움</td>\n",
       "      <td>경기도 구리시 이문안로 81</td>\n",
       "      <td>471030</td>\n",
       "      <td>11941</td>\n",
       "      <td>101</td>\n",
       "      <td>1</td>\n",
       "      <td></td>\n",
       "      <td>127.140380</td>\n",
       "      <td>37.592408</td>\n",
       "    </tr>\n",
       "  </tbody>\n",
       "</table>\n",
       "<p>1000 rows × 39 columns</p>\n",
       "</div>"
      ],
      "text/plain": [
       "      bizesId     bizesNm brchNm indsLclsCd indsLclsNm indsMclsCd indsMclsNm  \\\n",
       "0    10027626    장모님치킨가창점    가창점          Q         음식        Q05     닭/오리요리   \n",
       "1    10098244      짱구피자치킨                 Q         음식        Q05     닭/오리요리   \n",
       "2    10099459        쭈노치킨                 Q         음식        Q05     닭/오리요리   \n",
       "3    10136167        치킨뱅이                 Q         음식        Q05     닭/오리요리   \n",
       "4    10136346     치킨월드율량점    율량점          Q         음식        Q05     닭/오리요리   \n",
       "..        ...         ...    ...        ...        ...        ...        ...   \n",
       "995  11927120     두두두마리치킨                 Q         음식        Q05     닭/오리요리   \n",
       "996  11927310    호식이두마리치킨                 Q         음식        Q05     닭/오리요리   \n",
       "997  11927491       또봉이치킨                 Q         음식        Q05     닭/오리요리   \n",
       "998  11927616  투마리치킨하늘도시점  하늘도시점          Q         음식        Q05     닭/오리요리   \n",
       "999  11927757        노랑통닭  구리수택점          Q         음식        Q05     닭/오리요리   \n",
       "\n",
       "    indsSclsCd indsSclsNm  ksicCd  ...                   bldMngNo     bldNm  \\\n",
       "0       Q05A08  후라이드/양념치킨  I56193  ...  2771031024101200004036858             \n",
       "1       Q05A08  후라이드/양념치킨  I56193  ...  4125010300102680011008557             \n",
       "2       Q05A08  후라이드/양념치킨  I56193  ...  4157025324105380008019970             \n",
       "3       Q05A08  후라이드/양념치킨  I56193  ...  4213011000108300006022278             \n",
       "4       Q05A08  후라이드/양념치킨  I56193  ...  4311111500108060000045239             \n",
       "..         ...        ...     ...  ...                        ...       ...   \n",
       "995     Q05A08  후라이드/양념치킨  I56193  ...  4719034028104640013062144             \n",
       "996     Q05A08  후라이드/양념치킨  I56193  ...  4272025029104520007040192             \n",
       "997     Q05A08  후라이드/양념치킨  I56193  ...  2820010200100690027020930             \n",
       "998     Q05A08  후라이드/양념치킨  I56193  ...  2811014600100330008000001             \n",
       "999     Q05A08  후라이드/양념치킨  I56193  ...  4131010500104480006008791  구리신성미소지움   \n",
       "\n",
       "                      rdnmAdr oldZipcd newZipcd dongNo flrNo hoNo         lon  \\\n",
       "0        대구광역시 달성군 가창면 가창동로 6   711861    42938            1       128.644459   \n",
       "1             경기도 동두천시 못골로 30   483030    11320                    127.065903   \n",
       "2      경기도 김포시 고촌읍 장차로13번길 18   415811    10126            1       126.769859   \n",
       "3              강원도 원주시 금불3길 5   220938    26423            1       127.932025   \n",
       "4    충청북도 청주시 청원구 공항로138번길 53   363818    28328            1       127.487586   \n",
       "..                        ...      ...      ...    ...   ...  ...         ...   \n",
       "995     경상북도 구미시 해평면 강동로 1671   730873    39154            1       128.390989   \n",
       "996      강원도 홍천군 홍천읍 남산강변로 32   250930    25149            1       127.882012   \n",
       "997         인천광역시 남동구 풀무로 9-2   405230    21510            1       126.709187   \n",
       "998         인천광역시 중구 운중로 85-1   400811    22359            1       126.542880   \n",
       "999           경기도 구리시 이문안로 81   471030    11941    101     1       127.140380   \n",
       "\n",
       "           lat  \n",
       "0    35.782663  \n",
       "1    37.901262  \n",
       "2    37.603752  \n",
       "3    37.348358  \n",
       "4    36.669816  \n",
       "..         ...  \n",
       "995  36.199637  \n",
       "996  37.685865  \n",
       "997  37.469419  \n",
       "998  37.493596  \n",
       "999  37.592408  \n",
       "\n",
       "[1000 rows x 39 columns]"
      ]
     },
     "execution_count": 38,
     "metadata": {},
     "output_type": "execute_result"
    }
   ],
   "source": [
    "df = pd.json_normalize(data2[0]['body']['items'])\n",
    "df"
   ]
  },
  {
   "cell_type": "code",
   "execution_count": 39,
   "id": "1335f9cc",
   "metadata": {},
   "outputs": [],
   "source": [
    "result = pd.DataFrame()\n",
    "for item in data2:\n",
    "    temp = pd.DataFrame(item['body']['items'])\n",
    "    result = pd.concat([result, temp])"
   ]
  },
  {
   "cell_type": "code",
   "execution_count": 40,
   "id": "99278292",
   "metadata": {},
   "outputs": [
    {
     "data": {
      "text/html": [
       "<div>\n",
       "<style scoped>\n",
       "    .dataframe tbody tr th:only-of-type {\n",
       "        vertical-align: middle;\n",
       "    }\n",
       "\n",
       "    .dataframe tbody tr th {\n",
       "        vertical-align: top;\n",
       "    }\n",
       "\n",
       "    .dataframe thead th {\n",
       "        text-align: right;\n",
       "    }\n",
       "</style>\n",
       "<table border=\"1\" class=\"dataframe\">\n",
       "  <thead>\n",
       "    <tr style=\"text-align: right;\">\n",
       "      <th></th>\n",
       "      <th>bizesId</th>\n",
       "      <th>bizesNm</th>\n",
       "      <th>brchNm</th>\n",
       "      <th>indsLclsCd</th>\n",
       "      <th>indsLclsNm</th>\n",
       "      <th>indsMclsCd</th>\n",
       "      <th>indsMclsNm</th>\n",
       "      <th>indsSclsCd</th>\n",
       "      <th>indsSclsNm</th>\n",
       "      <th>ksicCd</th>\n",
       "      <th>...</th>\n",
       "      <th>bldMngNo</th>\n",
       "      <th>bldNm</th>\n",
       "      <th>rdnmAdr</th>\n",
       "      <th>oldZipcd</th>\n",
       "      <th>newZipcd</th>\n",
       "      <th>dongNo</th>\n",
       "      <th>flrNo</th>\n",
       "      <th>hoNo</th>\n",
       "      <th>lon</th>\n",
       "      <th>lat</th>\n",
       "    </tr>\n",
       "  </thead>\n",
       "  <tbody>\n",
       "    <tr>\n",
       "      <th>0</th>\n",
       "      <td>10027626</td>\n",
       "      <td>장모님치킨가창점</td>\n",
       "      <td>가창점</td>\n",
       "      <td>Q</td>\n",
       "      <td>음식</td>\n",
       "      <td>Q05</td>\n",
       "      <td>닭/오리요리</td>\n",
       "      <td>Q05A08</td>\n",
       "      <td>후라이드/양념치킨</td>\n",
       "      <td>I56193</td>\n",
       "      <td>...</td>\n",
       "      <td>2771031024101200004036858</td>\n",
       "      <td></td>\n",
       "      <td>대구광역시 달성군 가창면 가창동로 6</td>\n",
       "      <td>711861</td>\n",
       "      <td>42938</td>\n",
       "      <td></td>\n",
       "      <td>1</td>\n",
       "      <td></td>\n",
       "      <td>128.644459</td>\n",
       "      <td>35.782663</td>\n",
       "    </tr>\n",
       "    <tr>\n",
       "      <th>1</th>\n",
       "      <td>10098244</td>\n",
       "      <td>짱구피자치킨</td>\n",
       "      <td></td>\n",
       "      <td>Q</td>\n",
       "      <td>음식</td>\n",
       "      <td>Q05</td>\n",
       "      <td>닭/오리요리</td>\n",
       "      <td>Q05A08</td>\n",
       "      <td>후라이드/양념치킨</td>\n",
       "      <td>I56193</td>\n",
       "      <td>...</td>\n",
       "      <td>4125010300102680011008557</td>\n",
       "      <td></td>\n",
       "      <td>경기도 동두천시 못골로 30</td>\n",
       "      <td>483030</td>\n",
       "      <td>11320</td>\n",
       "      <td></td>\n",
       "      <td></td>\n",
       "      <td></td>\n",
       "      <td>127.065903</td>\n",
       "      <td>37.901262</td>\n",
       "    </tr>\n",
       "    <tr>\n",
       "      <th>2</th>\n",
       "      <td>10099459</td>\n",
       "      <td>쭈노치킨</td>\n",
       "      <td></td>\n",
       "      <td>Q</td>\n",
       "      <td>음식</td>\n",
       "      <td>Q05</td>\n",
       "      <td>닭/오리요리</td>\n",
       "      <td>Q05A08</td>\n",
       "      <td>후라이드/양념치킨</td>\n",
       "      <td>I56193</td>\n",
       "      <td>...</td>\n",
       "      <td>4157025324105380008019970</td>\n",
       "      <td></td>\n",
       "      <td>경기도 김포시 고촌읍 장차로13번길 18</td>\n",
       "      <td>415811</td>\n",
       "      <td>10126</td>\n",
       "      <td></td>\n",
       "      <td>1</td>\n",
       "      <td></td>\n",
       "      <td>126.769859</td>\n",
       "      <td>37.603752</td>\n",
       "    </tr>\n",
       "    <tr>\n",
       "      <th>3</th>\n",
       "      <td>10136167</td>\n",
       "      <td>치킨뱅이</td>\n",
       "      <td></td>\n",
       "      <td>Q</td>\n",
       "      <td>음식</td>\n",
       "      <td>Q05</td>\n",
       "      <td>닭/오리요리</td>\n",
       "      <td>Q05A08</td>\n",
       "      <td>후라이드/양념치킨</td>\n",
       "      <td>I56193</td>\n",
       "      <td>...</td>\n",
       "      <td>4213011000108300006022278</td>\n",
       "      <td></td>\n",
       "      <td>강원도 원주시 금불3길 5</td>\n",
       "      <td>220938</td>\n",
       "      <td>26423</td>\n",
       "      <td></td>\n",
       "      <td>1</td>\n",
       "      <td></td>\n",
       "      <td>127.932025</td>\n",
       "      <td>37.348358</td>\n",
       "    </tr>\n",
       "    <tr>\n",
       "      <th>4</th>\n",
       "      <td>10136346</td>\n",
       "      <td>치킨월드율량점</td>\n",
       "      <td>율량점</td>\n",
       "      <td>Q</td>\n",
       "      <td>음식</td>\n",
       "      <td>Q05</td>\n",
       "      <td>닭/오리요리</td>\n",
       "      <td>Q05A08</td>\n",
       "      <td>후라이드/양념치킨</td>\n",
       "      <td>I56193</td>\n",
       "      <td>...</td>\n",
       "      <td>4311111500108060000045239</td>\n",
       "      <td></td>\n",
       "      <td>충청북도 청주시 청원구 공항로138번길 53</td>\n",
       "      <td>363818</td>\n",
       "      <td>28328</td>\n",
       "      <td></td>\n",
       "      <td>1</td>\n",
       "      <td></td>\n",
       "      <td>127.487586</td>\n",
       "      <td>36.669816</td>\n",
       "    </tr>\n",
       "    <tr>\n",
       "      <th>...</th>\n",
       "      <td>...</td>\n",
       "      <td>...</td>\n",
       "      <td>...</td>\n",
       "      <td>...</td>\n",
       "      <td>...</td>\n",
       "      <td>...</td>\n",
       "      <td>...</td>\n",
       "      <td>...</td>\n",
       "      <td>...</td>\n",
       "      <td>...</td>\n",
       "      <td>...</td>\n",
       "      <td>...</td>\n",
       "      <td>...</td>\n",
       "      <td>...</td>\n",
       "      <td>...</td>\n",
       "      <td>...</td>\n",
       "      <td>...</td>\n",
       "      <td>...</td>\n",
       "      <td>...</td>\n",
       "      <td>...</td>\n",
       "      <td>...</td>\n",
       "    </tr>\n",
       "    <tr>\n",
       "      <th>59</th>\n",
       "      <td>9829515</td>\n",
       "      <td>아리치킨</td>\n",
       "      <td></td>\n",
       "      <td>Q</td>\n",
       "      <td>음식</td>\n",
       "      <td>Q05</td>\n",
       "      <td>닭/오리요리</td>\n",
       "      <td>Q05A08</td>\n",
       "      <td>후라이드/양념치킨</td>\n",
       "      <td>I56193</td>\n",
       "      <td>...</td>\n",
       "      <td>4125010200106740003008662</td>\n",
       "      <td></td>\n",
       "      <td>경기도 동두천시 거북마루로 6</td>\n",
       "      <td>483020</td>\n",
       "      <td>11348</td>\n",
       "      <td></td>\n",
       "      <td>1</td>\n",
       "      <td></td>\n",
       "      <td>127.046713</td>\n",
       "      <td>37.895702</td>\n",
       "    </tr>\n",
       "    <tr>\n",
       "      <th>60</th>\n",
       "      <td>9851302</td>\n",
       "      <td>애니치킨</td>\n",
       "      <td></td>\n",
       "      <td>Q</td>\n",
       "      <td>음식</td>\n",
       "      <td>Q05</td>\n",
       "      <td>닭/오리요리</td>\n",
       "      <td>Q05A08</td>\n",
       "      <td>후라이드/양념치킨</td>\n",
       "      <td>I56193</td>\n",
       "      <td>...</td>\n",
       "      <td>4785031036104090002008916</td>\n",
       "      <td></td>\n",
       "      <td>경상북도 칠곡군 지천면 신동로 147</td>\n",
       "      <td>718821</td>\n",
       "      <td>39864</td>\n",
       "      <td></td>\n",
       "      <td></td>\n",
       "      <td></td>\n",
       "      <td>128.488717</td>\n",
       "      <td>35.956631</td>\n",
       "    </tr>\n",
       "    <tr>\n",
       "      <th>61</th>\n",
       "      <td>9867543</td>\n",
       "      <td>에디슨치킨</td>\n",
       "      <td></td>\n",
       "      <td>Q</td>\n",
       "      <td>음식</td>\n",
       "      <td>Q05</td>\n",
       "      <td>닭/오리요리</td>\n",
       "      <td>Q05A08</td>\n",
       "      <td>후라이드/양념치킨</td>\n",
       "      <td>I56193</td>\n",
       "      <td>...</td>\n",
       "      <td>1135010600103590001010681</td>\n",
       "      <td>중계5단지주공아파트</td>\n",
       "      <td>서울특별시 노원구 중계로 230</td>\n",
       "      <td>139781</td>\n",
       "      <td>01713</td>\n",
       "      <td></td>\n",
       "      <td>1</td>\n",
       "      <td></td>\n",
       "      <td>127.075031</td>\n",
       "      <td>37.651004</td>\n",
       "    </tr>\n",
       "    <tr>\n",
       "      <th>62</th>\n",
       "      <td>9918905</td>\n",
       "      <td>오븐에꾸운닭장유점</td>\n",
       "      <td>장유점</td>\n",
       "      <td>Q</td>\n",
       "      <td>음식</td>\n",
       "      <td>Q05</td>\n",
       "      <td>닭/오리요리</td>\n",
       "      <td>Q05A08</td>\n",
       "      <td>후라이드/양념치킨</td>\n",
       "      <td>I56193</td>\n",
       "      <td>...</td>\n",
       "      <td>4825031027103150002091993</td>\n",
       "      <td>재영프라자</td>\n",
       "      <td>경상남도 김해시 삼문로 26</td>\n",
       "      <td>621280</td>\n",
       "      <td>51004</td>\n",
       "      <td></td>\n",
       "      <td>1</td>\n",
       "      <td></td>\n",
       "      <td>128.803565</td>\n",
       "      <td>35.192491</td>\n",
       "    </tr>\n",
       "    <tr>\n",
       "      <th>63</th>\n",
       "      <td>9967953</td>\n",
       "      <td>웰빙치킨</td>\n",
       "      <td></td>\n",
       "      <td>Q</td>\n",
       "      <td>음식</td>\n",
       "      <td>Q05</td>\n",
       "      <td>닭/오리요리</td>\n",
       "      <td>Q05A08</td>\n",
       "      <td>후라이드/양념치킨</td>\n",
       "      <td>I56193</td>\n",
       "      <td>...</td>\n",
       "      <td>4213011100101360002016167</td>\n",
       "      <td></td>\n",
       "      <td>강원도 원주시 상지대길 43</td>\n",
       "      <td>220954</td>\n",
       "      <td>26342</td>\n",
       "      <td></td>\n",
       "      <td>1</td>\n",
       "      <td></td>\n",
       "      <td>127.937290</td>\n",
       "      <td>37.369591</td>\n",
       "    </tr>\n",
       "  </tbody>\n",
       "</table>\n",
       "<p>36064 rows × 39 columns</p>\n",
       "</div>"
      ],
      "text/plain": [
       "     bizesId    bizesNm brchNm indsLclsCd indsLclsNm indsMclsCd indsMclsNm  \\\n",
       "0   10027626   장모님치킨가창점    가창점          Q         음식        Q05     닭/오리요리   \n",
       "1   10098244     짱구피자치킨                 Q         음식        Q05     닭/오리요리   \n",
       "2   10099459       쭈노치킨                 Q         음식        Q05     닭/오리요리   \n",
       "3   10136167       치킨뱅이                 Q         음식        Q05     닭/오리요리   \n",
       "4   10136346    치킨월드율량점    율량점          Q         음식        Q05     닭/오리요리   \n",
       "..       ...        ...    ...        ...        ...        ...        ...   \n",
       "59   9829515       아리치킨                 Q         음식        Q05     닭/오리요리   \n",
       "60   9851302       애니치킨                 Q         음식        Q05     닭/오리요리   \n",
       "61   9867543      에디슨치킨                 Q         음식        Q05     닭/오리요리   \n",
       "62   9918905  오븐에꾸운닭장유점    장유점          Q         음식        Q05     닭/오리요리   \n",
       "63   9967953       웰빙치킨                 Q         음식        Q05     닭/오리요리   \n",
       "\n",
       "   indsSclsCd indsSclsNm  ksicCd  ...                   bldMngNo       bldNm  \\\n",
       "0      Q05A08  후라이드/양념치킨  I56193  ...  2771031024101200004036858               \n",
       "1      Q05A08  후라이드/양념치킨  I56193  ...  4125010300102680011008557               \n",
       "2      Q05A08  후라이드/양념치킨  I56193  ...  4157025324105380008019970               \n",
       "3      Q05A08  후라이드/양념치킨  I56193  ...  4213011000108300006022278               \n",
       "4      Q05A08  후라이드/양념치킨  I56193  ...  4311111500108060000045239               \n",
       "..        ...        ...     ...  ...                        ...         ...   \n",
       "59     Q05A08  후라이드/양념치킨  I56193  ...  4125010200106740003008662               \n",
       "60     Q05A08  후라이드/양념치킨  I56193  ...  4785031036104090002008916               \n",
       "61     Q05A08  후라이드/양념치킨  I56193  ...  1135010600103590001010681  중계5단지주공아파트   \n",
       "62     Q05A08  후라이드/양념치킨  I56193  ...  4825031027103150002091993       재영프라자   \n",
       "63     Q05A08  후라이드/양념치킨  I56193  ...  4213011100101360002016167               \n",
       "\n",
       "                     rdnmAdr oldZipcd newZipcd dongNo flrNo hoNo         lon  \\\n",
       "0       대구광역시 달성군 가창면 가창동로 6   711861    42938            1       128.644459   \n",
       "1            경기도 동두천시 못골로 30   483030    11320                    127.065903   \n",
       "2     경기도 김포시 고촌읍 장차로13번길 18   415811    10126            1       126.769859   \n",
       "3             강원도 원주시 금불3길 5   220938    26423            1       127.932025   \n",
       "4   충청북도 청주시 청원구 공항로138번길 53   363818    28328            1       127.487586   \n",
       "..                       ...      ...      ...    ...   ...  ...         ...   \n",
       "59          경기도 동두천시 거북마루로 6   483020    11348            1       127.046713   \n",
       "60      경상북도 칠곡군 지천면 신동로 147   718821    39864                    128.488717   \n",
       "61         서울특별시 노원구 중계로 230   139781    01713            1       127.075031   \n",
       "62           경상남도 김해시 삼문로 26   621280    51004            1       128.803565   \n",
       "63           강원도 원주시 상지대길 43   220954    26342            1       127.937290   \n",
       "\n",
       "          lat  \n",
       "0   35.782663  \n",
       "1   37.901262  \n",
       "2   37.603752  \n",
       "3   37.348358  \n",
       "4   36.669816  \n",
       "..        ...  \n",
       "59  37.895702  \n",
       "60  35.956631  \n",
       "61  37.651004  \n",
       "62  35.192491  \n",
       "63  37.369591  \n",
       "\n",
       "[36064 rows x 39 columns]"
      ]
     },
     "execution_count": 40,
     "metadata": {},
     "output_type": "execute_result"
    }
   ],
   "source": [
    "result"
   ]
  },
  {
   "cell_type": "code",
   "execution_count": 41,
   "id": "a8347511",
   "metadata": {},
   "outputs": [],
   "source": [
    "result.to_csv('전국치킨집리스트02.csv', encoding='utf-8')"
   ]
  }
 ],
 "metadata": {
  "kernelspec": {
   "display_name": "testenv",
   "language": "python",
   "name": "testenv"
  },
  "language_info": {
   "codemirror_mode": {
    "name": "ipython",
    "version": 3
   },
   "file_extension": ".py",
   "mimetype": "text/x-python",
   "name": "python",
   "nbconvert_exporter": "python",
   "pygments_lexer": "ipython3",
   "version": "3.8.17"
  }
 },
 "nbformat": 4,
 "nbformat_minor": 5
}
