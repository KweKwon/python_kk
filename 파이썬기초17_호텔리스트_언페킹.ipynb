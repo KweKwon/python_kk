{
 "cells": [
  {
   "cell_type": "code",
   "execution_count": 24,
   "id": "2324bcc0",
   "metadata": {},
   "outputs": [],
   "source": [
    "import json"
   ]
  },
  {
   "cell_type": "code",
   "execution_count": 25,
   "id": "feb96617",
   "metadata": {},
   "outputs": [],
   "source": [
    "import pandas as pd"
   ]
  },
  {
   "cell_type": "code",
   "execution_count": 26,
   "id": "1d2a79d8",
   "metadata": {},
   "outputs": [],
   "source": [
    "with open('C:/Bigdata/data/hotels_korea_경기_20210204.json','r')as file:\n",
    "   data = file.read()"
   ]
  },
  {
   "cell_type": "code",
   "execution_count": 27,
   "id": "8e88d777",
   "metadata": {},
   "outputs": [],
   "source": [
    "data = json.loads(data)"
   ]
  },
  {
   "cell_type": "code",
   "execution_count": 28,
   "id": "687076ad",
   "metadata": {},
   "outputs": [
    {
     "data": {
      "text/plain": [
       "234"
      ]
     },
     "execution_count": 28,
     "metadata": {},
     "output_type": "execute_result"
    }
   ],
   "source": [
    "len(data)"
   ]
  },
  {
   "cell_type": "code",
   "execution_count": 29,
   "id": "08513e61",
   "metadata": {},
   "outputs": [
    {
     "data": {
      "text/plain": [
       "range(0, 234)"
      ]
     },
     "execution_count": 29,
     "metadata": {},
     "output_type": "execute_result"
    }
   ],
   "source": [
    "range(len(data))"
   ]
  },
  {
   "cell_type": "markdown",
   "id": "a8893610",
   "metadata": {},
   "source": [
    "['호텔ID','호텔이름','평점','후기갯수','할인가격','원래가격','지역','주소','위도','경도']"
   ]
  },
  {
   "cell_type": "code",
   "execution_count": 49,
   "id": "32e7b844",
   "metadata": {
    "scrolled": false
   },
   "outputs": [
    {
     "ename": "KeyError",
     "evalue": "'body'",
     "output_type": "error",
     "traceback": [
      "\u001b[1;31m---------------------------------------------------------------------------\u001b[0m",
      "\u001b[1;31mKeyError\u001b[0m                                  Traceback (most recent call last)",
      "Cell \u001b[1;32mIn[49], line 1\u001b[0m\n\u001b[1;32m----> 1\u001b[0m \u001b[43mdata\u001b[49m\u001b[43m[\u001b[49m\u001b[38;5;241;43m0\u001b[39;49m\u001b[43m]\u001b[49m\u001b[43m[\u001b[49m\u001b[38;5;124;43m'\u001b[39;49m\u001b[38;5;124;43mbody\u001b[39;49m\u001b[38;5;124;43m'\u001b[39;49m\u001b[43m]\u001b[49m[\u001b[38;5;124m'\u001b[39m\u001b[38;5;124msearchResults\u001b[39m\u001b[38;5;124m'\u001b[39m][\u001b[38;5;124m'\u001b[39m\u001b[38;5;124mresults\u001b[39m\u001b[38;5;124m'\u001b[39m][\u001b[38;5;241m0\u001b[39m] \u001b[38;5;66;03m# 호텔 1곳의 정보\u001b[39;00m\n\u001b[0;32m      2\u001b[0m data[\u001b[38;5;241m0\u001b[39m][\u001b[38;5;124m'\u001b[39m\u001b[38;5;124mbody\u001b[39m\u001b[38;5;124m'\u001b[39m][\u001b[38;5;124m'\u001b[39m\u001b[38;5;124msearchResults\u001b[39m\u001b[38;5;124m'\u001b[39m][\u001b[38;5;124m'\u001b[39m\u001b[38;5;124mresults\u001b[39m\u001b[38;5;124m'\u001b[39m][\u001b[38;5;241m0\u001b[39m][\u001b[38;5;124m'\u001b[39m\u001b[38;5;124mid\u001b[39m\u001b[38;5;124m'\u001b[39m] \u001b[38;5;66;03m# 호텔 id\u001b[39;00m\n\u001b[0;32m      3\u001b[0m data[\u001b[38;5;241m0\u001b[39m][\u001b[38;5;124m'\u001b[39m\u001b[38;5;124mbody\u001b[39m\u001b[38;5;124m'\u001b[39m][\u001b[38;5;124m'\u001b[39m\u001b[38;5;124msearchResults\u001b[39m\u001b[38;5;124m'\u001b[39m][\u001b[38;5;124m'\u001b[39m\u001b[38;5;124mresults\u001b[39m\u001b[38;5;124m'\u001b[39m][\u001b[38;5;241m0\u001b[39m][\u001b[38;5;124m'\u001b[39m\u001b[38;5;124mname\u001b[39m\u001b[38;5;124m'\u001b[39m] \u001b[38;5;66;03m# 호텔이름\u001b[39;00m\n",
      "\u001b[1;31mKeyError\u001b[0m: 'body'"
     ]
    }
   ],
   "source": [
    "data[0]['body']['searchResults']['results'][0] # 호텔 1곳의 정보\n",
    "data[0]['body']['searchResults']['results'][0]['id'] # 호텔 id\n",
    "data[0]['body']['searchResults']['results'][0]['name'] # 호텔이름\n",
    "data[0]['body']['searchResults']['results'][0]['starRating'] # 호텔 등급 \n",
    "data[0]['body']['searchResults']['results'][0]['guestReviews']['rating'] # 호텔 별점\n",
    "data[0]['body']['searchResults']['results'][0]['guestReviews']['total'] # 리뷰 갯수\n",
    "data[0]['body']['searchResults']['results'][0]['ratePlan']['price']['current'] # 할인가\n",
    "data[0]['body']['searchResults']['results'][0]['ratePlan']['price']['old'] # 원래가격\n",
    "data[0]['body']['searchResults']['results'][0]['address']['locality'] # 호텔지역\n",
    "data[0]['body']['searchResults']['results'][0]['coordinate']['lat'] # 위도\n",
    "data[0]['body']['searchResults']['results'][0]['coordinate']['lon'] # 경도"
   ]
  },
  {
   "cell_type": "code",
   "execution_count": 34,
   "id": "08351f84",
   "metadata": {},
   "outputs": [
    {
     "data": {
      "text/plain": [
       "'삼성 베드스테이션 (Samsung Bed Station)'"
      ]
     },
     "execution_count": 34,
     "metadata": {},
     "output_type": "execute_result"
    }
   ],
   "source": [
    "data[200]['data']['body']['searchResults']['results'][3]['name'] # 호텔 1곳의 정보"
   ]
  },
  {
   "cell_type": "code",
   "execution_count": null,
   "id": "3434e47f",
   "metadata": {},
   "outputs": [],
   "source": [
    "hotel_info = []\n",
    "for hotels in data:\n",
    "    for hotel in hotels['data']['body']['searchResults']['results']:\n",
    "        hid = hotel.get('id', 0) # 호텔 id  \n",
    "        name = hotel.get('name','unknown') # 호텔이름\n",
    "        starRating = hotel.get('starRating', 0) # 호텔 등급 \n",
    "        \n",
    "        if 'guestReviews' in hotel:\n",
    "            review_rating = hotel['guestReviews'].get('rating',0) # 호텔 별점\n",
    "            review_total = hotel['guestReviews'].get('total',0) # 리뷰 갯수\n",
    "        else:\n",
    "            review_rating = 0\n",
    "            review_total = 0\n",
    "            \n",
    "        current_price = hotel['ratePlan']['price'].get('current',0) if 'ratePlan' in hotel else 0 # 할인가\n",
    "        \n",
    "        try:\n",
    "            old_price = hotel['ratePlan']['price'].get('old',0) # 원래가격\n",
    "        except Exception as e:\n",
    "            print(e)\n",
    "        finally:\n",
    "            old_price = 0\n",
    "            \n",
    "        locality = hotel['address'].get('locality','unknown') # 호텔지역\n",
    "        lat = hotel['coordinate'].get('lat',0) # 위도\n",
    "        lon = hotel['coordinate'].get('lon',0) # 경도\n",
    "        hotel_info.append([hid,name,starRating,review_rating,review_total,current_price,\\\n",
    "             old_price,locality,lat,lon])"
   ]
  },
  {
   "cell_type": "markdown",
   "id": "5d0ce989",
   "metadata": {},
   "source": [
    "### 예외처리의 3가지 방법\n",
    "\n",
    "        ### 1. if문\n",
    "        \n",
    "        if 'guestReviews' in hotel:\n",
    "            review_rating = hotel['guestReviews'].get('rating',0) # 호텔 별점\n",
    "            review_total = hotel['guestReviews'].get('total',0) # 리뷰 갯수\n",
    "        else:\n",
    "            review_rating = 0\n",
    "            review_total = 0\n",
    "            \n",
    "        ### 2. if 문2   \n",
    "        \n",
    "        current_price = hotel['ratePlan']['price'].get('current',0) if 'ratePlan' in hotel else 0 # 할인가\n",
    "        \n",
    "       ### 3. try 방법\n",
    "        \n",
    "        try:\n",
    "            old_price = hotel['ratePlan']['price'].get('old',0) # 원래가격\n",
    "        except Exception as e:\n",
    "            print(e)\n",
    "        finally:\n",
    "            old_price = 0"
   ]
  },
  {
   "cell_type": "code",
   "execution_count": 59,
   "id": "0ec960be",
   "metadata": {},
   "outputs": [],
   "source": [
    "colnames = ['호텔id','호텔이름','호텔등급','호텔 별점',' 리뷰갯수','할인가','원래가격','호텔지역','호텔주소','위도','경도']"
   ]
  },
  {
   "cell_type": "code",
   "execution_count": 61,
   "id": "e7512b3f",
   "metadata": {},
   "outputs": [
    {
     "data": {
      "text/plain": [
       "['호텔id',\n",
       " '호텔이름',\n",
       " '호텔등급',\n",
       " '호텔 별점',\n",
       " ' 리뷰갯수',\n",
       " '할인가',\n",
       " '원래가격',\n",
       " '호텔지역',\n",
       " '호텔주소',\n",
       " '위도',\n",
       " '경도']"
      ]
     },
     "execution_count": 61,
     "metadata": {},
     "output_type": "execute_result"
    }
   ],
   "source": [
    "colnames"
   ]
  },
  {
   "cell_type": "code",
   "execution_count": 62,
   "id": "233c2ced",
   "metadata": {},
   "outputs": [],
   "source": [
    "hotel_info.insert(0, colnames)"
   ]
  },
  {
   "cell_type": "code",
   "execution_count": 63,
   "id": "814e7296",
   "metadata": {},
   "outputs": [],
   "source": [
    "import csv"
   ]
  },
  {
   "cell_type": "code",
   "execution_count": 64,
   "id": "611fc26e",
   "metadata": {},
   "outputs": [],
   "source": [
    "with open('경기도호텔정보.csv','w', newline=\"\", encoding='utf-8') as file:\n",
    "    writer = csv.writer(file)\n",
    "    writer.writerows(hotel_info)"
   ]
  }
 ],
 "metadata": {
  "kernelspec": {
   "display_name": "testenv",
   "language": "python",
   "name": "testenv"
  },
  "language_info": {
   "codemirror_mode": {
    "name": "ipython",
    "version": 3
   },
   "file_extension": ".py",
   "mimetype": "text/x-python",
   "name": "python",
   "nbconvert_exporter": "python",
   "pygments_lexer": "ipython3",
   "version": "3.8.17"
  }
 },
 "nbformat": 4,
 "nbformat_minor": 5
}
