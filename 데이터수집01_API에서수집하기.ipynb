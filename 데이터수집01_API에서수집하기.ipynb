{
 "cells": [
  {
   "cell_type": "code",
   "execution_count": 9,
   "id": "b81d8a68",
   "metadata": {},
   "outputs": [],
   "source": [
    "import os\n",
    "import sys\n",
    "import urllib.request\n",
    "import json\n",
    "import csv"
   ]
  },
  {
   "cell_type": "code",
   "execution_count": 10,
   "id": "65df0840",
   "metadata": {
    "scrolled": true
   },
   "outputs": [
    {
     "name": "stdout",
     "output_type": "stream",
     "text": [
      "https://openapi.naver.com/v1/search/book.json?query=%ED%8C%8C%EC%9D%B4%EC%8D%AC&display=100&start=1&sort=sim\n",
      "https://openapi.naver.com/v1/search/book.json?query=%ED%8C%8C%EC%9D%B4%EC%8D%AC&display=100&start=101&sort=sim\n",
      "https://openapi.naver.com/v1/search/book.json?query=%ED%8C%8C%EC%9D%B4%EC%8D%AC&display=100&start=201&sort=sim\n",
      "https://openapi.naver.com/v1/search/book.json?query=%ED%8C%8C%EC%9D%B4%EC%8D%AC&display=100&start=301&sort=sim\n",
      "https://openapi.naver.com/v1/search/book.json?query=%ED%8C%8C%EC%9D%B4%EC%8D%AC&display=100&start=401&sort=sim\n",
      "https://openapi.naver.com/v1/search/book.json?query=%ED%8C%8C%EC%9D%B4%EC%8D%AC&display=100&start=501&sort=sim\n",
      "https://openapi.naver.com/v1/search/book.json?query=%ED%8C%8C%EC%9D%B4%EC%8D%AC&display=100&start=601&sort=sim\n",
      "https://openapi.naver.com/v1/search/book.json?query=%ED%8C%8C%EC%9D%B4%EC%8D%AC&display=100&start=701&sort=sim\n",
      "https://openapi.naver.com/v1/search/book.json?query=%ED%8C%8C%EC%9D%B4%EC%8D%AC&display=100&start=801&sort=sim\n",
      "https://openapi.naver.com/v1/search/book.json?query=%ED%8C%8C%EC%9D%B4%EC%8D%AC&display=100&start=901&sort=sim\n"
     ]
    }
   ],
   "source": [
    "page = 1\n",
    "start_num = 1\n",
    "n_item = 100\n",
    "books_list = []\n",
    "while True:\n",
    "    client_id = \"sWoWAn3J4qjs0342VRuc\"\n",
    "    client_secret = \"mkTiLjTO8l\"\n",
    "    encText = urllib.parse.quote(\"파이썬\")\n",
    "    url = \"https://openapi.naver.com/v1/search/book.json?query=\" + encText # JSON 결과\n",
    "    url += f\"&display={n_item}&start={start_num}&sort=sim\" # 1페이지에 출력할 결과 수(n_item), 결과 시작 번호(page)\n",
    "    print(url)\n",
    "    # url = \"https://openapi.naver.com/v1/search/blog.xml?query=\" + encText # XML 결과\n",
    "    request = urllib.request.Request(url)\n",
    "    request.add_header(\"X-Naver-Client-Id\",client_id)\n",
    "    request.add_header(\"X-Naver-Client-Secret\",client_secret)\n",
    "    response = urllib.request.urlopen(request) # url,id,pw 를 종합해서 서버에 결과 요청\n",
    "    rescode = response.getcode() # 서버 응답 코드\n",
    "    if(rescode==200):\n",
    "        response_body = response.read()\n",
    "#         print(response_body.decode('utf-8'))\n",
    "    else:\n",
    "        print(\"Error Code:\" + rescode)\n",
    "    data = response_body.decode('utf-8')\n",
    "    data = json.loads(data)\n",
    "    total_page = data['total'] // n_item + 1\n",
    "    books_list.append(data)\n",
    "   \n",
    "    if page == total_page:\n",
    "        break\n",
    "        \n",
    "    page += 1\n",
    "    start_num += 100"
   ]
  },
  {
   "cell_type": "code",
   "execution_count": 11,
   "id": "bdce411f",
   "metadata": {},
   "outputs": [
    {
     "data": {
      "text/plain": [
       "dict_keys(['lastBuildDate', 'total', 'start', 'display', 'items'])"
      ]
     },
     "execution_count": 11,
     "metadata": {},
     "output_type": "execute_result"
    }
   ],
   "source": [
    "books_list[0].keys()"
   ]
  },
  {
   "cell_type": "code",
   "execution_count": 12,
   "id": "376eed8b",
   "metadata": {},
   "outputs": [],
   "source": [
    "books = []\n",
    "for i in books_list:\n",
    "    for j in i['items']:\n",
    "        books.append(j.values())"
   ]
  },
  {
   "cell_type": "code",
   "execution_count": 13,
   "id": "e3a4bea9",
   "metadata": {},
   "outputs": [
    {
     "data": {
      "text/plain": [
       "924"
      ]
     },
     "execution_count": 13,
     "metadata": {},
     "output_type": "execute_result"
    }
   ],
   "source": [
    "len(books)"
   ]
  },
  {
   "cell_type": "code",
   "execution_count": 14,
   "id": "742fe361",
   "metadata": {
    "scrolled": true
   },
   "outputs": [],
   "source": [
    "col_nums = books_list[0].keys()"
   ]
  },
  {
   "cell_type": "code",
   "execution_count": 15,
   "id": "b8d17b0f",
   "metadata": {},
   "outputs": [],
   "source": [
    "total_page = data['total'] // 100 + 1"
   ]
  },
  {
   "cell_type": "code",
   "execution_count": 16,
   "id": "e295a81c",
   "metadata": {},
   "outputs": [
    {
     "data": {
      "text/plain": [
       "dict_keys(['lastBuildDate', 'total', 'start', 'display', 'items'])"
      ]
     },
     "execution_count": 16,
     "metadata": {},
     "output_type": "execute_result"
    }
   ],
   "source": [
    "data.keys()"
   ]
  },
  {
   "cell_type": "code",
   "execution_count": 17,
   "id": "bb3242ff",
   "metadata": {},
   "outputs": [
    {
     "data": {
      "text/plain": [
       "24"
      ]
     },
     "execution_count": 17,
     "metadata": {},
     "output_type": "execute_result"
    }
   ],
   "source": [
    "len(data['items'])"
   ]
  },
  {
   "cell_type": "code",
   "execution_count": 18,
   "id": "40aa83a3",
   "metadata": {},
   "outputs": [
    {
     "name": "stdout",
     "output_type": "stream",
     "text": [
      "dict_keys(['title', 'link', 'image', 'author', 'discount', 'publisher', 'pubdate', 'isbn', 'description']) dict_values(['우아한 사이파이 (수학, 과학, 엔지니어링을 위한 파이썬 데이터 분석 라이브러리 SciPy)', 'https://search.shopping.naver.com/book/catalog/32483345081', 'https://shopping-phinf.pstatic.net/main_3248334/32483345081.20221230074708.jpg', '후안 누네즈-이글레시아스^해리엇 대시나우', '25200', '한빛미디어', '20180601', '9791162240748', '사이파이를 활용해서 수치 계산과 데이터 분석 및 예측하기\\n\\n사이파이는 통계, 신호 처리, 이미지 처리 및 함수 최적화에 사용되는 파이썬 데이터 과학 핵심 라이브러리다. 이 책은 파이썬을 사용하는 과학자를 대상으로 사이파이의 기본 사용법과 관련 라이브러리를 다룰 뿐만 아니라 실제 현업에서 사용하는 읽기 쉬운 우아한 코드를 제공한다. 유전자 발현 분석, 생존율·사망률 예측, 이미지 분석·필터링·등록, 실전 레이더 전파 데이터 분석·정보 변형, 스트리밍 데이터셋 처리 문제를 사이파이, 넘파이, 팬더스, 사이킷-이미지 등으로 해결한다. \\n\\n이 책의 주목표는 독자가 넘파이와 사이파이 라이브러리를 효율적으로 다루는 것이다. 사이파이 라이브러리를 사용하여 효율적으로 과학적 문제를 분석하면서, 우아한 코드를 작성하는 노력이 가치 있다는 느낌이 들길 바란다.'])\n",
      "\n",
      "dict_keys(['title', 'link', 'image', 'author', 'discount', 'publisher', 'pubdate', 'isbn', 'description']) dict_values(['딥러닝을 위한 최적화와 수치해석 (기본 수식과 파이썬으로 가장 핵심적인 최적화 문제를 다루는 딥러닝 학습!)', 'https://search.shopping.naver.com/book/catalog/32439734987', 'https://shopping-phinf.pstatic.net/main_3243973/32439734987.20220527084835.jpg', '황윤구^양한별', '28800', '남가람북스', '20200203', '9791189184032', '이 책은 텐서플로(Tensorflow)를 사용하여 다양한 딥러닝 모델들을 학습하는 방법과 최적화 이론을 다룹니다. 딥러닝에 관련된 많은 수학 이론들이 있지만, 가장 핵심적인 최적화 문제를 중심으로 딥러닝을 학습합니다. 현재까지 출판된 딥러닝 관련 도서와 강의들은 최적화 이론에 대해서 다루지 않거나 아주 간단하게 다룹니다. 하지만 최적화 이론을 이해하기에는 턱없이 부족한 양입니다. 이 책에서는 가장 먼저 최적화 이론을 소개하고, 최적화 문제는 텐서플로를 사용하여 풉니다. 이러한 방식은 딥러닝 모델을 텐서플로를 사용하여 학습시키는 경우에도 변하지 않습니다. 사실 텐서플로 외에도 파이토치(PyTorch), 케라스(Keras) 등 많은 딥러닝 패키지들이 있습니다. 이들 모두는 최적화 문제를 푸는 것이 최종 목표입니다.'])\n",
      "\n",
      "dict_keys(['title', 'link', 'image', 'author', 'discount', 'publisher', 'pubdate', 'isbn', 'description']) dict_values(['데이터 과학을 위한 통계 : 데이터 분석에서 머신러닝까지 파이썬과 R로 살펴보는 50가지 핵심 개념 (데이터 분석에서 머신러닝까지 파이썬과 R로 살펴보는 50가지 핵심 개념)', 'https://search.shopping.naver.com/book/catalog/32478476251', 'https://shopping-phinf.pstatic.net/main_3247847/32478476251.20221227203030.jpg', '피터 브루스^앤드루 브루스^피터 게데크', '30600', '한빛미디어', '20210507', '9791162244180', '파이썬과 R로 필요한 만큼만 배우는 실용주의 통계학\\n\\n통계 기법은 데이터 과학의 핵심이지만, 데이터 과학자가 고전 통계를 낱낱이 알아야 하는 것은 아니다. 이 책은 데이터 과학의 관점에서 통계 핵심 개념과 기법을 필요한 것만 골라 소개한다. 50가지 개념을 차근차근 정리하고 코드를 실행해보면, 필수 통계 지식을 빠르게 흡수할 수 있다. 2판에는 기존 R 코드와 호응하는 파이썬 코드를 새롭게 추가했다. 『데이터 과학을 위한 통계』로 필요한 이론을 적재적소에 잘 활용하는 실력 있는 데이터 과학자로 거듭나길 바란다.'])\n",
      "\n",
      "dict_keys(['title', 'link', 'image', 'author', 'discount', 'publisher', 'pubdate', 'isbn', 'description']) dict_values(['실무 예제로 배우는 데이터 공학 (파이썬과 오픈소스 프로젝트로 만드는 나만의 데이터 공학 환경과 파이프라인)', 'https://search.shopping.naver.com/book/catalog/32441643835', 'https://shopping-phinf.pstatic.net/main_3244164/32441643835.20221228072714.jpg', '폴 크리커드', '24300', '제이펍', '20210720', '9791191600148', '실시간 데이터 파이프라인을 구축, 모니터링 및 관리하고,\\nApache 프로젝트를 사용하여 효율적인 데이터 엔지니어링 인프라를 생성한다!\\n\\n이 책을 다 읽고 나면 파이썬과 오픈소스 프로젝트들을 이용한 데이터 공학이 어떤 것인지 확실하게 이해하게 될 것이며, 데이터를 추출하고, 그 품질을 점검하고, 용도에 맞게 적절히 변환하는 데이터 파이프라인을 구축해 낼 수 있는 자신감이 생길 것이다.'])\n",
      "\n",
      "dict_keys(['title', 'link', 'image', 'author', 'discount', 'publisher', 'pubdate', 'isbn', 'description']) dict_values(['케라스 창시자에게 배우는 딥러닝 Deep Learning with Python (파이썬과 케라스(keras)로 배우는 딥러닝 핵심 원리!)', 'https://search.shopping.naver.com/book/catalog/32465155837', 'https://shopping-phinf.pstatic.net/main_3246515/32465155837.20220527031912.jpg', '프랑소와 숄레', '0', '길벗', '20181022', '9791160505979', '창시자의 철학까지 담은 딥러닝 입문서.케라스 창시자이자 구글 딥러닝 연구원인 저자는 ‘인공 지능의 민주화’를 강조한다. 이 책 역시 많은 사람에게 딥러닝을 전달하는 또 다른 방법이며, 딥러닝 이면의 개념과 구현을 가능하면 쉽게 이해할 수 있게 하는 데 중점을 두었다.\\n\\n \\n\\n1부에서는 딥러닝, 신경망, 머신 러닝의 기초를, 2부에서는 컴퓨터 비전, 텍스트, 시퀀스, 생성 모델을 위한 딥러닝 같은 실전 딥러닝을 설명한다. 이외에도 딥러닝을 언제 적용하는지, 한계는 무엇인지, 저자가 생각하는 딥러닝의 방향과 비전까지 엿볼 수 있다. \\n\\n\\n\\n또한, 실제 사용하는 확장 가능한 다양한 예제를 수록했으며, 수학 장벽을 없애고자 수학적 표기 없이 직관적이고 간결한 코드로 개념을 설명한다. 딥러닝을 처음부터 배우거나 이해의 폭을 넓히고자 하는 분들에게 추천한다.'])\n",
      "\n",
      "dict_keys(['title', 'link', 'image', 'author', 'discount', 'publisher', 'pubdate', 'isbn', 'description']) dict_values(['머신러닝 딥러닝을 이용한 A.I. 자율주행 RC카 프로젝트 with 파이썬+아두이노 (만들기, 동키카 체험, 아두이노 RC카 체험과 코딩, 인공지능 학습, 자율주행)', 'https://search.shopping.naver.com/book/catalog/32466576635', 'https://shopping-phinf.pstatic.net/main_3246657/32466576635.20230704085409.jpg', '서민우', '16200', '앤써북', '20220520', '9791185553979', '〈머신러닝 딥러닝을 이용한 A.I. 자율주행 RC카 프로젝트 with 파이썬+아두이노〉는 머신러닝 동키카로 체험하고 ESP32 아두이노 자율주행 자동차로 코딩하며 인공지능을 배울 수 있는 책입니다. \\n책은 크게 인공지능 자율주행 자동차 체험하기와 인공지능 자율주행 자동차 코딩하기로 구성되어 있습니다. \\n\\nChapter 01에서는 자율주행 자동차에 대해 알아보고 딥러닝 기반의 인공지능 자율주행 RC카인 동키카를 시뮬레이터를 통해 체험해 봅니다. 이 과정에서 인공지능 학습의 전체적인 흐름을 이해해 봅니다. 간단히 강화학습도 체험해 봅니다.\\n\\nChapter 02에서는 인공지능 자율주행 RC카 개발 환경을 구성하고 직접 제작한 RC카를 이용하여 인공지능 자율주행 RC카 체험을 해 봅니다. RC카와 카메라를 이용하여 데이터를 수집하고, 수집한 데이터를 CNN 인공 신경망을 통해 학습시키고, 학습된 CNN 인공 신경망을 이용하여 자율주행을 수행하는 단계로 체험해 봅니다.\\n\\nChapter 03에서는 자율주행 RC카 구동을 위해 필요한 아두이노 라이브러리와 파이썬 패키지의 사용법을 익혀봅니다. 아두이노에서는 문자열 출력, LED 제어, DC 모터 제어 원리를 코딩해봅니다. 파이썬에서는 조이스틱, 쓰레드, 메시지 큐를 코딩해 봅니다.\\n\\nChapter 04에서는 인공지능 자율주행 RC카를 구성하는 카메라 동영상 송수신, WiFi 통신, 인공지능 관련된 소스를 하나하나 살펴보면서 그 원리를 이해하고 응용할 수 있도록 합니다. 구체적으로 TCP/IP 네트워크 통신을 공부하고, 통신을 이용하여 카메라 영상과 조이스틱 데이터를 주고 받아봅니다. 통신을 통해 수집한 영상과 조이스틱 데이터를 이용하여 CNN 인공 신경망 학습을 수행하고 학습된 CNN 인공 신경망을 이용하여 자율주행을 수행해 봅니다.\\n\\n부록에서는 구글의 Teachable Machine을 이용하여 인공지능을 학습 시킨후, 자율주행을 수행해 봅니다. \\n\\n※ 이 책의 예제 소스파일 다운로드 방법은 4쪽을 참조하고, 책을 보면서 궁금한 사항의 질의응답 방법은 5쪽을 참조합니다.\\n※ 이 책의 실습 준비물은 6쪽 또는 40쪽을 참고하고, A.I. 자율주행 RC카 조립 방법 40~55쪽을 참조합니다.'])\n",
      "\n",
      "dict_keys(['title', 'link', 'image', 'author', 'discount', 'publisher', 'pubdate', 'isbn', 'description']) dict_values(['텐서플로로 시작하는 딥러닝 입문 (그림으로 익히고 파이썬 코드로 구현하는 인공신경망 알고리즘)', 'https://search.shopping.naver.com/book/catalog/32457308687', 'https://shopping-phinf.pstatic.net/main_3245730/32457308687.20221228073915.jpg', '아다치 하루카', '18000', '위키북스', '20190103', '9791158391270', '친절한 설명과 알기 쉬운 그림으로 이해하는 딥러닝!\\n\\n『텐서플로로 시작하는 딥러닝 입문』은 지금부터 딥러닝을 공부하고 싶어 하는 독자가 딥러닝 방법을 이해하고, 직접 구현할 수 있게 하는 것을 목적으로 합니다. 딥러닝을 처음 공부하기 시작하는 개발자는 일반적으로 2가지 벽을 넘지 못합니다. 첫 번째는 ‘딥러닝 방법’, 특히 이론을 설정하는 수식의 이해라는 벽입니다. 두 번째는 ‘구현 방법’이라는 벽입니다.\\n\\n이 책에서는 구글의 딥러닝 프레임워크 텐서플로를 바탕으로 초보자도 쉽게 사용할 수 있는 TFLearn 라이브러리를 사용해서, 실제로 딥러닝 프로그램을 구현해 봅니다. 실행 환경 구축도 처음부터 차근차근 설명하며, 샘플 코드도 차근차근 설명합니다.\\n\\n이 책에서는 꼭 알아두었으면 하는 전결합 뉴럴 네트워크, 합성곱 뉴럴 네트워크(CNN), 재귀형 뉴럴 네트워크(RNN)을 설명합니다. 처음 공부하는 독자를 위해 모두가 쉽게 읽을 수 있게, 수식을 사용하지 않고 차근차근 데이터 과학의 관점에서 이론을 설명합니다.'])\n",
      "\n",
      "dict_keys(['title', 'link', 'image', 'author', 'discount', 'publisher', 'pubdate', 'isbn', 'description']) dict_values(['Effective Python 2nd 이펙티브 파이썬 : 파이썬 코딩의 기술 (똑똑하게 코딩하는 법, 개정판)', 'https://search.shopping.naver.com/book/catalog/32464820688', 'https://shopping-phinf.pstatic.net/main_3246482/32464820688.20221228074240.jpg', '브렛 슬라킨', '27650', '길벗', '20201030', '9791165213190', '아마존 파이썬 프로그래밍 분야 베스트셀러, 〈Effective Python〉 전면 개정 증보판! \\n파이썬의 매력과 강점을 이용해 강력하고 우수한 성능의 코드를 작성하는 90가지 방법!\\n\\n파이썬다운 방식으로 프로그램을 작성하는 방법, 파이썬을 사용하는 가장 좋은 방법에 대한 통찰을 담았다! 2판에서는 파이썬 3.8까지 이르는 파이썬 3에만 초점을 맞췄으며, 1판의 모든 내용을 검토하고 대부분의 내용을 수정하고 갱신했다. 또한, 파이썬 3의 새로운 기능에 대한 내용을 충분히 보강했다. 책 속에 담긴 90가지 Better way를 통해 무엇을 하고 무엇을 하지 말아야 할지, 이 방법이 왜 최선인지 이해하면서 자신의 코드를 향상시킬 수 있는 방법을 습득하자!'])\n",
      "\n",
      "dict_keys(['title', 'link', 'image', 'author', 'discount', 'publisher', 'pubdate', 'isbn', 'description']) dict_values(['Let’s Start Coding with Raptor & Python (랩터 & 파이썬) (Computational Thinking for Problem-solving, 2nd Ediiton)', 'https://search.shopping.naver.com/book/catalog/32497205165', 'https://shopping-phinf.pstatic.net/main_3249720/32497205165.20230214162646.jpg', '김충석', '0', '앤아이컴즈', '20190815', '9788993163568', '▶ 이 책은 Python(파이썬)을 다룬 이론서입니다.'])\n",
      "\n",
      "dict_keys(['title', 'link', 'image', 'author', 'discount', 'publisher', 'pubdate', 'isbn', 'description']) dict_values(['파이썬 딥러닝 파이토치(Python Deep Learning PyTorch)', 'https://search.shopping.naver.com/book/catalog/32454962186', 'https://shopping-phinf.pstatic.net/main_3245496/32454962186.20221019142632.jpg', '이경택^방성수^안상준', '21600', '정보문화사', '20201008', '9788956748573', '파이썬은 선택이 아닌 필수! 파이토치로 딥러닝 입문하기!\\n\\n이 책은 딥러닝 기술에 초점을 두고 딥러닝을 구현하기 위해 파이썬을 이용하는데, 머신러닝 라이브러리인 파이토치를 활용하여 다양한 텐서를 지원하는 방법을 알아본다. 파이토치는 파이썬 코딩과 비슷하기 때문에 언어가 어렵지 않다. 코드가 간결하고 난이도가 낮아 텐서플로우보다 사용하기 훨씬 쉽다는 특징이 있다. 프로그래밍 언어의 기본적 수준만 갖추고 있다면 고급 스킬이 없어도 코드를 작성해보며 직접 실행해볼 수 있도록 구성하였기 때문에 의미를 정확하고 개념을 이해할 수 있다. 학습을 시작하기 전 기본적인 내용과 코드 작성을 위한 시스템 환경 구축부터 시작하여, 요즘 쉽게 들리는 머신러닝, 딥러닝, 인공지능 등의 개념을 쉽게 설명하고 활용 분야도 알아본다. 특히 중간 중간 예제를 수록하여 코드와 설명을 자세하게 설명하기 때문에 초보자들도 쉽게 접근할 수 있다는 장점이 있다. 코드를 따라하기 위한 실습 파일 다운로드는 정보문화사 홈페이지(infopub.co.kr) 자료실에서 가능하며, 학습 중 궁금한 사항은 저자의 github.com/Justin-A/DeepLearning101/issues에서 피드백 가능하다.'])\n",
      "\n",
      "dict_keys(['title', 'link', 'image', 'author', 'discount', 'publisher', 'pubdate', 'isbn', 'description']) dict_values(['프로그래밍 정석(개념을 잡아주는) (기초 연산부터 고급 문제해결 능력까지 파이썬을 활용한 효율적인 프로그래밍 학습)', 'https://search.shopping.naver.com/book/catalog/32497236832', 'https://shopping-phinf.pstatic.net/main_3249723/32497236832.20221227205415.jpg', '제니퍼 캠벨^폴 그리스^제이슨 몬토조^그렉 윌슨', '22500', '에이콘출판', '20100504', '9788960771338', '프로그래밍 개론을 익히고 큰 그림을 그리고 싶은데 프로그래밍 언어를 먼저 배워야 가능하다? 프로그래밍 언어를 배우자니 기초가 부족하여 어렵거나? 닭이 먼저냐 달걀이 먼저냐라는 문제를 뛰어넘어, 직관적이면서도 비교적 장벽이 없는 언어인 파이썬을 활용해 프로그램 언어를 배우는 수고를 최대한 건너뛰고 바로 프로그래밍 과정에서 일어나는 문제 해결에 집중하도록 돕는 책이다.\\n\\n\\n\\n기본적인 프로그래밍 요소부터 알고리즘, 디버깅, 객체지향 프로그래밍, 테스트 주도 개발, GUI 제작, 데이터베이스 활용법까지 전산 전공자뿐 아니라 현장에서 근무하고 있는 프로그래머라면 꼭 짚고 넘어가야 할 내용을 이해하기 쉽게 설명한다. 또한 직관적이고 쉽게 이해할 수 있는 언어인 파이썬을 활용해 프로그래밍 개론을 설명함으로써 언어를 익히는 데 드는 노력을 최대한 줄이고 핵심적인 프로그래밍 관련 개념이나 문제 해결에 집중하게 해준다.'])\n",
      "\n",
      "dict_keys(['title', 'link', 'image', 'author', 'discount', 'publisher', 'pubdate', 'isbn', 'description']) dict_values(['Let’s Start Coding with Raptor & Python(랩터 & 파이썬) (컴퓨터 사고력 프로그래밍)', 'https://search.shopping.naver.com/book/catalog/32504626163', 'https://shopping-phinf.pstatic.net/main_3250462/32504626163.20220527074049.jpg', '김충석', '0', '이한미디어', '20190305', '9788993163506', '\"컴퓨팅 사고(Computational Thinking)와 프로그램\\n프로그램의 동작과 프로그램의 표현, 프로그램의 실행 환경\\n일상생활의 문제를 프로그램 논리로 전환\\n순서, 선택, 반복의 중첩과 결합, 부 프로그램에서의 처리\\n랩터와 파이썬을 이용하여 코딩. 파이썬 자료구조의 사용 F10\"'])\n",
      "\n",
      "dict_keys(['title', 'link', 'image', 'author', 'discount', 'publisher', 'pubdate', 'isbn', 'description']) dict_values(['초보자를 위한 아파치 스파크 2 (스칼라와 파이썬을 활용한 대규모 분산 데이터 처리 애플리케이션 개발)', 'https://search.shopping.naver.com/book/catalog/32436267234', 'https://shopping-phinf.pstatic.net/main_3243626/32436267234.20221227210006.jpg', '라자나라야난 토투바이카투마나', '27000', '에이콘출판', '20180131', '9791161751054', '스파크 2.0을 처음 접하는 초보자부터 고급 개발자까지 활용할 수 있는 예제 중심의 스파크 2.0 종합 입문서다. 빅데이터와 머신 러닝 시대를 맞아 안정적이고 빠른 데이터 처리 능력을 가진 분산 데이터 처리 플랫폼의 중요성이 부각되는 가운데 처리 속도, 안정성, 호환성을 모두 만족하는 오픈 소스 기반 프레임워크가 바로 스파크다. 새로 나온 스파크 2.0은 기존 스파크보다 더욱 빠른 데이터 처리 속도와 다양한 머신 러닝 라이브러리 지원을 바탕으로 전 세계에서 활용되고 있다. 특히 이 책은 스파크를 처음 접하는 초보자들이 내용을 쉽게 이해할 수 있도록 다양한 예제 중심으로 이뤄져 있다. 단순한 데이터 처리부터 복잡한 데이터 스트림, 메시지큐, 그래프 모델 등 다양한 난이도의 예제를 통해 스파크 2.0이 가진 장점을 모두 살펴볼 수 있을 것이다.'])\n",
      "\n",
      "dict_keys(['title', 'link', 'image', 'author', 'discount', 'publisher', 'pubdate', 'isbn', 'description']) dict_values(['실전 예제로 배우는 GAN (파이썬, 텐서플로, 케라스로 다양한 GAN 아키텍처를 구축하고 활용하기)', 'https://search.shopping.naver.com/book/catalog/32457252420', 'https://shopping-phinf.pstatic.net/main_3245725/32457252420.20221229071546.jpg', '조시 칼린', '22500', '위키북스', '20190724', '9791158391652', '파이썬, 텐서플로, 케라스를 사용해 강력한 생성 모델을 구현함으로써 차세대 딥러닝을 간소화한다!\\n\\n생성적 적대 신경망(GAN) 개발 작업은 복잡할 뿐만 아니라, 이해하기 쉬운 코드를 찾기도 어렵다. 이 책에서는 CycleGAN, simGAN, DCGAN 및 2차원 이미지로 3차원 형상을 생성하는 모델과 같은 여덟 가지 최신 GAN 구현 예제를 소개한다. 각 장마다 파이썬, 텐서플로, 케라스의 공통 아키텍처를 바탕으로 쉽게 구축할 수 있는 GAN 아키텍처를 읽기 쉬운 형태로 탐구해 보는 데 도움이 되는 유용한 방법을 담고 있다. \\n\\n모델의 작동 방식을 이해할 수 있게 다양한 GAN 아키텍처 유형을 다루는 일부터 DCGAN, Pix2Pix 등과 관련된 사용 사례를 다루는 데 도움이 되는 직관적인 방법들이 들어 있다. 또한 바로 구현해 볼 수 있는 코드 기반 솔루션을 제공하는 덕분에, GAN 모델을 사용하면서 부딪히는 문제를 해결하거나 도전에 대응할 수 있는 실질적인 도움을 얻게 될 것이다.'])\n",
      "\n",
      "dict_keys(['title', 'link', 'image', 'author', 'discount', 'publisher', 'pubdate', 'isbn', 'description']) dict_values(['퀀트 투자를 위한 머신러닝·딥러닝 알고리듬 트레이딩 2/e (파이썬, Pandas, 텐서플로 2.0, Scikit-learn을 활용한 효과적인 트레이딩 전략)', 'https://search.shopping.naver.com/book/catalog/32443923270', 'https://shopping-phinf.pstatic.net/main_3244392/32443923270.20230117163302.jpg', '스테판 젠슨', '0', '에이콘출판', '20210930', '9791161755694', '머신러닝과 딥러닝 기술을 이용해 알고리듬 트레이딩의 아이디어에서 실행까지 전반적인 프로세스를 서술하는 좋은 안내서다. 2판에서는 전략 백테스팅, 오토인코더, 적대적 생성 신경망(GAN), 이미지 형식으로 변환된 시계열에 합성곱 신경망(CNN) 적용과 같은 최신 내용을 추가했다. 또한 금융 시장 분석으로 100개 이상의 알파 팩터를 설명하고 있으며, 부록으로 기술적 분석에 관한 모든 것을 수록했다. 세계적으로 저명한 AI 콘퍼런스인 NeurIPS에서 발표된 최신 금융 딥러닝 연구를 소개하고 구현한다.'])\n",
      "\n",
      "dict_keys(['title', 'link', 'image', 'author', 'discount', 'publisher', 'pubdate', 'isbn', 'description']) dict_values(['이것이 MySQL이다 (MySQL 설치부터 PHP, 파이썬 연동까지 한번에! (동영상 강의 무료 제공 / MySQL 8.0 반영), 개정판)', 'https://search.shopping.naver.com/book/catalog/32454323539', 'https://shopping-phinf.pstatic.net/main_3245432/32454323539.20230913071644.jpg', '우재남', '28800', '한빛미디어', '20200510', '9791162242780', '『이것이 MySQL이다』 개정판\\n최신 8.0 버전 반영! 파이썬 연동 내용 수록!\\n\\n2016년 출간 후 많은 사랑을 받아 온 『이것이 MySQL이다』가 MySQL 8.0 버전을 반영하여 개정되었다. 특히 ‘파이썬 기초 및 파이썬과 데이터베이스의 연동’, ‘ 파이썬으로 공간 데이터 응용 프로그래밍 작성하기’ 등의 내용을 추가하여 더욱 실무 밀착형 교재로 업그레이드 되었다.\\n\\n이 책은 실무에서 바로 적용 가능한 80여 가지 다양한 실습 예제를 수록하여 현업에서 이뤄지고 있는 데이터베이스 개발과 운영을 모두 체험할 수 있게 구성하였다. 또 어려운 실습도 쉽게 익힐 수 있도록 40여 개의 [저자 동영상 강의]를 무료로 제공하고 있다. 그래도 어려운 부분이 있다면 [이것이 MySQL이다 네이버 카페]에 질문을 올려보자. 저자가 직접 모든 질문에 1:1로 답변을 달아주며, MySQL 관련 최신 기술 소식도 공유할 수 있다.'])\n",
      "\n",
      "dict_keys(['title', 'link', 'image', 'author', 'discount', 'publisher', 'pubdate', 'isbn', 'description']) dict_values(['자연어 처리와 컴퓨터 언어학 (파이썬으로 개발하는 자연어 처리 서비스, 2020년 대한민국학술원 우수학술도서 선정도서)', 'https://search.shopping.naver.com/book/catalog/32474234926', 'https://shopping-phinf.pstatic.net/main_3247423/32474234926.20221227205935.jpg', '바르가브 스리니바사 디지칸', '27000', '에이콘출판', '20190628', '9791161753140', '에이콘 데이터 과학 시리즈. 자연어 처리와 컴퓨터 언어학 알고리즘을 사용해 추론하고 데이터를 이해할 수 있는 방법을 제시한다. 통계적 머신 러닝 방법과 최신 딥러닝 기술을 활용한 방법들도 자세히 알아보며, 파이썬과 젠심, 케라스와 같은 도구를 사용해 알고리즘을 다룬다.'])\n",
      "\n",
      "dict_keys(['title', 'link', 'image', 'author', 'discount', 'publisher', 'pubdate', 'isbn', 'description']) dict_values(['핸즈온 머신러닝.딥러닝 알고리즘 트레이딩 (파이썬, Pandas, NumPy, Scikit-learn, 케라스를 활용한 효과적인 거래 전략)', 'https://search.shopping.naver.com/book/catalog/32496154642', 'https://shopping-phinf.pstatic.net/main_3249615/32496154642.20220521033727.jpg', '스테판 젠슨', '38700', '에이콘출판', '20200731', '9791161754321', ''])\n",
      "\n",
      "dict_keys(['title', 'link', 'image', 'author', 'discount', 'publisher', 'pubdate', 'isbn', 'description']) dict_values(['파이썬 라이브러리를 활용한 머신러닝 : 사이킷런 핵심 개발자가 쓴 머신러닝과 데이터 과학 실무서', 'https://search.shopping.naver.com/book/catalog/32438227707', 'https://shopping-phinf.pstatic.net/main_3243822/32438227707.20220518152040.jpg', '세라 가이도', '27000', '한빛미디어', '20170701', '9788968483394', ''])\n",
      "\n",
      "dict_keys(['title', 'link', 'image', 'author', 'discount', 'publisher', 'pubdate', 'isbn', 'description']) dict_values(['OpenCV 4를 활용한 머신러닝 입문 2/e (OpenCV 4, 파이썬, scikit-learn을 사용해 이미지 처리 앱을 만들기 위한 지능형 알고리즘)', 'https://search.shopping.naver.com/book/catalog/32483348034', 'https://shopping-phinf.pstatic.net/main_3248334/32483348034.20221228074631.jpg', '아디타 샤르마^비슈베쉬 라비 슈리말리^마이클 베이어', '36000', '에이콘출판', '20201030', '9791161754628', '머신러닝은 경험을 통해 자동으로 개선하는 컴퓨터 알고리즘 연구이며, 인공지능의 한 분야다. 이 책에서는 분류 및 회귀와 같은 통계 학습의 핵심 개념을 간단/직관적인 예제를 통해 확인할 수 있다. 모든 기본 개념을 다룬 이후에는 의사 결정 트리(Decision tree), 서포트 벡터 머신(Support vector) 및 베이지안(Bayesian) 네트워크와 같은 다양한 알고리즘을 탐색하고 다른 OpenCV 기능과 결합하는 방법을 배운다. \\n\\n\\n\\n딥러닝과 앙상블 학습을 살펴보고 직접 손으로 쓴 숫자의 분류와 제스처 인식과 같은 실제 애플리케이션을 만들 수 있다. 마지막으로, 이미지 처리 시스템을 구축하기 위한 최신 Intel OpenVINO를 살펴본다. 이 책을 다 읽고 난 이후에는 OpenCV4로 지능형 컴퓨터 비전 애플리케이션을 만들 수 있다.'])\n",
      "\n",
      "dict_keys(['title', 'link', 'image', 'author', 'discount', 'publisher', 'pubdate', 'isbn', 'description']) dict_values(['실무가 훤히 보이는 머신러닝 & 딥러닝 (파이썬 실전 코딩으로 배우는 한글 자연어 처리, 챗봇 개발, 이미지 분류, 데이터 분석 등 인공지능 서비스의 이해)', 'https://search.shopping.naver.com/book/catalog/32483324192', 'https://shopping-phinf.pstatic.net/main_3248332/32483324192.20221230073357.jpg', '마창수^최재철', '22470', '책만', '20190731', '9791189909031', '실전 인공지능 기술과 서비스를 설계해 실무에 적용하고, 머신러닝과 딥러닝 개발을 직접 구현해보기 위해\\n다양한 시각의 이해가 필요한 기획자, 개발자, 관리자 모두를 위한 포괄적인 입문서\\n\\n『실무가 훤히 보이는 머신러닝&딥러닝』은 파이썬에 기반을 둔 다양한 인공지능 프레임워크 및 서비스를 활용한 한글 자연어 처리, 이미지 분류, 대화 서비스 챗봇 개발, 텍스트 감정 분석 등 친절한 알고리즘 이론 학습과 풍부한 실전 코딩 예제가 가득한 책이다. 이 책을 통해 인공지능 서비스의 다양한 분야를 학습하고 실무 예제를 실습해볼 수 있으며, 머신러닝과 딥러닝의 주요 알고리즘 이론을 배우고 간단한 서비스를 직접 만들어볼 수 있다.'])\n",
      "\n",
      "dict_keys(['title', 'link', 'image', 'author', 'discount', 'publisher', 'pubdate', 'isbn', 'description']) dict_values(['초보 해커를 위한 해킹 입문 세트 - 전2권 (『(개정판) 해킹: 공격의 예술』+『파이썬 해킹 프로그래밍: 프로그래머라면 누구나 할 수 있는』)', 'https://search.shopping.naver.com/book/catalog/32481445308', 'https://shopping-phinf.pstatic.net/main_3248144/32481445308.20221229074756.jpg', '존 에릭슨', '44100', '에이콘출판', '20110531', '9788960772052', '프로그래밍에서부터 공격 가능한 기계어 코드까지 해킹에 필요한 모든 것을 다룸으로써 해킹의 세계를 좀 더 쉽게 이해할 수 있도록 해킹의 예술과 과학을 설파한 『(개정판) 해킹: 공격의 예술』와 해커와 리버스 엔지니어가 꼭 알아야 할 손쉽고 빠른 파이썬 해킹 프로그래밍. 디버거, 트로이목마, 퍼저, 에뮬레이터 같은 해킹 툴과 해킹 기술의 기반 개념을 설명하며, 기존 파이썬 기반 보안 툴의 사용법과 기존 툴이 만족스럽지 않을 때 직접 제작하는 방법도 알려주는『파이썬 해킹 프로그래밍』로 구성된 세트.'])\n",
      "\n",
      "dict_keys(['title', 'link', 'image', 'author', 'discount', 'publisher', 'pubdate', 'isbn', 'description']) dict_values(['코어 파이썬 애플리케이션 프로그래밍 Core Python Applications Programming Third Edition', 'https://search.shopping.naver.com/book/catalog/32466389511', 'https://shopping-phinf.pstatic.net/main_3246638/32466389511.20221227204418.jpg', '웨슬리 천', '45000', '에이콘출판', '20140129', '9788960775213', '초중급 독자가 실전에 활용할 수 있도록 정규식, 스레드 프로그래밍, GUI, 네트워크 프로그래밍, 장고, 구글 앱 엔진 등 다양한 분야를 다룬 책. 이 책은 광범위한 분야를 다루면서도, 실전에서 활용할 수 있는 살아있는 예제를 상세히 설명함으로써 독자들이 다양한 분야를 잘 이해할 수 있게 도와준다. \\n\\n\\n\\n또한 이 책은 여러 가지 파이썬 프로그래밍 주제를 공부하는 시작점이 될 수 있다. 각 장 말미에 있는 연습문제를 풀어본다면 각 분야를 더 깊이 이해하는 동시에 프로그래머로서의 역량을 크게 키울 수 있다. \\n\\n\\n\\n오늘날 실제 애플리케이션에 사용되는 다양한 개발 영역, 중급 파이썬 프로그래머가 통찰력을 키울 수 있게 돕는 최신 모범 사례, 쉽고 빠르게 돌려볼 수 있는 간단한 코드부터 큰 애플리케이션에 이르는 수많은 예제 등을 다루고 있다.'])\n",
      "\n",
      "dict_keys(['title', 'link', 'image', 'author', 'discount', 'publisher', 'pubdate', 'isbn', 'description']) dict_values(['손에 잡히는 실전 비즈니스 인텔리전스 (Power BI, 엑셀, D3.js, R, 파이썬, Qlik, Tableau, Microsoft SQL Server 툴을 활용한 비즈니스 데이터 활용법)', 'https://search.shopping.naver.com/book/catalog/32492633440', 'https://shopping-phinf.pstatic.net/main_3249263/32492633440.20221228072125.jpg', '아메드 셰리프', '27000', '에이콘출판', '20170428', '9788960779426', 'Power BI, 엑셀, D3.js, R, 파이썬, Qlik, Tableau, Microsoft SQL Server 툴을 사용한 비즈니스 데이터 활용 방법을 소개한다. 다양한 툴과 실전 예제로 비즈니스 인텔리전스 기술을 빠르게 익힐 수 있어, 비즈니스 데이터의 분석 및 시각화 결과를 바탕으로 실용적 의사 결정을 하고자 하는 이들에게 적합하다.\\n\\n\\n\\nSQL과 데이터의 종합적인 이해부터 D3.js, R, Tableau, QlikSense, Python을 통한 시각화의 이점을 설명한다. 셀프서비스 레포팅을 도와주는 BI 환경 구축, 분석적 레포팅에 적합한 데이터 모델 개발, 분석 레포팅 툴로 데이터 웨어하우스 연결하는 방법도 다루고 있다.'])\n",
      "\n"
     ]
    }
   ],
   "source": [
    "for i in data['items']:\n",
    "    print(i.keys(),i.values())\n",
    "    print()"
   ]
  },
  {
   "cell_type": "code",
   "execution_count": 19,
   "id": "2845a869",
   "metadata": {
    "scrolled": true
   },
   "outputs": [],
   "source": [
    "items = []\n",
    "for i in data['items']:\n",
    "    value = i.values()\n",
    "    items.append(value)"
   ]
  },
  {
   "cell_type": "code",
   "execution_count": 20,
   "id": "ac8f803b",
   "metadata": {
    "scrolled": true
   },
   "outputs": [],
   "source": [
    "with open('python_book_01.csv','w', newline=\"\", encoding='utf-8') as file:\n",
    "    writer = csv.writer(file)\n",
    "    writer.writerows(items)"
   ]
  },
  {
   "cell_type": "markdown",
   "id": "2925e9d8",
   "metadata": {},
   "source": [
    "# 선생님이랑 해보는거"
   ]
  },
  {
   "cell_type": "code",
   "execution_count": 21,
   "id": "54e8d611",
   "metadata": {},
   "outputs": [
    {
     "data": {
      "text/plain": [
       "dict_keys(['title', 'link', 'image', 'author', 'discount', 'publisher', 'pubdate', 'isbn', 'description'])"
      ]
     },
     "execution_count": 21,
     "metadata": {},
     "output_type": "execute_result"
    }
   ],
   "source": [
    "data['items'][0].keys()"
   ]
  },
  {
   "cell_type": "code",
   "execution_count": 22,
   "id": "3710e198",
   "metadata": {},
   "outputs": [],
   "source": [
    "books = []\n",
    "for i in books_list: # 100개씩 수집된 자료를 i 에 저장\n",
    "    for j in i['items']: # items에 있는100개의 자료를 j에 한개 씩 꺼내 담음\n",
    "        books.append(j.values()) # .values()로 j에 있는 책 정보 값을 모두 꺼내서 books에 append"
   ]
  },
  {
   "cell_type": "code",
   "execution_count": 23,
   "id": "b2b7d919",
   "metadata": {},
   "outputs": [],
   "source": [
    "col_nums = data['items'][0].keys()"
   ]
  },
  {
   "cell_type": "code",
   "execution_count": 24,
   "id": "99d64557",
   "metadata": {},
   "outputs": [
    {
     "data": {
      "text/plain": [
       "924"
      ]
     },
     "execution_count": 24,
     "metadata": {},
     "output_type": "execute_result"
    }
   ],
   "source": [
    "len(books)"
   ]
  },
  {
   "cell_type": "code",
   "execution_count": 25,
   "id": "7c45824e",
   "metadata": {},
   "outputs": [
    {
     "name": "stdout",
     "output_type": "stream",
     "text": [
      "큼\n"
     ]
    }
   ],
   "source": [
    "a = 11\n",
    "print('작음') if a < 10 else print('큼')        \n"
   ]
  },
  {
   "cell_type": "code",
   "execution_count": 26,
   "id": "f920892c",
   "metadata": {},
   "outputs": [
    {
     "data": {
      "text/plain": [
       "[dict_values(['우아한 사이파이 (수학, 과학, 엔지니어링을 위한 파이썬 데이터 분석 라이브러리 SciPy)', 'https://search.shopping.naver.com/book/catalog/32483345081', 'https://shopping-phinf.pstatic.net/main_3248334/32483345081.20221230074708.jpg', '후안 누네즈-이글레시아스^해리엇 대시나우', '25200', '한빛미디어', '20180601', '9791162240748', '사이파이를 활용해서 수치 계산과 데이터 분석 및 예측하기\\n\\n사이파이는 통계, 신호 처리, 이미지 처리 및 함수 최적화에 사용되는 파이썬 데이터 과학 핵심 라이브러리다. 이 책은 파이썬을 사용하는 과학자를 대상으로 사이파이의 기본 사용법과 관련 라이브러리를 다룰 뿐만 아니라 실제 현업에서 사용하는 읽기 쉬운 우아한 코드를 제공한다. 유전자 발현 분석, 생존율·사망률 예측, 이미지 분석·필터링·등록, 실전 레이더 전파 데이터 분석·정보 변형, 스트리밍 데이터셋 처리 문제를 사이파이, 넘파이, 팬더스, 사이킷-이미지 등으로 해결한다. \\n\\n이 책의 주목표는 독자가 넘파이와 사이파이 라이브러리를 효율적으로 다루는 것이다. 사이파이 라이브러리를 사용하여 효율적으로 과학적 문제를 분석하면서, 우아한 코드를 작성하는 노력이 가치 있다는 느낌이 들길 바란다.']),\n",
       " dict_values(['딥러닝을 위한 최적화와 수치해석 (기본 수식과 파이썬으로 가장 핵심적인 최적화 문제를 다루는 딥러닝 학습!)', 'https://search.shopping.naver.com/book/catalog/32439734987', 'https://shopping-phinf.pstatic.net/main_3243973/32439734987.20220527084835.jpg', '황윤구^양한별', '28800', '남가람북스', '20200203', '9791189184032', '이 책은 텐서플로(Tensorflow)를 사용하여 다양한 딥러닝 모델들을 학습하는 방법과 최적화 이론을 다룹니다. 딥러닝에 관련된 많은 수학 이론들이 있지만, 가장 핵심적인 최적화 문제를 중심으로 딥러닝을 학습합니다. 현재까지 출판된 딥러닝 관련 도서와 강의들은 최적화 이론에 대해서 다루지 않거나 아주 간단하게 다룹니다. 하지만 최적화 이론을 이해하기에는 턱없이 부족한 양입니다. 이 책에서는 가장 먼저 최적화 이론을 소개하고, 최적화 문제는 텐서플로를 사용하여 풉니다. 이러한 방식은 딥러닝 모델을 텐서플로를 사용하여 학습시키는 경우에도 변하지 않습니다. 사실 텐서플로 외에도 파이토치(PyTorch), 케라스(Keras) 등 많은 딥러닝 패키지들이 있습니다. 이들 모두는 최적화 문제를 푸는 것이 최종 목표입니다.']),\n",
       " dict_values(['데이터 과학을 위한 통계 : 데이터 분석에서 머신러닝까지 파이썬과 R로 살펴보는 50가지 핵심 개념 (데이터 분석에서 머신러닝까지 파이썬과 R로 살펴보는 50가지 핵심 개념)', 'https://search.shopping.naver.com/book/catalog/32478476251', 'https://shopping-phinf.pstatic.net/main_3247847/32478476251.20221227203030.jpg', '피터 브루스^앤드루 브루스^피터 게데크', '30600', '한빛미디어', '20210507', '9791162244180', '파이썬과 R로 필요한 만큼만 배우는 실용주의 통계학\\n\\n통계 기법은 데이터 과학의 핵심이지만, 데이터 과학자가 고전 통계를 낱낱이 알아야 하는 것은 아니다. 이 책은 데이터 과학의 관점에서 통계 핵심 개념과 기법을 필요한 것만 골라 소개한다. 50가지 개념을 차근차근 정리하고 코드를 실행해보면, 필수 통계 지식을 빠르게 흡수할 수 있다. 2판에는 기존 R 코드와 호응하는 파이썬 코드를 새롭게 추가했다. 『데이터 과학을 위한 통계』로 필요한 이론을 적재적소에 잘 활용하는 실력 있는 데이터 과학자로 거듭나길 바란다.']),\n",
       " dict_values(['실무 예제로 배우는 데이터 공학 (파이썬과 오픈소스 프로젝트로 만드는 나만의 데이터 공학 환경과 파이프라인)', 'https://search.shopping.naver.com/book/catalog/32441643835', 'https://shopping-phinf.pstatic.net/main_3244164/32441643835.20221228072714.jpg', '폴 크리커드', '24300', '제이펍', '20210720', '9791191600148', '실시간 데이터 파이프라인을 구축, 모니터링 및 관리하고,\\nApache 프로젝트를 사용하여 효율적인 데이터 엔지니어링 인프라를 생성한다!\\n\\n이 책을 다 읽고 나면 파이썬과 오픈소스 프로젝트들을 이용한 데이터 공학이 어떤 것인지 확실하게 이해하게 될 것이며, 데이터를 추출하고, 그 품질을 점검하고, 용도에 맞게 적절히 변환하는 데이터 파이프라인을 구축해 낼 수 있는 자신감이 생길 것이다.']),\n",
       " dict_values(['케라스 창시자에게 배우는 딥러닝 Deep Learning with Python (파이썬과 케라스(keras)로 배우는 딥러닝 핵심 원리!)', 'https://search.shopping.naver.com/book/catalog/32465155837', 'https://shopping-phinf.pstatic.net/main_3246515/32465155837.20220527031912.jpg', '프랑소와 숄레', '0', '길벗', '20181022', '9791160505979', '창시자의 철학까지 담은 딥러닝 입문서.케라스 창시자이자 구글 딥러닝 연구원인 저자는 ‘인공 지능의 민주화’를 강조한다. 이 책 역시 많은 사람에게 딥러닝을 전달하는 또 다른 방법이며, 딥러닝 이면의 개념과 구현을 가능하면 쉽게 이해할 수 있게 하는 데 중점을 두었다.\\n\\n \\n\\n1부에서는 딥러닝, 신경망, 머신 러닝의 기초를, 2부에서는 컴퓨터 비전, 텍스트, 시퀀스, 생성 모델을 위한 딥러닝 같은 실전 딥러닝을 설명한다. 이외에도 딥러닝을 언제 적용하는지, 한계는 무엇인지, 저자가 생각하는 딥러닝의 방향과 비전까지 엿볼 수 있다. \\n\\n\\n\\n또한, 실제 사용하는 확장 가능한 다양한 예제를 수록했으며, 수학 장벽을 없애고자 수학적 표기 없이 직관적이고 간결한 코드로 개념을 설명한다. 딥러닝을 처음부터 배우거나 이해의 폭을 넓히고자 하는 분들에게 추천한다.']),\n",
       " dict_values(['머신러닝 딥러닝을 이용한 A.I. 자율주행 RC카 프로젝트 with 파이썬+아두이노 (만들기, 동키카 체험, 아두이노 RC카 체험과 코딩, 인공지능 학습, 자율주행)', 'https://search.shopping.naver.com/book/catalog/32466576635', 'https://shopping-phinf.pstatic.net/main_3246657/32466576635.20230704085409.jpg', '서민우', '16200', '앤써북', '20220520', '9791185553979', '〈머신러닝 딥러닝을 이용한 A.I. 자율주행 RC카 프로젝트 with 파이썬+아두이노〉는 머신러닝 동키카로 체험하고 ESP32 아두이노 자율주행 자동차로 코딩하며 인공지능을 배울 수 있는 책입니다. \\n책은 크게 인공지능 자율주행 자동차 체험하기와 인공지능 자율주행 자동차 코딩하기로 구성되어 있습니다. \\n\\nChapter 01에서는 자율주행 자동차에 대해 알아보고 딥러닝 기반의 인공지능 자율주행 RC카인 동키카를 시뮬레이터를 통해 체험해 봅니다. 이 과정에서 인공지능 학습의 전체적인 흐름을 이해해 봅니다. 간단히 강화학습도 체험해 봅니다.\\n\\nChapter 02에서는 인공지능 자율주행 RC카 개발 환경을 구성하고 직접 제작한 RC카를 이용하여 인공지능 자율주행 RC카 체험을 해 봅니다. RC카와 카메라를 이용하여 데이터를 수집하고, 수집한 데이터를 CNN 인공 신경망을 통해 학습시키고, 학습된 CNN 인공 신경망을 이용하여 자율주행을 수행하는 단계로 체험해 봅니다.\\n\\nChapter 03에서는 자율주행 RC카 구동을 위해 필요한 아두이노 라이브러리와 파이썬 패키지의 사용법을 익혀봅니다. 아두이노에서는 문자열 출력, LED 제어, DC 모터 제어 원리를 코딩해봅니다. 파이썬에서는 조이스틱, 쓰레드, 메시지 큐를 코딩해 봅니다.\\n\\nChapter 04에서는 인공지능 자율주행 RC카를 구성하는 카메라 동영상 송수신, WiFi 통신, 인공지능 관련된 소스를 하나하나 살펴보면서 그 원리를 이해하고 응용할 수 있도록 합니다. 구체적으로 TCP/IP 네트워크 통신을 공부하고, 통신을 이용하여 카메라 영상과 조이스틱 데이터를 주고 받아봅니다. 통신을 통해 수집한 영상과 조이스틱 데이터를 이용하여 CNN 인공 신경망 학습을 수행하고 학습된 CNN 인공 신경망을 이용하여 자율주행을 수행해 봅니다.\\n\\n부록에서는 구글의 Teachable Machine을 이용하여 인공지능을 학습 시킨후, 자율주행을 수행해 봅니다. \\n\\n※ 이 책의 예제 소스파일 다운로드 방법은 4쪽을 참조하고, 책을 보면서 궁금한 사항의 질의응답 방법은 5쪽을 참조합니다.\\n※ 이 책의 실습 준비물은 6쪽 또는 40쪽을 참고하고, A.I. 자율주행 RC카 조립 방법 40~55쪽을 참조합니다.']),\n",
       " dict_values(['텐서플로로 시작하는 딥러닝 입문 (그림으로 익히고 파이썬 코드로 구현하는 인공신경망 알고리즘)', 'https://search.shopping.naver.com/book/catalog/32457308687', 'https://shopping-phinf.pstatic.net/main_3245730/32457308687.20221228073915.jpg', '아다치 하루카', '18000', '위키북스', '20190103', '9791158391270', '친절한 설명과 알기 쉬운 그림으로 이해하는 딥러닝!\\n\\n『텐서플로로 시작하는 딥러닝 입문』은 지금부터 딥러닝을 공부하고 싶어 하는 독자가 딥러닝 방법을 이해하고, 직접 구현할 수 있게 하는 것을 목적으로 합니다. 딥러닝을 처음 공부하기 시작하는 개발자는 일반적으로 2가지 벽을 넘지 못합니다. 첫 번째는 ‘딥러닝 방법’, 특히 이론을 설정하는 수식의 이해라는 벽입니다. 두 번째는 ‘구현 방법’이라는 벽입니다.\\n\\n이 책에서는 구글의 딥러닝 프레임워크 텐서플로를 바탕으로 초보자도 쉽게 사용할 수 있는 TFLearn 라이브러리를 사용해서, 실제로 딥러닝 프로그램을 구현해 봅니다. 실행 환경 구축도 처음부터 차근차근 설명하며, 샘플 코드도 차근차근 설명합니다.\\n\\n이 책에서는 꼭 알아두었으면 하는 전결합 뉴럴 네트워크, 합성곱 뉴럴 네트워크(CNN), 재귀형 뉴럴 네트워크(RNN)을 설명합니다. 처음 공부하는 독자를 위해 모두가 쉽게 읽을 수 있게, 수식을 사용하지 않고 차근차근 데이터 과학의 관점에서 이론을 설명합니다.']),\n",
       " dict_values(['Effective Python 2nd 이펙티브 파이썬 : 파이썬 코딩의 기술 (똑똑하게 코딩하는 법, 개정판)', 'https://search.shopping.naver.com/book/catalog/32464820688', 'https://shopping-phinf.pstatic.net/main_3246482/32464820688.20221228074240.jpg', '브렛 슬라킨', '27650', '길벗', '20201030', '9791165213190', '아마존 파이썬 프로그래밍 분야 베스트셀러, 〈Effective Python〉 전면 개정 증보판! \\n파이썬의 매력과 강점을 이용해 강력하고 우수한 성능의 코드를 작성하는 90가지 방법!\\n\\n파이썬다운 방식으로 프로그램을 작성하는 방법, 파이썬을 사용하는 가장 좋은 방법에 대한 통찰을 담았다! 2판에서는 파이썬 3.8까지 이르는 파이썬 3에만 초점을 맞췄으며, 1판의 모든 내용을 검토하고 대부분의 내용을 수정하고 갱신했다. 또한, 파이썬 3의 새로운 기능에 대한 내용을 충분히 보강했다. 책 속에 담긴 90가지 Better way를 통해 무엇을 하고 무엇을 하지 말아야 할지, 이 방법이 왜 최선인지 이해하면서 자신의 코드를 향상시킬 수 있는 방법을 습득하자!']),\n",
       " dict_values(['Let’s Start Coding with Raptor & Python (랩터 & 파이썬) (Computational Thinking for Problem-solving, 2nd Ediiton)', 'https://search.shopping.naver.com/book/catalog/32497205165', 'https://shopping-phinf.pstatic.net/main_3249720/32497205165.20230214162646.jpg', '김충석', '0', '앤아이컴즈', '20190815', '9788993163568', '▶ 이 책은 Python(파이썬)을 다룬 이론서입니다.']),\n",
       " dict_values(['파이썬 딥러닝 파이토치(Python Deep Learning PyTorch)', 'https://search.shopping.naver.com/book/catalog/32454962186', 'https://shopping-phinf.pstatic.net/main_3245496/32454962186.20221019142632.jpg', '이경택^방성수^안상준', '21600', '정보문화사', '20201008', '9788956748573', '파이썬은 선택이 아닌 필수! 파이토치로 딥러닝 입문하기!\\n\\n이 책은 딥러닝 기술에 초점을 두고 딥러닝을 구현하기 위해 파이썬을 이용하는데, 머신러닝 라이브러리인 파이토치를 활용하여 다양한 텐서를 지원하는 방법을 알아본다. 파이토치는 파이썬 코딩과 비슷하기 때문에 언어가 어렵지 않다. 코드가 간결하고 난이도가 낮아 텐서플로우보다 사용하기 훨씬 쉽다는 특징이 있다. 프로그래밍 언어의 기본적 수준만 갖추고 있다면 고급 스킬이 없어도 코드를 작성해보며 직접 실행해볼 수 있도록 구성하였기 때문에 의미를 정확하고 개념을 이해할 수 있다. 학습을 시작하기 전 기본적인 내용과 코드 작성을 위한 시스템 환경 구축부터 시작하여, 요즘 쉽게 들리는 머신러닝, 딥러닝, 인공지능 등의 개념을 쉽게 설명하고 활용 분야도 알아본다. 특히 중간 중간 예제를 수록하여 코드와 설명을 자세하게 설명하기 때문에 초보자들도 쉽게 접근할 수 있다는 장점이 있다. 코드를 따라하기 위한 실습 파일 다운로드는 정보문화사 홈페이지(infopub.co.kr) 자료실에서 가능하며, 학습 중 궁금한 사항은 저자의 github.com/Justin-A/DeepLearning101/issues에서 피드백 가능하다.']),\n",
       " dict_values(['프로그래밍 정석(개념을 잡아주는) (기초 연산부터 고급 문제해결 능력까지 파이썬을 활용한 효율적인 프로그래밍 학습)', 'https://search.shopping.naver.com/book/catalog/32497236832', 'https://shopping-phinf.pstatic.net/main_3249723/32497236832.20221227205415.jpg', '제니퍼 캠벨^폴 그리스^제이슨 몬토조^그렉 윌슨', '22500', '에이콘출판', '20100504', '9788960771338', '프로그래밍 개론을 익히고 큰 그림을 그리고 싶은데 프로그래밍 언어를 먼저 배워야 가능하다? 프로그래밍 언어를 배우자니 기초가 부족하여 어렵거나? 닭이 먼저냐 달걀이 먼저냐라는 문제를 뛰어넘어, 직관적이면서도 비교적 장벽이 없는 언어인 파이썬을 활용해 프로그램 언어를 배우는 수고를 최대한 건너뛰고 바로 프로그래밍 과정에서 일어나는 문제 해결에 집중하도록 돕는 책이다.\\n\\n\\n\\n기본적인 프로그래밍 요소부터 알고리즘, 디버깅, 객체지향 프로그래밍, 테스트 주도 개발, GUI 제작, 데이터베이스 활용법까지 전산 전공자뿐 아니라 현장에서 근무하고 있는 프로그래머라면 꼭 짚고 넘어가야 할 내용을 이해하기 쉽게 설명한다. 또한 직관적이고 쉽게 이해할 수 있는 언어인 파이썬을 활용해 프로그래밍 개론을 설명함으로써 언어를 익히는 데 드는 노력을 최대한 줄이고 핵심적인 프로그래밍 관련 개념이나 문제 해결에 집중하게 해준다.']),\n",
       " dict_values(['Let’s Start Coding with Raptor & Python(랩터 & 파이썬) (컴퓨터 사고력 프로그래밍)', 'https://search.shopping.naver.com/book/catalog/32504626163', 'https://shopping-phinf.pstatic.net/main_3250462/32504626163.20220527074049.jpg', '김충석', '0', '이한미디어', '20190305', '9788993163506', '\"컴퓨팅 사고(Computational Thinking)와 프로그램\\n프로그램의 동작과 프로그램의 표현, 프로그램의 실행 환경\\n일상생활의 문제를 프로그램 논리로 전환\\n순서, 선택, 반복의 중첩과 결합, 부 프로그램에서의 처리\\n랩터와 파이썬을 이용하여 코딩. 파이썬 자료구조의 사용 F10\"']),\n",
       " dict_values(['초보자를 위한 아파치 스파크 2 (스칼라와 파이썬을 활용한 대규모 분산 데이터 처리 애플리케이션 개발)', 'https://search.shopping.naver.com/book/catalog/32436267234', 'https://shopping-phinf.pstatic.net/main_3243626/32436267234.20221227210006.jpg', '라자나라야난 토투바이카투마나', '27000', '에이콘출판', '20180131', '9791161751054', '스파크 2.0을 처음 접하는 초보자부터 고급 개발자까지 활용할 수 있는 예제 중심의 스파크 2.0 종합 입문서다. 빅데이터와 머신 러닝 시대를 맞아 안정적이고 빠른 데이터 처리 능력을 가진 분산 데이터 처리 플랫폼의 중요성이 부각되는 가운데 처리 속도, 안정성, 호환성을 모두 만족하는 오픈 소스 기반 프레임워크가 바로 스파크다. 새로 나온 스파크 2.0은 기존 스파크보다 더욱 빠른 데이터 처리 속도와 다양한 머신 러닝 라이브러리 지원을 바탕으로 전 세계에서 활용되고 있다. 특히 이 책은 스파크를 처음 접하는 초보자들이 내용을 쉽게 이해할 수 있도록 다양한 예제 중심으로 이뤄져 있다. 단순한 데이터 처리부터 복잡한 데이터 스트림, 메시지큐, 그래프 모델 등 다양한 난이도의 예제를 통해 스파크 2.0이 가진 장점을 모두 살펴볼 수 있을 것이다.']),\n",
       " dict_values(['실전 예제로 배우는 GAN (파이썬, 텐서플로, 케라스로 다양한 GAN 아키텍처를 구축하고 활용하기)', 'https://search.shopping.naver.com/book/catalog/32457252420', 'https://shopping-phinf.pstatic.net/main_3245725/32457252420.20221229071546.jpg', '조시 칼린', '22500', '위키북스', '20190724', '9791158391652', '파이썬, 텐서플로, 케라스를 사용해 강력한 생성 모델을 구현함으로써 차세대 딥러닝을 간소화한다!\\n\\n생성적 적대 신경망(GAN) 개발 작업은 복잡할 뿐만 아니라, 이해하기 쉬운 코드를 찾기도 어렵다. 이 책에서는 CycleGAN, simGAN, DCGAN 및 2차원 이미지로 3차원 형상을 생성하는 모델과 같은 여덟 가지 최신 GAN 구현 예제를 소개한다. 각 장마다 파이썬, 텐서플로, 케라스의 공통 아키텍처를 바탕으로 쉽게 구축할 수 있는 GAN 아키텍처를 읽기 쉬운 형태로 탐구해 보는 데 도움이 되는 유용한 방법을 담고 있다. \\n\\n모델의 작동 방식을 이해할 수 있게 다양한 GAN 아키텍처 유형을 다루는 일부터 DCGAN, Pix2Pix 등과 관련된 사용 사례를 다루는 데 도움이 되는 직관적인 방법들이 들어 있다. 또한 바로 구현해 볼 수 있는 코드 기반 솔루션을 제공하는 덕분에, GAN 모델을 사용하면서 부딪히는 문제를 해결하거나 도전에 대응할 수 있는 실질적인 도움을 얻게 될 것이다.']),\n",
       " dict_values(['퀀트 투자를 위한 머신러닝·딥러닝 알고리듬 트레이딩 2/e (파이썬, Pandas, 텐서플로 2.0, Scikit-learn을 활용한 효과적인 트레이딩 전략)', 'https://search.shopping.naver.com/book/catalog/32443923270', 'https://shopping-phinf.pstatic.net/main_3244392/32443923270.20230117163302.jpg', '스테판 젠슨', '0', '에이콘출판', '20210930', '9791161755694', '머신러닝과 딥러닝 기술을 이용해 알고리듬 트레이딩의 아이디어에서 실행까지 전반적인 프로세스를 서술하는 좋은 안내서다. 2판에서는 전략 백테스팅, 오토인코더, 적대적 생성 신경망(GAN), 이미지 형식으로 변환된 시계열에 합성곱 신경망(CNN) 적용과 같은 최신 내용을 추가했다. 또한 금융 시장 분석으로 100개 이상의 알파 팩터를 설명하고 있으며, 부록으로 기술적 분석에 관한 모든 것을 수록했다. 세계적으로 저명한 AI 콘퍼런스인 NeurIPS에서 발표된 최신 금융 딥러닝 연구를 소개하고 구현한다.']),\n",
       " dict_values(['이것이 MySQL이다 (MySQL 설치부터 PHP, 파이썬 연동까지 한번에! (동영상 강의 무료 제공 / MySQL 8.0 반영), 개정판)', 'https://search.shopping.naver.com/book/catalog/32454323539', 'https://shopping-phinf.pstatic.net/main_3245432/32454323539.20230913071644.jpg', '우재남', '28800', '한빛미디어', '20200510', '9791162242780', '『이것이 MySQL이다』 개정판\\n최신 8.0 버전 반영! 파이썬 연동 내용 수록!\\n\\n2016년 출간 후 많은 사랑을 받아 온 『이것이 MySQL이다』가 MySQL 8.0 버전을 반영하여 개정되었다. 특히 ‘파이썬 기초 및 파이썬과 데이터베이스의 연동’, ‘ 파이썬으로 공간 데이터 응용 프로그래밍 작성하기’ 등의 내용을 추가하여 더욱 실무 밀착형 교재로 업그레이드 되었다.\\n\\n이 책은 실무에서 바로 적용 가능한 80여 가지 다양한 실습 예제를 수록하여 현업에서 이뤄지고 있는 데이터베이스 개발과 운영을 모두 체험할 수 있게 구성하였다. 또 어려운 실습도 쉽게 익힐 수 있도록 40여 개의 [저자 동영상 강의]를 무료로 제공하고 있다. 그래도 어려운 부분이 있다면 [이것이 MySQL이다 네이버 카페]에 질문을 올려보자. 저자가 직접 모든 질문에 1:1로 답변을 달아주며, MySQL 관련 최신 기술 소식도 공유할 수 있다.']),\n",
       " dict_values(['자연어 처리와 컴퓨터 언어학 (파이썬으로 개발하는 자연어 처리 서비스, 2020년 대한민국학술원 우수학술도서 선정도서)', 'https://search.shopping.naver.com/book/catalog/32474234926', 'https://shopping-phinf.pstatic.net/main_3247423/32474234926.20221227205935.jpg', '바르가브 스리니바사 디지칸', '27000', '에이콘출판', '20190628', '9791161753140', '에이콘 데이터 과학 시리즈. 자연어 처리와 컴퓨터 언어학 알고리즘을 사용해 추론하고 데이터를 이해할 수 있는 방법을 제시한다. 통계적 머신 러닝 방법과 최신 딥러닝 기술을 활용한 방법들도 자세히 알아보며, 파이썬과 젠심, 케라스와 같은 도구를 사용해 알고리즘을 다룬다.']),\n",
       " dict_values(['핸즈온 머신러닝.딥러닝 알고리즘 트레이딩 (파이썬, Pandas, NumPy, Scikit-learn, 케라스를 활용한 효과적인 거래 전략)', 'https://search.shopping.naver.com/book/catalog/32496154642', 'https://shopping-phinf.pstatic.net/main_3249615/32496154642.20220521033727.jpg', '스테판 젠슨', '38700', '에이콘출판', '20200731', '9791161754321', '']),\n",
       " dict_values(['파이썬 라이브러리를 활용한 머신러닝 : 사이킷런 핵심 개발자가 쓴 머신러닝과 데이터 과학 실무서', 'https://search.shopping.naver.com/book/catalog/32438227707', 'https://shopping-phinf.pstatic.net/main_3243822/32438227707.20220518152040.jpg', '세라 가이도', '27000', '한빛미디어', '20170701', '9788968483394', '']),\n",
       " dict_values(['OpenCV 4를 활용한 머신러닝 입문 2/e (OpenCV 4, 파이썬, scikit-learn을 사용해 이미지 처리 앱을 만들기 위한 지능형 알고리즘)', 'https://search.shopping.naver.com/book/catalog/32483348034', 'https://shopping-phinf.pstatic.net/main_3248334/32483348034.20221228074631.jpg', '아디타 샤르마^비슈베쉬 라비 슈리말리^마이클 베이어', '36000', '에이콘출판', '20201030', '9791161754628', '머신러닝은 경험을 통해 자동으로 개선하는 컴퓨터 알고리즘 연구이며, 인공지능의 한 분야다. 이 책에서는 분류 및 회귀와 같은 통계 학습의 핵심 개념을 간단/직관적인 예제를 통해 확인할 수 있다. 모든 기본 개념을 다룬 이후에는 의사 결정 트리(Decision tree), 서포트 벡터 머신(Support vector) 및 베이지안(Bayesian) 네트워크와 같은 다양한 알고리즘을 탐색하고 다른 OpenCV 기능과 결합하는 방법을 배운다. \\n\\n\\n\\n딥러닝과 앙상블 학습을 살펴보고 직접 손으로 쓴 숫자의 분류와 제스처 인식과 같은 실제 애플리케이션을 만들 수 있다. 마지막으로, 이미지 처리 시스템을 구축하기 위한 최신 Intel OpenVINO를 살펴본다. 이 책을 다 읽고 난 이후에는 OpenCV4로 지능형 컴퓨터 비전 애플리케이션을 만들 수 있다.']),\n",
       " dict_values(['실무가 훤히 보이는 머신러닝 & 딥러닝 (파이썬 실전 코딩으로 배우는 한글 자연어 처리, 챗봇 개발, 이미지 분류, 데이터 분석 등 인공지능 서비스의 이해)', 'https://search.shopping.naver.com/book/catalog/32483324192', 'https://shopping-phinf.pstatic.net/main_3248332/32483324192.20221230073357.jpg', '마창수^최재철', '22470', '책만', '20190731', '9791189909031', '실전 인공지능 기술과 서비스를 설계해 실무에 적용하고, 머신러닝과 딥러닝 개발을 직접 구현해보기 위해\\n다양한 시각의 이해가 필요한 기획자, 개발자, 관리자 모두를 위한 포괄적인 입문서\\n\\n『실무가 훤히 보이는 머신러닝&딥러닝』은 파이썬에 기반을 둔 다양한 인공지능 프레임워크 및 서비스를 활용한 한글 자연어 처리, 이미지 분류, 대화 서비스 챗봇 개발, 텍스트 감정 분석 등 친절한 알고리즘 이론 학습과 풍부한 실전 코딩 예제가 가득한 책이다. 이 책을 통해 인공지능 서비스의 다양한 분야를 학습하고 실무 예제를 실습해볼 수 있으며, 머신러닝과 딥러닝의 주요 알고리즘 이론을 배우고 간단한 서비스를 직접 만들어볼 수 있다.']),\n",
       " dict_values(['초보 해커를 위한 해킹 입문 세트 - 전2권 (『(개정판) 해킹: 공격의 예술』+『파이썬 해킹 프로그래밍: 프로그래머라면 누구나 할 수 있는』)', 'https://search.shopping.naver.com/book/catalog/32481445308', 'https://shopping-phinf.pstatic.net/main_3248144/32481445308.20221229074756.jpg', '존 에릭슨', '44100', '에이콘출판', '20110531', '9788960772052', '프로그래밍에서부터 공격 가능한 기계어 코드까지 해킹에 필요한 모든 것을 다룸으로써 해킹의 세계를 좀 더 쉽게 이해할 수 있도록 해킹의 예술과 과학을 설파한 『(개정판) 해킹: 공격의 예술』와 해커와 리버스 엔지니어가 꼭 알아야 할 손쉽고 빠른 파이썬 해킹 프로그래밍. 디버거, 트로이목마, 퍼저, 에뮬레이터 같은 해킹 툴과 해킹 기술의 기반 개념을 설명하며, 기존 파이썬 기반 보안 툴의 사용법과 기존 툴이 만족스럽지 않을 때 직접 제작하는 방법도 알려주는『파이썬 해킹 프로그래밍』로 구성된 세트.']),\n",
       " dict_values(['코어 파이썬 애플리케이션 프로그래밍 Core Python Applications Programming Third Edition', 'https://search.shopping.naver.com/book/catalog/32466389511', 'https://shopping-phinf.pstatic.net/main_3246638/32466389511.20221227204418.jpg', '웨슬리 천', '45000', '에이콘출판', '20140129', '9788960775213', '초중급 독자가 실전에 활용할 수 있도록 정규식, 스레드 프로그래밍, GUI, 네트워크 프로그래밍, 장고, 구글 앱 엔진 등 다양한 분야를 다룬 책. 이 책은 광범위한 분야를 다루면서도, 실전에서 활용할 수 있는 살아있는 예제를 상세히 설명함으로써 독자들이 다양한 분야를 잘 이해할 수 있게 도와준다. \\n\\n\\n\\n또한 이 책은 여러 가지 파이썬 프로그래밍 주제를 공부하는 시작점이 될 수 있다. 각 장 말미에 있는 연습문제를 풀어본다면 각 분야를 더 깊이 이해하는 동시에 프로그래머로서의 역량을 크게 키울 수 있다. \\n\\n\\n\\n오늘날 실제 애플리케이션에 사용되는 다양한 개발 영역, 중급 파이썬 프로그래머가 통찰력을 키울 수 있게 돕는 최신 모범 사례, 쉽고 빠르게 돌려볼 수 있는 간단한 코드부터 큰 애플리케이션에 이르는 수많은 예제 등을 다루고 있다.']),\n",
       " dict_values(['손에 잡히는 실전 비즈니스 인텔리전스 (Power BI, 엑셀, D3.js, R, 파이썬, Qlik, Tableau, Microsoft SQL Server 툴을 활용한 비즈니스 데이터 활용법)', 'https://search.shopping.naver.com/book/catalog/32492633440', 'https://shopping-phinf.pstatic.net/main_3249263/32492633440.20221228072125.jpg', '아메드 셰리프', '27000', '에이콘출판', '20170428', '9788960779426', 'Power BI, 엑셀, D3.js, R, 파이썬, Qlik, Tableau, Microsoft SQL Server 툴을 사용한 비즈니스 데이터 활용 방법을 소개한다. 다양한 툴과 실전 예제로 비즈니스 인텔리전스 기술을 빠르게 익힐 수 있어, 비즈니스 데이터의 분석 및 시각화 결과를 바탕으로 실용적 의사 결정을 하고자 하는 이들에게 적합하다.\\n\\n\\n\\nSQL과 데이터의 종합적인 이해부터 D3.js, R, Tableau, QlikSense, Python을 통한 시각화의 이점을 설명한다. 셀프서비스 레포팅을 도와주는 BI 환경 구축, 분석적 레포팅에 적합한 데이터 모델 개발, 분석 레포팅 툴로 데이터 웨어하우스 연결하는 방법도 다루고 있다.'])]"
      ]
     },
     "execution_count": 26,
     "metadata": {},
     "output_type": "execute_result"
    }
   ],
   "source": [
    "books2 = [i.values() for i in data['items']]\n",
    "books2"
   ]
  },
  {
   "cell_type": "code",
   "execution_count": 27,
   "id": "99a3c069",
   "metadata": {},
   "outputs": [
    {
     "data": {
      "text/plain": [
       "24"
      ]
     },
     "execution_count": 27,
     "metadata": {},
     "output_type": "execute_result"
    }
   ],
   "source": [
    "len(books2)"
   ]
  },
  {
   "cell_type": "code",
   "execution_count": 28,
   "id": "d3b141b6",
   "metadata": {},
   "outputs": [],
   "source": [
    "import pandas as pd"
   ]
  },
  {
   "cell_type": "code",
   "execution_count": 29,
   "id": "acb87109",
   "metadata": {},
   "outputs": [
    {
     "data": {
      "text/plain": [
       "dict_keys(['title', 'link', 'image', 'author', 'discount', 'publisher', 'pubdate', 'isbn', 'description'])"
      ]
     },
     "execution_count": 29,
     "metadata": {},
     "output_type": "execute_result"
    }
   ],
   "source": [
    "data['items'][0].keys()"
   ]
  },
  {
   "cell_type": "code",
   "execution_count": 30,
   "id": "254d3458",
   "metadata": {},
   "outputs": [
    {
     "data": {
      "text/html": [
       "<div>\n",
       "<style scoped>\n",
       "    .dataframe tbody tr th:only-of-type {\n",
       "        vertical-align: middle;\n",
       "    }\n",
       "\n",
       "    .dataframe tbody tr th {\n",
       "        vertical-align: top;\n",
       "    }\n",
       "\n",
       "    .dataframe thead th {\n",
       "        text-align: right;\n",
       "    }\n",
       "</style>\n",
       "<table border=\"1\" class=\"dataframe\">\n",
       "  <thead>\n",
       "    <tr style=\"text-align: right;\">\n",
       "      <th></th>\n",
       "      <th>title</th>\n",
       "      <th>link</th>\n",
       "      <th>image</th>\n",
       "      <th>author</th>\n",
       "      <th>discount</th>\n",
       "      <th>publisher</th>\n",
       "      <th>pubdate</th>\n",
       "      <th>isbn</th>\n",
       "      <th>description</th>\n",
       "    </tr>\n",
       "  </thead>\n",
       "  <tbody>\n",
       "    <tr>\n",
       "      <th>0</th>\n",
       "      <td>파이썬과 데이터 과학 (파이썬으로 시작하는 데이터 과학과 기계학습)</td>\n",
       "      <td>https://search.shopping.naver.com/book/catalog...</td>\n",
       "      <td>https://shopping-phinf.pstatic.net/main_324915...</td>\n",
       "      <td>천인국^박동규</td>\n",
       "      <td>24700</td>\n",
       "      <td>생능출판</td>\n",
       "      <td>20201228</td>\n",
       "      <td>9788970504773</td>\n",
       "      <td>최근 가장 빠르게 인기를 얻고 있는 프로그래밍 언어는 바로 파이썬이다. 그 속도는 ...</td>\n",
       "    </tr>\n",
       "    <tr>\n",
       "      <th>1</th>\n",
       "      <td>두근두근 파이썬 (만들면서 배우는)</td>\n",
       "      <td>https://search.shopping.naver.com/book/catalog...</td>\n",
       "      <td>https://shopping-phinf.pstatic.net/main_368131...</td>\n",
       "      <td>천인국</td>\n",
       "      <td>23750</td>\n",
       "      <td>생능출판</td>\n",
       "      <td>20230105</td>\n",
       "      <td>9788970506562</td>\n",
       "      <td>파이썬은 지금도 프로그래밍 언어 분야에 1위를 지키고 있는 매우 인기있는 언어이다....</td>\n",
       "    </tr>\n",
       "    <tr>\n",
       "      <th>2</th>\n",
       "      <td>코딩 뇌를 깨우는 파이썬 (문제 해결 능력을 키우는 컴퓨팅 사고부터 알고리즘, 데이...</td>\n",
       "      <td>https://search.shopping.naver.com/book/catalog...</td>\n",
       "      <td>https://shopping-phinf.pstatic.net/main_421730...</td>\n",
       "      <td>존 V. 구태그</td>\n",
       "      <td>31500</td>\n",
       "      <td>한빛미디어</td>\n",
       "      <td>20230830</td>\n",
       "      <td>9791169211376</td>\n",
       "      <td>잠자는 코딩 뇌를 깨워라\\n파이썬 기초부터 머신러닝까지 한 권에!\\n\\n프로그래밍 ...</td>\n",
       "    </tr>\n",
       "    <tr>\n",
       "      <th>3</th>\n",
       "      <td>Do it! 점프 투 파이썬 (중학생도 첫날부터 실습하는 초고속 입문서, 전면 개정...</td>\n",
       "      <td>https://search.shopping.naver.com/book/catalog...</td>\n",
       "      <td>https://shopping-phinf.pstatic.net/main_403540...</td>\n",
       "      <td>박응용</td>\n",
       "      <td>19800</td>\n",
       "      <td>이지스퍼블리싱</td>\n",
       "      <td>20230615</td>\n",
       "      <td>9791163034735</td>\n",
       "      <td>프로그래밍 분야 8년 연속 베스트셀러! 《Do it! 점프 투 파이썬》 전면 개정 ...</td>\n",
       "    </tr>\n",
       "    <tr>\n",
       "      <th>4</th>\n",
       "      <td>나는 파이썬으로 머신러닝한다 2 (인공지능 자신감 UP 인공지능 약간 매운맛)</td>\n",
       "      <td>https://search.shopping.naver.com/book/catalog...</td>\n",
       "      <td>https://shopping-phinf.pstatic.net/main_424846...</td>\n",
       "      <td>장병철^이지항^박지훈^최정원</td>\n",
       "      <td>20700</td>\n",
       "      <td>씨마스</td>\n",
       "      <td>20230901</td>\n",
       "      <td>9791156725046</td>\n",
       "      <td>〈나는 파이썬으로 머신러닝한다 2 약간 매운맛〉\\n\\n파이썬 문법과 머신러닝 기초 ...</td>\n",
       "    </tr>\n",
       "    <tr>\n",
       "      <th>...</th>\n",
       "      <td>...</td>\n",
       "      <td>...</td>\n",
       "      <td>...</td>\n",
       "      <td>...</td>\n",
       "      <td>...</td>\n",
       "      <td>...</td>\n",
       "      <td>...</td>\n",
       "      <td>...</td>\n",
       "      <td>...</td>\n",
       "    </tr>\n",
       "    <tr>\n",
       "      <th>919</th>\n",
       "      <td>OpenCV 4를 활용한 머신러닝 입문 2/e (OpenCV 4, 파이썬, scik...</td>\n",
       "      <td>https://search.shopping.naver.com/book/catalog...</td>\n",
       "      <td>https://shopping-phinf.pstatic.net/main_324833...</td>\n",
       "      <td>아디타 샤르마^비슈베쉬 라비 슈리말리^마이클 베이어</td>\n",
       "      <td>36000</td>\n",
       "      <td>에이콘출판</td>\n",
       "      <td>20201030</td>\n",
       "      <td>9791161754628</td>\n",
       "      <td>머신러닝은 경험을 통해 자동으로 개선하는 컴퓨터 알고리즘 연구이며, 인공지능의 한 ...</td>\n",
       "    </tr>\n",
       "    <tr>\n",
       "      <th>920</th>\n",
       "      <td>실무가 훤히 보이는 머신러닝 &amp; 딥러닝 (파이썬 실전 코딩으로 배우는 한글 자연어 ...</td>\n",
       "      <td>https://search.shopping.naver.com/book/catalog...</td>\n",
       "      <td>https://shopping-phinf.pstatic.net/main_324833...</td>\n",
       "      <td>마창수^최재철</td>\n",
       "      <td>22470</td>\n",
       "      <td>책만</td>\n",
       "      <td>20190731</td>\n",
       "      <td>9791189909031</td>\n",
       "      <td>실전 인공지능 기술과 서비스를 설계해 실무에 적용하고, 머신러닝과 딥러닝 개발을 직...</td>\n",
       "    </tr>\n",
       "    <tr>\n",
       "      <th>921</th>\n",
       "      <td>초보 해커를 위한 해킹 입문 세트 - 전2권 (『(개정판) 해킹: 공격의 예술』+『...</td>\n",
       "      <td>https://search.shopping.naver.com/book/catalog...</td>\n",
       "      <td>https://shopping-phinf.pstatic.net/main_324814...</td>\n",
       "      <td>존 에릭슨</td>\n",
       "      <td>44100</td>\n",
       "      <td>에이콘출판</td>\n",
       "      <td>20110531</td>\n",
       "      <td>9788960772052</td>\n",
       "      <td>프로그래밍에서부터 공격 가능한 기계어 코드까지 해킹에 필요한 모든 것을 다룸으로써 ...</td>\n",
       "    </tr>\n",
       "    <tr>\n",
       "      <th>922</th>\n",
       "      <td>코어 파이썬 애플리케이션 프로그래밍 Core Python Applications P...</td>\n",
       "      <td>https://search.shopping.naver.com/book/catalog...</td>\n",
       "      <td>https://shopping-phinf.pstatic.net/main_324663...</td>\n",
       "      <td>웨슬리 천</td>\n",
       "      <td>45000</td>\n",
       "      <td>에이콘출판</td>\n",
       "      <td>20140129</td>\n",
       "      <td>9788960775213</td>\n",
       "      <td>초중급 독자가 실전에 활용할 수 있도록 정규식, 스레드 프로그래밍, GUI, 네트워...</td>\n",
       "    </tr>\n",
       "    <tr>\n",
       "      <th>923</th>\n",
       "      <td>손에 잡히는 실전 비즈니스 인텔리전스 (Power BI, 엑셀, D3.js, R, ...</td>\n",
       "      <td>https://search.shopping.naver.com/book/catalog...</td>\n",
       "      <td>https://shopping-phinf.pstatic.net/main_324926...</td>\n",
       "      <td>아메드 셰리프</td>\n",
       "      <td>27000</td>\n",
       "      <td>에이콘출판</td>\n",
       "      <td>20170428</td>\n",
       "      <td>9788960779426</td>\n",
       "      <td>Power BI, 엑셀, D3.js, R, 파이썬, Qlik, Tableau, Mi...</td>\n",
       "    </tr>\n",
       "  </tbody>\n",
       "</table>\n",
       "<p>924 rows × 9 columns</p>\n",
       "</div>"
      ],
      "text/plain": [
       "                                                 title  \\\n",
       "0                파이썬과 데이터 과학 (파이썬으로 시작하는 데이터 과학과 기계학습)   \n",
       "1                                  두근두근 파이썬 (만들면서 배우는)   \n",
       "2    코딩 뇌를 깨우는 파이썬 (문제 해결 능력을 키우는 컴퓨팅 사고부터 알고리즘, 데이...   \n",
       "3    Do it! 점프 투 파이썬 (중학생도 첫날부터 실습하는 초고속 입문서, 전면 개정...   \n",
       "4          나는 파이썬으로 머신러닝한다 2 (인공지능 자신감 UP 인공지능 약간 매운맛)   \n",
       "..                                                 ...   \n",
       "919  OpenCV 4를 활용한 머신러닝 입문 2/e (OpenCV 4, 파이썬, scik...   \n",
       "920  실무가 훤히 보이는 머신러닝 & 딥러닝 (파이썬 실전 코딩으로 배우는 한글 자연어 ...   \n",
       "921  초보 해커를 위한 해킹 입문 세트 - 전2권 (『(개정판) 해킹: 공격의 예술』+『...   \n",
       "922  코어 파이썬 애플리케이션 프로그래밍 Core Python Applications P...   \n",
       "923  손에 잡히는 실전 비즈니스 인텔리전스 (Power BI, 엑셀, D3.js, R, ...   \n",
       "\n",
       "                                                  link  \\\n",
       "0    https://search.shopping.naver.com/book/catalog...   \n",
       "1    https://search.shopping.naver.com/book/catalog...   \n",
       "2    https://search.shopping.naver.com/book/catalog...   \n",
       "3    https://search.shopping.naver.com/book/catalog...   \n",
       "4    https://search.shopping.naver.com/book/catalog...   \n",
       "..                                                 ...   \n",
       "919  https://search.shopping.naver.com/book/catalog...   \n",
       "920  https://search.shopping.naver.com/book/catalog...   \n",
       "921  https://search.shopping.naver.com/book/catalog...   \n",
       "922  https://search.shopping.naver.com/book/catalog...   \n",
       "923  https://search.shopping.naver.com/book/catalog...   \n",
       "\n",
       "                                                 image  \\\n",
       "0    https://shopping-phinf.pstatic.net/main_324915...   \n",
       "1    https://shopping-phinf.pstatic.net/main_368131...   \n",
       "2    https://shopping-phinf.pstatic.net/main_421730...   \n",
       "3    https://shopping-phinf.pstatic.net/main_403540...   \n",
       "4    https://shopping-phinf.pstatic.net/main_424846...   \n",
       "..                                                 ...   \n",
       "919  https://shopping-phinf.pstatic.net/main_324833...   \n",
       "920  https://shopping-phinf.pstatic.net/main_324833...   \n",
       "921  https://shopping-phinf.pstatic.net/main_324814...   \n",
       "922  https://shopping-phinf.pstatic.net/main_324663...   \n",
       "923  https://shopping-phinf.pstatic.net/main_324926...   \n",
       "\n",
       "                           author discount publisher   pubdate           isbn  \\\n",
       "0                         천인국^박동규    24700      생능출판  20201228  9788970504773   \n",
       "1                             천인국    23750      생능출판  20230105  9788970506562   \n",
       "2                        존 V. 구태그    31500     한빛미디어  20230830  9791169211376   \n",
       "3                             박응용    19800   이지스퍼블리싱  20230615  9791163034735   \n",
       "4                 장병철^이지항^박지훈^최정원    20700       씨마스  20230901  9791156725046   \n",
       "..                            ...      ...       ...       ...            ...   \n",
       "919  아디타 샤르마^비슈베쉬 라비 슈리말리^마이클 베이어    36000     에이콘출판  20201030  9791161754628   \n",
       "920                       마창수^최재철    22470        책만  20190731  9791189909031   \n",
       "921                         존 에릭슨    44100     에이콘출판  20110531  9788960772052   \n",
       "922                         웨슬리 천    45000     에이콘출판  20140129  9788960775213   \n",
       "923                       아메드 셰리프    27000     에이콘출판  20170428  9788960779426   \n",
       "\n",
       "                                           description  \n",
       "0    최근 가장 빠르게 인기를 얻고 있는 프로그래밍 언어는 바로 파이썬이다. 그 속도는 ...  \n",
       "1    파이썬은 지금도 프로그래밍 언어 분야에 1위를 지키고 있는 매우 인기있는 언어이다....  \n",
       "2    잠자는 코딩 뇌를 깨워라\\n파이썬 기초부터 머신러닝까지 한 권에!\\n\\n프로그래밍 ...  \n",
       "3    프로그래밍 분야 8년 연속 베스트셀러! 《Do it! 점프 투 파이썬》 전면 개정 ...  \n",
       "4    〈나는 파이썬으로 머신러닝한다 2 약간 매운맛〉\\n\\n파이썬 문법과 머신러닝 기초 ...  \n",
       "..                                                 ...  \n",
       "919  머신러닝은 경험을 통해 자동으로 개선하는 컴퓨터 알고리즘 연구이며, 인공지능의 한 ...  \n",
       "920  실전 인공지능 기술과 서비스를 설계해 실무에 적용하고, 머신러닝과 딥러닝 개발을 직...  \n",
       "921  프로그래밍에서부터 공격 가능한 기계어 코드까지 해킹에 필요한 모든 것을 다룸으로써 ...  \n",
       "922  초중급 독자가 실전에 활용할 수 있도록 정규식, 스레드 프로그래밍, GUI, 네트워...  \n",
       "923  Power BI, 엑셀, D3.js, R, 파이썬, Qlik, Tableau, Mi...  \n",
       "\n",
       "[924 rows x 9 columns]"
      ]
     },
     "execution_count": 30,
     "metadata": {},
     "output_type": "execute_result"
    }
   ],
   "source": [
    "df = pd.DataFrame(books, columns=data['items'][0].keys())\n",
    "df"
   ]
  },
  {
   "cell_type": "code",
   "execution_count": 31,
   "id": "ad0623e8",
   "metadata": {},
   "outputs": [],
   "source": [
    "df.to_csv('./data/네이버API_책 데이터_수집.csv', index=False)"
   ]
  },
  {
   "cell_type": "code",
   "execution_count": null,
   "id": "a2a5e1f9",
   "metadata": {},
   "outputs": [],
   "source": []
  },
  {
   "cell_type": "code",
   "execution_count": null,
   "id": "90c07f04",
   "metadata": {},
   "outputs": [],
   "source": []
  },
  {
   "cell_type": "code",
   "execution_count": null,
   "id": "0ec95472",
   "metadata": {},
   "outputs": [],
   "source": []
  },
  {
   "cell_type": "code",
   "execution_count": null,
   "id": "b92a4315",
   "metadata": {},
   "outputs": [],
   "source": []
  },
  {
   "cell_type": "code",
   "execution_count": null,
   "id": "78c82e21",
   "metadata": {},
   "outputs": [],
   "source": []
  },
  {
   "cell_type": "code",
   "execution_count": null,
   "id": "6ad32065",
   "metadata": {},
   "outputs": [],
   "source": []
  },
  {
   "cell_type": "code",
   "execution_count": null,
   "id": "520ded2b",
   "metadata": {},
   "outputs": [],
   "source": []
  },
  {
   "cell_type": "code",
   "execution_count": null,
   "id": "88a4a691",
   "metadata": {},
   "outputs": [],
   "source": []
  },
  {
   "cell_type": "code",
   "execution_count": null,
   "id": "b2563f5e",
   "metadata": {},
   "outputs": [],
   "source": []
  },
  {
   "cell_type": "code",
   "execution_count": null,
   "id": "5211e120",
   "metadata": {},
   "outputs": [],
   "source": []
  },
  {
   "cell_type": "code",
   "execution_count": null,
   "id": "a1c38dfb",
   "metadata": {},
   "outputs": [],
   "source": []
  },
  {
   "cell_type": "code",
   "execution_count": null,
   "id": "be6b0c41",
   "metadata": {},
   "outputs": [],
   "source": []
  },
  {
   "cell_type": "code",
   "execution_count": null,
   "id": "2c42654b",
   "metadata": {},
   "outputs": [],
   "source": []
  },
  {
   "cell_type": "code",
   "execution_count": null,
   "id": "6d02bb3e",
   "metadata": {},
   "outputs": [],
   "source": []
  },
  {
   "cell_type": "code",
   "execution_count": null,
   "id": "fa14276f",
   "metadata": {},
   "outputs": [],
   "source": []
  },
  {
   "cell_type": "code",
   "execution_count": null,
   "id": "9112510d",
   "metadata": {},
   "outputs": [],
   "source": []
  },
  {
   "cell_type": "code",
   "execution_count": null,
   "id": "b2f61a88",
   "metadata": {},
   "outputs": [],
   "source": []
  },
  {
   "cell_type": "code",
   "execution_count": null,
   "id": "f6d10788",
   "metadata": {},
   "outputs": [],
   "source": []
  },
  {
   "cell_type": "code",
   "execution_count": null,
   "id": "71d14533",
   "metadata": {},
   "outputs": [],
   "source": []
  }
 ],
 "metadata": {
  "kernelspec": {
   "display_name": "testenv",
   "language": "python",
   "name": "testenv"
  },
  "language_info": {
   "codemirror_mode": {
    "name": "ipython",
    "version": 3
   },
   "file_extension": ".py",
   "mimetype": "text/x-python",
   "name": "python",
   "nbconvert_exporter": "python",
   "pygments_lexer": "ipython3",
   "version": "3.8.17"
  }
 },
 "nbformat": 4,
 "nbformat_minor": 5
}
