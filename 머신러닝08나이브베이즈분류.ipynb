{
 "cells": [
  {
   "cell_type": "markdown",
   "id": "1987ca0f",
   "metadata": {},
   "source": [
    "# 나이브베이즈 분류\n",
    "* 베이즈이론(베이지안 확률)\n",
    "  * A가 일어났을 때 B가 일어날 확률\n",
    "  * 메일 제목에 '무료'라는 단어가 들어있을 때 스펨 메일일 확률\n",
    "  * 주관적으로 확률을 해석\n",
    "  * 데이터를 통해서 확률을 추정할 때 현재 관측된 데이터의 빈도만으로 분석하는 것이 아니라 분석자의 사전지식(혹의 알려진 사실, 분석자의 주관) 까지 포함해 부석하는 방법\n",
    "  * 베이즈 정리에서 확률은 '주장' 혹은 '믿음의 신뢰도'로 나타난다.\n",
    "* 나이브 베이즈 분류 모델은 베이즈 정리를 기반으로 한 지도학습 모델로, 스펨 메일 필터링, 텍스트 분류 등에 사용된다.\n",
    "* 나이브 베이즈는 데이터의 모든 특성 변수가 서로 동등하고 독립적이라는 가정하에 분류를 실행한다.\n",
    "* 독립 변수의 특성들은 나이브 베이즈 분류기에서 서로 연관성이 없고, 각각의 특성이 독립적으로 기여하는 것으로 간주한다."
   ]
  },
  {
   "cell_type": "code",
   "execution_count": 1,
   "id": "bae5bf6b",
   "metadata": {},
   "outputs": [],
   "source": [
    "import pandas as pd\n",
    "import numpy as np\n",
    "import matplotlib.pyplot as plt\n",
    "import seaborn as sns\n",
    "import koreanize_matplotlib"
   ]
  },
  {
   "cell_type": "code",
   "execution_count": 2,
   "id": "711574c9",
   "metadata": {},
   "outputs": [
    {
     "data": {
      "text/html": [
       "<div>\n",
       "<style scoped>\n",
       "    .dataframe tbody tr th:only-of-type {\n",
       "        vertical-align: middle;\n",
       "    }\n",
       "\n",
       "    .dataframe tbody tr th {\n",
       "        vertical-align: top;\n",
       "    }\n",
       "\n",
       "    .dataframe thead th {\n",
       "        text-align: right;\n",
       "    }\n",
       "</style>\n",
       "<table border=\"1\" class=\"dataframe\">\n",
       "  <thead>\n",
       "    <tr style=\"text-align: right;\">\n",
       "      <th></th>\n",
       "      <th>Daily Time Spent on Site</th>\n",
       "      <th>Age</th>\n",
       "      <th>Area Income</th>\n",
       "      <th>Daily Internet Usage</th>\n",
       "      <th>Ad Topic Line</th>\n",
       "      <th>City</th>\n",
       "      <th>Male</th>\n",
       "      <th>Country</th>\n",
       "      <th>Timestamp</th>\n",
       "      <th>Clicked on Ad</th>\n",
       "    </tr>\n",
       "  </thead>\n",
       "  <tbody>\n",
       "    <tr>\n",
       "      <th>0</th>\n",
       "      <td>68.95</td>\n",
       "      <td>NaN</td>\n",
       "      <td>61833.90</td>\n",
       "      <td>256.09</td>\n",
       "      <td>Cloned 5thgeneration orchestration</td>\n",
       "      <td>Wrightburgh</td>\n",
       "      <td>0</td>\n",
       "      <td>Tunisia</td>\n",
       "      <td>3/27/2016 0:53</td>\n",
       "      <td>0</td>\n",
       "    </tr>\n",
       "    <tr>\n",
       "      <th>1</th>\n",
       "      <td>80.23</td>\n",
       "      <td>31.0</td>\n",
       "      <td>68441.85</td>\n",
       "      <td>193.77</td>\n",
       "      <td>Monitored national standardization</td>\n",
       "      <td>West Jodi</td>\n",
       "      <td>1</td>\n",
       "      <td>Nauru</td>\n",
       "      <td>4/4/2016 1:39</td>\n",
       "      <td>0</td>\n",
       "    </tr>\n",
       "    <tr>\n",
       "      <th>2</th>\n",
       "      <td>69.47</td>\n",
       "      <td>26.0</td>\n",
       "      <td>59785.94</td>\n",
       "      <td>236.50</td>\n",
       "      <td>Organic bottom-line service-desk</td>\n",
       "      <td>Davidton</td>\n",
       "      <td>0</td>\n",
       "      <td>San Marino</td>\n",
       "      <td>3/13/2016 20:35</td>\n",
       "      <td>0</td>\n",
       "    </tr>\n",
       "    <tr>\n",
       "      <th>3</th>\n",
       "      <td>74.15</td>\n",
       "      <td>29.0</td>\n",
       "      <td>54806.18</td>\n",
       "      <td>245.89</td>\n",
       "      <td>Triple-buffered reciprocal time-frame</td>\n",
       "      <td>West Terrifurt</td>\n",
       "      <td>1</td>\n",
       "      <td>Italy</td>\n",
       "      <td>1/10/2016 2:31</td>\n",
       "      <td>0</td>\n",
       "    </tr>\n",
       "    <tr>\n",
       "      <th>4</th>\n",
       "      <td>68.37</td>\n",
       "      <td>35.0</td>\n",
       "      <td>73889.99</td>\n",
       "      <td>225.58</td>\n",
       "      <td>Robust logistical utilization</td>\n",
       "      <td>South Manuel</td>\n",
       "      <td>0</td>\n",
       "      <td>Iceland</td>\n",
       "      <td>6/3/2016 3:36</td>\n",
       "      <td>0</td>\n",
       "    </tr>\n",
       "  </tbody>\n",
       "</table>\n",
       "</div>"
      ],
      "text/plain": [
       "   Daily Time Spent on Site   Age  Area Income  Daily Internet Usage  \\\n",
       "0                     68.95   NaN     61833.90                256.09   \n",
       "1                     80.23  31.0     68441.85                193.77   \n",
       "2                     69.47  26.0     59785.94                236.50   \n",
       "3                     74.15  29.0     54806.18                245.89   \n",
       "4                     68.37  35.0     73889.99                225.58   \n",
       "\n",
       "                           Ad Topic Line            City  Male     Country  \\\n",
       "0     Cloned 5thgeneration orchestration     Wrightburgh     0     Tunisia   \n",
       "1     Monitored national standardization       West Jodi     1       Nauru   \n",
       "2       Organic bottom-line service-desk        Davidton     0  San Marino   \n",
       "3  Triple-buffered reciprocal time-frame  West Terrifurt     1       Italy   \n",
       "4          Robust logistical utilization    South Manuel     0     Iceland   \n",
       "\n",
       "         Timestamp  Clicked on Ad  \n",
       "0   3/27/2016 0:53              0  \n",
       "1    4/4/2016 1:39              0  \n",
       "2  3/13/2016 20:35              0  \n",
       "3   1/10/2016 2:31              0  \n",
       "4    6/3/2016 3:36              0  "
      ]
     },
     "execution_count": 2,
     "metadata": {},
     "output_type": "execute_result"
    }
   ],
   "source": [
    "data = pd.read_csv('https://raw.githubusercontent.com/haram4th/ablearn/main/advertising.csv')\n",
    "data.head()"
   ]
  },
  {
   "cell_type": "code",
   "execution_count": 3,
   "id": "711bd484",
   "metadata": {},
   "outputs": [
    {
     "data": {
      "text/plain": [
       "Daily Time Spent on Site     0\n",
       "Age                         84\n",
       "Area Income                  0\n",
       "Daily Internet Usage         0\n",
       "Ad Topic Line                0\n",
       "City                         0\n",
       "Male                         0\n",
       "Country                      0\n",
       "Timestamp                    0\n",
       "Clicked on Ad                0\n",
       "dtype: int64"
      ]
     },
     "execution_count": 3,
     "metadata": {},
     "output_type": "execute_result"
    }
   ],
   "source": [
    "data.isna().sum()"
   ]
  },
  {
   "cell_type": "code",
   "execution_count": 4,
   "id": "a5c04de5",
   "metadata": {},
   "outputs": [
    {
     "data": {
      "text/plain": [
       "Age   Clicked on Ad\n",
       "19.0  0                5\n",
       "      1                1\n",
       "20.0  0                5\n",
       "      1                1\n",
       "21.0  0                5\n",
       "                      ..\n",
       "57.0  1                6\n",
       "58.0  1                4\n",
       "59.0  1                2\n",
       "60.0  1                4\n",
       "61.0  1                1\n",
       "Name: count, Length: 76, dtype: int64"
      ]
     },
     "execution_count": 4,
     "metadata": {},
     "output_type": "execute_result"
    }
   ],
   "source": [
    "data.groupby('Age')['Clicked on Ad'].value_counts()"
   ]
  },
  {
   "cell_type": "code",
   "execution_count": 5,
   "id": "cfb2344c",
   "metadata": {},
   "outputs": [],
   "source": [
    "data2 = data[data['Age'].isna() == False]"
   ]
  },
  {
   "cell_type": "code",
   "execution_count": 6,
   "id": "a313652f",
   "metadata": {},
   "outputs": [
    {
     "data": {
      "text/plain": [
       "count    916.000000\n",
       "mean      36.128821\n",
       "std        9.018548\n",
       "min       19.000000\n",
       "25%       29.000000\n",
       "50%       35.000000\n",
       "75%       42.000000\n",
       "max       61.000000\n",
       "Name: Age, dtype: float64"
      ]
     },
     "execution_count": 6,
     "metadata": {},
     "output_type": "execute_result"
    }
   ],
   "source": [
    "data2['Age'].describe()"
   ]
  },
  {
   "cell_type": "code",
   "execution_count": 7,
   "id": "242a15ee",
   "metadata": {},
   "outputs": [],
   "source": [
    "def ages(x):\n",
    "    if x < 20:\n",
    "        return '10s'\n",
    "    elif 20 <= x < 30:\n",
    "        return '20s'\n",
    "    elif 30 <= x < 40:\n",
    "        return '30s'\n",
    "    elif 40 <= x < 50:\n",
    "        return '40s'\n",
    "    elif 50 <= x < 60:\n",
    "        return '50s'\n",
    "    elif 60 <= x < 70:\n",
    "        return '60s'"
   ]
  },
  {
   "cell_type": "code",
   "execution_count": 8,
   "id": "3551b1de",
   "metadata": {},
   "outputs": [
    {
     "name": "stderr",
     "output_type": "stream",
     "text": [
      "C:\\Users\\hi\\AppData\\Local\\Temp\\ipykernel_9272\\3509914117.py:1: SettingWithCopyWarning: \n",
      "A value is trying to be set on a copy of a slice from a DataFrame.\n",
      "Try using .loc[row_indexer,col_indexer] = value instead\n",
      "\n",
      "See the caveats in the documentation: https://pandas.pydata.org/pandas-docs/stable/user_guide/indexing.html#returning-a-view-versus-a-copy\n",
      "  data2['Age'] = data2['Age'].apply(ages)\n"
     ]
    }
   ],
   "source": [
    "data2['Age'] = data2['Age'].apply(ages)"
   ]
  },
  {
   "cell_type": "code",
   "execution_count": 9,
   "id": "52eb091d",
   "metadata": {},
   "outputs": [
    {
     "data": {
      "text/plain": [
       "1      30s\n",
       "2      20s\n",
       "3      20s\n",
       "4      30s\n",
       "5      20s\n",
       "      ... \n",
       "995    30s\n",
       "996    40s\n",
       "997    50s\n",
       "998    10s\n",
       "999    20s\n",
       "Name: Age, Length: 916, dtype: object"
      ]
     },
     "execution_count": 9,
     "metadata": {},
     "output_type": "execute_result"
    }
   ],
   "source": [
    "data2['Age']"
   ]
  },
  {
   "cell_type": "code",
   "execution_count": 10,
   "id": "d912ada0",
   "metadata": {},
   "outputs": [
    {
     "data": {
      "text/plain": [
       "Age  Clicked on Ad\n",
       "10s  0                  5\n",
       "     1                  1\n",
       "20s  0                183\n",
       "     1                 61\n",
       "30s  0                211\n",
       "     1                143\n",
       "40s  0                 51\n",
       "     1                169\n",
       "50s  0                  4\n",
       "     1                 83\n",
       "60s  1                  5\n",
       "Name: count, dtype: int64"
      ]
     },
     "execution_count": 10,
     "metadata": {},
     "output_type": "execute_result"
    }
   ],
   "source": [
    "data2.groupby('Age')['Clicked on Ad'].value_counts(sort=False)"
   ]
  },
  {
   "cell_type": "code",
   "execution_count": 11,
   "id": "07ad2ea7",
   "metadata": {
    "scrolled": true
   },
   "outputs": [
    {
     "data": {
      "text/plain": [
       "22           Mandatory disintermediate utilization\n",
       "27                  Monitored systematic hierarchy\n",
       "32                     Digitized global capability\n",
       "34             Synchronized dedicated service-desk\n",
       "36                         Profound stable product\n",
       "                          ...                     \n",
       "965                       Intuitive global website\n",
       "966    Exclusive disintermediate Internet solution\n",
       "972                   Switchable real-time product\n",
       "980          Focused incremental Graphic Interface\n",
       "997                   Expanded intangible solution\n",
       "Name: Ad Topic Line, Length: 87, dtype: object"
      ]
     },
     "execution_count": 11,
     "metadata": {},
     "output_type": "execute_result"
    }
   ],
   "source": [
    "data2.loc[data2['Age'] == '50s', 'Ad Topic Line']"
   ]
  },
  {
   "cell_type": "code",
   "execution_count": 12,
   "id": "70a1df42",
   "metadata": {},
   "outputs": [],
   "source": [
    "data.loc[(data['Age'].isna() == True) & (data['Clicked on Ad'] == 0)] = '10s'"
   ]
  },
  {
   "cell_type": "code",
   "execution_count": 13,
   "id": "8696ce8d",
   "metadata": {
    "scrolled": true
   },
   "outputs": [],
   "source": [
    "data.loc[(data['Age'].isna() == True) & (data['Clicked on Ad'] == 1)] = '50s'"
   ]
  },
  {
   "cell_type": "code",
   "execution_count": 14,
   "id": "1a9c0e3c",
   "metadata": {},
   "outputs": [
    {
     "data": {
      "text/html": [
       "<div>\n",
       "<style scoped>\n",
       "    .dataframe tbody tr th:only-of-type {\n",
       "        vertical-align: middle;\n",
       "    }\n",
       "\n",
       "    .dataframe tbody tr th {\n",
       "        vertical-align: top;\n",
       "    }\n",
       "\n",
       "    .dataframe thead th {\n",
       "        text-align: right;\n",
       "    }\n",
       "</style>\n",
       "<table border=\"1\" class=\"dataframe\">\n",
       "  <thead>\n",
       "    <tr style=\"text-align: right;\">\n",
       "      <th></th>\n",
       "      <th>Daily Time Spent on Site</th>\n",
       "      <th>Age</th>\n",
       "      <th>Area Income</th>\n",
       "      <th>Daily Internet Usage</th>\n",
       "      <th>Ad Topic Line</th>\n",
       "      <th>City</th>\n",
       "      <th>Male</th>\n",
       "      <th>Country</th>\n",
       "      <th>Timestamp</th>\n",
       "      <th>Clicked on Ad</th>\n",
       "    </tr>\n",
       "  </thead>\n",
       "  <tbody>\n",
       "    <tr>\n",
       "      <th>0</th>\n",
       "      <td>10s</td>\n",
       "      <td>10s</td>\n",
       "      <td>10s</td>\n",
       "      <td>10s</td>\n",
       "      <td>10s</td>\n",
       "      <td>10s</td>\n",
       "      <td>10s</td>\n",
       "      <td>10s</td>\n",
       "      <td>10s</td>\n",
       "      <td>10s</td>\n",
       "    </tr>\n",
       "    <tr>\n",
       "      <th>1</th>\n",
       "      <td>80.23</td>\n",
       "      <td>31.0</td>\n",
       "      <td>68441.85</td>\n",
       "      <td>193.77</td>\n",
       "      <td>Monitored national standardization</td>\n",
       "      <td>West Jodi</td>\n",
       "      <td>1</td>\n",
       "      <td>Nauru</td>\n",
       "      <td>4/4/2016 1:39</td>\n",
       "      <td>0</td>\n",
       "    </tr>\n",
       "    <tr>\n",
       "      <th>2</th>\n",
       "      <td>69.47</td>\n",
       "      <td>26.0</td>\n",
       "      <td>59785.94</td>\n",
       "      <td>236.5</td>\n",
       "      <td>Organic bottom-line service-desk</td>\n",
       "      <td>Davidton</td>\n",
       "      <td>0</td>\n",
       "      <td>San Marino</td>\n",
       "      <td>3/13/2016 20:35</td>\n",
       "      <td>0</td>\n",
       "    </tr>\n",
       "    <tr>\n",
       "      <th>3</th>\n",
       "      <td>74.15</td>\n",
       "      <td>29.0</td>\n",
       "      <td>54806.18</td>\n",
       "      <td>245.89</td>\n",
       "      <td>Triple-buffered reciprocal time-frame</td>\n",
       "      <td>West Terrifurt</td>\n",
       "      <td>1</td>\n",
       "      <td>Italy</td>\n",
       "      <td>1/10/2016 2:31</td>\n",
       "      <td>0</td>\n",
       "    </tr>\n",
       "    <tr>\n",
       "      <th>4</th>\n",
       "      <td>68.37</td>\n",
       "      <td>35.0</td>\n",
       "      <td>73889.99</td>\n",
       "      <td>225.58</td>\n",
       "      <td>Robust logistical utilization</td>\n",
       "      <td>South Manuel</td>\n",
       "      <td>0</td>\n",
       "      <td>Iceland</td>\n",
       "      <td>6/3/2016 3:36</td>\n",
       "      <td>0</td>\n",
       "    </tr>\n",
       "  </tbody>\n",
       "</table>\n",
       "</div>"
      ],
      "text/plain": [
       "  Daily Time Spent on Site   Age Area Income Daily Internet Usage  \\\n",
       "0                      10s   10s         10s                  10s   \n",
       "1                    80.23  31.0    68441.85               193.77   \n",
       "2                    69.47  26.0    59785.94                236.5   \n",
       "3                    74.15  29.0    54806.18               245.89   \n",
       "4                    68.37  35.0    73889.99               225.58   \n",
       "\n",
       "                           Ad Topic Line            City Male     Country  \\\n",
       "0                                    10s             10s  10s         10s   \n",
       "1     Monitored national standardization       West Jodi    1       Nauru   \n",
       "2       Organic bottom-line service-desk        Davidton    0  San Marino   \n",
       "3  Triple-buffered reciprocal time-frame  West Terrifurt    1       Italy   \n",
       "4          Robust logistical utilization    South Manuel    0     Iceland   \n",
       "\n",
       "         Timestamp Clicked on Ad  \n",
       "0              10s           10s  \n",
       "1    4/4/2016 1:39             0  \n",
       "2  3/13/2016 20:35             0  \n",
       "3   1/10/2016 2:31             0  \n",
       "4    6/3/2016 3:36             0  "
      ]
     },
     "execution_count": 14,
     "metadata": {},
     "output_type": "execute_result"
    }
   ],
   "source": [
    "data.head()"
   ]
  },
  {
   "cell_type": "code",
   "execution_count": 48,
   "id": "5fef224b",
   "metadata": {},
   "outputs": [
    {
     "name": "stderr",
     "output_type": "stream",
     "text": [
      "C:\\Users\\hi\\AppData\\Local\\Temp\\ipykernel_9272\\1507064382.py:1: SettingWithCopyWarning: \n",
      "A value is trying to be set on a copy of a slice from a DataFrame.\n",
      "Try using .loc[row_indexer,col_indexer] = value instead\n",
      "\n",
      "See the caveats in the documentation: https://pandas.pydata.org/pandas-docs/stable/user_guide/indexing.html#returning-a-view-versus-a-copy\n",
      "  data2['Age'] = data['Age']\n"
     ]
    }
   ],
   "source": [
    "data2['Age'] = data['Age']"
   ]
  },
  {
   "cell_type": "code",
   "execution_count": 51,
   "id": "dc234cd9",
   "metadata": {},
   "outputs": [
    {
     "name": "stdout",
     "output_type": "stream",
     "text": [
      "<class 'pandas.core.frame.DataFrame'>\n",
      "RangeIndex: 1000 entries, 0 to 999\n",
      "Data columns (total 10 columns):\n",
      " #   Column                    Non-Null Count  Dtype \n",
      "---  ------                    --------------  ----- \n",
      " 0   Daily Time Spent on Site  1000 non-null   object\n",
      " 1   Age                       916 non-null    object\n",
      " 2   Area Income               1000 non-null   object\n",
      " 3   Daily Internet Usage      1000 non-null   object\n",
      " 4   Ad Topic Line             1000 non-null   object\n",
      " 5   City                      1000 non-null   object\n",
      " 6   Male                      1000 non-null   object\n",
      " 7   Country                   1000 non-null   object\n",
      " 8   Timestamp                 1000 non-null   object\n",
      " 9   Clicked on Ad             1000 non-null   object\n",
      "dtypes: object(10)\n",
      "memory usage: 78.2+ KB\n"
     ]
    }
   ],
   "source": [
    "data.info()"
   ]
  },
  {
   "cell_type": "code",
   "execution_count": 52,
   "id": "84627cc1",
   "metadata": {},
   "outputs": [
    {
     "data": {
      "text/html": [
       "<div>\n",
       "<style scoped>\n",
       "    .dataframe tbody tr th:only-of-type {\n",
       "        vertical-align: middle;\n",
       "    }\n",
       "\n",
       "    .dataframe tbody tr th {\n",
       "        vertical-align: top;\n",
       "    }\n",
       "\n",
       "    .dataframe thead th {\n",
       "        text-align: right;\n",
       "    }\n",
       "</style>\n",
       "<table border=\"1\" class=\"dataframe\">\n",
       "  <thead>\n",
       "    <tr style=\"text-align: right;\">\n",
       "      <th></th>\n",
       "      <th>Daily Time Spent on Site</th>\n",
       "      <th>Age</th>\n",
       "      <th>Area Income</th>\n",
       "      <th>Daily Internet Usage</th>\n",
       "      <th>Ad Topic Line</th>\n",
       "      <th>City</th>\n",
       "      <th>Male</th>\n",
       "      <th>Country</th>\n",
       "      <th>Timestamp</th>\n",
       "      <th>Clicked on Ad</th>\n",
       "    </tr>\n",
       "  </thead>\n",
       "  <tbody>\n",
       "    <tr>\n",
       "      <th>count</th>\n",
       "      <td>1000</td>\n",
       "      <td>916.0</td>\n",
       "      <td>1000</td>\n",
       "      <td>1000</td>\n",
       "      <td>1000</td>\n",
       "      <td>1000</td>\n",
       "      <td>1000</td>\n",
       "      <td>1000</td>\n",
       "      <td>1000</td>\n",
       "      <td>1000</td>\n",
       "    </tr>\n",
       "    <tr>\n",
       "      <th>unique</th>\n",
       "      <td>835</td>\n",
       "      <td>43.0</td>\n",
       "      <td>918</td>\n",
       "      <td>887</td>\n",
       "      <td>918</td>\n",
       "      <td>892</td>\n",
       "      <td>4</td>\n",
       "      <td>237</td>\n",
       "      <td>916</td>\n",
       "      <td>4</td>\n",
       "    </tr>\n",
       "    <tr>\n",
       "      <th>top</th>\n",
       "      <td>10s</td>\n",
       "      <td>31.0</td>\n",
       "      <td>10s</td>\n",
       "      <td>10s</td>\n",
       "      <td>10s</td>\n",
       "      <td>10s</td>\n",
       "      <td>0</td>\n",
       "      <td>10s</td>\n",
       "      <td>10s</td>\n",
       "      <td>1</td>\n",
       "    </tr>\n",
       "    <tr>\n",
       "      <th>freq</th>\n",
       "      <td>46</td>\n",
       "      <td>53.0</td>\n",
       "      <td>46</td>\n",
       "      <td>46</td>\n",
       "      <td>46</td>\n",
       "      <td>46</td>\n",
       "      <td>475</td>\n",
       "      <td>46</td>\n",
       "      <td>46</td>\n",
       "      <td>462</td>\n",
       "    </tr>\n",
       "  </tbody>\n",
       "</table>\n",
       "</div>"
      ],
      "text/plain": [
       "       Daily Time Spent on Site    Age Area Income Daily Internet Usage  \\\n",
       "count                      1000  916.0        1000                 1000   \n",
       "unique                      835   43.0         918                  887   \n",
       "top                         10s   31.0         10s                  10s   \n",
       "freq                         46   53.0          46                   46   \n",
       "\n",
       "       Ad Topic Line  City  Male Country Timestamp  Clicked on Ad  \n",
       "count           1000  1000  1000    1000      1000           1000  \n",
       "unique           918   892     4     237       916              4  \n",
       "top              10s   10s     0     10s       10s              1  \n",
       "freq              46    46   475      46        46            462  "
      ]
     },
     "execution_count": 52,
     "metadata": {},
     "output_type": "execute_result"
    }
   ],
   "source": [
    "data.describe()"
   ]
  },
  {
   "cell_type": "code",
   "execution_count": 53,
   "id": "b01c366e",
   "metadata": {
    "scrolled": true
   },
   "outputs": [
    {
     "data": {
      "text/plain": [
       "<Axes: >"
      ]
     },
     "execution_count": 53,
     "metadata": {},
     "output_type": "execute_result"
    },
    {
     "data": {
      "image/png": "[encoded data removed]",
      "text/plain": [
       "<Figure size 640x480 with 1 Axes>"
      ]
     },
     "metadata": {},
     "output_type": "display_data"
    }
   ],
   "source": [
    "data2['Daily Time Spent on Site'].plot(kind='box')"
   ]
  },
  {
   "cell_type": "code",
   "execution_count": 23,
   "id": "b5925e5e",
   "metadata": {
    "scrolled": true
   },
   "outputs": [
    {
     "data": {
      "text/plain": [
       "<Axes: >"
      ]
     },
     "execution_count": 23,
     "metadata": {},
     "output_type": "execute_result"
    },
    {
     "data": {
      "image/png": "[encoded data removed]",
      "text/plain": [
       "<Figure size 640x480 with 1 Axes>"
      ]
     },
     "metadata": {},
     "output_type": "display_data"
    }
   ],
   "source": [
    "data2['Area Income'].plot(kind='box')"
   ]
  },
  {
   "cell_type": "code",
   "execution_count": 24,
   "id": "8ce501e1",
   "metadata": {
    "scrolled": true
   },
   "outputs": [
    {
     "data": {
      "text/plain": [
       "<Axes: >"
      ]
     },
     "execution_count": 24,
     "metadata": {},
     "output_type": "execute_result"
    },
    {
     "data": {
      "image/png": "[encoded data removed]",
      "text/plain": [
       "<Figure size 640x480 with 1 Axes>"
      ]
     },
     "metadata": {},
     "output_type": "display_data"
    }
   ],
   "source": [
    "data2['Daily Internet Usage'].plot(kind='box')"
   ]
  },
  {
   "cell_type": "code",
   "execution_count": 19,
   "id": "4f2c7a9c",
   "metadata": {
    "scrolled": true
   },
   "outputs": [
    {
     "data": {
      "text/plain": [
       "Index(['Daily Time Spent on Site', 'Age', 'Area Income',\n",
       "       'Daily Internet Usage', 'Ad Topic Line', 'City', 'Male', 'Country',\n",
       "       'Timestamp', 'Clicked on Ad'],\n",
       "      dtype='object')"
      ]
     },
     "execution_count": 19,
     "metadata": {},
     "output_type": "execute_result"
    }
   ],
   "source": [
    "data.columns"
   ]
  },
  {
   "cell_type": "code",
   "execution_count": 40,
   "id": "95084334",
   "metadata": {
    "scrolled": true
   },
   "outputs": [
    {
     "data": {
      "text/plain": [
       "<Axes: xlabel='Age'>"
      ]
     },
     "execution_count": 40,
     "metadata": {},
     "output_type": "execute_result"
    },
    {
     "data": {
      "image/png": "[encoded data removed]",
      "text/plain": [
       "<Figure size 640x480 with 1 Axes>"
      ]
     },
     "metadata": {},
     "output_type": "display_data"
    }
   ],
   "source": [
    "data['Age'].value_counts().plot(kind='bar')"
   ]
  },
  {
   "cell_type": "code",
   "execution_count": 26,
   "id": "69536076",
   "metadata": {},
   "outputs": [
    {
     "data": {
      "text/plain": [
       "<Axes: xlabel='Male'>"
      ]
     },
     "execution_count": 26,
     "metadata": {},
     "output_type": "execute_result"
    },
    {
     "data": {
      "image/png": "[encoded data removed]",
      "text/plain": [
       "<Figure size 640x480 with 1 Axes>"
      ]
     },
     "metadata": {},
     "output_type": "display_data"
    }
   ],
   "source": [
    "data['Male'].value_counts().plot(kind='bar')"
   ]
  },
  {
   "cell_type": "code",
   "execution_count": 29,
   "id": "e51c546a",
   "metadata": {},
   "outputs": [
    {
     "data": {
      "text/plain": [
       "235"
      ]
     },
     "execution_count": 29,
     "metadata": {},
     "output_type": "execute_result"
    }
   ],
   "source": [
    "data2['Country'].nunique()"
   ]
  },
  {
   "cell_type": "code",
   "execution_count": 30,
   "id": "06179520",
   "metadata": {},
   "outputs": [
    {
     "data": {
      "text/plain": [
       "Clicked on Ad\n",
       "1    462\n",
       "0    454\n",
       "Name: count, dtype: int64"
      ]
     },
     "execution_count": 30,
     "metadata": {},
     "output_type": "execute_result"
    }
   ],
   "source": [
    "data2['Clicked on Ad'].value_counts()"
   ]
  },
  {
   "cell_type": "code",
   "execution_count": 32,
   "id": "d9836dcc",
   "metadata": {
    "scrolled": true
   },
   "outputs": [
    {
     "name": "stderr",
     "output_type": "stream",
     "text": [
      "C:\\Users\\hi\\AppData\\Local\\Temp\\ipykernel_9272\\2749257783.py:1: UserWarning: \n",
      "\n",
      "`distplot` is a deprecated function and will be removed in seaborn v0.14.0.\n",
      "\n",
      "Please adapt your code to use either `displot` (a figure-level function with\n",
      "similar flexibility) or `histplot` (an axes-level function for histograms).\n",
      "\n",
      "For a guide to updating your code to use the new functions, please see\n",
      "https://gist.github.com/mwaskom/de44147ed2974457ad6372750bbe5751\n",
      "\n",
      "  sns.distplot(data2['Area Income'])\n"
     ]
    },
    {
     "data": {
      "text/plain": [
       "<Axes: xlabel='Area Income', ylabel='Density'>"
      ]
     },
     "execution_count": 32,
     "metadata": {},
     "output_type": "execute_result"
    },
    {
     "data": {
      "image/png": "[encoded data removed]",
      "text/plain": [
       "<Figure size 640x480 with 1 Axes>"
      ]
     },
     "metadata": {},
     "output_type": "display_data"
    }
   ],
   "source": [
    "sns.distplot(data2['Area Income'])"
   ]
  },
  {
   "cell_type": "code",
   "execution_count": 33,
   "id": "54cb72ca",
   "metadata": {},
   "outputs": [
    {
     "data": {
      "text/plain": [
       "Index(['Daily Time Spent on Site', 'Age', 'Area Income',\n",
       "       'Daily Internet Usage', 'Ad Topic Line', 'City', 'Male', 'Country',\n",
       "       'Timestamp', 'Clicked on Ad'],\n",
       "      dtype='object')"
      ]
     },
     "execution_count": 33,
     "metadata": {},
     "output_type": "execute_result"
    }
   ],
   "source": [
    "data.columns"
   ]
  },
  {
   "cell_type": "code",
   "execution_count": 36,
   "id": "dd728eb9",
   "metadata": {},
   "outputs": [],
   "source": [
    "X = data2.drop(['Ad Topic Line','City','Country','Timestamp','Clicked on Ad'], axis=1)\n",
    "y = data2['Clicked on Ad']"
   ]
  },
  {
   "cell_type": "code",
   "execution_count": 37,
   "id": "2f4e1b5e",
   "metadata": {},
   "outputs": [
    {
     "data": {
      "text/html": [
       "<div>\n",
       "<style scoped>\n",
       "    .dataframe tbody tr th:only-of-type {\n",
       "        vertical-align: middle;\n",
       "    }\n",
       "\n",
       "    .dataframe tbody tr th {\n",
       "        vertical-align: top;\n",
       "    }\n",
       "\n",
       "    .dataframe thead th {\n",
       "        text-align: right;\n",
       "    }\n",
       "</style>\n",
       "<table border=\"1\" class=\"dataframe\">\n",
       "  <thead>\n",
       "    <tr style=\"text-align: right;\">\n",
       "      <th></th>\n",
       "      <th>Daily Time Spent on Site</th>\n",
       "      <th>Age</th>\n",
       "      <th>Area Income</th>\n",
       "      <th>Daily Internet Usage</th>\n",
       "      <th>Male</th>\n",
       "    </tr>\n",
       "  </thead>\n",
       "  <tbody>\n",
       "    <tr>\n",
       "      <th>1</th>\n",
       "      <td>80.23</td>\n",
       "      <td>31.0</td>\n",
       "      <td>68441.85</td>\n",
       "      <td>193.77</td>\n",
       "      <td>1</td>\n",
       "    </tr>\n",
       "    <tr>\n",
       "      <th>2</th>\n",
       "      <td>69.47</td>\n",
       "      <td>26.0</td>\n",
       "      <td>59785.94</td>\n",
       "      <td>236.50</td>\n",
       "      <td>0</td>\n",
       "    </tr>\n",
       "    <tr>\n",
       "      <th>3</th>\n",
       "      <td>74.15</td>\n",
       "      <td>29.0</td>\n",
       "      <td>54806.18</td>\n",
       "      <td>245.89</td>\n",
       "      <td>1</td>\n",
       "    </tr>\n",
       "    <tr>\n",
       "      <th>4</th>\n",
       "      <td>68.37</td>\n",
       "      <td>35.0</td>\n",
       "      <td>73889.99</td>\n",
       "      <td>225.58</td>\n",
       "      <td>0</td>\n",
       "    </tr>\n",
       "    <tr>\n",
       "      <th>5</th>\n",
       "      <td>59.99</td>\n",
       "      <td>23.0</td>\n",
       "      <td>59761.56</td>\n",
       "      <td>226.74</td>\n",
       "      <td>1</td>\n",
       "    </tr>\n",
       "  </tbody>\n",
       "</table>\n",
       "</div>"
      ],
      "text/plain": [
       "   Daily Time Spent on Site   Age  Area Income  Daily Internet Usage  Male\n",
       "1                     80.23  31.0     68441.85                193.77     1\n",
       "2                     69.47  26.0     59785.94                236.50     0\n",
       "3                     74.15  29.0     54806.18                245.89     1\n",
       "4                     68.37  35.0     73889.99                225.58     0\n",
       "5                     59.99  23.0     59761.56                226.74     1"
      ]
     },
     "execution_count": 37,
     "metadata": {},
     "output_type": "execute_result"
    }
   ],
   "source": [
    "X.head()"
   ]
  },
  {
   "cell_type": "code",
   "execution_count": 38,
   "id": "866a75d2",
   "metadata": {},
   "outputs": [
    {
     "data": {
      "text/html": [
       "<div>\n",
       "<style scoped>\n",
       "    .dataframe tbody tr th:only-of-type {\n",
       "        vertical-align: middle;\n",
       "    }\n",
       "\n",
       "    .dataframe tbody tr th {\n",
       "        vertical-align: top;\n",
       "    }\n",
       "\n",
       "    .dataframe thead th {\n",
       "        text-align: right;\n",
       "    }\n",
       "</style>\n",
       "<table border=\"1\" class=\"dataframe\">\n",
       "  <thead>\n",
       "    <tr style=\"text-align: right;\">\n",
       "      <th></th>\n",
       "      <th>Daily Time Spent on Site</th>\n",
       "      <th>Area Income</th>\n",
       "      <th>Daily Internet Usage</th>\n",
       "      <th>Male</th>\n",
       "      <th>Age_20.0</th>\n",
       "      <th>Age_21.0</th>\n",
       "      <th>Age_22.0</th>\n",
       "      <th>Age_23.0</th>\n",
       "      <th>Age_24.0</th>\n",
       "      <th>Age_25.0</th>\n",
       "      <th>...</th>\n",
       "      <th>Age_52.0</th>\n",
       "      <th>Age_53.0</th>\n",
       "      <th>Age_54.0</th>\n",
       "      <th>Age_55.0</th>\n",
       "      <th>Age_56.0</th>\n",
       "      <th>Age_57.0</th>\n",
       "      <th>Age_58.0</th>\n",
       "      <th>Age_59.0</th>\n",
       "      <th>Age_60.0</th>\n",
       "      <th>Age_61.0</th>\n",
       "    </tr>\n",
       "  </thead>\n",
       "  <tbody>\n",
       "    <tr>\n",
       "      <th>1</th>\n",
       "      <td>80.23</td>\n",
       "      <td>68441.85</td>\n",
       "      <td>193.77</td>\n",
       "      <td>1</td>\n",
       "      <td>False</td>\n",
       "      <td>False</td>\n",
       "      <td>False</td>\n",
       "      <td>False</td>\n",
       "      <td>False</td>\n",
       "      <td>False</td>\n",
       "      <td>...</td>\n",
       "      <td>False</td>\n",
       "      <td>False</td>\n",
       "      <td>False</td>\n",
       "      <td>False</td>\n",
       "      <td>False</td>\n",
       "      <td>False</td>\n",
       "      <td>False</td>\n",
       "      <td>False</td>\n",
       "      <td>False</td>\n",
       "      <td>False</td>\n",
       "    </tr>\n",
       "    <tr>\n",
       "      <th>2</th>\n",
       "      <td>69.47</td>\n",
       "      <td>59785.94</td>\n",
       "      <td>236.50</td>\n",
       "      <td>0</td>\n",
       "      <td>False</td>\n",
       "      <td>False</td>\n",
       "      <td>False</td>\n",
       "      <td>False</td>\n",
       "      <td>False</td>\n",
       "      <td>False</td>\n",
       "      <td>...</td>\n",
       "      <td>False</td>\n",
       "      <td>False</td>\n",
       "      <td>False</td>\n",
       "      <td>False</td>\n",
       "      <td>False</td>\n",
       "      <td>False</td>\n",
       "      <td>False</td>\n",
       "      <td>False</td>\n",
       "      <td>False</td>\n",
       "      <td>False</td>\n",
       "    </tr>\n",
       "    <tr>\n",
       "      <th>3</th>\n",
       "      <td>74.15</td>\n",
       "      <td>54806.18</td>\n",
       "      <td>245.89</td>\n",
       "      <td>1</td>\n",
       "      <td>False</td>\n",
       "      <td>False</td>\n",
       "      <td>False</td>\n",
       "      <td>False</td>\n",
       "      <td>False</td>\n",
       "      <td>False</td>\n",
       "      <td>...</td>\n",
       "      <td>False</td>\n",
       "      <td>False</td>\n",
       "      <td>False</td>\n",
       "      <td>False</td>\n",
       "      <td>False</td>\n",
       "      <td>False</td>\n",
       "      <td>False</td>\n",
       "      <td>False</td>\n",
       "      <td>False</td>\n",
       "      <td>False</td>\n",
       "    </tr>\n",
       "    <tr>\n",
       "      <th>4</th>\n",
       "      <td>68.37</td>\n",
       "      <td>73889.99</td>\n",
       "      <td>225.58</td>\n",
       "      <td>0</td>\n",
       "      <td>False</td>\n",
       "      <td>False</td>\n",
       "      <td>False</td>\n",
       "      <td>False</td>\n",
       "      <td>False</td>\n",
       "      <td>False</td>\n",
       "      <td>...</td>\n",
       "      <td>False</td>\n",
       "      <td>False</td>\n",
       "      <td>False</td>\n",
       "      <td>False</td>\n",
       "      <td>False</td>\n",
       "      <td>False</td>\n",
       "      <td>False</td>\n",
       "      <td>False</td>\n",
       "      <td>False</td>\n",
       "      <td>False</td>\n",
       "    </tr>\n",
       "    <tr>\n",
       "      <th>5</th>\n",
       "      <td>59.99</td>\n",
       "      <td>59761.56</td>\n",
       "      <td>226.74</td>\n",
       "      <td>1</td>\n",
       "      <td>False</td>\n",
       "      <td>False</td>\n",
       "      <td>False</td>\n",
       "      <td>True</td>\n",
       "      <td>False</td>\n",
       "      <td>False</td>\n",
       "      <td>...</td>\n",
       "      <td>False</td>\n",
       "      <td>False</td>\n",
       "      <td>False</td>\n",
       "      <td>False</td>\n",
       "      <td>False</td>\n",
       "      <td>False</td>\n",
       "      <td>False</td>\n",
       "      <td>False</td>\n",
       "      <td>False</td>\n",
       "      <td>False</td>\n",
       "    </tr>\n",
       "    <tr>\n",
       "      <th>...</th>\n",
       "      <td>...</td>\n",
       "      <td>...</td>\n",
       "      <td>...</td>\n",
       "      <td>...</td>\n",
       "      <td>...</td>\n",
       "      <td>...</td>\n",
       "      <td>...</td>\n",
       "      <td>...</td>\n",
       "      <td>...</td>\n",
       "      <td>...</td>\n",
       "      <td>...</td>\n",
       "      <td>...</td>\n",
       "      <td>...</td>\n",
       "      <td>...</td>\n",
       "      <td>...</td>\n",
       "      <td>...</td>\n",
       "      <td>...</td>\n",
       "      <td>...</td>\n",
       "      <td>...</td>\n",
       "      <td>...</td>\n",
       "      <td>...</td>\n",
       "    </tr>\n",
       "    <tr>\n",
       "      <th>995</th>\n",
       "      <td>72.97</td>\n",
       "      <td>71384.57</td>\n",
       "      <td>208.58</td>\n",
       "      <td>1</td>\n",
       "      <td>False</td>\n",
       "      <td>False</td>\n",
       "      <td>False</td>\n",
       "      <td>False</td>\n",
       "      <td>False</td>\n",
       "      <td>False</td>\n",
       "      <td>...</td>\n",
       "      <td>False</td>\n",
       "      <td>False</td>\n",
       "      <td>False</td>\n",
       "      <td>False</td>\n",
       "      <td>False</td>\n",
       "      <td>False</td>\n",
       "      <td>False</td>\n",
       "      <td>False</td>\n",
       "      <td>False</td>\n",
       "      <td>False</td>\n",
       "    </tr>\n",
       "    <tr>\n",
       "      <th>996</th>\n",
       "      <td>51.30</td>\n",
       "      <td>67782.17</td>\n",
       "      <td>134.42</td>\n",
       "      <td>1</td>\n",
       "      <td>False</td>\n",
       "      <td>False</td>\n",
       "      <td>False</td>\n",
       "      <td>False</td>\n",
       "      <td>False</td>\n",
       "      <td>False</td>\n",
       "      <td>...</td>\n",
       "      <td>False</td>\n",
       "      <td>False</td>\n",
       "      <td>False</td>\n",
       "      <td>False</td>\n",
       "      <td>False</td>\n",
       "      <td>False</td>\n",
       "      <td>False</td>\n",
       "      <td>False</td>\n",
       "      <td>False</td>\n",
       "      <td>False</td>\n",
       "    </tr>\n",
       "    <tr>\n",
       "      <th>997</th>\n",
       "      <td>51.63</td>\n",
       "      <td>42415.72</td>\n",
       "      <td>120.37</td>\n",
       "      <td>1</td>\n",
       "      <td>False</td>\n",
       "      <td>False</td>\n",
       "      <td>False</td>\n",
       "      <td>False</td>\n",
       "      <td>False</td>\n",
       "      <td>False</td>\n",
       "      <td>...</td>\n",
       "      <td>False</td>\n",
       "      <td>False</td>\n",
       "      <td>False</td>\n",
       "      <td>False</td>\n",
       "      <td>False</td>\n",
       "      <td>False</td>\n",
       "      <td>False</td>\n",
       "      <td>False</td>\n",
       "      <td>False</td>\n",
       "      <td>False</td>\n",
       "    </tr>\n",
       "    <tr>\n",
       "      <th>998</th>\n",
       "      <td>55.55</td>\n",
       "      <td>41920.79</td>\n",
       "      <td>187.95</td>\n",
       "      <td>0</td>\n",
       "      <td>False</td>\n",
       "      <td>False</td>\n",
       "      <td>False</td>\n",
       "      <td>False</td>\n",
       "      <td>False</td>\n",
       "      <td>False</td>\n",
       "      <td>...</td>\n",
       "      <td>False</td>\n",
       "      <td>False</td>\n",
       "      <td>False</td>\n",
       "      <td>False</td>\n",
       "      <td>False</td>\n",
       "      <td>False</td>\n",
       "      <td>False</td>\n",
       "      <td>False</td>\n",
       "      <td>False</td>\n",
       "      <td>False</td>\n",
       "    </tr>\n",
       "    <tr>\n",
       "      <th>999</th>\n",
       "      <td>45.01</td>\n",
       "      <td>29875.80</td>\n",
       "      <td>178.35</td>\n",
       "      <td>0</td>\n",
       "      <td>False</td>\n",
       "      <td>False</td>\n",
       "      <td>False</td>\n",
       "      <td>False</td>\n",
       "      <td>False</td>\n",
       "      <td>False</td>\n",
       "      <td>...</td>\n",
       "      <td>False</td>\n",
       "      <td>False</td>\n",
       "      <td>False</td>\n",
       "      <td>False</td>\n",
       "      <td>False</td>\n",
       "      <td>False</td>\n",
       "      <td>False</td>\n",
       "      <td>False</td>\n",
       "      <td>False</td>\n",
       "      <td>False</td>\n",
       "    </tr>\n",
       "  </tbody>\n",
       "</table>\n",
       "<p>916 rows × 46 columns</p>\n",
       "</div>"
      ],
      "text/plain": [
       "     Daily Time Spent on Site  Area Income  Daily Internet Usage  Male  \\\n",
       "1                       80.23     68441.85                193.77     1   \n",
       "2                       69.47     59785.94                236.50     0   \n",
       "3                       74.15     54806.18                245.89     1   \n",
       "4                       68.37     73889.99                225.58     0   \n",
       "5                       59.99     59761.56                226.74     1   \n",
       "..                        ...          ...                   ...   ...   \n",
       "995                     72.97     71384.57                208.58     1   \n",
       "996                     51.30     67782.17                134.42     1   \n",
       "997                     51.63     42415.72                120.37     1   \n",
       "998                     55.55     41920.79                187.95     0   \n",
       "999                     45.01     29875.80                178.35     0   \n",
       "\n",
       "     Age_20.0  Age_21.0  Age_22.0  Age_23.0  Age_24.0  Age_25.0  ...  \\\n",
       "1       False     False     False     False     False     False  ...   \n",
       "2       False     False     False     False     False     False  ...   \n",
       "3       False     False     False     False     False     False  ...   \n",
       "4       False     False     False     False     False     False  ...   \n",
       "5       False     False     False      True     False     False  ...   \n",
       "..        ...       ...       ...       ...       ...       ...  ...   \n",
       "995     False     False     False     False     False     False  ...   \n",
       "996     False     False     False     False     False     False  ...   \n",
       "997     False     False     False     False     False     False  ...   \n",
       "998     False     False     False     False     False     False  ...   \n",
       "999     False     False     False     False     False     False  ...   \n",
       "\n",
       "     Age_52.0  Age_53.0  Age_54.0  Age_55.0  Age_56.0  Age_57.0  Age_58.0  \\\n",
       "1       False     False     False     False     False     False     False   \n",
       "2       False     False     False     False     False     False     False   \n",
       "3       False     False     False     False     False     False     False   \n",
       "4       False     False     False     False     False     False     False   \n",
       "5       False     False     False     False     False     False     False   \n",
       "..        ...       ...       ...       ...       ...       ...       ...   \n",
       "995     False     False     False     False     False     False     False   \n",
       "996     False     False     False     False     False     False     False   \n",
       "997     False     False     False     False     False     False     False   \n",
       "998     False     False     False     False     False     False     False   \n",
       "999     False     False     False     False     False     False     False   \n",
       "\n",
       "     Age_59.0  Age_60.0  Age_61.0  \n",
       "1       False     False     False  \n",
       "2       False     False     False  \n",
       "3       False     False     False  \n",
       "4       False     False     False  \n",
       "5       False     False     False  \n",
       "..        ...       ...       ...  \n",
       "995     False     False     False  \n",
       "996     False     False     False  \n",
       "997     False     False     False  \n",
       "998     False     False     False  \n",
       "999     False     False     False  \n",
       "\n",
       "[916 rows x 46 columns]"
      ]
     },
     "execution_count": 38,
     "metadata": {},
     "output_type": "execute_result"
    }
   ],
   "source": [
    "X = pd.get_dummies(X, drop_first = True)\n",
    "X"
   ]
  },
  {
   "cell_type": "code",
   "execution_count": 39,
   "id": "400ac821",
   "metadata": {},
   "outputs": [
    {
     "data": {
      "text/html": [
       "<div>\n",
       "<style scoped>\n",
       "    .dataframe tbody tr th:only-of-type {\n",
       "        vertical-align: middle;\n",
       "    }\n",
       "\n",
       "    .dataframe tbody tr th {\n",
       "        vertical-align: top;\n",
       "    }\n",
       "\n",
       "    .dataframe thead th {\n",
       "        text-align: right;\n",
       "    }\n",
       "</style>\n",
       "<table border=\"1\" class=\"dataframe\">\n",
       "  <thead>\n",
       "    <tr style=\"text-align: right;\">\n",
       "      <th></th>\n",
       "      <th>Daily Time Spent on Site</th>\n",
       "      <th>Area Income</th>\n",
       "      <th>Daily Internet Usage</th>\n",
       "      <th>Male</th>\n",
       "      <th>Age_20.0</th>\n",
       "      <th>Age_21.0</th>\n",
       "      <th>Age_22.0</th>\n",
       "      <th>Age_23.0</th>\n",
       "      <th>Age_24.0</th>\n",
       "      <th>Age_25.0</th>\n",
       "      <th>...</th>\n",
       "      <th>Age_52.0</th>\n",
       "      <th>Age_53.0</th>\n",
       "      <th>Age_54.0</th>\n",
       "      <th>Age_55.0</th>\n",
       "      <th>Age_56.0</th>\n",
       "      <th>Age_57.0</th>\n",
       "      <th>Age_58.0</th>\n",
       "      <th>Age_59.0</th>\n",
       "      <th>Age_60.0</th>\n",
       "      <th>Age_61.0</th>\n",
       "    </tr>\n",
       "  </thead>\n",
       "  <tbody>\n",
       "    <tr>\n",
       "      <th>0</th>\n",
       "      <td>0.967616</td>\n",
       "      <td>1.011956</td>\n",
       "      <td>0.319805</td>\n",
       "      <td>1.037833</td>\n",
       "      <td>-0.0812</td>\n",
       "      <td>-0.074084</td>\n",
       "      <td>-0.110248</td>\n",
       "      <td>-0.145539</td>\n",
       "      <td>-0.145539</td>\n",
       "      <td>-0.174273</td>\n",
       "      <td>...</td>\n",
       "      <td>-0.129028</td>\n",
       "      <td>-0.10506</td>\n",
       "      <td>-0.099613</td>\n",
       "      <td>-0.087754</td>\n",
       "      <td>-0.046778</td>\n",
       "      <td>-0.0812</td>\n",
       "      <td>-0.066227</td>\n",
       "      <td>-0.046778</td>\n",
       "      <td>-0.066227</td>\n",
       "      <td>-0.033059</td>\n",
       "    </tr>\n",
       "    <tr>\n",
       "      <th>1</th>\n",
       "      <td>0.289413</td>\n",
       "      <td>0.358762</td>\n",
       "      <td>1.300011</td>\n",
       "      <td>-0.963546</td>\n",
       "      <td>-0.0812</td>\n",
       "      <td>-0.074084</td>\n",
       "      <td>-0.110248</td>\n",
       "      <td>-0.145539</td>\n",
       "      <td>-0.145539</td>\n",
       "      <td>-0.174273</td>\n",
       "      <td>...</td>\n",
       "      <td>-0.129028</td>\n",
       "      <td>-0.10506</td>\n",
       "      <td>-0.099613</td>\n",
       "      <td>-0.087754</td>\n",
       "      <td>-0.046778</td>\n",
       "      <td>-0.0812</td>\n",
       "      <td>-0.066227</td>\n",
       "      <td>-0.046778</td>\n",
       "      <td>-0.066227</td>\n",
       "      <td>-0.033059</td>\n",
       "    </tr>\n",
       "    <tr>\n",
       "      <th>2</th>\n",
       "      <td>0.584393</td>\n",
       "      <td>-0.017022</td>\n",
       "      <td>1.515413</td>\n",
       "      <td>1.037833</td>\n",
       "      <td>-0.0812</td>\n",
       "      <td>-0.074084</td>\n",
       "      <td>-0.110248</td>\n",
       "      <td>-0.145539</td>\n",
       "      <td>-0.145539</td>\n",
       "      <td>-0.174273</td>\n",
       "      <td>...</td>\n",
       "      <td>-0.129028</td>\n",
       "      <td>-0.10506</td>\n",
       "      <td>-0.099613</td>\n",
       "      <td>-0.087754</td>\n",
       "      <td>-0.046778</td>\n",
       "      <td>-0.0812</td>\n",
       "      <td>-0.066227</td>\n",
       "      <td>-0.046778</td>\n",
       "      <td>-0.066227</td>\n",
       "      <td>-0.033059</td>\n",
       "    </tr>\n",
       "    <tr>\n",
       "      <th>3</th>\n",
       "      <td>0.220079</td>\n",
       "      <td>1.423085</td>\n",
       "      <td>1.049512</td>\n",
       "      <td>-0.963546</td>\n",
       "      <td>-0.0812</td>\n",
       "      <td>-0.074084</td>\n",
       "      <td>-0.110248</td>\n",
       "      <td>-0.145539</td>\n",
       "      <td>-0.145539</td>\n",
       "      <td>-0.174273</td>\n",
       "      <td>...</td>\n",
       "      <td>-0.129028</td>\n",
       "      <td>-0.10506</td>\n",
       "      <td>-0.099613</td>\n",
       "      <td>-0.087754</td>\n",
       "      <td>-0.046778</td>\n",
       "      <td>-0.0812</td>\n",
       "      <td>-0.066227</td>\n",
       "      <td>-0.046778</td>\n",
       "      <td>-0.066227</td>\n",
       "      <td>-0.033059</td>\n",
       "    </tr>\n",
       "    <tr>\n",
       "      <th>4</th>\n",
       "      <td>-0.308112</td>\n",
       "      <td>0.356922</td>\n",
       "      <td>1.076121</td>\n",
       "      <td>1.037833</td>\n",
       "      <td>-0.0812</td>\n",
       "      <td>-0.074084</td>\n",
       "      <td>-0.110248</td>\n",
       "      <td>6.870992</td>\n",
       "      <td>-0.145539</td>\n",
       "      <td>-0.174273</td>\n",
       "      <td>...</td>\n",
       "      <td>-0.129028</td>\n",
       "      <td>-0.10506</td>\n",
       "      <td>-0.099613</td>\n",
       "      <td>-0.087754</td>\n",
       "      <td>-0.046778</td>\n",
       "      <td>-0.0812</td>\n",
       "      <td>-0.066227</td>\n",
       "      <td>-0.046778</td>\n",
       "      <td>-0.066227</td>\n",
       "      <td>-0.033059</td>\n",
       "    </tr>\n",
       "  </tbody>\n",
       "</table>\n",
       "<p>5 rows × 46 columns</p>\n",
       "</div>"
      ],
      "text/plain": [
       "   Daily Time Spent on Site  Area Income  Daily Internet Usage      Male  \\\n",
       "0                  0.967616     1.011956              0.319805  1.037833   \n",
       "1                  0.289413     0.358762              1.300011 -0.963546   \n",
       "2                  0.584393    -0.017022              1.515413  1.037833   \n",
       "3                  0.220079     1.423085              1.049512 -0.963546   \n",
       "4                 -0.308112     0.356922              1.076121  1.037833   \n",
       "\n",
       "   Age_20.0  Age_21.0  Age_22.0  Age_23.0  Age_24.0  Age_25.0  ...  Age_52.0  \\\n",
       "0   -0.0812 -0.074084 -0.110248 -0.145539 -0.145539 -0.174273  ... -0.129028   \n",
       "1   -0.0812 -0.074084 -0.110248 -0.145539 -0.145539 -0.174273  ... -0.129028   \n",
       "2   -0.0812 -0.074084 -0.110248 -0.145539 -0.145539 -0.174273  ... -0.129028   \n",
       "3   -0.0812 -0.074084 -0.110248 -0.145539 -0.145539 -0.174273  ... -0.129028   \n",
       "4   -0.0812 -0.074084 -0.110248  6.870992 -0.145539 -0.174273  ... -0.129028   \n",
       "\n",
       "   Age_53.0  Age_54.0  Age_55.0  Age_56.0  Age_57.0  Age_58.0  Age_59.0  \\\n",
       "0  -0.10506 -0.099613 -0.087754 -0.046778   -0.0812 -0.066227 -0.046778   \n",
       "1  -0.10506 -0.099613 -0.087754 -0.046778   -0.0812 -0.066227 -0.046778   \n",
       "2  -0.10506 -0.099613 -0.087754 -0.046778   -0.0812 -0.066227 -0.046778   \n",
       "3  -0.10506 -0.099613 -0.087754 -0.046778   -0.0812 -0.066227 -0.046778   \n",
       "4  -0.10506 -0.099613 -0.087754 -0.046778   -0.0812 -0.066227 -0.046778   \n",
       "\n",
       "   Age_60.0  Age_61.0  \n",
       "0 -0.066227 -0.033059  \n",
       "1 -0.066227 -0.033059  \n",
       "2 -0.066227 -0.033059  \n",
       "3 -0.066227 -0.033059  \n",
       "4 -0.066227 -0.033059  \n",
       "\n",
       "[5 rows x 46 columns]"
      ]
     },
     "execution_count": 39,
     "metadata": {},
     "output_type": "execute_result"
    }
   ],
   "source": [
    "from sklearn.preprocessing import StandardScaler\n",
    "ss = StandardScaler()\n",
    "X_scaled = ss.fit_transform(X)\n",
    "X_scaled = pd.DataFrame(X_scaled, columns = X.columns)\n",
    "X_scaled.head()"
   ]
  },
  {
   "cell_type": "code",
   "execution_count": 55,
   "id": "b5a80ab4",
   "metadata": {},
   "outputs": [],
   "source": [
    "from sklearn.model_selection import train_test_split\n",
    "X_train, X_test, y_train, y_test = train_test_split(X_scaled, y, test_size=0.2, random_state=7)"
   ]
  },
  {
   "cell_type": "markdown",
   "id": "78f0a8cb",
   "metadata": {},
   "source": [
    "# 나이브베이즈 예측 및 평가"
   ]
  },
  {
   "cell_type": "code",
   "execution_count": 60,
   "id": "cf0aee14",
   "metadata": {},
   "outputs": [],
   "source": [
    "from sklearn.naive_bayes import GaussianNB\n",
    "from sklearn.metrics import accuracy_score, classification_report"
   ]
  },
  {
   "cell_type": "code",
   "execution_count": 61,
   "id": "4f716e19",
   "metadata": {},
   "outputs": [
    {
     "name": "stdout",
     "output_type": "stream",
     "text": [
      "0.5815217391304348\n",
      "              precision    recall  f1-score   support\n",
      "\n",
      "           0       0.54      0.98      0.70        91\n",
      "           1       0.90      0.19      0.32        93\n",
      "\n",
      "    accuracy                           0.58       184\n",
      "   macro avg       0.72      0.59      0.51       184\n",
      "weighted avg       0.72      0.58      0.51       184\n",
      "\n"
     ]
    }
   ],
   "source": [
    "nbc = GaussianNB()\n",
    "nbc.fit(X_train, y_train)\n",
    "pred = nbc.predict(X_test)\n",
    "print(accuracy_score(y_test, pred))\n",
    "print(classification_report(y_test, pred))"
   ]
  },
  {
   "cell_type": "code",
   "execution_count": 62,
   "id": "b438ae06",
   "metadata": {},
   "outputs": [],
   "source": [
    "from sklearn.tree import DecisionTreeClassifier\n",
    "from sklearn.ensemble import RandomForestClassifier"
   ]
  },
  {
   "cell_type": "code",
   "execution_count": 69,
   "id": "62a8930c",
   "metadata": {},
   "outputs": [
    {
     "name": "stdout",
     "output_type": "stream",
     "text": [
      "0.9510869565217391\n",
      "              precision    recall  f1-score   support\n",
      "\n",
      "           0       0.97      0.93      0.95        91\n",
      "           1       0.94      0.97      0.95        93\n",
      "\n",
      "    accuracy                           0.95       184\n",
      "   macro avg       0.95      0.95      0.95       184\n",
      "weighted avg       0.95      0.95      0.95       184\n",
      "\n"
     ]
    }
   ],
   "source": [
    "dtc = DecisionTreeClassifier(max_depth=3, random_state=7)\n",
    "dtc.fit(X_train,y_train)\n",
    "pred = dtc.predict(X_test)\n",
    "print(accuracy_score(y_test, pred))\n",
    "print(classification_report(y_test, pred))"
   ]
  },
  {
   "cell_type": "code",
   "execution_count": 74,
   "id": "6788fcc5",
   "metadata": {
    "scrolled": true
   },
   "outputs": [
    {
     "name": "stdout",
     "output_type": "stream",
     "text": [
      "0.9510869565217391\n",
      "              precision    recall  f1-score   support\n",
      "\n",
      "           0       0.97      0.93      0.95        91\n",
      "           1       0.94      0.97      0.95        93\n",
      "\n",
      "    accuracy                           0.95       184\n",
      "   macro avg       0.95      0.95      0.95       184\n",
      "weighted avg       0.95      0.95      0.95       184\n",
      "\n"
     ]
    }
   ],
   "source": [
    "rfc = RandomForestClassifier(max_depth=3, n_estimators=1000, random_state=7)\n",
    "rfc.fit(X_train,y_train)\n",
    "pred = rfc.predict(X_test)\n",
    "print(accuracy_score(y_test, pred))\n",
    "print(classification_report(y_test, pred))"
   ]
  },
  {
   "cell_type": "code",
   "execution_count": 75,
   "id": "901c9830",
   "metadata": {},
   "outputs": [],
   "source": [
    "from sklearn.linear_model import LogisticRegression"
   ]
  },
  {
   "cell_type": "code",
   "execution_count": 77,
   "id": "a79c608a",
   "metadata": {},
   "outputs": [
    {
     "name": "stdout",
     "output_type": "stream",
     "text": [
      "0.9619565217391305\n",
      "              precision    recall  f1-score   support\n",
      "\n",
      "           0       0.96      0.97      0.96        91\n",
      "           1       0.97      0.96      0.96        93\n",
      "\n",
      "    accuracy                           0.96       184\n",
      "   macro avg       0.96      0.96      0.96       184\n",
      "weighted avg       0.96      0.96      0.96       184\n",
      "\n"
     ]
    }
   ],
   "source": [
    "lr = LogisticRegression()\n",
    "lr.fit(X_train, y_train)\n",
    "pred = lr.predict(X_test)\n",
    "print(accuracy_score(y_test, pred))\n",
    "print(classification_report(y_test, pred))"
   ]
  },
  {
   "cell_type": "code",
   "execution_count": null,
   "id": "996ec5f4",
   "metadata": {},
   "outputs": [],
   "source": []
  },
  {
   "cell_type": "code",
   "execution_count": null,
   "id": "91287f3c",
   "metadata": {},
   "outputs": [],
   "source": []
  },
  {
   "cell_type": "code",
   "execution_count": null,
   "id": "2d3adf7f",
   "metadata": {},
   "outputs": [],
   "source": []
  },
  {
   "cell_type": "code",
   "execution_count": null,
   "id": "f26cd4bf",
   "metadata": {},
   "outputs": [],
   "source": []
  },
  {
   "cell_type": "code",
   "execution_count": null,
   "id": "2c725613",
   "metadata": {},
   "outputs": [],
   "source": []
  },
  {
   "cell_type": "code",
   "execution_count": null,
   "id": "c967d223",
   "metadata": {},
   "outputs": [],
   "source": []
  },
  {
   "cell_type": "code",
   "execution_count": null,
   "id": "1511bcbf",
   "metadata": {},
   "outputs": [],
   "source": []
  },
  {
   "cell_type": "code",
   "execution_count": null,
   "id": "673cdcf2",
   "metadata": {},
   "outputs": [],
   "source": []
  }
 ],
 "metadata": {
  "kernelspec": {
   "display_name": "testenv",
   "language": "python",
   "name": "testenv"
  },
  "language_info": {
   "codemirror_mode": {
    "name": "ipython",
    "version": 3
   },
   "file_extension": ".py",
   "mimetype": "text/x-python",
   "name": "python",
   "nbconvert_exporter": "python",
   "pygments_lexer": "ipython3",
   "version": "3.8.17"
  }
 },
 "nbformat": 4,
 "nbformat_minor": 5
}
