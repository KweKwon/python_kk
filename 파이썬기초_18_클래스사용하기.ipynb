{
 "cells": [
  {
   "cell_type": "markdown",
   "id": "c3bb769c",
   "metadata": {},
   "source": [
    "# 1. class 사용하기\n",
    "\n",
    "* 클래스 = 자판기를 만드는 공장\n",
    "* 클래스 내부의 함수(메소드)는 자판기의 버튼"
   ]
  },
  {
   "cell_type": "markdown",
   "id": "44958c5c",
   "metadata": {},
   "source": [
    "계산기의 더하기 코드를 만드는데 기존의 값을 기억하고 있는 계산기 만들기"
   ]
  },
  {
   "cell_type": "code",
   "execution_count": 244,
   "id": "fcce57b0",
   "metadata": {},
   "outputs": [],
   "source": [
    "def add(num1,num2):\n",
    "    result = num1 + num2\n",
    "    return result"
   ]
  },
  {
   "cell_type": "code",
   "execution_count": 245,
   "id": "a27ec05f",
   "metadata": {},
   "outputs": [
    {
     "data": {
      "text/plain": [
       "12"
      ]
     },
     "execution_count": 245,
     "metadata": {},
     "output_type": "execute_result"
    }
   ],
   "source": [
    "add(9,3)"
   ]
  },
  {
   "cell_type": "code",
   "execution_count": 246,
   "id": "d94ce636",
   "metadata": {},
   "outputs": [],
   "source": [
    "result1 = 0\n",
    "result2 = 0\n",
    "def add1(num): # 계산기1\n",
    "    global result1 #global로 전역변수로 만듬\n",
    "    result1 += num\n",
    "    return result1\n",
    "def add2(num): # 계산기2\n",
    "    global result2 #global로 전역변수로 만듬\n",
    "    result2 += num\n",
    "    return result2"
   ]
  },
  {
   "cell_type": "code",
   "execution_count": 247,
   "id": "7e67730d",
   "metadata": {},
   "outputs": [
    {
     "name": "stdout",
     "output_type": "stream",
     "text": [
      "4\n"
     ]
    }
   ],
   "source": [
    "print(add1(4))"
   ]
  },
  {
   "cell_type": "code",
   "execution_count": 248,
   "id": "985112c0",
   "metadata": {},
   "outputs": [
    {
     "name": "stdout",
     "output_type": "stream",
     "text": [
      "8\n"
     ]
    }
   ],
   "source": [
    "print(add2(8))"
   ]
  },
  {
   "cell_type": "markdown",
   "id": "f4b74abb",
   "metadata": {},
   "source": [
    "클래스로 계산기 만들기"
   ]
  },
  {
   "cell_type": "code",
   "execution_count": 249,
   "id": "982ddfba",
   "metadata": {},
   "outputs": [],
   "source": [
    "class Calculator:\n",
    "    def __init__(self):\n",
    "        self.result = 0\n",
    "        \n",
    "    def add(self, num):\n",
    "        self.result += num\n",
    "        return self.result"
   ]
  },
  {
   "cell_type": "code",
   "execution_count": 250,
   "id": "2a2f4dc9",
   "metadata": {},
   "outputs": [],
   "source": [
    "cal1 = Calculator()"
   ]
  },
  {
   "cell_type": "code",
   "execution_count": 251,
   "id": "c294aa49",
   "metadata": {},
   "outputs": [
    {
     "name": "stdout",
     "output_type": "stream",
     "text": [
      "<__main__.Calculator object at 0x0000029FF82841F0>\n"
     ]
    }
   ],
   "source": [
    "print(cal1)"
   ]
  },
  {
   "cell_type": "code",
   "execution_count": 252,
   "id": "f6ce5160",
   "metadata": {},
   "outputs": [
    {
     "name": "stdout",
     "output_type": "stream",
     "text": [
      "<class '__main__.Calculator'>\n"
     ]
    }
   ],
   "source": [
    "print(type(cal1))"
   ]
  },
  {
   "cell_type": "code",
   "execution_count": 253,
   "id": "d483e90a",
   "metadata": {},
   "outputs": [
    {
     "data": {
      "text/plain": [
       "2"
      ]
     },
     "execution_count": 253,
     "metadata": {},
     "output_type": "execute_result"
    }
   ],
   "source": [
    "cal1.add(2)"
   ]
  },
  {
   "cell_type": "code",
   "execution_count": 254,
   "id": "3919e4d6",
   "metadata": {},
   "outputs": [
    {
     "data": {
      "text/plain": [
       "7"
      ]
     },
     "execution_count": 254,
     "metadata": {},
     "output_type": "execute_result"
    }
   ],
   "source": [
    "cal1.add(5)"
   ]
  },
  {
   "cell_type": "code",
   "execution_count": 255,
   "id": "a71858f6",
   "metadata": {},
   "outputs": [],
   "source": [
    "cal2 = Calculator()"
   ]
  },
  {
   "cell_type": "code",
   "execution_count": 256,
   "id": "afb8e2f9",
   "metadata": {},
   "outputs": [
    {
     "data": {
      "text/plain": [
       "1"
      ]
     },
     "execution_count": 256,
     "metadata": {},
     "output_type": "execute_result"
    }
   ],
   "source": [
    "cal2.add(1)"
   ]
  },
  {
   "cell_type": "code",
   "execution_count": 257,
   "id": "0277583c",
   "metadata": {},
   "outputs": [
    {
     "data": {
      "text/plain": [
       "11"
      ]
     },
     "execution_count": 257,
     "metadata": {},
     "output_type": "execute_result"
    }
   ],
   "source": [
    "cal1.add(4)"
   ]
  },
  {
   "cell_type": "code",
   "execution_count": 258,
   "id": "0b9aef0f",
   "metadata": {},
   "outputs": [
    {
     "data": {
      "text/plain": [
       "3"
      ]
     },
     "execution_count": 258,
     "metadata": {},
     "output_type": "execute_result"
    }
   ],
   "source": [
    "cal2.add(2)"
   ]
  },
  {
   "cell_type": "code",
   "execution_count": 259,
   "id": "31315c20",
   "metadata": {},
   "outputs": [],
   "source": [
    "cal100 = Calculator()"
   ]
  },
  {
   "cell_type": "code",
   "execution_count": 260,
   "id": "cd17cc57",
   "metadata": {},
   "outputs": [
    {
     "data": {
      "text/plain": [
       "10"
      ]
     },
     "execution_count": 260,
     "metadata": {},
     "output_type": "execute_result"
    }
   ],
   "source": [
    "cal100.add(10)"
   ]
  },
  {
   "cell_type": "markdown",
   "id": "e55ba91f",
   "metadata": {},
   "source": [
    "* Calculator 클래스로 만든 별개의 계산기 cal1, cal2를 파이썬에서 '객체'(object)라고 부른다.\n",
    "* 각각의 객체는 독립적으로 역할을 수행\n",
    "* 계산기의 결과값도 다른 계산기와 상관없이 독립적으로 값을 유지한다."
   ]
  },
  {
   "cell_type": "code",
   "execution_count": 261,
   "id": "608e7754",
   "metadata": {},
   "outputs": [],
   "source": [
    "# 빼기 기능 추가\n",
    "class Calculator: # 인스턴스 변수\n",
    "    def __init__(self): # __init__ 생성자\n",
    "        self.result = 0\n",
    "    \n",
    "    def add(self, num):\n",
    "        self.result += num\n",
    "        return self.result\n",
    "\n",
    "    def sub(self, num):    # 메소드(method)\n",
    "        self.result -= num\n",
    "        return self.result"
   ]
  },
  {
   "cell_type": "code",
   "execution_count": 262,
   "id": "640d0b7c",
   "metadata": {},
   "outputs": [],
   "source": [
    "a = Calculator() # 클래스를 변수에 저장하는 것: 객체 생성"
   ]
  },
  {
   "cell_type": "code",
   "execution_count": 263,
   "id": "d5bedde4",
   "metadata": {},
   "outputs": [
    {
     "data": {
      "text/plain": [
       "10"
      ]
     },
     "execution_count": 263,
     "metadata": {},
     "output_type": "execute_result"
    }
   ],
   "source": [
    "a.add(10)"
   ]
  },
  {
   "cell_type": "code",
   "execution_count": 264,
   "id": "3b787765",
   "metadata": {},
   "outputs": [
    {
     "data": {
      "text/plain": [
       "7"
      ]
     },
     "execution_count": 264,
     "metadata": {},
     "output_type": "execute_result"
    }
   ],
   "source": [
    "a.sub(3)"
   ]
  },
  {
   "cell_type": "code",
   "execution_count": 265,
   "id": "a59e689b",
   "metadata": {},
   "outputs": [
    {
     "data": {
      "text/plain": [
       "17"
      ]
     },
     "execution_count": 265,
     "metadata": {},
     "output_type": "execute_result"
    }
   ],
   "source": [
    "a.add(10)"
   ]
  },
  {
   "cell_type": "code",
   "execution_count": 266,
   "id": "14f351d4",
   "metadata": {},
   "outputs": [
    {
     "data": {
      "text/plain": [
       "-3"
      ]
     },
     "execution_count": 266,
     "metadata": {},
     "output_type": "execute_result"
    }
   ],
   "source": [
    "a.sub(20)"
   ]
  },
  {
   "cell_type": "code",
   "execution_count": 267,
   "id": "628f6e58",
   "metadata": {},
   "outputs": [
    {
     "data": {
      "text/plain": [
       "100"
      ]
     },
     "execution_count": 267,
     "metadata": {},
     "output_type": "execute_result"
    }
   ],
   "source": [
    "b = Calculator() \n",
    "b.add(100)"
   ]
  },
  {
   "cell_type": "code",
   "execution_count": 268,
   "id": "ac80ae5e",
   "metadata": {},
   "outputs": [
    {
     "data": {
      "text/plain": [
       "90"
      ]
     },
     "execution_count": 268,
     "metadata": {},
     "output_type": "execute_result"
    }
   ],
   "source": [
    "b.sub(10)"
   ]
  },
  {
   "cell_type": "markdown",
   "id": "cc15de3f",
   "metadata": {},
   "source": [
    "메소드(method): 클래스 내부에 있는 함수\n",
    "\n",
    "```python\n",
    "def setdata(self, first, second): # 메서드의 매개변수\n",
    "____self.first = first            # 메서드의 수행문\n",
    "____self.second = second          # 메서드의 수행문\n"
   ]
  },
  {
   "cell_type": "markdown",
   "id": "d2742fb7",
   "metadata": {},
   "source": [
    "사칙연산이 가능한 클래스 만들기"
   ]
  },
  {
   "cell_type": "code",
   "execution_count": 269,
   "id": "7c206b75",
   "metadata": {},
   "outputs": [],
   "source": [
    "class FourCal:\n",
    "    def setdata(self, first, second): # 인스턴스 변수\n",
    "        self.first = first\n",
    "        self.second = second\n",
    "        print(self.first, self.second)"
   ]
  },
  {
   "cell_type": "code",
   "execution_count": 270,
   "id": "07173047",
   "metadata": {},
   "outputs": [],
   "source": [
    "a = FourCal()"
   ]
  },
  {
   "cell_type": "code",
   "execution_count": 271,
   "id": "ac450e3d",
   "metadata": {},
   "outputs": [
    {
     "name": "stdout",
     "output_type": "stream",
     "text": [
      "4 2\n"
     ]
    }
   ],
   "source": [
    "a.setdata(4,2)"
   ]
  },
  {
   "cell_type": "code",
   "execution_count": 272,
   "id": "bfebfa95",
   "metadata": {},
   "outputs": [
    {
     "name": "stdout",
     "output_type": "stream",
     "text": [
      "4\n"
     ]
    }
   ],
   "source": [
    "print(a.first)"
   ]
  },
  {
   "cell_type": "code",
   "execution_count": 273,
   "id": "119fedb4",
   "metadata": {},
   "outputs": [
    {
     "data": {
      "text/plain": [
       "2"
      ]
     },
     "execution_count": 273,
     "metadata": {},
     "output_type": "execute_result"
    }
   ],
   "source": [
    "a.second"
   ]
  },
  {
   "cell_type": "markdown",
   "id": "14738805",
   "metadata": {},
   "source": [
    "더하기 기능 만들기"
   ]
  },
  {
   "cell_type": "code",
   "execution_count": 274,
   "id": "32c26014",
   "metadata": {},
   "outputs": [],
   "source": [
    "class FourCal:\n",
    "    def setdata(self, first, second):\n",
    "        self.first = first\n",
    "        self.second = second\n",
    "        print(self.first, self.second)\n",
    "    \n",
    "    def add(self): # 더하기\n",
    "        result = self.first + self.second\n",
    "        return result"
   ]
  },
  {
   "cell_type": "code",
   "execution_count": 275,
   "id": "896aea78",
   "metadata": {},
   "outputs": [],
   "source": [
    "a = FourCal()"
   ]
  },
  {
   "cell_type": "code",
   "execution_count": 276,
   "id": "7829ea81",
   "metadata": {},
   "outputs": [
    {
     "name": "stdout",
     "output_type": "stream",
     "text": [
      "4 2\n"
     ]
    }
   ],
   "source": [
    "a.setdata(4, 2)"
   ]
  },
  {
   "cell_type": "code",
   "execution_count": 277,
   "id": "5acc1e9b",
   "metadata": {},
   "outputs": [
    {
     "data": {
      "text/plain": [
       "6"
      ]
     },
     "execution_count": 277,
     "metadata": {},
     "output_type": "execute_result"
    }
   ],
   "source": [
    "a.add()"
   ]
  },
  {
   "cell_type": "markdown",
   "id": "f17a0d56",
   "metadata": {},
   "source": [
    "곱하기,빼기,나누기 기능 만들기"
   ]
  },
  {
   "cell_type": "code",
   "execution_count": 278,
   "id": "97cb3db3",
   "metadata": {},
   "outputs": [],
   "source": [
    "class FourCal:\n",
    "    def setdata(self, first, second): # 인스턴스 변수\n",
    "        self.first = first\n",
    "        self.second = second\n",
    "        print(self.first, self.second)\n",
    "    \n",
    "    def add(self): # 더하기\n",
    "        result = self.first + self.second\n",
    "        return result\n",
    "    \n",
    "    def sub(self): # 빼기\n",
    "        result = self.first - self.second\n",
    "        return result\n",
    "    \n",
    "    def mul(self): # 곱하기\n",
    "        result = self.first * self.second\n",
    "        return result\n",
    "    \n",
    "    def div(self): # 나누가\n",
    "        result = self.first / self.second\n",
    "        return result"
   ]
  },
  {
   "cell_type": "code",
   "execution_count": 288,
   "id": "e3fa9c3f",
   "metadata": {},
   "outputs": [
    {
     "name": "stdout",
     "output_type": "stream",
     "text": [
      "4 2\n"
     ]
    }
   ],
   "source": [
    "a.setdata(4,2)"
   ]
  },
  {
   "cell_type": "code",
   "execution_count": 289,
   "id": "b4d1484b",
   "metadata": {},
   "outputs": [
    {
     "data": {
      "text/plain": [
       "6"
      ]
     },
     "execution_count": 289,
     "metadata": {},
     "output_type": "execute_result"
    }
   ],
   "source": [
    "a.add()"
   ]
  },
  {
   "cell_type": "code",
   "execution_count": 290,
   "id": "3697b8e5",
   "metadata": {},
   "outputs": [
    {
     "ename": "AttributeError",
     "evalue": "'FourCal' object has no attribute 'mul'",
     "output_type": "error",
     "traceback": [
      "\u001b[1;31m---------------------------------------------------------------------------\u001b[0m",
      "\u001b[1;31mAttributeError\u001b[0m                            Traceback (most recent call last)",
      "Cell \u001b[1;32mIn[290], line 1\u001b[0m\n\u001b[1;32m----> 1\u001b[0m \u001b[43ma\u001b[49m\u001b[38;5;241;43m.\u001b[39;49m\u001b[43mmul\u001b[49m()\n",
      "\u001b[1;31mAttributeError\u001b[0m: 'FourCal' object has no attribute 'mul'"
     ]
    }
   ],
   "source": [
    "a.mul()"
   ]
  },
  {
   "cell_type": "code",
   "execution_count": 291,
   "id": "e22fdacf",
   "metadata": {},
   "outputs": [
    {
     "ename": "AttributeError",
     "evalue": "'FourCal' object has no attribute 'div'",
     "output_type": "error",
     "traceback": [
      "\u001b[1;31m---------------------------------------------------------------------------\u001b[0m",
      "\u001b[1;31mAttributeError\u001b[0m                            Traceback (most recent call last)",
      "Cell \u001b[1;32mIn[291], line 1\u001b[0m\n\u001b[1;32m----> 1\u001b[0m \u001b[43ma\u001b[49m\u001b[38;5;241;43m.\u001b[39;49m\u001b[43mdiv\u001b[49m()\n",
      "\u001b[1;31mAttributeError\u001b[0m: 'FourCal' object has no attribute 'div'"
     ]
    }
   ],
   "source": [
    "a.div()"
   ]
  },
  {
   "cell_type": "code",
   "execution_count": 292,
   "id": "30bcdd8e",
   "metadata": {},
   "outputs": [
    {
     "ename": "AttributeError",
     "evalue": "'FourCal' object has no attribute 'sub'",
     "output_type": "error",
     "traceback": [
      "\u001b[1;31m---------------------------------------------------------------------------\u001b[0m",
      "\u001b[1;31mAttributeError\u001b[0m                            Traceback (most recent call last)",
      "Cell \u001b[1;32mIn[292], line 1\u001b[0m\n\u001b[1;32m----> 1\u001b[0m \u001b[43ma\u001b[49m\u001b[38;5;241;43m.\u001b[39;49m\u001b[43msub\u001b[49m()\n",
      "\u001b[1;31mAttributeError\u001b[0m: 'FourCal' object has no attribute 'sub'"
     ]
    }
   ],
   "source": [
    "a.sub()"
   ]
  },
  {
   "cell_type": "code",
   "execution_count": 293,
   "id": "a100a27c",
   "metadata": {},
   "outputs": [],
   "source": [
    "b = FourCal()"
   ]
  },
  {
   "cell_type": "code",
   "execution_count": 294,
   "id": "c2d9a06f",
   "metadata": {},
   "outputs": [
    {
     "name": "stdout",
     "output_type": "stream",
     "text": [
      "10 7\n"
     ]
    }
   ],
   "source": [
    "b.setdata(10, 7)"
   ]
  },
  {
   "cell_type": "code",
   "execution_count": 295,
   "id": "3b4f5365",
   "metadata": {},
   "outputs": [
    {
     "data": {
      "text/plain": [
       "17"
      ]
     },
     "execution_count": 295,
     "metadata": {},
     "output_type": "execute_result"
    }
   ],
   "source": [
    "b.add()"
   ]
  },
  {
   "cell_type": "code",
   "execution_count": 296,
   "id": "9ef2fb56",
   "metadata": {},
   "outputs": [
    {
     "data": {
      "text/plain": [
       "3"
      ]
     },
     "execution_count": 296,
     "metadata": {},
     "output_type": "execute_result"
    }
   ],
   "source": [
    "b.sub()"
   ]
  },
  {
   "cell_type": "code",
   "execution_count": 297,
   "id": "93a6dcf2",
   "metadata": {},
   "outputs": [
    {
     "data": {
      "text/plain": [
       "70"
      ]
     },
     "execution_count": 297,
     "metadata": {},
     "output_type": "execute_result"
    }
   ],
   "source": [
    "b.mul()"
   ]
  },
  {
   "cell_type": "code",
   "execution_count": 298,
   "id": "ff962c71",
   "metadata": {},
   "outputs": [
    {
     "data": {
      "text/plain": [
       "1.4285714285714286"
      ]
     },
     "execution_count": 298,
     "metadata": {},
     "output_type": "execute_result"
    }
   ],
   "source": [
    "b.div()"
   ]
  },
  {
   "cell_type": "markdown",
   "id": "f7c0a8b2",
   "metadata": {},
   "source": [
    "생성자\n",
    "* 객체에 first, second와 같은 초기값을 설정해야 할 필요가 있을때, setdata와 같은 메서드를 호출해서 초기값을 설정하는 것 보다, 생성자를 만들어서 객체를 생성할때 값을 바로 받는 것이 더 좋다.\n",
    "* 생성자(constructor)란 객체가 생성될 때 자동으로 호출되는 메서드를 의미\n",
    "* class내에 메서드명으로 __init__ 를 사용하면 그것이 생성자가 된다."
   ]
  },
  {
   "cell_type": "code",
   "execution_count": 299,
   "id": "a805cc51",
   "metadata": {},
   "outputs": [],
   "source": [
    "class FourCal:\n",
    "    def __init__(self, first, second): # 생성자\n",
    "        self.first = first # self.first 인스턴스 변수\n",
    "        self.second = second # self.second 인스턴스 변수\n",
    "        \n",
    "#     def setdata(self, first, second): # 인스턴스 변수\n",
    "#         self.first = first\n",
    "#         self.second = second\n",
    "#         print(self.first, self.second)\n",
    "    \n",
    "    def add(self): # 더하기\n",
    "        result = self.first + self.second\n",
    "        return result\n",
    "    \n",
    "    def sub(self): # 빼기\n",
    "        result = self.first - self.second\n",
    "        return result\n",
    "    \n",
    "    def mul(self): # 곱하기\n",
    "        result = self.first * self.second\n",
    "        return result\n",
    "    \n",
    "    def div(self): # 나누가\n",
    "        result = self.first / self.second\n",
    "        return result"
   ]
  },
  {
   "cell_type": "code",
   "execution_count": 300,
   "id": "6ef6bf9d",
   "metadata": {},
   "outputs": [],
   "source": [
    "a = FourCal(2,4)"
   ]
  },
  {
   "cell_type": "code",
   "execution_count": 301,
   "id": "a59279cd",
   "metadata": {},
   "outputs": [
    {
     "data": {
      "text/plain": [
       "6"
      ]
     },
     "execution_count": 301,
     "metadata": {},
     "output_type": "execute_result"
    }
   ],
   "source": [
    "a.add()"
   ]
  },
  {
   "cell_type": "code",
   "execution_count": 302,
   "id": "42bb89fe",
   "metadata": {},
   "outputs": [
    {
     "data": {
      "text/plain": [
       "8"
      ]
     },
     "execution_count": 302,
     "metadata": {},
     "output_type": "execute_result"
    }
   ],
   "source": [
    "a.mul()"
   ]
  },
  {
   "cell_type": "code",
   "execution_count": 303,
   "id": "753cc35b",
   "metadata": {},
   "outputs": [
    {
     "data": {
      "text/plain": [
       "-2"
      ]
     },
     "execution_count": 303,
     "metadata": {},
     "output_type": "execute_result"
    }
   ],
   "source": [
    "a.sub()"
   ]
  },
  {
   "cell_type": "code",
   "execution_count": 304,
   "id": "352ccbf2",
   "metadata": {},
   "outputs": [
    {
     "data": {
      "text/plain": [
       "0.5"
      ]
     },
     "execution_count": 304,
     "metadata": {},
     "output_type": "execute_result"
    }
   ],
   "source": [
    "a.div()"
   ]
  },
  {
   "cell_type": "markdown",
   "id": "c243d9ad",
   "metadata": {},
   "source": [
    "# 클래스의 상속\n",
    "\n",
    "* 어떤 클래스를 만들 때 다른 클래스의 기능을 물려받을 수 있게 만드는 것\n",
    "* 기존 클래스 + 기능을 추가할 때\n",
    "* A클래스를 상속 받아 B클래스를 생성한다고 할 때, B클래스는 A클래스의 모든 기능을 사용 할 수 있다."
   ]
  },
  {
   "cell_type": "markdown",
   "id": "1502208f",
   "metadata": {},
   "source": [
    "$ a^b $를 계산하는 MoreFourCal 클래스 "
   ]
  },
  {
   "cell_type": "code",
   "execution_count": 305,
   "id": "8e9b1841",
   "metadata": {},
   "outputs": [],
   "source": [
    "class MoreFourCal(FourCal):\n",
    "    \n",
    "    def pow(self):\n",
    "        result = self.first ** self.second\n",
    "        return result"
   ]
  },
  {
   "cell_type": "code",
   "execution_count": 306,
   "id": "6b4d89ca",
   "metadata": {},
   "outputs": [],
   "source": [
    "a = MoreFourCal(4,2)"
   ]
  },
  {
   "cell_type": "code",
   "execution_count": 307,
   "id": "1cd8f96b",
   "metadata": {
    "scrolled": true
   },
   "outputs": [
    {
     "data": {
      "text/plain": [
       "6"
      ]
     },
     "execution_count": 307,
     "metadata": {},
     "output_type": "execute_result"
    }
   ],
   "source": [
    "a.add()"
   ]
  },
  {
   "cell_type": "code",
   "execution_count": 308,
   "id": "b7ec3bae",
   "metadata": {},
   "outputs": [
    {
     "data": {
      "text/plain": [
       "16"
      ]
     },
     "execution_count": 308,
     "metadata": {},
     "output_type": "execute_result"
    }
   ],
   "source": [
    "a.pow()"
   ]
  },
  {
   "cell_type": "code",
   "execution_count": 309,
   "id": "cb27ac97",
   "metadata": {},
   "outputs": [
    {
     "data": {
      "text/plain": [
       "2"
      ]
     },
     "execution_count": 309,
     "metadata": {},
     "output_type": "execute_result"
    }
   ],
   "source": [
    "a.sub()"
   ]
  },
  {
   "cell_type": "code",
   "execution_count": 310,
   "id": "0970dfe6",
   "metadata": {},
   "outputs": [
    {
     "data": {
      "text/plain": [
       "8"
      ]
     },
     "execution_count": 310,
     "metadata": {},
     "output_type": "execute_result"
    }
   ],
   "source": [
    "a.mul()"
   ]
  },
  {
   "cell_type": "markdown",
   "id": "00437972",
   "metadata": {},
   "source": [
    "상속은 MoreFourCal클래스 처럼 기존 클래스(FourCal)은 그대로 놔둔 채 클래스의 기능을 확장 할 때 주로 사용"
   ]
  },
  {
   "cell_type": "markdown",
   "id": "416505f6",
   "metadata": {},
   "source": [
    "# 메서드 오버라이딩\n",
    "\n",
    "* 부모클래스 (상속한 클래스_FourCal)에 메서드를 동일한 이름으로 다시 만드는 것.\n",
    "* method overriding"
   ]
  },
  {
   "cell_type": "code",
   "execution_count": 311,
   "id": "f9e4bac6",
   "metadata": {},
   "outputs": [],
   "source": [
    "a = FourCal(4, 0)"
   ]
  },
  {
   "cell_type": "code",
   "execution_count": 314,
   "id": "5f483261",
   "metadata": {},
   "outputs": [
    {
     "ename": "ZeroDivisionError",
     "evalue": "division by zero",
     "output_type": "error",
     "traceback": [
      "\u001b[1;31m---------------------------------------------------------------------------\u001b[0m",
      "\u001b[1;31mZeroDivisionError\u001b[0m                         Traceback (most recent call last)",
      "Cell \u001b[1;32mIn[314], line 1\u001b[0m\n\u001b[1;32m----> 1\u001b[0m \u001b[43ma\u001b[49m\u001b[38;5;241;43m.\u001b[39;49m\u001b[43mdiv\u001b[49m\u001b[43m(\u001b[49m\u001b[43m)\u001b[49m\n",
      "Cell \u001b[1;32mIn[299], line 24\u001b[0m, in \u001b[0;36mFourCal.div\u001b[1;34m(self)\u001b[0m\n\u001b[0;32m     23\u001b[0m \u001b[38;5;28;01mdef\u001b[39;00m \u001b[38;5;21mdiv\u001b[39m(\u001b[38;5;28mself\u001b[39m): \u001b[38;5;66;03m# 나누가\u001b[39;00m\n\u001b[1;32m---> 24\u001b[0m     result \u001b[38;5;241m=\u001b[39m \u001b[38;5;28;43mself\u001b[39;49m\u001b[38;5;241;43m.\u001b[39;49m\u001b[43mfirst\u001b[49m\u001b[43m \u001b[49m\u001b[38;5;241;43m/\u001b[39;49m\u001b[43m \u001b[49m\u001b[38;5;28;43mself\u001b[39;49m\u001b[38;5;241;43m.\u001b[39;49m\u001b[43msecond\u001b[49m\n\u001b[0;32m     25\u001b[0m     \u001b[38;5;28;01mreturn\u001b[39;00m result\n",
      "\u001b[1;31mZeroDivisionError\u001b[0m: division by zero"
     ]
    }
   ],
   "source": [
    "a.div()"
   ]
  },
  {
   "cell_type": "code",
   "execution_count": 315,
   "id": "c04656bb",
   "metadata": {},
   "outputs": [],
   "source": [
    "class SafeFourCal(FourCal):\n",
    "    def div(self):\n",
    "        if self.second == 0:\n",
    "            return 0\n",
    "        else:\n",
    "            return self.first / self.second\n",
    "    \n",
    "     \n",
    "    def pow(self):\n",
    "        result = self.first ** self.second\n",
    "        return result"
   ]
  },
  {
   "cell_type": "code",
   "execution_count": 316,
   "id": "7ce9dbc4",
   "metadata": {},
   "outputs": [],
   "source": [
    "a = SafeFourCal(4, 0)"
   ]
  },
  {
   "cell_type": "code",
   "execution_count": 321,
   "id": "39b6bbd6",
   "metadata": {},
   "outputs": [
    {
     "data": {
      "text/plain": [
       "4"
      ]
     },
     "execution_count": 321,
     "metadata": {},
     "output_type": "execute_result"
    }
   ],
   "source": [
    "a.add()"
   ]
  },
  {
   "cell_type": "code",
   "execution_count": 322,
   "id": "a396617b",
   "metadata": {},
   "outputs": [
    {
     "data": {
      "text/plain": [
       "4"
      ]
     },
     "execution_count": 322,
     "metadata": {},
     "output_type": "execute_result"
    }
   ],
   "source": [
    "a.sub()"
   ]
  },
  {
   "cell_type": "code",
   "execution_count": 323,
   "id": "4369eee4",
   "metadata": {},
   "outputs": [
    {
     "data": {
      "text/plain": [
       "0"
      ]
     },
     "execution_count": 323,
     "metadata": {},
     "output_type": "execute_result"
    }
   ],
   "source": [
    "a.mul()"
   ]
  },
  {
   "cell_type": "code",
   "execution_count": 324,
   "id": "2b7c711d",
   "metadata": {},
   "outputs": [
    {
     "data": {
      "text/plain": [
       "0"
      ]
     },
     "execution_count": 324,
     "metadata": {},
     "output_type": "execute_result"
    }
   ],
   "source": [
    "a.div()"
   ]
  },
  {
   "cell_type": "code",
   "execution_count": 325,
   "id": "dc6004b4",
   "metadata": {},
   "outputs": [
    {
     "data": {
      "text/plain": [
       "1"
      ]
     },
     "execution_count": 325,
     "metadata": {},
     "output_type": "execute_result"
    }
   ],
   "source": [
    "a.pow()"
   ]
  },
  {
   "cell_type": "markdown",
   "id": "5e55d1ed",
   "metadata": {},
   "source": [
    "### 클래스 변수"
   ]
  },
  {
   "cell_type": "code",
   "execution_count": 326,
   "id": "f16e00c6",
   "metadata": {},
   "outputs": [],
   "source": [
    "class Family:\n",
    "    lastname = \"김\""
   ]
  },
  {
   "cell_type": "code",
   "execution_count": 327,
   "id": "711d6f57",
   "metadata": {},
   "outputs": [
    {
     "data": {
      "text/plain": [
       "'김'"
      ]
     },
     "execution_count": 327,
     "metadata": {},
     "output_type": "execute_result"
    }
   ],
   "source": [
    "Family.lastname"
   ]
  },
  {
   "cell_type": "code",
   "execution_count": 328,
   "id": "f076913a",
   "metadata": {},
   "outputs": [],
   "source": [
    "a = Family()\n",
    "b = Family()"
   ]
  },
  {
   "cell_type": "code",
   "execution_count": 329,
   "id": "9c208382",
   "metadata": {},
   "outputs": [
    {
     "data": {
      "text/plain": [
       "'김'"
      ]
     },
     "execution_count": 329,
     "metadata": {},
     "output_type": "execute_result"
    }
   ],
   "source": [
    "a.lastname"
   ]
  },
  {
   "cell_type": "code",
   "execution_count": 330,
   "id": "48d7a030",
   "metadata": {},
   "outputs": [
    {
     "data": {
      "text/plain": [
       "'김'"
      ]
     },
     "execution_count": 330,
     "metadata": {},
     "output_type": "execute_result"
    }
   ],
   "source": [
    "b.lastname"
   ]
  },
  {
   "cell_type": "code",
   "execution_count": null,
   "id": "516a0f2f",
   "metadata": {},
   "outputs": [],
   "source": [
    "a.lastname = '박' # 클래스 변수가 아닌 객체 변수"
   ]
  },
  {
   "cell_type": "code",
   "execution_count": 331,
   "id": "c4bc4fca",
   "metadata": {},
   "outputs": [
    {
     "data": {
      "text/plain": [
       "'김'"
      ]
     },
     "execution_count": 331,
     "metadata": {},
     "output_type": "execute_result"
    }
   ],
   "source": [
    "a.lastname"
   ]
  },
  {
   "cell_type": "code",
   "execution_count": 335,
   "id": "301fbeed",
   "metadata": {},
   "outputs": [
    {
     "data": {
      "text/plain": [
       "'최'"
      ]
     },
     "execution_count": 335,
     "metadata": {},
     "output_type": "execute_result"
    }
   ],
   "source": [
    "b.lastname"
   ]
  },
  {
   "cell_type": "code",
   "execution_count": 332,
   "id": "5d0f5efe",
   "metadata": {},
   "outputs": [],
   "source": [
    "Family.lastname = '최'"
   ]
  },
  {
   "cell_type": "code",
   "execution_count": 333,
   "id": "392a2d0b",
   "metadata": {},
   "outputs": [
    {
     "data": {
      "text/plain": [
       "'최'"
      ]
     },
     "execution_count": 333,
     "metadata": {},
     "output_type": "execute_result"
    }
   ],
   "source": [
    "a.lastname"
   ]
  },
  {
   "cell_type": "code",
   "execution_count": 334,
   "id": "3ee68882",
   "metadata": {},
   "outputs": [
    {
     "data": {
      "text/plain": [
       "'최'"
      ]
     },
     "execution_count": 334,
     "metadata": {},
     "output_type": "execute_result"
    }
   ],
   "source": [
    "b.lastname"
   ]
  },
  {
   "cell_type": "markdown",
   "id": "00e659b7",
   "metadata": {},
   "source": [
    "비공개 클래스 속성__(언더바 2개)로 시작하면 비공개 속성이 된다."
   ]
  },
  {
   "cell_type": "code",
   "execution_count": 339,
   "id": "52876ed1",
   "metadata": {},
   "outputs": [],
   "source": [
    "class Knight:\n",
    "    lastname = \"김\"\n",
    "    __item_limit = 10\n",
    "        \n",
    "    def print_item_limit(self):\n",
    "        print(Knight.__item_limit)"
   ]
  },
  {
   "cell_type": "code",
   "execution_count": 344,
   "id": "59f72ae9",
   "metadata": {},
   "outputs": [],
   "source": [
    "x = Knight()"
   ]
  },
  {
   "cell_type": "code",
   "execution_count": 347,
   "id": "c2382008",
   "metadata": {},
   "outputs": [
    {
     "data": {
      "text/plain": [
       "'김'"
      ]
     },
     "execution_count": 347,
     "metadata": {},
     "output_type": "execute_result"
    }
   ],
   "source": [
    "x.lastname"
   ]
  },
  {
   "cell_type": "code",
   "execution_count": 346,
   "id": "d44fab43",
   "metadata": {},
   "outputs": [
    {
     "ename": "AttributeError",
     "evalue": "'Knight' object has no attribute '__item_limit'",
     "output_type": "error",
     "traceback": [
      "\u001b[1;31m---------------------------------------------------------------------------\u001b[0m",
      "\u001b[1;31mAttributeError\u001b[0m                            Traceback (most recent call last)",
      "Cell \u001b[1;32mIn[346], line 1\u001b[0m\n\u001b[1;32m----> 1\u001b[0m \u001b[43mx\u001b[49m\u001b[38;5;241;43m.\u001b[39;49m\u001b[43m__item_limit\u001b[49m\n",
      "\u001b[1;31mAttributeError\u001b[0m: 'Knight' object has no attribute '__item_limit'"
     ]
    }
   ],
   "source": [
    "x.__item_limit"
   ]
  },
  {
   "cell_type": "code",
   "execution_count": 350,
   "id": "772f317f",
   "metadata": {},
   "outputs": [
    {
     "name": "stdout",
     "output_type": "stream",
     "text": [
      "10\n"
     ]
    }
   ],
   "source": [
    "x.print_item_limit()"
   ]
  }
 ],
 "metadata": {
  "kernelspec": {
   "display_name": "testenv",
   "language": "python",
   "name": "testenv"
  },
  "language_info": {
   "codemirror_mode": {
    "name": "ipython",
    "version": 3
   },
   "file_extension": ".py",
   "mimetype": "text/x-python",
   "name": "python",
   "nbconvert_exporter": "python",
   "pygments_lexer": "ipython3",
   "version": "3.8.17"
  }
 },
 "nbformat": 4,
 "nbformat_minor": 5
}
