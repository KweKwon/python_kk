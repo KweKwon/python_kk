{
 "cells": [
  {
   "cell_type": "code",
   "execution_count": null,
   "id": "fb11a124",
   "metadata": {},
   "outputs": [],
   "source": [
    "import requests  # 서버에 http 프로토콜로 요청\n",
    "from bs4 import BeautifulSoup as bs  # html 파싱\n",
    "import time  # 5초간 휴식 할 때 사용\n",
    "from datetime import datetime  # 오늘 연월일 추출\n",
    "import pandas as pd  # 데이터 프레임 만듬\n",
    "from tqdm import tqdm\n",
    "import sqlite3\n",
    "from sqlalchemy import create_engine\n",
    "import yes24_dbio as ydb"
   ]
  },
  {
   "cell_type": "code",
   "execution_count": null,
   "id": "ffe2f12d",
   "metadata": {},
   "outputs": [],
   "source": [
    "import selenium\n",
    "from selenium import webdriver\n",
    "from selenium.webdriver.chrome.service import Service as ChromeService\n",
    "from webdriver_manager.chrome import ChromeDriverManager\n",
    "from selenium.webdriver.common.keys import Keys\n",
    "from selenium.webdriver.common.by import By\n",
    "from bs4 import BeautifulSoup as bs\n",
    "import time\n",
    "from selenium.common.exceptions import NoSuchElementException"
   ]
  },
  {
   "cell_type": "code",
   "execution_count": null,
   "id": "f21322bb",
   "metadata": {},
   "outputs": [],
   "source": [
    "data = pd.read_csv('./data/yes24_08-23월간베스트.csv')"
   ]
  },
  {
   "cell_type": "code",
   "execution_count": null,
   "id": "0a656e53",
   "metadata": {},
   "outputs": [],
   "source": [
    "colnames = ['yy', 'mon', 'image', 'category', 'title', 'title_sub', 'link', 'author', \\\n",
    "         'publisher', 'pub_date', 'price', 'n_reviews', 'detail_link', 'rating', 'tags']"
   ]
  },
  {
   "cell_type": "code",
   "execution_count": null,
   "id": "5e521005",
   "metadata": {},
   "outputs": [],
   "source": [
    "data.columns = colnames"
   ]
  },
  {
   "cell_type": "code",
   "execution_count": null,
   "id": "781a6040",
   "metadata": {},
   "outputs": [],
   "source": [
    "data"
   ]
  },
  {
   "cell_type": "code",
   "execution_count": null,
   "id": "576a2d59",
   "metadata": {},
   "outputs": [],
   "source": [
    "review_page = []\n",
    "\n",
    "for links in data[\"link\"]:\n",
    "\n",
    "    # driver는 해상도에 맞춰서 빈 사이트를 띄워주는 로직 \n",
    "    try:\n",
    "        driver = webdriver.Chrome(service=ChromeService(ChromeDriverManager().install()))\n",
    "        driver.set_window_size(1920, 1080) # 웹 브라우저 해상도 조절\n",
    "        driver.get(links) # for 루프 안에 있는 link를 하나씩 넣으면서 페이지를 띄우게함 \n",
    "\n",
    "        time.sleep(2)# 2초 쉬었다가 \n",
    "        down_button = driver.find_element(By.CSS_SELECTOR,\"#yDetailTabNavWrap > div > div.gd_tabBar > ul > li:nth-child(2) > a\")\n",
    "        down_button.click()\n",
    "        # 댓글을 수집하기 위해서 배송/반품/교환 섹션으로 내려가게끔 페이지 다운 버튼 클릭 \n",
    "        time.sleep(2)\n",
    "        review_btn = driver.find_element(By.CSS_SELECTOR, '#infoset_reviewContentList > div:nth-child(3) > div.reviewInfoBot.crop > a > div')\n",
    "        review_btn.click()\n",
    "        time.sleep(3)\n",
    "        # 도착한 포커스 내에서 페이지를 모두 저장 시킴(html_page라는 변수에)\n",
    "        html_page = driver.page_source\n",
    "        # 그 수집한 html_page 변수를 detail_page라는 리스트에 저장 시킴 \n",
    "        detail_page.append(html_page)\n",
    "        # 그 이후에 페이지 변수를 증가시킴 \n",
    "        page = 1 \n",
    "        nth_child = 4\n",
    "        time.sleep(3)\n",
    "        while True:\n",
    "            print(f\"페이지 : {page}, nth-child : {nth_child}, 페이지 개수 {len(detail_page)}\")\n",
    "            time.sleep(2)\n",
    "            next_btn = driver.find_element(By.CSS_SELECTOR,f\"#infoset_reviewContentList > div.review_sort.sortTop > div.review_sortLft > div > a:nth-child({nth_child})\")\n",
    "            next_btn.click()\n",
    "            time.sleep(2)\n",
    "            nth_child += 1\n",
    "            page +=1 \n",
    "            html_page = driver.page_source\n",
    "            review_page.append(html_page)\n",
    "            time.sleep(3)\n",
    "            try: \n",
    "                empty_button = driver.find_element(By.CSS_SELECTOR,\"#infoset_reviewContentList > div.review_sort.sortTop > div.review_sortLft > div > a.bgYUI.next\")\n",
    "                break\n",
    "            except NoSuchElementException:\n",
    "                pass\n",
    "\n",
    "            if page % 5 == 0:\n",
    "                time.sleep(2)\n",
    "                next_prev_button = driver.find_element(By.CSS_SELECTOR,\"#infoset_reviewContentList > div.review_sort.sortTop > div.review_sortLft > div > a.bgYUI.next\")\n",
    "                next_prev_button.click()\n",
    "                page += 1 \n",
    "                nth_child = 4\n",
    "                html_page = driver.page_source\n",
    "                review_page.append(html_page)\n",
    "                time.sleep(3)\n",
    "            \n",
    "    except Exception :\n",
    "        print(Exception)\n",
    "        pass\n",
    "    \n",
    "    finally:\n",
    "        driver.quit()\n",
    "            \n",
    "        # DB설계를 하고 해야함..\n",
    "        # Book_id를 설정해야하는데 어케하는지모름"
   ]
  },
  {
   "cell_type": "code",
   "execution_count": null,
   "id": "cce7b193",
   "metadata": {},
   "outputs": [],
   "source": [
    "review_page"
   ]
  },
  {
   "cell_type": "code",
   "execution_count": null,
   "id": "e24a0617",
   "metadata": {},
   "outputs": [],
   "source": []
  },
  {
   "cell_type": "code",
   "execution_count": null,
   "id": "61a1ffab",
   "metadata": {},
   "outputs": [],
   "source": []
  },
  {
   "cell_type": "code",
   "execution_count": null,
   "id": "246ba01a",
   "metadata": {},
   "outputs": [],
   "source": []
  },
  {
   "cell_type": "code",
   "execution_count": null,
   "id": "478d7403",
   "metadata": {},
   "outputs": [],
   "source": []
  },
  {
   "cell_type": "code",
   "execution_count": null,
   "id": "27c8da67",
   "metadata": {},
   "outputs": [],
   "source": []
  },
  {
   "cell_type": "code",
   "execution_count": null,
   "id": "8f37ca3a",
   "metadata": {},
   "outputs": [],
   "source": []
  },
  {
   "cell_type": "code",
   "execution_count": null,
   "id": "c9a8c9d4",
   "metadata": {},
   "outputs": [],
   "source": []
  },
  {
   "cell_type": "code",
   "execution_count": null,
   "id": "3d74f672",
   "metadata": {},
   "outputs": [],
   "source": []
  }
 ],
 "metadata": {
  "kernelspec": {
   "display_name": "testenv",
   "language": "python",
   "name": "testenv"
  },
  "language_info": {
   "codemirror_mode": {
    "name": "ipython",
    "version": 3
   },
   "file_extension": ".py",
   "mimetype": "text/x-python",
   "name": "python",
   "nbconvert_exporter": "python",
   "pygments_lexer": "ipython3",
   "version": "3.8.17"
  }
 },
 "nbformat": 4,
 "nbformat_minor": 5
}
