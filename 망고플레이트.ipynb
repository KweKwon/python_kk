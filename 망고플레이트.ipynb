{
 "cells": [
  {
   "cell_type": "code",
   "execution_count": 19,
   "id": "ef9eaba7",
   "metadata": {},
   "outputs": [],
   "source": [
    "import pandas as pd"
   ]
  },
  {
   "cell_type": "markdown",
   "id": "2a3e6729",
   "metadata": {},
   "source": [
    "1. ID를 기준으로 리뷰수가 20개 초과인 곳만 추출\n",
    "2. 망고플레이트 데이터에서 중복 제거\n",
    "3. 텍스트 전처리\n",
    "4. ID별 데이터 프레임 만들기(함수사용) globals()[f'[변수명]']\n",
    "5. ID별 워드클라우드 만들기(함수)"
   ]
  },
  {
   "cell_type": "code",
   "execution_count": 202,
   "id": "1180399d",
   "metadata": {},
   "outputs": [],
   "source": [
    "data = pd.read_csv('./data/망고플레이트전국댓글.csv')"
   ]
  },
  {
   "cell_type": "code",
   "execution_count": 203,
   "id": "af453dbd",
   "metadata": {},
   "outputs": [
    {
     "name": "stdout",
     "output_type": "stream",
     "text": [
      "<class 'pandas.core.frame.DataFrame'>\n",
      "RangeIndex: 658251 entries, 0 to 658250\n",
      "Data columns (total 5 columns):\n",
      " #   Column  Non-Null Count   Dtype \n",
      "---  ------  --------------   ----- \n",
      " 0   리뷰내용    657292 non-null  object\n",
      " 1   작성자명    657680 non-null  object\n",
      " 2   후기점수    658251 non-null  object\n",
      " 3   url     658251 non-null  object\n",
      " 4   ID      658251 non-null  object\n",
      "dtypes: object(5)\n",
      "memory usage: 25.1+ MB\n"
     ]
    }
   ],
   "source": [
    "data.info()"
   ]
  },
  {
   "cell_type": "code",
   "execution_count": 204,
   "id": "6595cb87",
   "metadata": {},
   "outputs": [],
   "source": [
    "data.drop('url', axis=1, inplace=True)\n",
    "data.drop('작성자명', axis=1, inplace=True)"
   ]
  },
  {
   "cell_type": "code",
   "execution_count": 205,
   "id": "e819d854",
   "metadata": {},
   "outputs": [
    {
     "name": "stdout",
     "output_type": "stream",
     "text": [
      "<class 'pandas.core.frame.DataFrame'>\n",
      "RangeIndex: 658251 entries, 0 to 658250\n",
      "Data columns (total 3 columns):\n",
      " #   Column  Non-Null Count   Dtype \n",
      "---  ------  --------------   ----- \n",
      " 0   리뷰내용    657292 non-null  object\n",
      " 1   후기점수    658251 non-null  object\n",
      " 2   ID      658251 non-null  object\n",
      "dtypes: object(3)\n",
      "memory usage: 15.1+ MB\n"
     ]
    }
   ],
   "source": [
    "data.info()"
   ]
  },
  {
   "cell_type": "markdown",
   "id": "b77f859f",
   "metadata": {},
   "source": [
    "* 1. ID를 기준으로 리뷰수가 20개 초과인 곳만 추출"
   ]
  },
  {
   "cell_type": "code",
   "execution_count": 206,
   "id": "de3dcecc",
   "metadata": {},
   "outputs": [],
   "source": [
    "data['리뷰내용_글자수'] = data['리뷰내용'].str.len()"
   ]
  },
  {
   "cell_type": "code",
   "execution_count": 207,
   "id": "13fa0a42",
   "metadata": {},
   "outputs": [
    {
     "data": {
      "text/html": [
       "<div>\n",
       "<style scoped>\n",
       "    .dataframe tbody tr th:only-of-type {\n",
       "        vertical-align: middle;\n",
       "    }\n",
       "\n",
       "    .dataframe tbody tr th {\n",
       "        vertical-align: top;\n",
       "    }\n",
       "\n",
       "    .dataframe thead th {\n",
       "        text-align: right;\n",
       "    }\n",
       "</style>\n",
       "<table border=\"1\" class=\"dataframe\">\n",
       "  <thead>\n",
       "    <tr style=\"text-align: right;\">\n",
       "      <th></th>\n",
       "      <th>리뷰내용</th>\n",
       "      <th>후기점수</th>\n",
       "      <th>ID</th>\n",
       "      <th>리뷰내용_글자수</th>\n",
       "    </tr>\n",
       "  </thead>\n",
       "  <tbody>\n",
       "    <tr>\n",
       "      <th>3</th>\n",
       "      <td>언제와도 맛있는 미라이!!!고등어산도는 무조건 시켜야하구요.. (식빵 뭔지 궁금) ...</td>\n",
       "      <td>맛있다</td>\n",
       "      <td>iMRRP69qtkeO</td>\n",
       "      <td>263.0</td>\n",
       "    </tr>\n",
       "    <tr>\n",
       "      <th>4</th>\n",
       "      <td>아와이 야끼소바,사바산도,우니 아마에비 호다테먹었어요.나마비루도 함께^^나마비루 부...</td>\n",
       "      <td>맛있다</td>\n",
       "      <td>iMRRP69qtkeO</td>\n",
       "      <td>129.0</td>\n",
       "    </tr>\n",
       "    <tr>\n",
       "      <th>5</th>\n",
       "      <td>- 음식리뷰 -전복내장 야끼소바 : 깔끔하게 고소하고 감칠맛이 좋음. 아주 맛있다....</td>\n",
       "      <td>맛있다</td>\n",
       "      <td>iMRRP69qtkeO</td>\n",
       "      <td>381.0</td>\n",
       "    </tr>\n",
       "    <tr>\n",
       "      <th>6</th>\n",
       "      <td>고급 일식 요리신사동 가로수길에서는 좀 거리가 있어 변화가에서는 멀다. 하지만 네이...</td>\n",
       "      <td>맛있다</td>\n",
       "      <td>iMRRP69qtkeO</td>\n",
       "      <td>453.0</td>\n",
       "    </tr>\n",
       "    <tr>\n",
       "      <th>7</th>\n",
       "      <td>너무나 먹고싶었던 사바산도를 드디어!! 7시타임까지는 예약이 된다는걸 몰랐는데 1차...</td>\n",
       "      <td>맛있다</td>\n",
       "      <td>iMRRP69qtkeO</td>\n",
       "      <td>888.0</td>\n",
       "    </tr>\n",
       "    <tr>\n",
       "      <th>...</th>\n",
       "      <td>...</td>\n",
       "      <td>...</td>\n",
       "      <td>...</td>\n",
       "      <td>...</td>\n",
       "    </tr>\n",
       "    <tr>\n",
       "      <th>658246</th>\n",
       "      <td>짜고..달고..짬뽕전문점이래서 믿고갔드니만</td>\n",
       "      <td>별로</td>\n",
       "      <td>2xEW0lARGv</td>\n",
       "      <td>23.0</td>\n",
       "    </tr>\n",
       "    <tr>\n",
       "      <th>658247</th>\n",
       "      <td>서비스도 나쁘지 않고 일단 고기 맛이  좋아서  다시 가고 싶은 곳이예요.  다른 ...</td>\n",
       "      <td>맛있다</td>\n",
       "      <td>qJfguC-XoNK_</td>\n",
       "      <td>108.0</td>\n",
       "    </tr>\n",
       "    <tr>\n",
       "      <th>658248</th>\n",
       "      <td>먼길을 찾아서 갈만한 맛집인지는 모르겠지만, 동네에 이런 집이 있었으면 한다. 밀면...</td>\n",
       "      <td>맛있다</td>\n",
       "      <td>rXhoe55y323s</td>\n",
       "      <td>70.0</td>\n",
       "    </tr>\n",
       "    <tr>\n",
       "      <th>658249</th>\n",
       "      <td>착한 가격 분식집 : 보리밥,칼국수허름한 가정집에서 보리밥에 된장 비벼 김치 하나와...</td>\n",
       "      <td>괜찮다</td>\n",
       "      <td>dj7Azd0jH7</td>\n",
       "      <td>57.0</td>\n",
       "    </tr>\n",
       "    <tr>\n",
       "      <th>658250</th>\n",
       "      <td>회는 잘 모르겠지만, 음식 깔끔하고 특히 매운탕은 먹어본 중에 최고다.</td>\n",
       "      <td>맛있다</td>\n",
       "      <td>XGnBYklKwi</td>\n",
       "      <td>39.0</td>\n",
       "    </tr>\n",
       "  </tbody>\n",
       "</table>\n",
       "<p>606697 rows × 4 columns</p>\n",
       "</div>"
      ],
      "text/plain": [
       "                                                     리뷰내용 후기점수            ID  \\\n",
       "3       언제와도 맛있는 미라이!!!고등어산도는 무조건 시켜야하구요.. (식빵 뭔지 궁금) ...  맛있다  iMRRP69qtkeO   \n",
       "4       아와이 야끼소바,사바산도,우니 아마에비 호다테먹었어요.나마비루도 함께^^나마비루 부...  맛있다  iMRRP69qtkeO   \n",
       "5       - 음식리뷰 -전복내장 야끼소바 : 깔끔하게 고소하고 감칠맛이 좋음. 아주 맛있다....  맛있다  iMRRP69qtkeO   \n",
       "6       고급 일식 요리신사동 가로수길에서는 좀 거리가 있어 변화가에서는 멀다. 하지만 네이...  맛있다  iMRRP69qtkeO   \n",
       "7       너무나 먹고싶었던 사바산도를 드디어!! 7시타임까지는 예약이 된다는걸 몰랐는데 1차...  맛있다  iMRRP69qtkeO   \n",
       "...                                                   ...  ...           ...   \n",
       "658246                            짜고..달고..짬뽕전문점이래서 믿고갔드니만   별로    2xEW0lARGv   \n",
       "658247  서비스도 나쁘지 않고 일단 고기 맛이  좋아서  다시 가고 싶은 곳이예요.  다른 ...  맛있다  qJfguC-XoNK_   \n",
       "658248  먼길을 찾아서 갈만한 맛집인지는 모르겠지만, 동네에 이런 집이 있었으면 한다. 밀면...  맛있다  rXhoe55y323s   \n",
       "658249  착한 가격 분식집 : 보리밥,칼국수허름한 가정집에서 보리밥에 된장 비벼 김치 하나와...  괜찮다    dj7Azd0jH7   \n",
       "658250            회는 잘 모르겠지만, 음식 깔끔하고 특히 매운탕은 먹어본 중에 최고다.  맛있다    XGnBYklKwi   \n",
       "\n",
       "        리뷰내용_글자수  \n",
       "3          263.0  \n",
       "4          129.0  \n",
       "5          381.0  \n",
       "6          453.0  \n",
       "7          888.0  \n",
       "...          ...  \n",
       "658246      23.0  \n",
       "658247     108.0  \n",
       "658248      70.0  \n",
       "658249      57.0  \n",
       "658250      39.0  \n",
       "\n",
       "[606697 rows x 4 columns]"
      ]
     },
     "execution_count": 207,
     "metadata": {},
     "output_type": "execute_result"
    }
   ],
   "source": [
    "data[data['리뷰내용_글자수'] >= 20]"
   ]
  },
  {
   "cell_type": "code",
   "execution_count": 208,
   "id": "4ce594ae",
   "metadata": {},
   "outputs": [],
   "source": [
    "review20over = data[data['리뷰내용_글자수'] >= 20]"
   ]
  },
  {
   "cell_type": "code",
   "execution_count": 209,
   "id": "1551bc23",
   "metadata": {
    "scrolled": true
   },
   "outputs": [
    {
     "name": "stdout",
     "output_type": "stream",
     "text": [
      "<class 'pandas.core.frame.DataFrame'>\n",
      "Index: 606697 entries, 3 to 658250\n",
      "Data columns (total 4 columns):\n",
      " #   Column    Non-Null Count   Dtype  \n",
      "---  ------    --------------   -----  \n",
      " 0   리뷰내용      606697 non-null  object \n",
      " 1   후기점수      606697 non-null  object \n",
      " 2   ID        606697 non-null  object \n",
      " 3   리뷰내용_글자수  606697 non-null  float64\n",
      "dtypes: float64(1), object(3)\n",
      "memory usage: 23.1+ MB\n"
     ]
    }
   ],
   "source": [
    "review20over.info()"
   ]
  },
  {
   "cell_type": "code",
   "execution_count": 231,
   "id": "d349777c",
   "metadata": {
    "scrolled": true
   },
   "outputs": [
    {
     "data": {
      "text/html": [
       "<div>\n",
       "<style scoped>\n",
       "    .dataframe tbody tr th:only-of-type {\n",
       "        vertical-align: middle;\n",
       "    }\n",
       "\n",
       "    .dataframe tbody tr th {\n",
       "        vertical-align: top;\n",
       "    }\n",
       "\n",
       "    .dataframe thead th {\n",
       "        text-align: right;\n",
       "    }\n",
       "</style>\n",
       "<table border=\"1\" class=\"dataframe\">\n",
       "  <thead>\n",
       "    <tr style=\"text-align: right;\">\n",
       "      <th></th>\n",
       "      <th>리뷰내용</th>\n",
       "      <th>후기점수</th>\n",
       "      <th>ID</th>\n",
       "      <th>리뷰내용_글자수</th>\n",
       "    </tr>\n",
       "  </thead>\n",
       "  <tbody>\n",
       "    <tr>\n",
       "      <th>3</th>\n",
       "      <td>언제와도 맛있는 미라이!!!고등어산도는 무조건 시켜야하구요.. (식빵 뭔지 궁금) ...</td>\n",
       "      <td>맛있다</td>\n",
       "      <td>iMRRP69qtkeO</td>\n",
       "      <td>263.0</td>\n",
       "    </tr>\n",
       "    <tr>\n",
       "      <th>4</th>\n",
       "      <td>아와이 야끼소바,사바산도,우니 아마에비 호다테먹었어요.나마비루도 함께^^나마비루 부...</td>\n",
       "      <td>맛있다</td>\n",
       "      <td>iMRRP69qtkeO</td>\n",
       "      <td>129.0</td>\n",
       "    </tr>\n",
       "    <tr>\n",
       "      <th>5</th>\n",
       "      <td>- 음식리뷰 -전복내장 야끼소바 : 깔끔하게 고소하고 감칠맛이 좋음. 아주 맛있다....</td>\n",
       "      <td>맛있다</td>\n",
       "      <td>iMRRP69qtkeO</td>\n",
       "      <td>381.0</td>\n",
       "    </tr>\n",
       "    <tr>\n",
       "      <th>6</th>\n",
       "      <td>고급 일식 요리신사동 가로수길에서는 좀 거리가 있어 변화가에서는 멀다. 하지만 네이...</td>\n",
       "      <td>맛있다</td>\n",
       "      <td>iMRRP69qtkeO</td>\n",
       "      <td>453.0</td>\n",
       "    </tr>\n",
       "    <tr>\n",
       "      <th>7</th>\n",
       "      <td>너무나 먹고싶었던 사바산도를 드디어!! 7시타임까지는 예약이 된다는걸 몰랐는데 1차...</td>\n",
       "      <td>맛있다</td>\n",
       "      <td>iMRRP69qtkeO</td>\n",
       "      <td>888.0</td>\n",
       "    </tr>\n",
       "    <tr>\n",
       "      <th>...</th>\n",
       "      <td>...</td>\n",
       "      <td>...</td>\n",
       "      <td>...</td>\n",
       "      <td>...</td>\n",
       "    </tr>\n",
       "    <tr>\n",
       "      <th>658246</th>\n",
       "      <td>짜고..달고..짬뽕전문점이래서 믿고갔드니만</td>\n",
       "      <td>별로</td>\n",
       "      <td>2xEW0lARGv</td>\n",
       "      <td>23.0</td>\n",
       "    </tr>\n",
       "    <tr>\n",
       "      <th>658247</th>\n",
       "      <td>서비스도 나쁘지 않고 일단 고기 맛이  좋아서  다시 가고 싶은 곳이예요.  다른 ...</td>\n",
       "      <td>맛있다</td>\n",
       "      <td>qJfguC-XoNK_</td>\n",
       "      <td>108.0</td>\n",
       "    </tr>\n",
       "    <tr>\n",
       "      <th>658248</th>\n",
       "      <td>먼길을 찾아서 갈만한 맛집인지는 모르겠지만, 동네에 이런 집이 있었으면 한다. 밀면...</td>\n",
       "      <td>맛있다</td>\n",
       "      <td>rXhoe55y323s</td>\n",
       "      <td>70.0</td>\n",
       "    </tr>\n",
       "    <tr>\n",
       "      <th>658249</th>\n",
       "      <td>착한 가격 분식집 : 보리밥,칼국수허름한 가정집에서 보리밥에 된장 비벼 김치 하나와...</td>\n",
       "      <td>괜찮다</td>\n",
       "      <td>dj7Azd0jH7</td>\n",
       "      <td>57.0</td>\n",
       "    </tr>\n",
       "    <tr>\n",
       "      <th>658250</th>\n",
       "      <td>회는 잘 모르겠지만, 음식 깔끔하고 특히 매운탕은 먹어본 중에 최고다.</td>\n",
       "      <td>맛있다</td>\n",
       "      <td>XGnBYklKwi</td>\n",
       "      <td>39.0</td>\n",
       "    </tr>\n",
       "  </tbody>\n",
       "</table>\n",
       "<p>606697 rows × 4 columns</p>\n",
       "</div>"
      ],
      "text/plain": [
       "                                                     리뷰내용 후기점수            ID  \\\n",
       "3       언제와도 맛있는 미라이!!!고등어산도는 무조건 시켜야하구요.. (식빵 뭔지 궁금) ...  맛있다  iMRRP69qtkeO   \n",
       "4       아와이 야끼소바,사바산도,우니 아마에비 호다테먹었어요.나마비루도 함께^^나마비루 부...  맛있다  iMRRP69qtkeO   \n",
       "5       - 음식리뷰 -전복내장 야끼소바 : 깔끔하게 고소하고 감칠맛이 좋음. 아주 맛있다....  맛있다  iMRRP69qtkeO   \n",
       "6       고급 일식 요리신사동 가로수길에서는 좀 거리가 있어 변화가에서는 멀다. 하지만 네이...  맛있다  iMRRP69qtkeO   \n",
       "7       너무나 먹고싶었던 사바산도를 드디어!! 7시타임까지는 예약이 된다는걸 몰랐는데 1차...  맛있다  iMRRP69qtkeO   \n",
       "...                                                   ...  ...           ...   \n",
       "658246                            짜고..달고..짬뽕전문점이래서 믿고갔드니만   별로    2xEW0lARGv   \n",
       "658247  서비스도 나쁘지 않고 일단 고기 맛이  좋아서  다시 가고 싶은 곳이예요.  다른 ...  맛있다  qJfguC-XoNK_   \n",
       "658248  먼길을 찾아서 갈만한 맛집인지는 모르겠지만, 동네에 이런 집이 있었으면 한다. 밀면...  맛있다  rXhoe55y323s   \n",
       "658249  착한 가격 분식집 : 보리밥,칼국수허름한 가정집에서 보리밥에 된장 비벼 김치 하나와...  괜찮다    dj7Azd0jH7   \n",
       "658250            회는 잘 모르겠지만, 음식 깔끔하고 특히 매운탕은 먹어본 중에 최고다.  맛있다    XGnBYklKwi   \n",
       "\n",
       "        리뷰내용_글자수  \n",
       "3          263.0  \n",
       "4          129.0  \n",
       "5          381.0  \n",
       "6          453.0  \n",
       "7          888.0  \n",
       "...          ...  \n",
       "658246      23.0  \n",
       "658247     108.0  \n",
       "658248      70.0  \n",
       "658249      57.0  \n",
       "658250      39.0  \n",
       "\n",
       "[606697 rows x 4 columns]"
      ]
     },
     "execution_count": 231,
     "metadata": {},
     "output_type": "execute_result"
    }
   ],
   "source": [
    "review20over"
   ]
  },
  {
   "cell_type": "markdown",
   "id": "51df360c",
   "metadata": {},
   "source": [
    "* 2. 망고플레이트 데이터에서 중복 제거"
   ]
  },
  {
   "cell_type": "code",
   "execution_count": 230,
   "id": "0b18330f",
   "metadata": {
    "scrolled": true
   },
   "outputs": [
    {
     "data": {
      "text/plain": [
       "리뷰내용        0\n",
       "후기점수        0\n",
       "ID          0\n",
       "리뷰내용_글자수    0\n",
       "dtype: int64"
      ]
     },
     "execution_count": 230,
     "metadata": {},
     "output_type": "execute_result"
    }
   ],
   "source": [
    "data2.isna().sum()"
   ]
  },
  {
   "cell_type": "code",
   "execution_count": 90,
   "id": "3227424a",
   "metadata": {},
   "outputs": [],
   "source": [
    "data = data.drop_duplicates()"
   ]
  },
  {
   "cell_type": "code",
   "execution_count": 91,
   "id": "d94d8871",
   "metadata": {},
   "outputs": [
    {
     "data": {
      "text/plain": [
       "리뷰내용        403\n",
       "작성자명         38\n",
       "후기점수          0\n",
       "url           0\n",
       "ID            0\n",
       "리뷰내용_글자수    403\n",
       "dtype: int64"
      ]
     },
     "execution_count": 91,
     "metadata": {},
     "output_type": "execute_result"
    }
   ],
   "source": [
    "data.isna().sum()"
   ]
  },
  {
   "cell_type": "code",
   "execution_count": 92,
   "id": "3e2409df",
   "metadata": {},
   "outputs": [],
   "source": [
    "data['리뷰내용'] = data['리뷰내용'].fillna('')\n",
    "data['작성자명'] = data['작성자명'].fillna('')"
   ]
  },
  {
   "cell_type": "code",
   "execution_count": 93,
   "id": "ab00949c",
   "metadata": {},
   "outputs": [
    {
     "data": {
      "text/plain": [
       "리뷰내용          0\n",
       "작성자명          0\n",
       "후기점수          0\n",
       "url           0\n",
       "ID            0\n",
       "리뷰내용_글자수    403\n",
       "dtype: int64"
      ]
     },
     "execution_count": 93,
     "metadata": {},
     "output_type": "execute_result"
    }
   ],
   "source": [
    "data.isna().sum()"
   ]
  },
  {
   "cell_type": "markdown",
   "id": "82e06c5b",
   "metadata": {},
   "source": [
    "* 이상값 찾기"
   ]
  },
  {
   "cell_type": "code",
   "execution_count": 94,
   "id": "c7bbbf47",
   "metadata": {},
   "outputs": [
    {
     "data": {
      "text/html": [
       "<div>\n",
       "<style scoped>\n",
       "    .dataframe tbody tr th:only-of-type {\n",
       "        vertical-align: middle;\n",
       "    }\n",
       "\n",
       "    .dataframe tbody tr th {\n",
       "        vertical-align: top;\n",
       "    }\n",
       "\n",
       "    .dataframe thead th {\n",
       "        text-align: right;\n",
       "    }\n",
       "</style>\n",
       "<table border=\"1\" class=\"dataframe\">\n",
       "  <thead>\n",
       "    <tr style=\"text-align: right;\">\n",
       "      <th></th>\n",
       "      <th>리뷰내용_글자수</th>\n",
       "    </tr>\n",
       "  </thead>\n",
       "  <tbody>\n",
       "    <tr>\n",
       "      <th>count</th>\n",
       "      <td>94526.000000</td>\n",
       "    </tr>\n",
       "    <tr>\n",
       "      <th>mean</th>\n",
       "      <td>297.006866</td>\n",
       "    </tr>\n",
       "    <tr>\n",
       "      <th>std</th>\n",
       "      <td>346.625019</td>\n",
       "    </tr>\n",
       "    <tr>\n",
       "      <th>min</th>\n",
       "      <td>1.000000</td>\n",
       "    </tr>\n",
       "    <tr>\n",
       "      <th>25%</th>\n",
       "      <td>86.000000</td>\n",
       "    </tr>\n",
       "    <tr>\n",
       "      <th>50%</th>\n",
       "      <td>201.000000</td>\n",
       "    </tr>\n",
       "    <tr>\n",
       "      <th>75%</th>\n",
       "      <td>381.000000</td>\n",
       "    </tr>\n",
       "    <tr>\n",
       "      <th>max</th>\n",
       "      <td>7879.000000</td>\n",
       "    </tr>\n",
       "  </tbody>\n",
       "</table>\n",
       "</div>"
      ],
      "text/plain": [
       "           리뷰내용_글자수\n",
       "count  94526.000000\n",
       "mean     297.006866\n",
       "std      346.625019\n",
       "min        1.000000\n",
       "25%       86.000000\n",
       "50%      201.000000\n",
       "75%      381.000000\n",
       "max     7879.000000"
      ]
     },
     "execution_count": 94,
     "metadata": {},
     "output_type": "execute_result"
    }
   ],
   "source": [
    "data.describe()"
   ]
  },
  {
   "cell_type": "markdown",
   "id": "a2006c75",
   "metadata": {},
   "source": [
    "# 텍스트 전처리"
   ]
  },
  {
   "cell_type": "code",
   "execution_count": 224,
   "id": "50480c42",
   "metadata": {
    "scrolled": true
   },
   "outputs": [
    {
     "data": {
      "text/plain": [
       "3         언제와도 맛있는 미라이!!!고등어산도는 무조건 시켜야하구요.. (식빵 뭔지 궁금) ...\n",
       "4         아와이 야끼소바,사바산도,우니 아마에비 호다테먹었어요.나마비루도 함께^^나마비루 부...\n",
       "5         - 음식리뷰 -전복내장 야끼소바 : 깔끔하게 고소하고 감칠맛이 좋음. 아주 맛있다....\n",
       "6         고급 일식 요리신사동 가로수길에서는 좀 거리가 있어 변화가에서는 멀다. 하지만 네이...\n",
       "7         너무나 먹고싶었던 사바산도를 드디어!! 7시타임까지는 예약이 된다는걸 몰랐는데 1차...\n",
       "                                ...                        \n",
       "658246                              짜고..달고..짬뽕전문점이래서 믿고갔드니만\n",
       "658247    서비스도 나쁘지 않고 일단 고기 맛이  좋아서  다시 가고 싶은 곳이예요.  다른 ...\n",
       "658248    먼길을 찾아서 갈만한 맛집인지는 모르겠지만, 동네에 이런 집이 있었으면 한다. 밀면...\n",
       "658249    착한 가격 분식집 : 보리밥,칼국수허름한 가정집에서 보리밥에 된장 비벼 김치 하나와...\n",
       "658250              회는 잘 모르겠지만, 음식 깔끔하고 특히 매운탕은 먹어본 중에 최고다.\n",
       "Name: 리뷰내용, Length: 606697, dtype: object"
      ]
     },
     "execution_count": 224,
     "metadata": {},
     "output_type": "execute_result"
    }
   ],
   "source": [
    "review20over['리뷰내용']"
   ]
  },
  {
   "cell_type": "code",
   "execution_count": 238,
   "id": "11497a13",
   "metadata": {
    "scrolled": true
   },
   "outputs": [],
   "source": [
    "txt = []\n",
    "for i in review20over['리뷰내용']:\n",
    "    review_txt = i.replace(',',' ').replace('/',' ').replace(':',' ').replace('-',' ').replace('!',' ').replace('.',' ').replace(')',' ').replace('(',' ').replace('~',' ').replace('ㅎ',' ').replace('♡','').replace('+',' ').replace('   ',' ').replace('  ',' ').strip()\n",
    "    txt.append(review_txt)"
   ]
  },
  {
   "cell_type": "code",
   "execution_count": 250,
   "id": "4a1590dc",
   "metadata": {},
   "outputs": [
    {
     "name": "stderr",
     "output_type": "stream",
     "text": [
      "C:\\Users\\hi\\AppData\\Local\\Temp\\ipykernel_12544\\491029738.py:1: SettingWithCopyWarning: \n",
      "A value is trying to be set on a copy of a slice from a DataFrame.\n",
      "Try using .loc[row_indexer,col_indexer] = value instead\n",
      "\n",
      "See the caveats in the documentation: https://pandas.pydata.org/pandas-docs/stable/user_guide/indexing.html#returning-a-view-versus-a-copy\n",
      "  review20over['리뷰내용'] = pd.DataFrame(txt)\n"
     ]
    }
   ],
   "source": [
    "review20over['리뷰내용'] = pd.DataFrame(txt)"
   ]
  },
  {
   "cell_type": "code",
   "execution_count": 251,
   "id": "4aa84b78",
   "metadata": {},
   "outputs": [],
   "source": [
    "review20over = review20over.dropna()"
   ]
  },
  {
   "cell_type": "code",
   "execution_count": 254,
   "id": "bcecdd03",
   "metadata": {},
   "outputs": [],
   "source": [
    "review20over = review20over.drop_duplicates()"
   ]
  },
  {
   "cell_type": "code",
   "execution_count": 259,
   "id": "eb85ba66",
   "metadata": {
    "scrolled": true
   },
   "outputs": [],
   "source": [
    "df = review20over"
   ]
  },
  {
   "cell_type": "code",
   "execution_count": 269,
   "id": "0b4aff98",
   "metadata": {},
   "outputs": [
    {
     "data": {
      "text/html": [
       "<div>\n",
       "<style scoped>\n",
       "    .dataframe tbody tr th:only-of-type {\n",
       "        vertical-align: middle;\n",
       "    }\n",
       "\n",
       "    .dataframe tbody tr th {\n",
       "        vertical-align: top;\n",
       "    }\n",
       "\n",
       "    .dataframe thead th {\n",
       "        text-align: right;\n",
       "    }\n",
       "</style>\n",
       "<table border=\"1\" class=\"dataframe\">\n",
       "  <thead>\n",
       "    <tr style=\"text-align: right;\">\n",
       "      <th></th>\n",
       "      <th>리뷰내용</th>\n",
       "      <th>후기점수</th>\n",
       "      <th>ID</th>\n",
       "      <th>리뷰내용_글자수</th>\n",
       "    </tr>\n",
       "  </thead>\n",
       "  <tbody>\n",
       "    <tr>\n",
       "      <th>3</th>\n",
       "      <td>고급 일식 요리신사동 가로수길에서는 좀 거리가 있어 변화가에서는 멀다 하지만 네이버...</td>\n",
       "      <td>맛있다</td>\n",
       "      <td>iMRRP69qtkeO</td>\n",
       "      <td>263.0</td>\n",
       "    </tr>\n",
       "    <tr>\n",
       "      <th>4</th>\n",
       "      <td>너무나 먹고싶었던 사바산도를 드디어 7시타임까지는 예약이 된다는걸 몰랐는데 1차로 ...</td>\n",
       "      <td>맛있다</td>\n",
       "      <td>iMRRP69qtkeO</td>\n",
       "      <td>129.0</td>\n",
       "    </tr>\n",
       "    <tr>\n",
       "      <th>5</th>\n",
       "      <td>세상에서 제일 맛있는 곳을 꼽으라고 하면 미라이 미리 예약해서 바자리에 앉아서 여유...</td>\n",
       "      <td>맛있다</td>\n",
       "      <td>iMRRP69qtkeO</td>\n",
       "      <td>381.0</td>\n",
       "    </tr>\n",
       "    <tr>\n",
       "      <th>6</th>\n",
       "      <td>6시 6시반 7시 타임 예약을 받는 미라이 ㅠㅠ 7시반에 가면서 불안했는데 다행히 ...</td>\n",
       "      <td>맛있다</td>\n",
       "      <td>iMRRP69qtkeO</td>\n",
       "      <td>453.0</td>\n",
       "    </tr>\n",
       "    <tr>\n",
       "      <th>7</th>\n",
       "      <td>언제와도 맛있는 미라이 고등어산도는 무조건 시켜야하구요 식빵 뭔지 궁금 고등어랑 감...</td>\n",
       "      <td>맛있다</td>\n",
       "      <td>iMRRP69qtkeO</td>\n",
       "      <td>888.0</td>\n",
       "    </tr>\n",
       "    <tr>\n",
       "      <th>...</th>\n",
       "      <td>...</td>\n",
       "      <td>...</td>\n",
       "      <td>...</td>\n",
       "      <td>...</td>\n",
       "    </tr>\n",
       "    <tr>\n",
       "      <th>606692</th>\n",
       "      <td>짜고 달고 짬뽕전문점이래서 믿고갔드니만</td>\n",
       "      <td>맛있다</td>\n",
       "      <td>sRFQZbq3nK1c</td>\n",
       "      <td>249.0</td>\n",
       "    </tr>\n",
       "    <tr>\n",
       "      <th>606693</th>\n",
       "      <td>서비스도 나쁘지 않고 일단 고기 맛이 좋아서 다시 가고 싶은 곳이예요 다른 가게 보...</td>\n",
       "      <td>괜찮다</td>\n",
       "      <td>sRFQZbq3nK1c</td>\n",
       "      <td>522.0</td>\n",
       "    </tr>\n",
       "    <tr>\n",
       "      <th>606694</th>\n",
       "      <td>먼길을 찾아서 갈만한 맛집인지는 모르겠지만 동네에 이런 집이 있었으면 한다 밀면도 ...</td>\n",
       "      <td>별로</td>\n",
       "      <td>sRFQZbq3nK1c</td>\n",
       "      <td>74.0</td>\n",
       "    </tr>\n",
       "    <tr>\n",
       "      <th>606695</th>\n",
       "      <td>착한 가격 분식집 보리밥 칼국수허름한 가정집에서 보리밥에 된장 비벼 김치 하나와 한...</td>\n",
       "      <td>맛있다</td>\n",
       "      <td>sRFQZbq3nK1c</td>\n",
       "      <td>38.0</td>\n",
       "    </tr>\n",
       "    <tr>\n",
       "      <th>606696</th>\n",
       "      <td>회는 잘 모르겠지만 음식 깔끔하고 특히 매운탕은 먹어본 중에 최고다</td>\n",
       "      <td>맛있다</td>\n",
       "      <td>sRFQZbq3nK1c</td>\n",
       "      <td>464.0</td>\n",
       "    </tr>\n",
       "  </tbody>\n",
       "</table>\n",
       "<p>534554 rows × 4 columns</p>\n",
       "</div>"
      ],
      "text/plain": [
       "                                                     리뷰내용 후기점수            ID  \\\n",
       "3       고급 일식 요리신사동 가로수길에서는 좀 거리가 있어 변화가에서는 멀다 하지만 네이버...  맛있다  iMRRP69qtkeO   \n",
       "4       너무나 먹고싶었던 사바산도를 드디어 7시타임까지는 예약이 된다는걸 몰랐는데 1차로 ...  맛있다  iMRRP69qtkeO   \n",
       "5       세상에서 제일 맛있는 곳을 꼽으라고 하면 미라이 미리 예약해서 바자리에 앉아서 여유...  맛있다  iMRRP69qtkeO   \n",
       "6       6시 6시반 7시 타임 예약을 받는 미라이 ㅠㅠ 7시반에 가면서 불안했는데 다행히 ...  맛있다  iMRRP69qtkeO   \n",
       "7       언제와도 맛있는 미라이 고등어산도는 무조건 시켜야하구요 식빵 뭔지 궁금 고등어랑 감...  맛있다  iMRRP69qtkeO   \n",
       "...                                                   ...  ...           ...   \n",
       "606692                              짜고 달고 짬뽕전문점이래서 믿고갔드니만  맛있다  sRFQZbq3nK1c   \n",
       "606693  서비스도 나쁘지 않고 일단 고기 맛이 좋아서 다시 가고 싶은 곳이예요 다른 가게 보...  괜찮다  sRFQZbq3nK1c   \n",
       "606694  먼길을 찾아서 갈만한 맛집인지는 모르겠지만 동네에 이런 집이 있었으면 한다 밀면도 ...   별로  sRFQZbq3nK1c   \n",
       "606695  착한 가격 분식집 보리밥 칼국수허름한 가정집에서 보리밥에 된장 비벼 김치 하나와 한...  맛있다  sRFQZbq3nK1c   \n",
       "606696              회는 잘 모르겠지만 음식 깔끔하고 특히 매운탕은 먹어본 중에 최고다  맛있다  sRFQZbq3nK1c   \n",
       "\n",
       "        리뷰내용_글자수  \n",
       "3          263.0  \n",
       "4          129.0  \n",
       "5          381.0  \n",
       "6          453.0  \n",
       "7          888.0  \n",
       "...          ...  \n",
       "606692     249.0  \n",
       "606693     522.0  \n",
       "606694      74.0  \n",
       "606695      38.0  \n",
       "606696     464.0  \n",
       "\n",
       "[534554 rows x 4 columns]"
      ]
     },
     "execution_count": 269,
     "metadata": {},
     "output_type": "execute_result"
    }
   ],
   "source": [
    "df"
   ]
  },
  {
   "cell_type": "markdown",
   "id": "36f4dfaf",
   "metadata": {},
   "source": [
    "* ID별 데이터 프레임 만들기(함수사용) globals()[f'[변수명]']"
   ]
  },
  {
   "cell_type": "code",
   "execution_count": 265,
   "id": "02b3f321",
   "metadata": {},
   "outputs": [],
   "source": [
    "def glob(df):\n",
    "    for unique_id in df['ID'].unique():\n",
    "        globals()[f'df_{unique_id}'] = df[df['ID'] == unique_id]"
   ]
  },
  {
   "cell_type": "code",
   "execution_count": 266,
   "id": "21639189",
   "metadata": {},
   "outputs": [],
   "source": [
    "glob(df)"
   ]
  },
  {
   "cell_type": "code",
   "execution_count": 286,
   "id": "0b9a7b31",
   "metadata": {
    "scrolled": true
   },
   "outputs": [
    {
     "name": "stdout",
     "output_type": "stream",
     "text": [
      "                                                   리뷰내용 후기점수            ID  \\\n",
      "3     고급 일식 요리신사동 가로수길에서는 좀 거리가 있어 변화가에서는 멀다 하지만 네이버...  맛있다  iMRRP69qtkeO   \n",
      "4     너무나 먹고싶었던 사바산도를 드디어 7시타임까지는 예약이 된다는걸 몰랐는데 1차로 ...  맛있다  iMRRP69qtkeO   \n",
      "5     세상에서 제일 맛있는 곳을 꼽으라고 하면 미라이 미리 예약해서 바자리에 앉아서 여유...  맛있다  iMRRP69qtkeO   \n",
      "6     6시 6시반 7시 타임 예약을 받는 미라이 ㅠㅠ 7시반에 가면서 불안했는데 다행히 ...  맛있다  iMRRP69qtkeO   \n",
      "7     언제와도 맛있는 미라이 고등어산도는 무조건 시켜야하구요 식빵 뭔지 궁금 고등어랑 감...  맛있다  iMRRP69qtkeO   \n",
      "...                                                 ...  ...           ...   \n",
      "1369  런치 오마카세밋업으로 다녀온 세이류 런치 정말 런치코스인데 양도 엄청나고 왜 가성비...  맛있다  iMRRP69qtkeO   \n",
      "1370  둘기의 오마카세 도장깨기 3 \"오마카세의 진수를 느끼고 오다 \" 갑자기 불붙은 오마...  맛있다  iMRRP69qtkeO   \n",
      "1371  4 5 5요약 공간은 작지만 편안하고 따뜻한 분위기에서 즐기는 행복의 오마카세 심지...  맛있다  iMRRP69qtkeO   \n",
      "1372  며칠 전인가 최은창님의 리뷰에서 정말 다양한 스시를 내어주시면서 남들은 15 20만...  맛있다  iMRRP69qtkeO   \n",
      "1373  잠실의 스시 오마카세 새로운 별이 뜨다 무라사키도 전의 플라자호텔 일식당에 있었던 ...  맛있다  iMRRP69qtkeO   \n",
      "\n",
      "      리뷰내용_글자수  \n",
      "3        263.0  \n",
      "4        129.0  \n",
      "5        381.0  \n",
      "6        453.0  \n",
      "7        888.0  \n",
      "...        ...  \n",
      "1369     121.0  \n",
      "1370      29.0  \n",
      "1371      58.0  \n",
      "1372      30.0  \n",
      "1373     138.0  \n",
      "\n",
      "[1147 rows x 4 columns]\n"
     ]
    }
   ],
   "source": [
    "print(df_iMRRP69qtkeO)"
   ]
  },
  {
   "cell_type": "markdown",
   "id": "cd3a4401",
   "metadata": {},
   "source": [
    "* ID별 워드클라우드 만들기(함수)"
   ]
  },
  {
   "cell_type": "code",
   "execution_count": 291,
   "id": "e68fccfe",
   "metadata": {},
   "outputs": [
    {
     "ename": "AttributeError",
     "evalue": "'NoneType' object has no attribute 'items'",
     "output_type": "error",
     "traceback": [
      "\u001b[1;31m---------------------------------------------------------------------------\u001b[0m",
      "\u001b[1;31mAttributeError\u001b[0m                            Traceback (most recent call last)",
      "Cell \u001b[1;32mIn[291], line 13\u001b[0m\n\u001b[0;32m     10\u001b[0m         plt\u001b[38;5;241m.\u001b[39mtitle(\u001b[38;5;124mf\u001b[39m\u001b[38;5;124m'\u001b[39m\u001b[38;5;124mWord Cloud for ID \u001b[39m\u001b[38;5;132;01m{\u001b[39;00munique_id\u001b[38;5;132;01m}\u001b[39;00m\u001b[38;5;124m'\u001b[39m)\n\u001b[0;32m     11\u001b[0m         plt\u001b[38;5;241m.\u001b[39mshow()\n\u001b[1;32m---> 13\u001b[0m \u001b[43mwordcloud_by_id\u001b[49m\u001b[43m(\u001b[49m\u001b[43mdf\u001b[49m\u001b[43m)\u001b[49m\n",
      "Cell \u001b[1;32mIn[291], line 4\u001b[0m, in \u001b[0;36mwordcloud_by_id\u001b[1;34m(df)\u001b[0m\n\u001b[0;32m      1\u001b[0m \u001b[38;5;28;01mdef\u001b[39;00m \u001b[38;5;21mwordcloud_by_id\u001b[39m(df):\n\u001b[0;32m      2\u001b[0m     concatenated_reviews \u001b[38;5;241m=\u001b[39m glob(df)\n\u001b[1;32m----> 4\u001b[0m     \u001b[38;5;28;01mfor\u001b[39;00m unique_id, reviews_text \u001b[38;5;129;01min\u001b[39;00m \u001b[43mconcatenated_reviews\u001b[49m\u001b[38;5;241;43m.\u001b[39;49m\u001b[43mitems\u001b[49m():\n\u001b[0;32m      5\u001b[0m         wordcloud \u001b[38;5;241m=\u001b[39m WordCloud(width\u001b[38;5;241m=\u001b[39m\u001b[38;5;241m800\u001b[39m, height\u001b[38;5;241m=\u001b[39m\u001b[38;5;241m400\u001b[39m, background_color\u001b[38;5;241m=\u001b[39m\u001b[38;5;124m'\u001b[39m\u001b[38;5;124mwhite\u001b[39m\u001b[38;5;124m'\u001b[39m)\u001b[38;5;241m.\u001b[39mgenerate(reviews_text)\n\u001b[0;32m      7\u001b[0m         plt\u001b[38;5;241m.\u001b[39mfigure(figsize\u001b[38;5;241m=\u001b[39m(\u001b[38;5;241m10\u001b[39m, \u001b[38;5;241m5\u001b[39m))\n",
      "\u001b[1;31mAttributeError\u001b[0m: 'NoneType' object has no attribute 'items'"
     ]
    }
   ],
   "source": [
    "def wordcloud_by_id(df):\n",
    "    concatenated_reviews = glob(df)\n",
    "    \n",
    "    for unique_id, reviews_text in concatenated_reviews.items():\n",
    "        wordcloud = WordCloud(width=800, height=400, background_color='white').generate(reviews_text)\n",
    "\n",
    "        plt.figure(figsize=(10, 5))\n",
    "        plt.imshow(wordcloud, interpolation='bilinear')\n",
    "        plt.axis('off')\n",
    "        plt.title(f'Word Cloud for ID {unique_id}')\n",
    "        plt.show()\n",
    "\n",
    "wordcloud_by_id(df)"
   ]
  },
  {
   "cell_type": "code",
   "execution_count": null,
   "id": "a7cf0cbe",
   "metadata": {},
   "outputs": [],
   "source": []
  },
  {
   "cell_type": "code",
   "execution_count": null,
   "id": "5724dd27",
   "metadata": {},
   "outputs": [],
   "source": []
  },
  {
   "cell_type": "code",
   "execution_count": null,
   "id": "bbf8e4d4",
   "metadata": {},
   "outputs": [],
   "source": []
  },
  {
   "cell_type": "code",
   "execution_count": null,
   "id": "11f00662",
   "metadata": {},
   "outputs": [],
   "source": []
  }
 ],
 "metadata": {
  "kernelspec": {
   "display_name": "testenv",
   "language": "python",
   "name": "testenv"
  },
  "language_info": {
   "codemirror_mode": {
    "name": "ipython",
    "version": 3
   },
   "file_extension": ".py",
   "mimetype": "text/x-python",
   "name": "python",
   "nbconvert_exporter": "python",
   "pygments_lexer": "ipython3",
   "version": "3.8.17"
  }
 },
 "nbformat": 4,
 "nbformat_minor": 5
}
