{
 "cells": [
  {
   "cell_type": "code",
   "execution_count": 1,
   "id": "6c5b6895-641a-48ce-984e-4901d7b3aa84",
   "metadata": {},
   "outputs": [
    {
     "name": "stderr",
     "output_type": "stream",
     "text": [
      "/home/himedia/anaconda3/envs/spark/lib/python3.11/site-packages/pyspark/pandas/__init__.py:49: UserWarning: 'PYARROW_IGNORE_TIMEZONE' environment variable was not set. It is required to set this environment variable to '1' in both driver and executor sides if you use pyarrow>=2.0.0. pandas-on-Spark will set it for you but it does not work if there is a Spark context already launched.\n",
      "  warnings.warn(\n"
     ]
    }
   ],
   "source": [
    "import pyspark.pandas as ps\n",
    "from pyspark.sql import SparkSession\n",
    "import pyspark.sql.functions as f\n",
    "import pandas as pd"
   ]
  },
  {
   "cell_type": "code",
   "execution_count": 2,
   "id": "a32144ea-da83-4ef4-b363-06d8dca2b293",
   "metadata": {},
   "outputs": [
    {
     "name": "stderr",
     "output_type": "stream",
     "text": [
      "Setting default log level to \"WARN\".\n",
      "To adjust logging level use sc.setLogLevel(newLevel). For SparkR, use setLogLevel(newLevel).\n"
     ]
    },
    {
     "name": "stdout",
     "output_type": "stream",
     "text": [
      "23/12/08 15:17:32 WARN NativeCodeLoader: Unable to load native-hadoop library for your platform... using builtin-java classes where applicable\n"
     ]
    }
   ],
   "source": [
    "spark = SparkSession.builder.getOrCreate()"
   ]
  },
  {
   "cell_type": "code",
   "execution_count": 3,
   "id": "522ba6f9-469d-49cf-91af-485c32f24da0",
   "metadata": {},
   "outputs": [
    {
     "name": "stderr",
     "output_type": "stream",
     "text": [
      "                                                                                \r"
     ]
    }
   ],
   "source": [
    "data = spark.read.csv(\"./data/Taitanic_train.csv\", header=True)"
   ]
  },
  {
   "cell_type": "code",
   "execution_count": 4,
   "id": "6f4f6a6a-2d96-4759-a9a5-0b80163e853f",
   "metadata": {
    "scrolled": true
   },
   "outputs": [
    {
     "name": "stdout",
     "output_type": "stream",
     "text": [
      "+-----------+--------+------+--------------------+------+----+-----+-----+----------------+-------+-----+--------+\n",
      "|PassengerId|Survived|Pclass|                Name|   Sex| Age|SibSp|Parch|          Ticket|   Fare|Cabin|Embarked|\n",
      "+-----------+--------+------+--------------------+------+----+-----+-----+----------------+-------+-----+--------+\n",
      "|          1|       0|     3|Braund, Mr. Owen ...|  male|  22|    1|    0|       A/5 21171|   7.25| null|       S|\n",
      "|          2|       1|     1|Cumings, Mrs. Joh...|female|  38|    1|    0|        PC 17599|71.2833|  C85|       C|\n",
      "|          3|       1|     3|Heikkinen, Miss. ...|female|  26|    0|    0|STON/O2. 3101282|  7.925| null|       S|\n",
      "|          4|       1|     1|Futrelle, Mrs. Ja...|female|  35|    1|    0|          113803|   53.1| C123|       S|\n",
      "|          5|       0|     3|Allen, Mr. Willia...|  male|  35|    0|    0|          373450|   8.05| null|       S|\n",
      "|          6|       0|     3|    Moran, Mr. James|  male|null|    0|    0|          330877| 8.4583| null|       Q|\n",
      "|          7|       0|     1|McCarthy, Mr. Tim...|  male|  54|    0|    0|           17463|51.8625|  E46|       S|\n",
      "|          8|       0|     3|Palsson, Master. ...|  male|   2|    3|    1|          349909| 21.075| null|       S|\n",
      "|          9|       1|     3|Johnson, Mrs. Osc...|female|  27|    0|    2|          347742|11.1333| null|       S|\n",
      "|         10|       1|     2|Nasser, Mrs. Nich...|female|  14|    1|    0|          237736|30.0708| null|       C|\n",
      "|         11|       1|     3|Sandstrom, Miss. ...|female|   4|    1|    1|         PP 9549|   16.7|   G6|       S|\n",
      "|         12|       1|     1|Bonnell, Miss. El...|female|  58|    0|    0|          113783|  26.55| C103|       S|\n",
      "|         13|       0|     3|Saundercock, Mr. ...|  male|  20|    0|    0|       A/5. 2151|   8.05| null|       S|\n",
      "|         14|       0|     3|Andersson, Mr. An...|  male|  39|    1|    5|          347082| 31.275| null|       S|\n",
      "|         15|       0|     3|Vestrom, Miss. Hu...|female|  14|    0|    0|          350406| 7.8542| null|       S|\n",
      "|         16|       1|     2|Hewlett, Mrs. (Ma...|female|  55|    0|    0|          248706|     16| null|       S|\n",
      "|         17|       0|     3|Rice, Master. Eugene|  male|   2|    4|    1|          382652| 29.125| null|       Q|\n",
      "|         18|       1|     2|Williams, Mr. Cha...|  male|null|    0|    0|          244373|     13| null|       S|\n",
      "|         19|       0|     3|Vander Planke, Mr...|female|  31|    1|    0|          345763|     18| null|       S|\n",
      "|         20|       1|     3|Masselmani, Mrs. ...|female|null|    0|    0|            2649|  7.225| null|       C|\n",
      "+-----------+--------+------+--------------------+------+----+-----+-----+----------------+-------+-----+--------+\n",
      "only showing top 20 rows\n",
      "\n"
     ]
    }
   ],
   "source": [
    "data.show()"
   ]
  },
  {
   "cell_type": "code",
   "execution_count": 5,
   "id": "339843a7-9491-4727-930c-f459f39ef892",
   "metadata": {},
   "outputs": [
    {
     "name": "stdout",
     "output_type": "stream",
     "text": [
      "root\n",
      " |-- PassengerId: string (nullable = true)\n",
      " |-- Survived: string (nullable = true)\n",
      " |-- Pclass: string (nullable = true)\n",
      " |-- Name: string (nullable = true)\n",
      " |-- Sex: string (nullable = true)\n",
      " |-- Age: string (nullable = true)\n",
      " |-- SibSp: string (nullable = true)\n",
      " |-- Parch: string (nullable = true)\n",
      " |-- Ticket: string (nullable = true)\n",
      " |-- Fare: string (nullable = true)\n",
      " |-- Cabin: string (nullable = true)\n",
      " |-- Embarked: string (nullable = true)\n",
      "\n"
     ]
    }
   ],
   "source": [
    "data.printSchema()"
   ]
  },
  {
   "cell_type": "code",
   "execution_count": 6,
   "id": "5c7ebdb4-bfa8-469b-8d62-3a9788b9855d",
   "metadata": {},
   "outputs": [],
   "source": [
    "data = data.withColumn('family', data['Sibsp'] + data['Parch'])"
   ]
  },
  {
   "cell_type": "markdown",
   "id": "f201fdca-d272-4ab7-974a-b9a243c70090",
   "metadata": {},
   "source": [
    "# 필요없는 컬럼 drop"
   ]
  },
  {
   "cell_type": "code",
   "execution_count": 7,
   "id": "661b50de-a217-4fc6-8651-62f303484765",
   "metadata": {},
   "outputs": [],
   "source": [
    "data = data.drop('PassengerId', 'Name', 'Sibsp', 'parch', 'Ticket')"
   ]
  },
  {
   "cell_type": "code",
   "execution_count": 8,
   "id": "10791526-09bf-4350-992c-900991128aa2",
   "metadata": {},
   "outputs": [
    {
     "name": "stdout",
     "output_type": "stream",
     "text": [
      "+--------+------+------+----+-------+-----+--------+------+\n",
      "|Survived|Pclass|   Sex| Age|   Fare|Cabin|Embarked|family|\n",
      "+--------+------+------+----+-------+-----+--------+------+\n",
      "|       0|     3|  male|  22|   7.25| null|       S|   1.0|\n",
      "|       1|     1|female|  38|71.2833|  C85|       C|   1.0|\n",
      "|       1|     3|female|  26|  7.925| null|       S|   0.0|\n",
      "|       1|     1|female|  35|   53.1| C123|       S|   1.0|\n",
      "|       0|     3|  male|  35|   8.05| null|       S|   0.0|\n",
      "|       0|     3|  male|null| 8.4583| null|       Q|   0.0|\n",
      "|       0|     1|  male|  54|51.8625|  E46|       S|   0.0|\n",
      "|       0|     3|  male|   2| 21.075| null|       S|   4.0|\n",
      "|       1|     3|female|  27|11.1333| null|       S|   2.0|\n",
      "|       1|     2|female|  14|30.0708| null|       C|   1.0|\n",
      "|       1|     3|female|   4|   16.7|   G6|       S|   2.0|\n",
      "|       1|     1|female|  58|  26.55| C103|       S|   0.0|\n",
      "|       0|     3|  male|  20|   8.05| null|       S|   0.0|\n",
      "|       0|     3|  male|  39| 31.275| null|       S|   6.0|\n",
      "|       0|     3|female|  14| 7.8542| null|       S|   0.0|\n",
      "|       1|     2|female|  55|     16| null|       S|   0.0|\n",
      "|       0|     3|  male|   2| 29.125| null|       Q|   5.0|\n",
      "|       1|     2|  male|null|     13| null|       S|   0.0|\n",
      "|       0|     3|female|  31|     18| null|       S|   1.0|\n",
      "|       1|     3|female|null|  7.225| null|       C|   0.0|\n",
      "+--------+------+------+----+-------+-----+--------+------+\n",
      "only showing top 20 rows\n",
      "\n"
     ]
    }
   ],
   "source": [
    "data.show()"
   ]
  },
  {
   "cell_type": "code",
   "execution_count": 9,
   "id": "df80082b-d1d2-48f9-a7fc-703595cb504a",
   "metadata": {},
   "outputs": [
    {
     "data": {
      "text/plain": [
       "['Survived', 'Pclass', 'Sex', 'Age', 'Fare', 'Cabin', 'Embarked', 'family']"
      ]
     },
     "execution_count": 9,
     "metadata": {},
     "output_type": "execute_result"
    }
   ],
   "source": [
    "data.columns"
   ]
  },
  {
   "cell_type": "markdown",
   "id": "94774941-7f9a-482b-a2f3-42a38de4ee86",
   "metadata": {},
   "source": [
    "# 결측값 찾기"
   ]
  },
  {
   "cell_type": "code",
   "execution_count": 10,
   "id": "403240d4-de9c-428c-bd4c-515c6dbab333",
   "metadata": {},
   "outputs": [
    {
     "name": "stdout",
     "output_type": "stream",
     "text": [
      "Survived\n",
      "Pclass\n",
      "Sex\n",
      "Age\n",
      "Fare\n",
      "Cabin\n",
      "Embarked\n",
      "family\n"
     ]
    }
   ],
   "source": [
    "for c in data.columns:\n",
    "    print(c)"
   ]
  },
  {
   "cell_type": "code",
   "execution_count": 11,
   "id": "db487419-46d4-4007-8ef2-eea7b40f4e67",
   "metadata": {},
   "outputs": [
    {
     "name": "stdout",
     "output_type": "stream",
     "text": [
      "+--------------------------+\n",
      "|CAST((Age IS NULL) AS INT)|\n",
      "+--------------------------+\n",
      "|                         0|\n",
      "|                         0|\n",
      "|                         0|\n",
      "|                         0|\n",
      "|                         0|\n",
      "|                         1|\n",
      "|                         0|\n",
      "|                         0|\n",
      "|                         0|\n",
      "|                         0|\n",
      "|                         0|\n",
      "|                         0|\n",
      "|                         0|\n",
      "|                         0|\n",
      "|                         0|\n",
      "|                         0|\n",
      "|                         0|\n",
      "|                         1|\n",
      "|                         0|\n",
      "|                         1|\n",
      "+--------------------------+\n",
      "only showing top 20 rows\n",
      "\n"
     ]
    }
   ],
   "source": [
    "data.select(f.col(\"Age\").isNull().cast(\"int\")).show()"
   ]
  },
  {
   "cell_type": "code",
   "execution_count": 12,
   "id": "be3ff9fd-08d6-4907-8858-47e7c893e9e1",
   "metadata": {},
   "outputs": [
    {
     "name": "stdout",
     "output_type": "stream",
     "text": [
      "+--------+------+---+---+----+-----+--------+------+\n",
      "|Survived|Pclass|Sex|Age|Fare|Cabin|Embarked|family|\n",
      "+--------+------+---+---+----+-----+--------+------+\n",
      "|       0|     0|  0|177|   0|  687|       2|     0|\n",
      "+--------+------+---+---+----+-----+--------+------+\n",
      "\n"
     ]
    }
   ],
   "source": [
    "data.select(*(f.sum(f.col(c).isNull().cast(\"int\")).alias(c) for c in data.columns)).show()"
   ]
  },
  {
   "cell_type": "markdown",
   "id": "6534f4fd-0cc1-4e41-ac63-8b2cc03221d2",
   "metadata": {},
   "source": [
    "# 결측값 처리"
   ]
  },
  {
   "cell_type": "code",
   "execution_count": 13,
   "id": "46265bff-b62a-4fa4-aa31-6f663d3c8aa9",
   "metadata": {},
   "outputs": [
    {
     "name": "stdout",
     "output_type": "stream",
     "text": [
      "<class 'pandas.core.frame.DataFrame'>\n",
      "RangeIndex: 183 entries, 0 to 182\n",
      "Data columns (total 8 columns):\n",
      " #   Column    Non-Null Count  Dtype  \n",
      "---  ------    --------------  -----  \n",
      " 0   Survived  183 non-null    object \n",
      " 1   Pclass    183 non-null    object \n",
      " 2   Sex       183 non-null    object \n",
      " 3   Age       183 non-null    object \n",
      " 4   Fare      183 non-null    object \n",
      " 5   Cabin     183 non-null    object \n",
      " 6   Embarked  183 non-null    object \n",
      " 7   family    183 non-null    float64\n",
      "dtypes: float64(1), object(7)\n",
      "memory usage: 11.6+ KB\n"
     ]
    }
   ],
   "source": [
    "data.na.drop().toPandas().info()"
   ]
  },
  {
   "cell_type": "code",
   "execution_count": 14,
   "id": "8f1e0620-aef3-4f93-97ed-a02704fc3327",
   "metadata": {},
   "outputs": [
    {
     "name": "stdout",
     "output_type": "stream",
     "text": [
      "<class 'pandas.core.frame.DataFrame'>\n",
      "RangeIndex: 714 entries, 0 to 713\n",
      "Data columns (total 8 columns):\n",
      " #   Column    Non-Null Count  Dtype  \n",
      "---  ------    --------------  -----  \n",
      " 0   Survived  714 non-null    object \n",
      " 1   Pclass    714 non-null    object \n",
      " 2   Sex       714 non-null    object \n",
      " 3   Age       714 non-null    object \n",
      " 4   Fare      714 non-null    object \n",
      " 5   Cabin     185 non-null    object \n",
      " 6   Embarked  712 non-null    object \n",
      " 7   family    714 non-null    float64\n",
      "dtypes: float64(1), object(7)\n",
      "memory usage: 44.8+ KB\n"
     ]
    }
   ],
   "source": [
    "data.na.drop(subset='Age').toPandas().info()"
   ]
  },
  {
   "cell_type": "code",
   "execution_count": 15,
   "id": "c786805e-dc12-48be-bc31-5959274d4997",
   "metadata": {},
   "outputs": [
    {
     "name": "stdout",
     "output_type": "stream",
     "text": [
      "<class 'pandas.core.frame.DataFrame'>\n",
      "RangeIndex: 712 entries, 0 to 711\n",
      "Data columns (total 8 columns):\n",
      " #   Column    Non-Null Count  Dtype  \n",
      "---  ------    --------------  -----  \n",
      " 0   Survived  712 non-null    object \n",
      " 1   Pclass    712 non-null    object \n",
      " 2   Sex       712 non-null    object \n",
      " 3   Age       712 non-null    object \n",
      " 4   Fare      712 non-null    object \n",
      " 5   Cabin     183 non-null    object \n",
      " 6   Embarked  712 non-null    object \n",
      " 7   family    712 non-null    float64\n",
      "dtypes: float64(1), object(7)\n",
      "memory usage: 44.6+ KB\n"
     ]
    }
   ],
   "source": [
    "data.na.drop(subset=['Age','Embarked']).toPandas().info()"
   ]
  },
  {
   "cell_type": "code",
   "execution_count": 16,
   "id": "baa43595-a2a4-499b-88db-979772ed3edb",
   "metadata": {},
   "outputs": [
    {
     "name": "stdout",
     "output_type": "stream",
     "text": [
      "<class 'pandas.core.frame.DataFrame'>\n",
      "RangeIndex: 712 entries, 0 to 711\n",
      "Data columns (total 7 columns):\n",
      " #   Column    Non-Null Count  Dtype  \n",
      "---  ------    --------------  -----  \n",
      " 0   Survived  712 non-null    object \n",
      " 1   Pclass    712 non-null    object \n",
      " 2   Sex       712 non-null    object \n",
      " 3   Age       712 non-null    object \n",
      " 4   Fare      712 non-null    object \n",
      " 5   Embarked  712 non-null    object \n",
      " 6   family    712 non-null    float64\n",
      "dtypes: float64(1), object(6)\n",
      "memory usage: 39.1+ KB\n"
     ]
    }
   ],
   "source": [
    "data.drop('Cabin').na.drop().toPandas().info()"
   ]
  },
  {
   "cell_type": "markdown",
   "id": "0b666f58-de7d-4d91-a273-c9e38716564c",
   "metadata": {},
   "source": [
    "# 결측값 대치"
   ]
  },
  {
   "cell_type": "code",
   "execution_count": 17,
   "id": "473ee52c-a538-458d-94cc-7962f770f797",
   "metadata": {},
   "outputs": [
    {
     "name": "stdout",
     "output_type": "stream",
     "text": [
      "+-----------------+\n",
      "|         avg(Age)|\n",
      "+-----------------+\n",
      "|29.69911764705882|\n",
      "+-----------------+\n",
      "\n"
     ]
    }
   ],
   "source": [
    "# f.mean 평균\n",
    "data.select(f.mean('Age')).show()"
   ]
  },
  {
   "cell_type": "code",
   "execution_count": 18,
   "id": "d1823998-a36c-48ef-a523-4ac61c73af49",
   "metadata": {},
   "outputs": [
    {
     "data": {
      "text/plain": [
       "DataFrame[Survived: string, Pclass: string, Sex: string, Age: string, Fare: string, Cabin: string, Embarked: string, family: double]"
      ]
     },
     "execution_count": 18,
     "metadata": {},
     "output_type": "execute_result"
    }
   ],
   "source": [
    "data.na.fill('29', 'Age')"
   ]
  },
  {
   "cell_type": "code",
   "execution_count": 19,
   "id": "acaaab5c-ea4d-4b06-be5c-ac08280968c1",
   "metadata": {},
   "outputs": [
    {
     "name": "stdout",
     "output_type": "stream",
     "text": [
      "<class 'pandas.core.frame.DataFrame'>\n",
      "RangeIndex: 891 entries, 0 to 890\n",
      "Data columns (total 8 columns):\n",
      " #   Column    Non-Null Count  Dtype  \n",
      "---  ------    --------------  -----  \n",
      " 0   Survived  891 non-null    object \n",
      " 1   Pclass    891 non-null    object \n",
      " 2   Sex       891 non-null    object \n",
      " 3   Age       714 non-null    object \n",
      " 4   Fare      891 non-null    object \n",
      " 5   Cabin     204 non-null    object \n",
      " 6   Embarked  889 non-null    object \n",
      " 7   family    891 non-null    float64\n",
      "dtypes: float64(1), object(7)\n",
      "memory usage: 55.8+ KB\n"
     ]
    }
   ],
   "source": [
    "data.toPandas().info()"
   ]
  },
  {
   "cell_type": "markdown",
   "id": "ac37b6c3-b84a-4da8-808c-a6f431ff9362",
   "metadata": {},
   "source": [
    "# imputer를 사용한 결측값 처리"
   ]
  },
  {
   "cell_type": "code",
   "execution_count": 20,
   "id": "9d0e840f-795d-4444-a027-b15f95599f00",
   "metadata": {},
   "outputs": [
    {
     "name": "stdout",
     "output_type": "stream",
     "text": [
      "root\n",
      " |-- Survived: string (nullable = true)\n",
      " |-- Pclass: string (nullable = true)\n",
      " |-- Sex: string (nullable = true)\n",
      " |-- Age: string (nullable = true)\n",
      " |-- Fare: string (nullable = true)\n",
      " |-- Cabin: string (nullable = true)\n",
      " |-- Embarked: string (nullable = true)\n",
      " |-- family: double (nullable = true)\n",
      "\n"
     ]
    }
   ],
   "source": [
    "data.printSchema()"
   ]
  },
  {
   "cell_type": "code",
   "execution_count": 21,
   "id": "d5551b25-9dc6-4168-9fef-04f5239cae08",
   "metadata": {},
   "outputs": [
    {
     "name": "stdout",
     "output_type": "stream",
     "text": [
      "+-------------------------------+\n",
      "|sum(CAST((Age IS NULL) AS INT))|\n",
      "+-------------------------------+\n",
      "|                            177|\n",
      "+-------------------------------+\n",
      "\n"
     ]
    }
   ],
   "source": [
    "data.select(f.sum(data['Age'].isNull().cast('int'))).show()"
   ]
  },
  {
   "cell_type": "code",
   "execution_count": 22,
   "id": "ab8a4bd7-c283-424b-8b6f-a58603ee765d",
   "metadata": {},
   "outputs": [],
   "source": [
    "data = data.withColumn('Age', data['Age'].cast('Integer'))\n",
    "data = data.withColumn('Survived', data['Survived'].cast('Integer'))\n",
    "data = data.withColumn('Pclass', data['Pclass'].cast('Integer'))\n",
    "data = data.withColumn('family', data['family'].cast('int'))"
   ]
  },
  {
   "cell_type": "code",
   "execution_count": 23,
   "id": "993ea926-ca37-4b67-9696-37d5dbc6dd68",
   "metadata": {},
   "outputs": [
    {
     "name": "stdout",
     "output_type": "stream",
     "text": [
      "root\n",
      " |-- Survived: integer (nullable = true)\n",
      " |-- Pclass: integer (nullable = true)\n",
      " |-- Sex: string (nullable = true)\n",
      " |-- Age: integer (nullable = true)\n",
      " |-- Fare: string (nullable = true)\n",
      " |-- Cabin: string (nullable = true)\n",
      " |-- Embarked: string (nullable = true)\n",
      " |-- family: integer (nullable = true)\n",
      "\n"
     ]
    }
   ],
   "source": [
    "data.printSchema()"
   ]
  },
  {
   "cell_type": "code",
   "execution_count": 24,
   "id": "40b1c415-6248-4575-b671-9f36bde6a443",
   "metadata": {},
   "outputs": [],
   "source": [
    "from pyspark.ml.feature import Imputer"
   ]
  },
  {
   "cell_type": "code",
   "execution_count": 25,
   "id": "18c5ab24-b5f3-4439-875b-65430d7b842d",
   "metadata": {},
   "outputs": [
    {
     "name": "stdout",
     "output_type": "stream",
     "text": [
      "+--------+------+------+---+-------+-----+--------+------+\n",
      "|Survived|Pclass|   Sex|Age|   Fare|Cabin|Embarked|family|\n",
      "+--------+------+------+---+-------+-----+--------+------+\n",
      "|       0|     3|  male| 22|   7.25| null|       S|     1|\n",
      "|       1|     1|female| 38|71.2833|  C85|       C|     1|\n",
      "|       1|     3|female| 26|  7.925| null|       S|     0|\n",
      "|       1|     1|female| 35|   53.1| C123|       S|     1|\n",
      "|       0|     3|  male| 35|   8.05| null|       S|     0|\n",
      "|       0|     3|  male| 28| 8.4583| null|       Q|     0|\n",
      "|       0|     1|  male| 54|51.8625|  E46|       S|     0|\n",
      "|       0|     3|  male|  2| 21.075| null|       S|     4|\n",
      "|       1|     3|female| 27|11.1333| null|       S|     2|\n",
      "|       1|     2|female| 14|30.0708| null|       C|     1|\n",
      "|       1|     3|female|  4|   16.7|   G6|       S|     2|\n",
      "|       1|     1|female| 58|  26.55| C103|       S|     0|\n",
      "|       0|     3|  male| 20|   8.05| null|       S|     0|\n",
      "|       0|     3|  male| 39| 31.275| null|       S|     6|\n",
      "|       0|     3|female| 14| 7.8542| null|       S|     0|\n",
      "|       1|     2|female| 55|     16| null|       S|     0|\n",
      "|       0|     3|  male|  2| 29.125| null|       Q|     5|\n",
      "|       1|     2|  male| 28|     13| null|       S|     0|\n",
      "|       0|     3|female| 31|     18| null|       S|     1|\n",
      "|       1|     3|female| 28|  7.225| null|       C|     0|\n",
      "+--------+------+------+---+-------+-----+--------+------+\n",
      "only showing top 20 rows\n",
      "\n"
     ]
    }
   ],
   "source": [
    "# setStrategy('mean', 'median', 'mode')\n",
    "imputer = Imputer(inputCols=['Age'], outputCols=['Age']).setStrategy('median')\n",
    "imputer.fit(data).transform(data).show()"
   ]
  },
  {
   "cell_type": "code",
   "execution_count": 26,
   "id": "fd367e52-01d8-480b-9522-e520ffecb553",
   "metadata": {},
   "outputs": [
    {
     "name": "stdout",
     "output_type": "stream",
     "text": [
      "+------+------+-------------+\n",
      "|   Sex|Pclass|sum(Survived)|\n",
      "+------+------+-------------+\n",
      "|  male|     3|           47|\n",
      "|female|     3|           72|\n",
      "|female|     1|           91|\n",
      "|female|     2|           70|\n",
      "|  male|     2|           17|\n",
      "|  male|     1|           45|\n",
      "+------+------+-------------+\n",
      "\n"
     ]
    }
   ],
   "source": [
    "# 성별별, Pclass별 생존자 수 구하기\n",
    "data.groupby('Sex', 'Pclass').agg({'Survived' : 'sum'}).show()"
   ]
  },
  {
   "cell_type": "code",
   "execution_count": 27,
   "id": "a593e719-6a9e-46d0-b49a-67651f4dbcf9",
   "metadata": {},
   "outputs": [
    {
     "name": "stdout",
     "output_type": "stream",
     "text": [
      "+--------+------+------+----+-------+-----+--------+------+\n",
      "|Survived|Pclass|   Sex| Age|   Fare|Cabin|Embarked|family|\n",
      "+--------+------+------+----+-------+-----+--------+------+\n",
      "|       0|     3|  male|  22|   7.25| null|       S|     1|\n",
      "|       1|     1|female|  38|71.2833|  C85|       C|     1|\n",
      "|       1|     3|female|  26|  7.925| null|       S|     0|\n",
      "|       1|     1|female|  35|   53.1| C123|       S|     1|\n",
      "|       0|     3|  male|  35|   8.05| null|       S|     0|\n",
      "|       0|     3|  male|null| 8.4583| null|       Q|     0|\n",
      "|       0|     1|  male|  54|51.8625|  E46|       S|     0|\n",
      "|       0|     3|  male|   2| 21.075| null|       S|     4|\n",
      "|       1|     3|female|  27|11.1333| null|       S|     2|\n",
      "|       1|     2|female|  14|30.0708| null|       C|     1|\n",
      "|       1|     3|female|   4|   16.7|   G6|       S|     2|\n",
      "|       1|     1|female|  58|  26.55| C103|       S|     0|\n",
      "|       0|     3|  male|  20|   8.05| null|       S|     0|\n",
      "|       0|     3|  male|  39| 31.275| null|       S|     6|\n",
      "|       0|     3|female|  14| 7.8542| null|       S|     0|\n",
      "|       1|     2|female|  55|     16| null|       S|     0|\n",
      "|       0|     3|  male|   2| 29.125| null|       Q|     5|\n",
      "|       1|     2|  male|null|     13| null|       S|     0|\n",
      "|       0|     3|female|  31|     18| null|       S|     1|\n",
      "|       1|     3|female|null|  7.225| null|       C|     0|\n",
      "+--------+------+------+----+-------+-----+--------+------+\n",
      "only showing top 20 rows\n",
      "\n"
     ]
    }
   ],
   "source": [
    "data.show()"
   ]
  },
  {
   "cell_type": "code",
   "execution_count": 28,
   "id": "7d0445ef-3182-40ca-bd98-52caf26bd459",
   "metadata": {},
   "outputs": [
    {
     "name": "stdout",
     "output_type": "stream",
     "text": [
      "+--------+------+------+----+--------+------+\n",
      "|Survived|Pclass|   Sex| Age|Embarked|family|\n",
      "+--------+------+------+----+--------+------+\n",
      "|       0|     3|  male|  22|       S|     1|\n",
      "|       1|     1|female|  38|       C|     1|\n",
      "|       1|     3|female|  26|       S|     0|\n",
      "|       1|     1|female|  35|       S|     1|\n",
      "|       0|     3|  male|  35|       S|     0|\n",
      "|       0|     3|  male|null|       Q|     0|\n",
      "|       0|     1|  male|  54|       S|     0|\n",
      "|       0|     3|  male|   2|       S|     4|\n",
      "|       1|     3|female|  27|       S|     2|\n",
      "|       1|     2|female|  14|       C|     1|\n",
      "|       1|     3|female|   4|       S|     2|\n",
      "|       1|     1|female|  58|       S|     0|\n",
      "|       0|     3|  male|  20|       S|     0|\n",
      "|       0|     3|  male|  39|       S|     6|\n",
      "|       0|     3|female|  14|       S|     0|\n",
      "|       1|     2|female|  55|       S|     0|\n",
      "|       0|     3|  male|   2|       Q|     5|\n",
      "|       1|     2|  male|null|       S|     0|\n",
      "|       0|     3|female|  31|       S|     1|\n",
      "|       1|     3|female|null|       C|     0|\n",
      "+--------+------+------+----+--------+------+\n",
      "only showing top 20 rows\n",
      "\n"
     ]
    }
   ],
   "source": [
    "data = data.drop('Fare', 'Cabin')\n",
    "data.show()"
   ]
  },
  {
   "cell_type": "code",
   "execution_count": 29,
   "id": "a5485524-b81a-48df-bbf3-d26c4f4ed3b0",
   "metadata": {},
   "outputs": [],
   "source": [
    "data = data.na.fill(29, 'Age')"
   ]
  },
  {
   "cell_type": "code",
   "execution_count": 30,
   "id": "cb01fe7e-e35b-4a70-9dbf-ecef7d1341b1",
   "metadata": {
    "scrolled": true
   },
   "outputs": [
    {
     "data": {
      "text/plain": [
       "Embarked\n",
       "S    644\n",
       "C    168\n",
       "Q     77\n",
       "Name: count, dtype: int64"
      ]
     },
     "execution_count": 30,
     "metadata": {},
     "output_type": "execute_result"
    }
   ],
   "source": [
    "data.toPandas()['Embarked'].value_counts()"
   ]
  },
  {
   "cell_type": "code",
   "execution_count": 31,
   "id": "a441937e-8221-4ea3-ad5c-03ce44fd1c2e",
   "metadata": {},
   "outputs": [],
   "source": [
    "data = data.na.fill('S', 'Embarked')"
   ]
  },
  {
   "cell_type": "code",
   "execution_count": 32,
   "id": "1667a7c1-90e9-46d5-8be7-1e28c6d0fefb",
   "metadata": {
    "scrolled": true
   },
   "outputs": [
    {
     "name": "stdout",
     "output_type": "stream",
     "text": [
      "root\n",
      " |-- Survived: integer (nullable = true)\n",
      " |-- Pclass: integer (nullable = true)\n",
      " |-- Sex: string (nullable = true)\n",
      " |-- Age: integer (nullable = true)\n",
      " |-- Embarked: string (nullable = false)\n",
      " |-- family: integer (nullable = true)\n",
      "\n"
     ]
    }
   ],
   "source": [
    "data.printSchema()"
   ]
  },
  {
   "cell_type": "markdown",
   "id": "4c1bc172-c980-4c10-82fb-d9b72c6e551d",
   "metadata": {},
   "source": [
    "# 레이블 인코딩"
   ]
  },
  {
   "cell_type": "code",
   "execution_count": 33,
   "id": "19fcc1e6-f38b-4589-a74f-6812c8af8610",
   "metadata": {
    "scrolled": true
   },
   "outputs": [],
   "source": [
    "# 레이블 인코딩 하기 scikit-learn의 label encoding과 같은 역할\n",
    "from pyspark.ml.feature import StringIndexer\n",
    "indexer = StringIndexer(inputCols=['Sex', 'Embarked'], outputCols=[\"SexIndex\", \"EmbarkedIndex\"])\n",
    "data = indexer.fit(data).transform(data)"
   ]
  },
  {
   "cell_type": "code",
   "execution_count": 34,
   "id": "bf558732-b36e-4f75-9197-da30aa2e9991",
   "metadata": {},
   "outputs": [
    {
     "name": "stdout",
     "output_type": "stream",
     "text": [
      "+--------+------+------+---+--------+------+--------+-------------+\n",
      "|Survived|Pclass|   Sex|Age|Embarked|family|SexIndex|EmbarkedIndex|\n",
      "+--------+------+------+---+--------+------+--------+-------------+\n",
      "|       0|     3|  male| 22|       S|     1|     0.0|          0.0|\n",
      "|       1|     1|female| 38|       C|     1|     1.0|          1.0|\n",
      "|       1|     3|female| 26|       S|     0|     1.0|          0.0|\n",
      "|       1|     1|female| 35|       S|     1|     1.0|          0.0|\n",
      "|       0|     3|  male| 35|       S|     0|     0.0|          0.0|\n",
      "|       0|     3|  male| 29|       Q|     0|     0.0|          2.0|\n",
      "|       0|     1|  male| 54|       S|     0|     0.0|          0.0|\n",
      "|       0|     3|  male|  2|       S|     4|     0.0|          0.0|\n",
      "|       1|     3|female| 27|       S|     2|     1.0|          0.0|\n",
      "|       1|     2|female| 14|       C|     1|     1.0|          1.0|\n",
      "|       1|     3|female|  4|       S|     2|     1.0|          0.0|\n",
      "|       1|     1|female| 58|       S|     0|     1.0|          0.0|\n",
      "|       0|     3|  male| 20|       S|     0|     0.0|          0.0|\n",
      "|       0|     3|  male| 39|       S|     6|     0.0|          0.0|\n",
      "|       0|     3|female| 14|       S|     0|     1.0|          0.0|\n",
      "|       1|     2|female| 55|       S|     0|     1.0|          0.0|\n",
      "|       0|     3|  male|  2|       Q|     5|     0.0|          2.0|\n",
      "|       1|     2|  male| 29|       S|     0|     0.0|          0.0|\n",
      "|       0|     3|female| 31|       S|     1|     1.0|          0.0|\n",
      "|       1|     3|female| 29|       C|     0|     1.0|          1.0|\n",
      "+--------+------+------+---+--------+------+--------+-------------+\n",
      "only showing top 20 rows\n",
      "\n"
     ]
    }
   ],
   "source": [
    "data.show()"
   ]
  },
  {
   "cell_type": "markdown",
   "id": "1152f2ff-0cdb-4db2-b148-fb36c464e2be",
   "metadata": {},
   "source": [
    "# One-hot 인코딩"
   ]
  },
  {
   "cell_type": "code",
   "execution_count": 35,
   "id": "660de710-2cbb-4e5f-a936-258856305913",
   "metadata": {
    "scrolled": true
   },
   "outputs": [],
   "source": [
    "# 원핫인코딩 하기\n",
    "from pyspark.ml.feature import OneHotEncoder\n",
    "encoder = OneHotEncoder(inputCols=[\"SexIndex\", \"EmbarkedIndex\"], outputCols=['Sex_vec', 'Embarked_vec'])\n",
    "data = encoder.fit(data).transform(data)"
   ]
  },
  {
   "cell_type": "code",
   "execution_count": 36,
   "id": "44459bd6-c6c0-4e91-872b-19f3a54198e8",
   "metadata": {
    "scrolled": true
   },
   "outputs": [
    {
     "name": "stdout",
     "output_type": "stream",
     "text": [
      "+--------+------+------+---+--------+------+--------+-------------+-------------+-------------+\n",
      "|Survived|Pclass|   Sex|Age|Embarked|family|SexIndex|EmbarkedIndex|      Sex_vec| Embarked_vec|\n",
      "+--------+------+------+---+--------+------+--------+-------------+-------------+-------------+\n",
      "|       0|     3|  male| 22|       S|     1|     0.0|          0.0|(1,[0],[1.0])|(2,[0],[1.0])|\n",
      "|       1|     1|female| 38|       C|     1|     1.0|          1.0|    (1,[],[])|(2,[1],[1.0])|\n",
      "|       1|     3|female| 26|       S|     0|     1.0|          0.0|    (1,[],[])|(2,[0],[1.0])|\n",
      "|       1|     1|female| 35|       S|     1|     1.0|          0.0|    (1,[],[])|(2,[0],[1.0])|\n",
      "|       0|     3|  male| 35|       S|     0|     0.0|          0.0|(1,[0],[1.0])|(2,[0],[1.0])|\n",
      "|       0|     3|  male| 29|       Q|     0|     0.0|          2.0|(1,[0],[1.0])|    (2,[],[])|\n",
      "|       0|     1|  male| 54|       S|     0|     0.0|          0.0|(1,[0],[1.0])|(2,[0],[1.0])|\n",
      "|       0|     3|  male|  2|       S|     4|     0.0|          0.0|(1,[0],[1.0])|(2,[0],[1.0])|\n",
      "|       1|     3|female| 27|       S|     2|     1.0|          0.0|    (1,[],[])|(2,[0],[1.0])|\n",
      "|       1|     2|female| 14|       C|     1|     1.0|          1.0|    (1,[],[])|(2,[1],[1.0])|\n",
      "|       1|     3|female|  4|       S|     2|     1.0|          0.0|    (1,[],[])|(2,[0],[1.0])|\n",
      "|       1|     1|female| 58|       S|     0|     1.0|          0.0|    (1,[],[])|(2,[0],[1.0])|\n",
      "|       0|     3|  male| 20|       S|     0|     0.0|          0.0|(1,[0],[1.0])|(2,[0],[1.0])|\n",
      "|       0|     3|  male| 39|       S|     6|     0.0|          0.0|(1,[0],[1.0])|(2,[0],[1.0])|\n",
      "|       0|     3|female| 14|       S|     0|     1.0|          0.0|    (1,[],[])|(2,[0],[1.0])|\n",
      "|       1|     2|female| 55|       S|     0|     1.0|          0.0|    (1,[],[])|(2,[0],[1.0])|\n",
      "|       0|     3|  male|  2|       Q|     5|     0.0|          2.0|(1,[0],[1.0])|    (2,[],[])|\n",
      "|       1|     2|  male| 29|       S|     0|     0.0|          0.0|(1,[0],[1.0])|(2,[0],[1.0])|\n",
      "|       0|     3|female| 31|       S|     1|     1.0|          0.0|    (1,[],[])|(2,[0],[1.0])|\n",
      "|       1|     3|female| 29|       C|     0|     1.0|          1.0|    (1,[],[])|(2,[1],[1.0])|\n",
      "+--------+------+------+---+--------+------+--------+-------------+-------------+-------------+\n",
      "only showing top 20 rows\n",
      "\n"
     ]
    }
   ],
   "source": [
    "data.show()"
   ]
  },
  {
   "cell_type": "code",
   "execution_count": 37,
   "id": "122117d2-c4df-43e0-8529-7bce87b38ce7",
   "metadata": {
    "scrolled": true
   },
   "outputs": [],
   "source": [
    "data = data.drop('Sex', 'Embarked', 'SexIndex', 'EmbarkedIndex')"
   ]
  },
  {
   "cell_type": "code",
   "execution_count": 38,
   "id": "40f49f44-ff9d-45fb-82ed-cf96a9166310",
   "metadata": {},
   "outputs": [
    {
     "name": "stdout",
     "output_type": "stream",
     "text": [
      "+--------+------+---+------+-------------+-------------+\n",
      "|Survived|Pclass|Age|family|      Sex_vec| Embarked_vec|\n",
      "+--------+------+---+------+-------------+-------------+\n",
      "|       0|     3| 22|     1|(1,[0],[1.0])|(2,[0],[1.0])|\n",
      "|       1|     1| 38|     1|    (1,[],[])|(2,[1],[1.0])|\n",
      "|       1|     3| 26|     0|    (1,[],[])|(2,[0],[1.0])|\n",
      "|       1|     1| 35|     1|    (1,[],[])|(2,[0],[1.0])|\n",
      "|       0|     3| 35|     0|(1,[0],[1.0])|(2,[0],[1.0])|\n",
      "|       0|     3| 29|     0|(1,[0],[1.0])|    (2,[],[])|\n",
      "|       0|     1| 54|     0|(1,[0],[1.0])|(2,[0],[1.0])|\n",
      "|       0|     3|  2|     4|(1,[0],[1.0])|(2,[0],[1.0])|\n",
      "|       1|     3| 27|     2|    (1,[],[])|(2,[0],[1.0])|\n",
      "|       1|     2| 14|     1|    (1,[],[])|(2,[1],[1.0])|\n",
      "|       1|     3|  4|     2|    (1,[],[])|(2,[0],[1.0])|\n",
      "|       1|     1| 58|     0|    (1,[],[])|(2,[0],[1.0])|\n",
      "|       0|     3| 20|     0|(1,[0],[1.0])|(2,[0],[1.0])|\n",
      "|       0|     3| 39|     6|(1,[0],[1.0])|(2,[0],[1.0])|\n",
      "|       0|     3| 14|     0|    (1,[],[])|(2,[0],[1.0])|\n",
      "|       1|     2| 55|     0|    (1,[],[])|(2,[0],[1.0])|\n",
      "|       0|     3|  2|     5|(1,[0],[1.0])|    (2,[],[])|\n",
      "|       1|     2| 29|     0|(1,[0],[1.0])|(2,[0],[1.0])|\n",
      "|       0|     3| 31|     1|    (1,[],[])|(2,[0],[1.0])|\n",
      "|       1|     3| 29|     0|    (1,[],[])|(2,[1],[1.0])|\n",
      "+--------+------+---+------+-------------+-------------+\n",
      "only showing top 20 rows\n",
      "\n"
     ]
    }
   ],
   "source": [
    "data.show()"
   ]
  },
  {
   "cell_type": "markdown",
   "id": "316bbc75-4764-46c4-b2b0-a402c03498a1",
   "metadata": {},
   "source": [
    "# 독립변수를 하나의 벡터로 만들기 Features"
   ]
  },
  {
   "cell_type": "code",
   "execution_count": 39,
   "id": "4abd9330-0170-4cde-b76d-562cad3d622d",
   "metadata": {},
   "outputs": [
    {
     "name": "stdout",
     "output_type": "stream",
     "text": [
      "root\n",
      " |-- Survived: integer (nullable = true)\n",
      " |-- Pclass: integer (nullable = true)\n",
      " |-- Age: integer (nullable = true)\n",
      " |-- family: integer (nullable = true)\n",
      " |-- Sex_vec: vector (nullable = true)\n",
      " |-- Embarked_vec: vector (nullable = true)\n",
      "\n"
     ]
    }
   ],
   "source": [
    "data.printSchema()"
   ]
  },
  {
   "cell_type": "code",
   "execution_count": 40,
   "id": "5b01bec2-a4e4-4152-985b-f94482333544",
   "metadata": {
    "scrolled": true
   },
   "outputs": [
    {
     "name": "stdout",
     "output_type": "stream",
     "text": [
      "+--------+------+---+------+-------------+-------------+--------------------+\n",
      "|Survived|Pclass|Age|family|      Sex_vec| Embarked_vec|            Features|\n",
      "+--------+------+---+------+-------------+-------------+--------------------+\n",
      "|       0|     3| 22|     1|(1,[0],[1.0])|(2,[0],[1.0])|[3.0,22.0,1.0,1.0...|\n",
      "|       1|     1| 38|     1|    (1,[],[])|(2,[1],[1.0])|[1.0,38.0,1.0,0.0...|\n",
      "|       1|     3| 26|     0|    (1,[],[])|(2,[0],[1.0])|[3.0,26.0,0.0,0.0...|\n",
      "|       1|     1| 35|     1|    (1,[],[])|(2,[0],[1.0])|[1.0,35.0,1.0,0.0...|\n",
      "|       0|     3| 35|     0|(1,[0],[1.0])|(2,[0],[1.0])|[3.0,35.0,0.0,1.0...|\n",
      "|       0|     3| 29|     0|(1,[0],[1.0])|    (2,[],[])|[3.0,29.0,0.0,1.0...|\n",
      "|       0|     1| 54|     0|(1,[0],[1.0])|(2,[0],[1.0])|[1.0,54.0,0.0,1.0...|\n",
      "|       0|     3|  2|     4|(1,[0],[1.0])|(2,[0],[1.0])|[3.0,2.0,4.0,1.0,...|\n",
      "|       1|     3| 27|     2|    (1,[],[])|(2,[0],[1.0])|[3.0,27.0,2.0,0.0...|\n",
      "|       1|     2| 14|     1|    (1,[],[])|(2,[1],[1.0])|[2.0,14.0,1.0,0.0...|\n",
      "|       1|     3|  4|     2|    (1,[],[])|(2,[0],[1.0])|[3.0,4.0,2.0,0.0,...|\n",
      "|       1|     1| 58|     0|    (1,[],[])|(2,[0],[1.0])|[1.0,58.0,0.0,0.0...|\n",
      "|       0|     3| 20|     0|(1,[0],[1.0])|(2,[0],[1.0])|[3.0,20.0,0.0,1.0...|\n",
      "|       0|     3| 39|     6|(1,[0],[1.0])|(2,[0],[1.0])|[3.0,39.0,6.0,1.0...|\n",
      "|       0|     3| 14|     0|    (1,[],[])|(2,[0],[1.0])|[3.0,14.0,0.0,0.0...|\n",
      "|       1|     2| 55|     0|    (1,[],[])|(2,[0],[1.0])|[2.0,55.0,0.0,0.0...|\n",
      "|       0|     3|  2|     5|(1,[0],[1.0])|    (2,[],[])|[3.0,2.0,5.0,1.0,...|\n",
      "|       1|     2| 29|     0|(1,[0],[1.0])|(2,[0],[1.0])|[2.0,29.0,0.0,1.0...|\n",
      "|       0|     3| 31|     1|    (1,[],[])|(2,[0],[1.0])|[3.0,31.0,1.0,0.0...|\n",
      "|       1|     3| 29|     0|    (1,[],[])|(2,[1],[1.0])|[3.0,29.0,0.0,0.0...|\n",
      "+--------+------+---+------+-------------+-------------+--------------------+\n",
      "only showing top 20 rows\n",
      "\n"
     ]
    }
   ],
   "source": [
    "from pyspark.ml.feature import VectorAssembler\n",
    "feature_assembler = VectorAssembler(inputCols = ['Pclass', 'Age', 'family', 'Sex_vec', 'Embarked_vec'], outputCol=\"Features\")\n",
    "data = feature_assembler.transform(data)\n",
    "data.show()"
   ]
  },
  {
   "cell_type": "code",
   "execution_count": 41,
   "id": "41693549-74e4-4423-a748-c66c785f476c",
   "metadata": {},
   "outputs": [
    {
     "name": "stdout",
     "output_type": "stream",
     "text": [
      "+--------+--------------------+\n",
      "|Survived|            Features|\n",
      "+--------+--------------------+\n",
      "|       0|[3.0,22.0,1.0,1.0...|\n",
      "|       1|[1.0,38.0,1.0,0.0...|\n",
      "|       1|[3.0,26.0,0.0,0.0...|\n",
      "|       1|[1.0,35.0,1.0,0.0...|\n",
      "|       0|[3.0,35.0,0.0,1.0...|\n",
      "|       0|[3.0,29.0,0.0,1.0...|\n",
      "|       0|[1.0,54.0,0.0,1.0...|\n",
      "|       0|[3.0,2.0,4.0,1.0,...|\n",
      "|       1|[3.0,27.0,2.0,0.0...|\n",
      "|       1|[2.0,14.0,1.0,0.0...|\n",
      "|       1|[3.0,4.0,2.0,0.0,...|\n",
      "|       1|[1.0,58.0,0.0,0.0...|\n",
      "|       0|[3.0,20.0,0.0,1.0...|\n",
      "|       0|[3.0,39.0,6.0,1.0...|\n",
      "|       0|[3.0,14.0,0.0,0.0...|\n",
      "|       1|[2.0,55.0,0.0,0.0...|\n",
      "|       0|[3.0,2.0,5.0,1.0,...|\n",
      "|       1|[2.0,29.0,0.0,1.0...|\n",
      "|       0|[3.0,31.0,1.0,0.0...|\n",
      "|       1|[3.0,29.0,0.0,0.0...|\n",
      "+--------+--------------------+\n",
      "only showing top 20 rows\n",
      "\n"
     ]
    }
   ],
   "source": [
    "data = data.drop('Pclass', 'Age', 'family', 'Sex_vec', 'Embarked_vec')\n",
    "data.show()"
   ]
  },
  {
   "cell_type": "code",
   "execution_count": 43,
   "id": "8cd20ef8-70c9-4057-8aa1-fb24da6f7886",
   "metadata": {},
   "outputs": [
    {
     "name": "stdout",
     "output_type": "stream",
     "text": [
      "root\n",
      " |-- Survived: integer (nullable = true)\n",
      " |-- Features: vector (nullable = true)\n",
      "\n"
     ]
    }
   ],
   "source": [
    "data.printSchema()"
   ]
  },
  {
   "cell_type": "markdown",
   "id": "feadb048-63ef-4809-a025-d4f2aa0f9679",
   "metadata": {},
   "source": [
    "# 트레인과 테스트로 홀드아웃"
   ]
  },
  {
   "cell_type": "code",
   "execution_count": 44,
   "id": "d6cd9f49-9e6c-410d-ac3d-e143acdead39",
   "metadata": {},
   "outputs": [],
   "source": [
    "(train_data, test_data) = data.randomSplit([0.8, 0.2], seed = 10)"
   ]
  },
  {
   "cell_type": "code",
   "execution_count": 45,
   "id": "0cf50d55-86b9-4490-84cf-8c0965d45c07",
   "metadata": {},
   "outputs": [
    {
     "name": "stdout",
     "output_type": "stream",
     "text": [
      "+--------+--------------------+\n",
      "|Survived|            Features|\n",
      "+--------+--------------------+\n",
      "|       0|(6,[0,1],[3.0,21.0])|\n",
      "|       0|(6,[0,1],[3.0,29.0])|\n",
      "|       0|[1.0,2.0,3.0,0.0,...|\n",
      "|       0|[1.0,21.0,1.0,1.0...|\n",
      "|       0|[1.0,24.0,1.0,1.0...|\n",
      "|       0|[1.0,28.0,0.0,1.0...|\n",
      "|       0|[1.0,29.0,0.0,1.0...|\n",
      "|       0|[1.0,29.0,1.0,1.0...|\n",
      "|       0|[1.0,31.0,1.0,1.0...|\n",
      "|       0|[1.0,33.0,0.0,1.0...|\n",
      "|       0|[1.0,45.0,0.0,1.0...|\n",
      "|       0|[1.0,45.0,0.0,1.0...|\n",
      "|       0|[1.0,46.0,0.0,1.0...|\n",
      "|       0|[1.0,46.0,1.0,1.0...|\n",
      "|       0|[1.0,50.0,1.0,1.0...|\n",
      "|       0|[1.0,52.0,2.0,1.0...|\n",
      "|       0|[1.0,54.0,1.0,1.0...|\n",
      "|       0|[1.0,55.0,0.0,1.0...|\n",
      "|       0|[1.0,56.0,0.0,1.0...|\n",
      "|       0|[1.0,62.0,0.0,1.0...|\n",
      "+--------+--------------------+\n",
      "only showing top 20 rows\n",
      "\n"
     ]
    }
   ],
   "source": [
    "test_data.show()"
   ]
  },
  {
   "cell_type": "markdown",
   "id": "ced74af3-e3cd-4a36-a753-a915183c03c9",
   "metadata": {},
   "source": [
    "# 의사 결정 나무로 분석하기"
   ]
  },
  {
   "cell_type": "code",
   "execution_count": 46,
   "id": "bf74eb45-43bb-4cea-88e3-2b9adf0218fd",
   "metadata": {},
   "outputs": [],
   "source": [
    "from pyspark.ml.classification import DecisionTreeClassifier"
   ]
  },
  {
   "cell_type": "code",
   "execution_count": 47,
   "id": "9fe9ae40-85f6-4ef3-8621-a950dd830667",
   "metadata": {},
   "outputs": [
    {
     "name": "stdout",
     "output_type": "stream",
     "text": [
      "+--------+--------------------+-------------+--------------------+----------+\n",
      "|Survived|            Features|rawPrediction|         probability|prediction|\n",
      "+--------+--------------------+-------------+--------------------+----------+\n",
      "|       0|(6,[0,1],[3.0,21.0])|  [38.0,53.0]|[0.41758241758241...|       1.0|\n",
      "|       0|(6,[0,1],[3.0,29.0])|  [38.0,53.0]|[0.41758241758241...|       1.0|\n",
      "|       0|[1.0,2.0,3.0,0.0,...|  [7.0,128.0]|[0.05185185185185...|       1.0|\n",
      "|       0|[1.0,21.0,1.0,1.0...|  [58.0,34.0]|[0.63043478260869...|       0.0|\n",
      "|       0|[1.0,24.0,1.0,1.0...|  [58.0,34.0]|[0.63043478260869...|       0.0|\n",
      "|       0|[1.0,28.0,0.0,1.0...|  [58.0,34.0]|[0.63043478260869...|       0.0|\n",
      "|       0|[1.0,29.0,0.0,1.0...|  [58.0,34.0]|[0.63043478260869...|       0.0|\n",
      "|       0|[1.0,29.0,1.0,1.0...|  [58.0,34.0]|[0.63043478260869...|       0.0|\n",
      "|       0|[1.0,31.0,1.0,1.0...|  [58.0,34.0]|[0.63043478260869...|       0.0|\n",
      "|       0|[1.0,33.0,0.0,1.0...|  [58.0,34.0]|[0.63043478260869...|       0.0|\n",
      "|       0|[1.0,45.0,0.0,1.0...|  [58.0,34.0]|[0.63043478260869...|       0.0|\n",
      "|       0|[1.0,45.0,0.0,1.0...|  [58.0,34.0]|[0.63043478260869...|       0.0|\n",
      "|       0|[1.0,46.0,0.0,1.0...|  [58.0,34.0]|[0.63043478260869...|       0.0|\n",
      "|       0|[1.0,46.0,1.0,1.0...|  [58.0,34.0]|[0.63043478260869...|       0.0|\n",
      "|       0|[1.0,50.0,1.0,1.0...|  [58.0,34.0]|[0.63043478260869...|       0.0|\n",
      "|       0|[1.0,52.0,2.0,1.0...|  [58.0,34.0]|[0.63043478260869...|       0.0|\n",
      "|       0|[1.0,54.0,1.0,1.0...|  [58.0,34.0]|[0.63043478260869...|       0.0|\n",
      "|       0|[1.0,55.0,0.0,1.0...|  [58.0,34.0]|[0.63043478260869...|       0.0|\n",
      "|       0|[1.0,56.0,0.0,1.0...|  [58.0,34.0]|[0.63043478260869...|       0.0|\n",
      "|       0|[1.0,62.0,0.0,1.0...|  [58.0,34.0]|[0.63043478260869...|       0.0|\n",
      "+--------+--------------------+-------------+--------------------+----------+\n",
      "only showing top 20 rows\n",
      "\n"
     ]
    }
   ],
   "source": [
    "dtc = DecisionTreeClassifier(featuresCol= 'Features', labelCol='Survived', maxDepth=3)\n",
    "dtc = dtc.fit(train_data)\n",
    "pred = dtc.transform(test_data)\n",
    "pred.show()"
   ]
  },
  {
   "cell_type": "code",
   "execution_count": 48,
   "id": "ce15488b-d9e0-473c-b150-8a0773d30b94",
   "metadata": {},
   "outputs": [],
   "source": [
    "from sklearn.metrics import accuracy_score, classification_report"
   ]
  },
  {
   "cell_type": "code",
   "execution_count": 49,
   "id": "4379c16d-ee4a-4fba-b9e1-59c3e5a5b0b7",
   "metadata": {},
   "outputs": [],
   "source": [
    "pred = pred.toPandas()"
   ]
  },
  {
   "cell_type": "code",
   "execution_count": 51,
   "id": "01c45ec5-1bec-4a1c-a7fa-bc9c8df09c3c",
   "metadata": {
    "scrolled": true
   },
   "outputs": [
    {
     "data": {
      "text/html": [
       "<div>\n",
       "<style scoped>\n",
       "    .dataframe tbody tr th:only-of-type {\n",
       "        vertical-align: middle;\n",
       "    }\n",
       "\n",
       "    .dataframe tbody tr th {\n",
       "        vertical-align: top;\n",
       "    }\n",
       "\n",
       "    .dataframe thead th {\n",
       "        text-align: right;\n",
       "    }\n",
       "</style>\n",
       "<table border=\"1\" class=\"dataframe\">\n",
       "  <thead>\n",
       "    <tr style=\"text-align: right;\">\n",
       "      <th></th>\n",
       "      <th>Survived</th>\n",
       "      <th>Features</th>\n",
       "      <th>rawPrediction</th>\n",
       "      <th>probability</th>\n",
       "      <th>prediction</th>\n",
       "    </tr>\n",
       "  </thead>\n",
       "  <tbody>\n",
       "    <tr>\n",
       "      <th>0</th>\n",
       "      <td>0</td>\n",
       "      <td>(3.0, 21.0, 0.0, 0.0, 0.0, 0.0)</td>\n",
       "      <td>[38.0, 53.0]</td>\n",
       "      <td>[0.4175824175824176, 0.5824175824175825]</td>\n",
       "      <td>1.0</td>\n",
       "    </tr>\n",
       "    <tr>\n",
       "      <th>1</th>\n",
       "      <td>0</td>\n",
       "      <td>(3.0, 29.0, 0.0, 0.0, 0.0, 0.0)</td>\n",
       "      <td>[38.0, 53.0]</td>\n",
       "      <td>[0.4175824175824176, 0.5824175824175825]</td>\n",
       "      <td>1.0</td>\n",
       "    </tr>\n",
       "    <tr>\n",
       "      <th>2</th>\n",
       "      <td>0</td>\n",
       "      <td>[1.0, 2.0, 3.0, 0.0, 1.0, 0.0]</td>\n",
       "      <td>[7.0, 128.0]</td>\n",
       "      <td>[0.05185185185185185, 0.9481481481481482]</td>\n",
       "      <td>1.0</td>\n",
       "    </tr>\n",
       "    <tr>\n",
       "      <th>3</th>\n",
       "      <td>0</td>\n",
       "      <td>[1.0, 21.0, 1.0, 1.0, 1.0, 0.0]</td>\n",
       "      <td>[58.0, 34.0]</td>\n",
       "      <td>[0.6304347826086957, 0.3695652173913043]</td>\n",
       "      <td>0.0</td>\n",
       "    </tr>\n",
       "    <tr>\n",
       "      <th>4</th>\n",
       "      <td>0</td>\n",
       "      <td>[1.0, 24.0, 1.0, 1.0, 0.0, 1.0]</td>\n",
       "      <td>[58.0, 34.0]</td>\n",
       "      <td>[0.6304347826086957, 0.3695652173913043]</td>\n",
       "      <td>0.0</td>\n",
       "    </tr>\n",
       "    <tr>\n",
       "      <th>...</th>\n",
       "      <td>...</td>\n",
       "      <td>...</td>\n",
       "      <td>...</td>\n",
       "      <td>...</td>\n",
       "      <td>...</td>\n",
       "    </tr>\n",
       "    <tr>\n",
       "      <th>182</th>\n",
       "      <td>1</td>\n",
       "      <td>[3.0, 29.0, 2.0, 1.0, 0.0, 1.0]</td>\n",
       "      <td>[305.0, 41.0]</td>\n",
       "      <td>[0.8815028901734104, 0.11849710982658959]</td>\n",
       "      <td>0.0</td>\n",
       "    </tr>\n",
       "    <tr>\n",
       "      <th>183</th>\n",
       "      <td>1</td>\n",
       "      <td>[3.0, 30.0, 0.0, 1.0, 1.0, 0.0]</td>\n",
       "      <td>[305.0, 41.0]</td>\n",
       "      <td>[0.8815028901734104, 0.11849710982658959]</td>\n",
       "      <td>0.0</td>\n",
       "    </tr>\n",
       "    <tr>\n",
       "      <th>184</th>\n",
       "      <td>1</td>\n",
       "      <td>[3.0, 31.0, 0.0, 1.0, 1.0, 0.0]</td>\n",
       "      <td>[305.0, 41.0]</td>\n",
       "      <td>[0.8815028901734104, 0.11849710982658959]</td>\n",
       "      <td>0.0</td>\n",
       "    </tr>\n",
       "    <tr>\n",
       "      <th>185</th>\n",
       "      <td>1</td>\n",
       "      <td>[3.0, 32.0, 0.0, 1.0, 1.0, 0.0]</td>\n",
       "      <td>[305.0, 41.0]</td>\n",
       "      <td>[0.8815028901734104, 0.11849710982658959]</td>\n",
       "      <td>0.0</td>\n",
       "    </tr>\n",
       "    <tr>\n",
       "      <th>186</th>\n",
       "      <td>1</td>\n",
       "      <td>[3.0, 44.0, 0.0, 1.0, 1.0, 0.0]</td>\n",
       "      <td>[305.0, 41.0]</td>\n",
       "      <td>[0.8815028901734104, 0.11849710982658959]</td>\n",
       "      <td>0.0</td>\n",
       "    </tr>\n",
       "  </tbody>\n",
       "</table>\n",
       "<p>187 rows × 5 columns</p>\n",
       "</div>"
      ],
      "text/plain": [
       "     Survived                         Features  rawPrediction  \\\n",
       "0           0  (3.0, 21.0, 0.0, 0.0, 0.0, 0.0)   [38.0, 53.0]   \n",
       "1           0  (3.0, 29.0, 0.0, 0.0, 0.0, 0.0)   [38.0, 53.0]   \n",
       "2           0   [1.0, 2.0, 3.0, 0.0, 1.0, 0.0]   [7.0, 128.0]   \n",
       "3           0  [1.0, 21.0, 1.0, 1.0, 1.0, 0.0]   [58.0, 34.0]   \n",
       "4           0  [1.0, 24.0, 1.0, 1.0, 0.0, 1.0]   [58.0, 34.0]   \n",
       "..        ...                              ...            ...   \n",
       "182         1  [3.0, 29.0, 2.0, 1.0, 0.0, 1.0]  [305.0, 41.0]   \n",
       "183         1  [3.0, 30.0, 0.0, 1.0, 1.0, 0.0]  [305.0, 41.0]   \n",
       "184         1  [3.0, 31.0, 0.0, 1.0, 1.0, 0.0]  [305.0, 41.0]   \n",
       "185         1  [3.0, 32.0, 0.0, 1.0, 1.0, 0.0]  [305.0, 41.0]   \n",
       "186         1  [3.0, 44.0, 0.0, 1.0, 1.0, 0.0]  [305.0, 41.0]   \n",
       "\n",
       "                                   probability  prediction  \n",
       "0     [0.4175824175824176, 0.5824175824175825]         1.0  \n",
       "1     [0.4175824175824176, 0.5824175824175825]         1.0  \n",
       "2    [0.05185185185185185, 0.9481481481481482]         1.0  \n",
       "3     [0.6304347826086957, 0.3695652173913043]         0.0  \n",
       "4     [0.6304347826086957, 0.3695652173913043]         0.0  \n",
       "..                                         ...         ...  \n",
       "182  [0.8815028901734104, 0.11849710982658959]         0.0  \n",
       "183  [0.8815028901734104, 0.11849710982658959]         0.0  \n",
       "184  [0.8815028901734104, 0.11849710982658959]         0.0  \n",
       "185  [0.8815028901734104, 0.11849710982658959]         0.0  \n",
       "186  [0.8815028901734104, 0.11849710982658959]         0.0  \n",
       "\n",
       "[187 rows x 5 columns]"
      ]
     },
     "execution_count": 51,
     "metadata": {},
     "output_type": "execute_result"
    }
   ],
   "source": [
    "pred"
   ]
  },
  {
   "cell_type": "code",
   "execution_count": 52,
   "id": "f0d8aa58-8177-4d4d-9624-743156575961",
   "metadata": {
    "scrolled": true
   },
   "outputs": [
    {
     "name": "stdout",
     "output_type": "stream",
     "text": [
      "0.8342245989304813\n"
     ]
    },
    {
     "name": "stderr",
     "output_type": "stream",
     "text": [
      "/home/himedia/anaconda3/envs/spark/lib/python3.11/site-packages/sklearn/utils/validation.py:605: FutureWarning: is_sparse is deprecated and will be removed in a future version. Check `isinstance(dtype, pd.SparseDtype)` instead.\n",
      "  if is_sparse(pd_dtype):\n",
      "/home/himedia/anaconda3/envs/spark/lib/python3.11/site-packages/sklearn/utils/validation.py:614: FutureWarning: is_sparse is deprecated and will be removed in a future version. Check `isinstance(dtype, pd.SparseDtype)` instead.\n",
      "  if is_sparse(pd_dtype) or not is_extension_array_dtype(pd_dtype):\n",
      "/home/himedia/anaconda3/envs/spark/lib/python3.11/site-packages/sklearn/utils/validation.py:605: FutureWarning: is_sparse is deprecated and will be removed in a future version. Check `isinstance(dtype, pd.SparseDtype)` instead.\n",
      "  if is_sparse(pd_dtype):\n",
      "/home/himedia/anaconda3/envs/spark/lib/python3.11/site-packages/sklearn/utils/validation.py:614: FutureWarning: is_sparse is deprecated and will be removed in a future version. Check `isinstance(dtype, pd.SparseDtype)` instead.\n",
      "  if is_sparse(pd_dtype) or not is_extension_array_dtype(pd_dtype):\n",
      "/home/himedia/anaconda3/envs/spark/lib/python3.11/site-packages/sklearn/utils/validation.py:605: FutureWarning: is_sparse is deprecated and will be removed in a future version. Check `isinstance(dtype, pd.SparseDtype)` instead.\n",
      "  if is_sparse(pd_dtype):\n",
      "/home/himedia/anaconda3/envs/spark/lib/python3.11/site-packages/sklearn/utils/validation.py:614: FutureWarning: is_sparse is deprecated and will be removed in a future version. Check `isinstance(dtype, pd.SparseDtype)` instead.\n",
      "  if is_sparse(pd_dtype) or not is_extension_array_dtype(pd_dtype):\n",
      "/home/himedia/anaconda3/envs/spark/lib/python3.11/site-packages/sklearn/utils/validation.py:605: FutureWarning: is_sparse is deprecated and will be removed in a future version. Check `isinstance(dtype, pd.SparseDtype)` instead.\n",
      "  if is_sparse(pd_dtype):\n",
      "/home/himedia/anaconda3/envs/spark/lib/python3.11/site-packages/sklearn/utils/validation.py:614: FutureWarning: is_sparse is deprecated and will be removed in a future version. Check `isinstance(dtype, pd.SparseDtype)` instead.\n",
      "  if is_sparse(pd_dtype) or not is_extension_array_dtype(pd_dtype):\n",
      "/home/himedia/anaconda3/envs/spark/lib/python3.11/site-packages/sklearn/utils/validation.py:605: FutureWarning: is_sparse is deprecated and will be removed in a future version. Check `isinstance(dtype, pd.SparseDtype)` instead.\n",
      "  if is_sparse(pd_dtype):\n",
      "/home/himedia/anaconda3/envs/spark/lib/python3.11/site-packages/sklearn/utils/validation.py:614: FutureWarning: is_sparse is deprecated and will be removed in a future version. Check `isinstance(dtype, pd.SparseDtype)` instead.\n",
      "  if is_sparse(pd_dtype) or not is_extension_array_dtype(pd_dtype):\n",
      "/home/himedia/anaconda3/envs/spark/lib/python3.11/site-packages/sklearn/utils/validation.py:605: FutureWarning: is_sparse is deprecated and will be removed in a future version. Check `isinstance(dtype, pd.SparseDtype)` instead.\n",
      "  if is_sparse(pd_dtype):\n",
      "/home/himedia/anaconda3/envs/spark/lib/python3.11/site-packages/sklearn/utils/validation.py:614: FutureWarning: is_sparse is deprecated and will be removed in a future version. Check `isinstance(dtype, pd.SparseDtype)` instead.\n",
      "  if is_sparse(pd_dtype) or not is_extension_array_dtype(pd_dtype):\n"
     ]
    }
   ],
   "source": [
    "print(accuracy_score(pred['prediction'], pred['Survived']))"
   ]
  },
  {
   "cell_type": "code",
   "execution_count": 53,
   "id": "3af277d3-d33d-4bc9-aaaa-60d814906011",
   "metadata": {
    "scrolled": true
   },
   "outputs": [
    {
     "name": "stdout",
     "output_type": "stream",
     "text": [
      "              precision    recall  f1-score   support\n",
      "\n",
      "         0.0       0.90      0.84      0.87       122\n",
      "         1.0       0.74      0.82      0.77        65\n",
      "\n",
      "    accuracy                           0.83       187\n",
      "   macro avg       0.82      0.83      0.82       187\n",
      "weighted avg       0.84      0.83      0.84       187\n",
      "\n"
     ]
    },
    {
     "name": "stderr",
     "output_type": "stream",
     "text": [
      "/home/himedia/anaconda3/envs/spark/lib/python3.11/site-packages/sklearn/utils/validation.py:605: FutureWarning: is_sparse is deprecated and will be removed in a future version. Check `isinstance(dtype, pd.SparseDtype)` instead.\n",
      "  if is_sparse(pd_dtype):\n",
      "/home/himedia/anaconda3/envs/spark/lib/python3.11/site-packages/sklearn/utils/validation.py:614: FutureWarning: is_sparse is deprecated and will be removed in a future version. Check `isinstance(dtype, pd.SparseDtype)` instead.\n",
      "  if is_sparse(pd_dtype) or not is_extension_array_dtype(pd_dtype):\n",
      "/home/himedia/anaconda3/envs/spark/lib/python3.11/site-packages/sklearn/utils/validation.py:605: FutureWarning: is_sparse is deprecated and will be removed in a future version. Check `isinstance(dtype, pd.SparseDtype)` instead.\n",
      "  if is_sparse(pd_dtype):\n",
      "/home/himedia/anaconda3/envs/spark/lib/python3.11/site-packages/sklearn/utils/validation.py:614: FutureWarning: is_sparse is deprecated and will be removed in a future version. Check `isinstance(dtype, pd.SparseDtype)` instead.\n",
      "  if is_sparse(pd_dtype) or not is_extension_array_dtype(pd_dtype):\n",
      "/home/himedia/anaconda3/envs/spark/lib/python3.11/site-packages/sklearn/utils/validation.py:605: FutureWarning: is_sparse is deprecated and will be removed in a future version. Check `isinstance(dtype, pd.SparseDtype)` instead.\n",
      "  if is_sparse(pd_dtype):\n",
      "/home/himedia/anaconda3/envs/spark/lib/python3.11/site-packages/sklearn/utils/validation.py:614: FutureWarning: is_sparse is deprecated and will be removed in a future version. Check `isinstance(dtype, pd.SparseDtype)` instead.\n",
      "  if is_sparse(pd_dtype) or not is_extension_array_dtype(pd_dtype):\n",
      "/home/himedia/anaconda3/envs/spark/lib/python3.11/site-packages/sklearn/utils/validation.py:605: FutureWarning: is_sparse is deprecated and will be removed in a future version. Check `isinstance(dtype, pd.SparseDtype)` instead.\n",
      "  if is_sparse(pd_dtype):\n",
      "/home/himedia/anaconda3/envs/spark/lib/python3.11/site-packages/sklearn/utils/validation.py:614: FutureWarning: is_sparse is deprecated and will be removed in a future version. Check `isinstance(dtype, pd.SparseDtype)` instead.\n",
      "  if is_sparse(pd_dtype) or not is_extension_array_dtype(pd_dtype):\n",
      "/home/himedia/anaconda3/envs/spark/lib/python3.11/site-packages/sklearn/utils/validation.py:605: FutureWarning: is_sparse is deprecated and will be removed in a future version. Check `isinstance(dtype, pd.SparseDtype)` instead.\n",
      "  if is_sparse(pd_dtype):\n",
      "/home/himedia/anaconda3/envs/spark/lib/python3.11/site-packages/sklearn/utils/validation.py:614: FutureWarning: is_sparse is deprecated and will be removed in a future version. Check `isinstance(dtype, pd.SparseDtype)` instead.\n",
      "  if is_sparse(pd_dtype) or not is_extension_array_dtype(pd_dtype):\n",
      "/home/himedia/anaconda3/envs/spark/lib/python3.11/site-packages/sklearn/utils/validation.py:605: FutureWarning: is_sparse is deprecated and will be removed in a future version. Check `isinstance(dtype, pd.SparseDtype)` instead.\n",
      "  if is_sparse(pd_dtype):\n",
      "/home/himedia/anaconda3/envs/spark/lib/python3.11/site-packages/sklearn/utils/validation.py:614: FutureWarning: is_sparse is deprecated and will be removed in a future version. Check `isinstance(dtype, pd.SparseDtype)` instead.\n",
      "  if is_sparse(pd_dtype) or not is_extension_array_dtype(pd_dtype):\n"
     ]
    }
   ],
   "source": [
    "print(classification_report(pred['prediction'], pred['Survived']))"
   ]
  }
 ],
 "metadata": {
  "kernelspec": {
   "display_name": "Python 3 (ipykernel)",
   "language": "python",
   "name": "python3"
  },
  "language_info": {
   "codemirror_mode": {
    "name": "ipython",
    "version": 3
   },
   "file_extension": ".py",
   "mimetype": "text/x-python",
   "name": "python",
   "nbconvert_exporter": "python",
   "pygments_lexer": "ipython3",
   "version": "3.11.5"
  }
 },
 "nbformat": 4,
 "nbformat_minor": 5
}
