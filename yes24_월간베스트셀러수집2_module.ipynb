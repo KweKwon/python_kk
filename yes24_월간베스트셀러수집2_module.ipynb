{
 "cells": [
  {
   "cell_type": "code",
   "execution_count": 25,
   "id": "db742cb4",
   "metadata": {},
   "outputs": [],
   "source": [
    "import requests  # 서버에 http 프로토콜로 요청\n",
    "from bs4 import BeautifulSoup as bs  # html 파싱\n",
    "import time  # 5초간 휴식 할 때 사용\n",
    "from datetime import datetime  # 오늘 연월일 추출\n",
    "import pandas as pd  # 데이터 프레임 만듬\n",
    "import sqlite3\n",
    "from sqlalchemy import create_engine\n",
    "import yes24_dbio as ydb"
   ]
  },
  {
   "cell_type": "code",
   "execution_count": 26,
   "id": "00489f7e",
   "metadata": {},
   "outputs": [
    {
     "name": "stdout",
     "output_type": "stream",
     "text": [
      "2023 12\n"
     ]
    }
   ],
   "source": [
    "today = datetime.today()\n",
    "yyyy = today.year\n",
    "mm = today.month\n",
    "print(yyyy, mm)"
   ]
  },
  {
   "cell_type": "code",
   "execution_count": 27,
   "id": "076b5632",
   "metadata": {},
   "outputs": [
    {
     "name": "stdout",
     "output_type": "stream",
     "text": [
      "[2023]\n",
      "[1, 2, 3, 4, 5, 6, 7, 8, 9, 10, 11, 12]\n",
      "[1, 2, 3, 4, 5, 6, 7, 8, 9]\n"
     ]
    }
   ],
   "source": [
    "year = list(range(2023, 2022, -1))\n",
    "month = list(range(1, 13))\n",
    "page = list(range(1, 10))\n",
    "print(year)\n",
    "print(month)\n",
    "print(page)"
   ]
  },
  {
   "cell_type": "code",
   "execution_count": 13,
   "id": "27c86026",
   "metadata": {},
   "outputs": [
    {
     "name": "stdout",
     "output_type": "stream",
     "text": [
      "119/120추출중지 수집중\r"
     ]
    }
   ],
   "source": [
    "result = []\n",
    "for yy in year:\n",
    "    for mon in month if yy != yyyy else range(1, mm)[:1]:\n",
    "        for p in page[:2]:\n",
    "            print(f\"{yy}년{mon}월{p}페이지 수집중\", end=\"\\r\")\n",
    "            url = \"https://www.yes24.com/Product/Category/MonthWeekBestSeller\"\n",
    "            payload = dict(categoryNumber='001', pageNumber=p, pageSize='120', type='month', saleYear=yy, saleMonth=mon)          \n",
    "            \n",
    "            try:\n",
    "                r = requests.get(url, params=payload) # yes24 서버에 url로 자료 요청\n",
    "            except Exception as e:\n",
    "                print(e)\n",
    "                \n",
    "            soup = bs(r.text, 'lxml')   # yes24 서버에서 받은 응답 값 텍스트를 beautifulsoup을 통해 html로 파싱\n",
    "            book_list = soup.select(\"#yesBestList > li\")\n",
    "            result.append(ydb.extract_bookinfo(yy, mon, book_list))  # extract_bookinfo 함수로 추출한 데이터를 r\n",
    "            time.sleep(5)\n",
    "df2 = pd.DataFrame(result, columns=['yy', 'mon', 'title_h', 'title_f', 'title_m', 'title_e', 'detail_link', \\\n",
    "                        'author', 'publisher', 'pub_date', 'price', 'n_reviews', \\\n",
    "                         'review_link', 'rating', 'tags'])\n",
    "df2.to_csv(\"./data/new_yes24bestseller2023_01_1000.csv\", index=False)\n",
    "data2 = pd.read_csv(\"./data/new_yes24bestseller2023_01_1000.csv\")\n",
    "urls = data2['detail_link']\n",
    "detail_page_data = ym.detail_page_info(urls)  # detail_page_info 함수로 상세페이지 데이터 추출\n",
    "df2['book_id'] = df2['detail_link'].apply(lambda x: x.split(\"/\")[-1]) \n",
    "final_result_df = pd.merge(df2, detail_page_data, how='inner', on=\"book_id\") # 베스트 셀러 목록과 detail info 합침\n",
    "final_result_df.head(2)\n",
    "ym.to_db(final_result_df) # 최종 데이터를 sqlite3 데이터 베이스에 저장"
   ]
  },
  {
   "cell_type": "code",
   "execution_count": 60,
   "id": "b141b3f3",
   "metadata": {},
   "outputs": [
    {
     "data": {
      "text/plain": [
       "['#대장금_출판사대표추천도서',\n",
       " '#독서지도안',\n",
       " '#북클러버의선택',\n",
       " '#2022아침독서추천도서',\n",
       " '#내맘대로올해의책',\n",
       " '#2023서울국제도서전',\n",
       " '#YES24XEBS_대국민독서챌린지',\n",
       " '#2022내맘대로올해의책',\n",
       " '#시읽기',\n",
       " '#책읽아웃',\n",
       " '#세계사',\n",
       " '#학습만화',\n",
       " '#초등세계사',\n",
       " '#편집자의시대_편집자가만든책',\n",
       " '#크레마클럽에있어요',\n",
       " '#돈좀벌어보자',\n",
       " '#돈이란무엇인가',\n",
       " '#돈구경시켜드릴게',\n",
       " '#애니원작',\n",
       " '#이만화가대단하다',\n",
       " '#넷플릭스',\n",
       " '#일본만화대상',\n",
       " '#인생후반전',\n",
       " '#올해의책',\n",
       " '#인문위클리레터에소개된책',\n",
       " '#인생선배',\n",
       " '#내맘대로올해의책',\n",
       " '#이달의굿즈',\n",
       " '#분철',\n",
       " '#2023을예측하다',\n",
       " '#올해의책',\n",
       " '#청년의날추천도서',\n",
       " '#크레마클럽에있어요',\n",
       " '#심리학처방전',\n",
       " '#마음공부',\n",
       " '#초등한자',\n",
       " '#급수한자',\n",
       " '#재밌는한자',\n",
       " '#너내동료가돼라',\n",
       " '#니체의말',\n",
       " '#철학자의말',\n",
       " '#서양철학',\n",
       " '#철학연구',\n",
       " '#분철',\n",
       " '#분철',\n",
       " '#크레마클럽에있어요',\n",
       " '#마법의물건',\n",
       " '#초등미스터리',\n",
       " '#환상동화',\n",
       " '#어린이경제교육',\n",
       " '#학습만화',\n",
       " '#분철',\n",
       " '#크레마클럽에있어요',\n",
       " '#명문장',\n",
       " '#생활철학',\n",
       " '#철학자의인생론',\n",
       " '#재미있는철학',\n",
       " '#끌어당김',\n",
       " '#인생지침서',\n",
       " '#올해의책',\n",
       " '#성공하고싶다면',\n",
       " '#크레마클럽에있어요',\n",
       " '#독서지도안',\n",
       " '#공부는왜할까?',\n",
       " '#북클러버의선택',\n",
       " '#일생의기술',\n",
       " '#공부법',\n",
       " '#분철',\n",
       " '#인생후반전',\n",
       " '#논어를읽다',\n",
       " '#인문위클리레터에소개된책',\n",
       " '#크레마클럽에있어요',\n",
       " '#나이인문학',\n",
       " '#알쓸인잡',\n",
       " '#청년의날추천도서',\n",
       " '#인문위클리레터에소개된책',\n",
       " '#세계여성의날',\n",
       " '#여성의날',\n",
       " '#유튜버',\n",
       " '#학습만화',\n",
       " '#부모와아이가행복한육아',\n",
       " '#부모교육',\n",
       " '#중국에대하여',\n",
       " '#어린이역사책',\n",
       " '#학습만화',\n",
       " '#하룻밤에끝내는삼국지',\n",
       " '#삼국지',\n",
       " '#성공투자서',\n",
       " '#똑똑하게투자하기',\n",
       " '#분철',\n",
       " '#외국어공부단어가절반',\n",
       " '#독서지도안',\n",
       " '#크레마클럽에있어요',\n",
       " '#내맘대로올해의책',\n",
       " '#책읽아웃',\n",
       " '#EBS북카페',\n",
       " '#예스리커버',\n",
       " '#크레마클럽에있어요',\n",
       " '#부자비법',\n",
       " '#마인드가답이다',\n",
       " '#배송비채우기',\n",
       " '#이가격실화?',\n",
       " '#관상은과학',\n",
       " '#분철',\n",
       " '#지혜롭게살기',\n",
       " '#삶의기술',\n",
       " '#삶의목적세우기',\n",
       " '#삶의자세',\n",
       " '#인문위클리레터에소개된책',\n",
       " '#tvN비밀독서단추천도서',\n",
       " '#EBS위대한수업',\n",
       " '#스테디에는이유가있다',\n",
       " '#2021서울대지원자가많이읽은책',\n",
       " '#초등글쓰기',\n",
       " '#자존감을지키는방법',\n",
       " '#올해의책',\n",
       " '#1인출판사의책',\n",
       " '#정체성찾기',\n",
       " '#새해결심',\n",
       " '#올해의책',\n",
       " '#인문위클리레터에소개된책',\n",
       " '#크레마클럽에있어요',\n",
       " '#ㅁㅁ로본세계사',\n",
       " '#다시만난나의책',\n",
       " '#2021우량투자서35선',\n",
       " '#주식투자입문',\n",
       " '#주식초보',\n",
       " '#돈며들다',\n",
       " '#돈모으고싶을때',\n",
       " '#편집자의시대_편집자가만든책',\n",
       " '#2023경남독서한마당선정도서',\n",
       " '#2022내맘대로올해의책',\n",
       " '#가을에어울리는책',\n",
       " '#일상을위로하다',\n",
       " '#생각하는힘',\n",
       " '#멘탈챙겨',\n",
       " '#멘탈회복',\n",
       " '#가을에어울리는책',\n",
       " '#북클러버의선택',\n",
       " '#20세기고전',\n",
       " '#역사와개인',\n",
       " '#문학으로보는역사',\n",
       " '#분철',\n",
       " '#수상한책방동서남Book에나온책',\n",
       " '#인문위클리레터에소개된책',\n",
       " '#크레마클럽에있어요',\n",
       " '#사회초년생',\n",
       " '#나를사랑하는나에게',\n",
       " '#부동산투자',\n",
       " '#투자트렌드',\n",
       " '#똑똑하게투자하기',\n",
       " '#서탐대실',\n",
       " '#가을에어울리는책',\n",
       " '#알쓸범잡',\n",
       " '#20세기고전',\n",
       " '#방탄책방',\n",
       " '#분철',\n",
       " '#분철',\n",
       " '#토익_700점완성',\n",
       " '#너도나도보는토익기본서',\n",
       " '#힐링소설',\n",
       " '#크레마클럽에있어요',\n",
       " '#내맘대로올해의책',\n",
       " '#EBS북카페',\n",
       " '#문학뉴스레터에소개된책',\n",
       " '#가장세계적인한국작품',\n",
       " '#조선시대추리물',\n",
       " '#문학으로보는역사',\n",
       " '#소설가천선란추천',\n",
       " '#올해의책',\n",
       " '#말예쁘게하는사람이좋더라',\n",
       " '#엄마가된다는것',\n",
       " '#유튜버의책',\n",
       " '#재미있는과학',\n",
       " '#과학교육',\n",
       " '#과학입문',\n",
       " '#교양과학',\n",
       " '#분철',\n",
       " '#크레마클럽에있어요',\n",
       " '#한국산업',\n",
       " '#경제이야기',\n",
       " '#경제전망',\n",
       " '#문학뉴스레터에소개된책',\n",
       " '#국민육아템',\n",
       " '#친구선물',\n",
       " '#결혼선물추천',\n",
       " '#스테디에는이유가있다',\n",
       " '#환상동화',\n",
       " '#성장동화',\n",
       " '#인지편향',\n",
       " '#논리적인사고',\n",
       " '#통합적사고',\n",
       " '#뇌과학심리학활용',\n",
       " '#YES24XEBS_대국민독서챌린지',\n",
       " '#가을에어울리는책',\n",
       " '#문학뉴스레터에소개된책',\n",
       " '#선물하기좋은시집',\n",
       " '#오랜만이에요작가님',\n",
       " '#줏대있게살아',\n",
       " '#미생물',\n",
       " '#유전자',\n",
       " '#끌어당김',\n",
       " '#Y2K책장소환',\n",
       " '#크레마클럽에있어요',\n",
       " '#탑골공원책벌레',\n",
       " '#올해의책',\n",
       " '#성공의공식',\n",
       " '#성공하고싶다면',\n",
       " '#자수성가비법',\n",
       " '#습관만들기',\n",
       " '#성공신화',\n",
       " '#크레마클럽에있어요',\n",
       " '#성공하는사업의비결',\n",
       " '#성공의공식',\n",
       " '#성공학',\n",
       " '#습관만들기',\n",
       " '#청년의날추천도서',\n",
       " '#인문위클리레터에소개된책',\n",
       " '#올해의책',\n",
       " '#오상진북스타그램',\n",
       " '#EBS위대한수업',\n",
       " '#파닉스로시작하는영어',\n",
       " '#초등영어',\n",
       " '#의사가알려주는건강법',\n",
       " '#예스티비',\n",
       " '#허리건강',\n",
       " '#빛나는평전',\n",
       " '#철학자의말',\n",
       " '#크레마클럽에있어요',\n",
       " '#고수의투자원칙',\n",
       " '#주식투자',\n",
       " '#문재인대통령이읽은책',\n",
       " '#위대한사상가',\n",
       " '#고전읽기',\n",
       " '#아이와함께',\n",
       " '#사랑하는우리가족',\n",
       " '#N주년기념특별판',\n",
       " '#2023대구올해의책',\n",
       " '#독서지도안',\n",
       " '#2022아침독서추천도서',\n",
       " '#책씨앗2022최고의책',\n",
       " '#내맘대로올해의책',\n",
       " '#초등학교생활',\n",
       " '#분철',\n",
       " '#이달의굿즈',\n",
       " '#크레마클럽에있어요',\n",
       " '#방탄책방',\n",
       " '#크레마클럽에있어요',\n",
       " '#책읽아웃',\n",
       " '#유튜버',\n",
       " '#학습만화',\n",
       " '#마음근력',\n",
       " '#크레마클럽에있어요',\n",
       " '#종이접기',\n",
       " '#캐릭터',\n",
       " '#환상동화',\n",
       " '#흩날리는벚꽃속에서',\n",
       " '#MZ세대감성',\n",
       " '#북클러버의선택',\n",
       " '#다시보는2020',\n",
       " '#올해의책',\n",
       " '#분철',\n",
       " '#자연식물식']"
      ]
     },
     "execution_count": 60,
     "metadata": {},
     "output_type": "execute_result"
    }
   ],
   "source": [
    "[i.get_text() for i in soup.select(\".info_row.info_tag > .tag > a\")]"
   ]
  },
  {
   "cell_type": "code",
   "execution_count": 42,
   "id": "b41faff9",
   "metadata": {},
   "outputs": [
    {
     "data": {
      "text/plain": [
       "'https://image.yes24.com/goods/97255028/L'"
      ]
     },
     "execution_count": 42,
     "metadata": {},
     "output_type": "execute_result"
    }
   ],
   "source": [
    "soup.select_one(\".img_item>span>a>em>img\")[\"data-original\"]"
   ]
  },
  {
   "cell_type": "code",
   "execution_count": 28,
   "id": "f2db2fc7",
   "metadata": {},
   "outputs": [
    {
     "ename": "KeyError",
     "evalue": "'detail_link'",
     "output_type": "error",
     "traceback": [
      "\u001b[1;31m---------------------------------------------------------------------------\u001b[0m",
      "\u001b[1;31mKeyError\u001b[0m                                  Traceback (most recent call last)",
      "Cell \u001b[1;32mIn[28], line 1\u001b[0m\n\u001b[1;32m----> 1\u001b[0m \u001b[43mdf2\u001b[49m\u001b[43m[\u001b[49m\u001b[38;5;124;43m'\u001b[39;49m\u001b[38;5;124;43mdetail_link\u001b[39;49m\u001b[38;5;124;43m'\u001b[39;49m\u001b[43m]\u001b[49m[\u001b[38;5;241m0\u001b[39m]\u001b[38;5;241m.\u001b[39msplit(\u001b[38;5;124m'\u001b[39m\u001b[38;5;124m/\u001b[39m\u001b[38;5;124m'\u001b[39m)[\u001b[38;5;241m-\u001b[39m\u001b[38;5;241m1\u001b[39m]\n",
      "File \u001b[1;32m~\\anaconda3\\envs\\testenv\\lib\\site-packages\\pandas\\core\\frame.py:3761\u001b[0m, in \u001b[0;36mDataFrame.__getitem__\u001b[1;34m(self, key)\u001b[0m\n\u001b[0;32m   3759\u001b[0m \u001b[38;5;28;01mif\u001b[39;00m \u001b[38;5;28mself\u001b[39m\u001b[38;5;241m.\u001b[39mcolumns\u001b[38;5;241m.\u001b[39mnlevels \u001b[38;5;241m>\u001b[39m \u001b[38;5;241m1\u001b[39m:\n\u001b[0;32m   3760\u001b[0m     \u001b[38;5;28;01mreturn\u001b[39;00m \u001b[38;5;28mself\u001b[39m\u001b[38;5;241m.\u001b[39m_getitem_multilevel(key)\n\u001b[1;32m-> 3761\u001b[0m indexer \u001b[38;5;241m=\u001b[39m \u001b[38;5;28;43mself\u001b[39;49m\u001b[38;5;241;43m.\u001b[39;49m\u001b[43mcolumns\u001b[49m\u001b[38;5;241;43m.\u001b[39;49m\u001b[43mget_loc\u001b[49m\u001b[43m(\u001b[49m\u001b[43mkey\u001b[49m\u001b[43m)\u001b[49m\n\u001b[0;32m   3762\u001b[0m \u001b[38;5;28;01mif\u001b[39;00m is_integer(indexer):\n\u001b[0;32m   3763\u001b[0m     indexer \u001b[38;5;241m=\u001b[39m [indexer]\n",
      "File \u001b[1;32m~\\anaconda3\\envs\\testenv\\lib\\site-packages\\pandas\\core\\indexes\\range.py:349\u001b[0m, in \u001b[0;36mRangeIndex.get_loc\u001b[1;34m(self, key)\u001b[0m\n\u001b[0;32m    347\u001b[0m         \u001b[38;5;28;01mraise\u001b[39;00m \u001b[38;5;167;01mKeyError\u001b[39;00m(key) \u001b[38;5;28;01mfrom\u001b[39;00m \u001b[38;5;21;01merr\u001b[39;00m\n\u001b[0;32m    348\u001b[0m \u001b[38;5;28;01mif\u001b[39;00m \u001b[38;5;28misinstance\u001b[39m(key, Hashable):\n\u001b[1;32m--> 349\u001b[0m     \u001b[38;5;28;01mraise\u001b[39;00m \u001b[38;5;167;01mKeyError\u001b[39;00m(key)\n\u001b[0;32m    350\u001b[0m \u001b[38;5;28mself\u001b[39m\u001b[38;5;241m.\u001b[39m_check_indexing_error(key)\n\u001b[0;32m    351\u001b[0m \u001b[38;5;28;01mraise\u001b[39;00m \u001b[38;5;167;01mKeyError\u001b[39;00m(key)\n",
      "\u001b[1;31mKeyError\u001b[0m: 'detail_link'"
     ]
    }
   ],
   "source": [
    "df2['detail_link'][0].split('/')[-1]"
   ]
  },
  {
   "cell_type": "code",
   "execution_count": null,
   "id": "a357d68a",
   "metadata": {},
   "outputs": [],
   "source": [
    "len(result)"
   ]
  },
  {
   "cell_type": "code",
   "execution_count": null,
   "id": "60871cab",
   "metadata": {},
   "outputs": [],
   "source": [
    "colnames = ['yy', 'mon', 'title_h', 'title_f', 'title_m', 'title_e', 'detail_link', 'author', 'publisher',\n",
    "            'pub_date', 'price', 'n_reviews', 'review_link', 'rating', 'tags']"
   ]
  },
  {
   "cell_type": "code",
   "execution_count": null,
   "id": "f583eb77",
   "metadata": {},
   "outputs": [],
   "source": [
    "df = pd.DataFrame(result, columns= colnames)"
   ]
  },
  {
   "cell_type": "code",
   "execution_count": null,
   "id": "db3a25e5",
   "metadata": {},
   "outputs": [],
   "source": [
    "df.to_csv(\"./data/new_yes24bestseller2023_01_1000.csv\", index=False)"
   ]
  },
  {
   "cell_type": "code",
   "execution_count": null,
   "id": "ce01f670",
   "metadata": {},
   "outputs": [],
   "source": [
    "df"
   ]
  },
  {
   "cell_type": "code",
   "execution_count": null,
   "id": "4aac6318",
   "metadata": {},
   "outputs": [],
   "source": [
    "data = pd.read_csv(\"./data/new_yes24bestseller2023_01_1000.csv\")"
   ]
  },
  {
   "cell_type": "code",
   "execution_count": null,
   "id": "bd84329a",
   "metadata": {},
   "outputs": [],
   "source": [
    "data.info()"
   ]
  },
  {
   "cell_type": "code",
   "execution_count": null,
   "id": "044ce959",
   "metadata": {},
   "outputs": [],
   "source": [
    "data['detail_link']"
   ]
  },
  {
   "cell_type": "code",
   "execution_count": null,
   "id": "7c829882",
   "metadata": {},
   "outputs": [],
   "source": [
    "print(type(data['detail_link']))"
   ]
  },
  {
   "cell_type": "code",
   "execution_count": null,
   "id": "7501423e",
   "metadata": {},
   "outputs": [],
   "source": [
    "urls = data['detail_link']"
   ]
  },
  {
   "cell_type": "code",
   "execution_count": null,
   "id": "377c4573",
   "metadata": {},
   "outputs": [],
   "source": [
    "# 데이터 베이스에 저장하기\n",
    "# 파일로 바로 저장하기"
   ]
  },
  {
   "cell_type": "markdown",
   "id": "6ee58469",
   "metadata": {},
   "source": [
    "## 상세 페이지 수집"
   ]
  },
  {
   "cell_type": "code",
   "execution_count": null,
   "id": "278c8a80",
   "metadata": {},
   "outputs": [],
   "source": [
    "detail_result.columns"
   ]
  },
  {
   "cell_type": "code",
   "execution_count": null,
   "id": "08e2f4ed",
   "metadata": {},
   "outputs": [],
   "source": [
    "soup2.select_one(\"div.infoSetCont_wrap tr:nth-child(3) > td\")"
   ]
  },
  {
   "cell_type": "code",
   "execution_count": null,
   "id": "e919ec75",
   "metadata": {},
   "outputs": [],
   "source": [
    "detail_result.head(2)"
   ]
  },
  {
   "cell_type": "code",
   "execution_count": null,
   "id": "252a789f",
   "metadata": {},
   "outputs": [],
   "source": [
    "detail_result.columns"
   ]
  },
  {
   "cell_type": "code",
   "execution_count": null,
   "id": "2245ba8b",
   "metadata": {},
   "outputs": [],
   "source": [
    "detail_result.info()"
   ]
  },
  {
   "cell_type": "markdown",
   "id": "2d869fdb",
   "metadata": {},
   "source": [
    "# 데이터 베이스에 자료 저장하기\n",
    "* pandas 데이터 프레임을 DB에 바로 저장하기"
   ]
  },
  {
   "cell_type": "code",
   "execution_count": null,
   "id": "9065155a",
   "metadata": {},
   "outputs": [],
   "source": [
    "import sqlite3"
   ]
  },
  {
   "cell_type": "code",
   "execution_count": null,
   "id": "cd247541",
   "metadata": {},
   "outputs": [],
   "source": [
    "con = sqlite3.connect('sqlite3_yes24_best2023_01.db')\n",
    "cursor = con.cursor()"
   ]
  },
  {
   "cell_type": "code",
   "execution_count": null,
   "id": "3d51d101",
   "metadata": {},
   "outputs": [],
   "source": [
    "cursor.execute(f'CREATE TABLE IF NOT EXIST yes24_best_202301({detail_result.colums})')\n",
    "con.commit()"
   ]
  },
  {
   "cell_type": "code",
   "execution_count": null,
   "id": "9ad6f17c",
   "metadata": {},
   "outputs": [],
   "source": [
    "detail_result['page'] = detail_result['page'].apply(str)"
   ]
  },
  {
   "cell_type": "code",
   "execution_count": null,
   "id": "5c974374",
   "metadata": {},
   "outputs": [],
   "source": [
    "detail_result['weight'] = detail_result['weight'].apply(str)"
   ]
  },
  {
   "cell_type": "code",
   "execution_count": null,
   "id": "39d9f998",
   "metadata": {},
   "outputs": [],
   "source": [
    "detail_result['category'] = detail_result['category'].apply(str)"
   ]
  },
  {
   "cell_type": "code",
   "execution_count": null,
   "id": "bc0caf81",
   "metadata": {},
   "outputs": [],
   "source": [
    "detail_result.to_sql('yes24_best_202301', con, if_exists='append', index=False)"
   ]
  },
  {
   "cell_type": "code",
   "execution_count": null,
   "id": "1e5c3720",
   "metadata": {},
   "outputs": [],
   "source": [
    "cursor.execute(\n",
    "    '''\n",
    "    SELECT * FROM yes24_best_202301 limit 3;\n",
    "    ''')\n",
    "for row in cursor.fetchall():\n",
    "    print(row)"
   ]
  },
  {
   "cell_type": "markdown",
   "id": "fd66a509",
   "metadata": {},
   "source": [
    "# sqlalchemy를 이용하는 방법"
   ]
  },
  {
   "cell_type": "code",
   "execution_count": null,
   "id": "0ac5fe0d",
   "metadata": {},
   "outputs": [],
   "source": [
    "from sqlalchemy import create_engine\n",
    "engine = create_engine('sqlite:///sqlite3_yes24_best2023_01_sqlalchemy.db', echo= False)\n",
    "conn = engine.raw_connection()\n",
    "test = pd.read_sql('select * from yes24_best_202301_sqlalchemy limit 3', conn)\n",
    "test\n",
    "conn.close()"
   ]
  },
  {
   "cell_type": "code",
   "execution_count": null,
   "id": "afb336ec",
   "metadata": {},
   "outputs": [],
   "source": [
    "def ramentop20todb(df, today):\n",
    "    engine = create_engine(\"mysql+mysqldb://<id>:\"+\"<password>\"+\"@59.7.246.88:3306/ramen\", encoding='utf-8')\n",
    "    conn = engine.connect()\n",
    "    try:\n",
    "        df.to_sql(name='Top20s{}'.format(today), con=engine, if_exists='append', index=False)\n",
    "    except Exception as e:\n",
    "        print(e)\n",
    "    conn.close()\n",
    "    return print(\"DB saving has been completed\")"
   ]
  },
  {
   "cell_type": "code",
   "execution_count": null,
   "id": "36d29a71",
   "metadata": {},
   "outputs": [],
   "source": []
  },
  {
   "cell_type": "code",
   "execution_count": null,
   "id": "3d3a8462",
   "metadata": {},
   "outputs": [],
   "source": []
  },
  {
   "cell_type": "code",
   "execution_count": null,
   "id": "4f4e892c",
   "metadata": {},
   "outputs": [],
   "source": []
  }
 ],
 "metadata": {
  "kernelspec": {
   "display_name": "testenv",
   "language": "python",
   "name": "testenv"
  },
  "language_info": {
   "codemirror_mode": {
    "name": "ipython",
    "version": 3
   },
   "file_extension": ".py",
   "mimetype": "text/x-python",
   "name": "python",
   "nbconvert_exporter": "python",
   "pygments_lexer": "ipython3",
   "version": "3.8.17"
  }
 },
 "nbformat": 4,
 "nbformat_minor": 5
}
