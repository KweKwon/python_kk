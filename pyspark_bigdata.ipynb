{
 "cells": [
  {
   "cell_type": "code",
   "execution_count": 2,
   "id": "d16c37f8",
   "metadata": {},
   "outputs": [],
   "source": [
    "import pyspark.sql.functions as fn\n",
    "from pyspark.sql import SparkSession\n",
    "import time\n",
    "spark = SparkSession.builder.getOrCreate()"
   ]
  },
  {
   "cell_type": "code",
   "execution_count": 3,
   "id": "fcdf166f",
   "metadata": {},
   "outputs": [
    {
     "data": {
      "text/html": [
       "\n",
       "            <div>\n",
       "                <p><b>SparkSession - in-memory</b></p>\n",
       "                \n",
       "        <div>\n",
       "            <p><b>SparkContext</b></p>\n",
       "\n",
       "            <p><a href=\"http://hibigdata:4040\">Spark UI</a></p>\n",
       "\n",
       "            <dl>\n",
       "              <dt>Version</dt>\n",
       "                <dd><code>v3.3.3</code></dd>\n",
       "              <dt>Master</dt>\n",
       "                <dd><code>local[*]</code></dd>\n",
       "              <dt>AppName</dt>\n",
       "                <dd><code>pyspark-shell</code></dd>\n",
       "            </dl>\n",
       "        </div>\n",
       "        \n",
       "            </div>\n",
       "        "
      ],
      "text/plain": [
       "<pyspark.sql.session.SparkSession at 0x21f6a6c9a10>"
      ]
     },
     "execution_count": 3,
     "metadata": {},
     "output_type": "execute_result"
    }
   ],
   "source": [
    "spark"
   ]
  },
  {
   "cell_type": "code",
   "execution_count": null,
   "id": "6f20774a",
   "metadata": {
    "scrolled": false
   },
   "outputs": [],
   "source": [
    "start_time = time.time()\n",
    "df = spark.read.option(\"header\", True).option(\"inferSchema\", False).csv(\"../data/airline_on_time/2006.csv\")\n",
    "df.groupBy(df.Year, df.Month).agg(fn.count(df.FlightNum), fn.sum(df.ArrDelay), fn.avg(df.ArrDelay), fn.max(df.ArrDelay.cast(\"double\")), fn.min(df.ArrDelay.cast(\"double\"))).orderBy(df.Year.cast(\"integer\").asc(), df.Month.cast(\"integer\").asc()).toDF(\"Year\", \"Month\", \"FlightNum_Cnt\", \"ArrDelay_Sum\", \"ArrDelay_Avg\", \"ArrDelay_Max\", \"ArrDelay_Min\").show(1000)\n",
    "elapsed_time = time.time() - start_time\n",
    "print (time.strftime(\"%H:%M:%S\", time.gmtime(elapsed_time)))\n"
   ]
  },
  {
   "cell_type": "code",
   "execution_count": null,
   "id": "e64640c4",
   "metadata": {},
   "outputs": [],
   "source": [
    "spark"
   ]
  },
  {
   "cell_type": "code",
   "execution_count": null,
   "id": "c9c696d2",
   "metadata": {},
   "outputs": [],
   "source": [
    "# spark = SparkSession.builder.master('spark://spark-master:7077').getOrCreate()"
   ]
  },
  {
   "cell_type": "code",
   "execution_count": null,
   "id": "4d75949f",
   "metadata": {},
   "outputs": [],
   "source": [
    "start_time = time.time()\n",
    "df = spark.read.option(\"header\", True).option(\"inferSchema\", False).csv(\"../data/airline_on_time/*.csv\")\n",
    "df.groupBy(df.Year, df.Month).agg(fn.count(df.FlightNum), fn.sum(df.ArrDelay), fn.avg(df.ArrDelay), fn.max(df.ArrDelay.cast(\"double\")), fn.min(df.ArrDelay.cast(\"double\"))).orderBy(df.Year.cast(\"integer\").asc(), df.Month.cast(\"integer\").asc()).toDF(\"Year\", \"Month\", \"FlightNum_Cnt\", \"ArrDelay_Sum\", \"ArrDelay_Avg\", \"ArrDelay_Max\", \"ArrDelay_Min\").show(1000)\n",
    "elapsed_time = time.time() - start_time\n",
    "print (time.strftime(\"%H:%M:%S\", time.gmtime(elapsed_time)))"
   ]
  },
  {
   "cell_type": "code",
   "execution_count": null,
   "id": "2f1a1f73",
   "metadata": {},
   "outputs": [],
   "source": []
  },
  {
   "cell_type": "code",
   "execution_count": null,
   "id": "6692cada",
   "metadata": {},
   "outputs": [],
   "source": []
  },
  {
   "cell_type": "code",
   "execution_count": null,
   "id": "e7795bf0",
   "metadata": {},
   "outputs": [],
   "source": []
  }
 ],
 "metadata": {
  "kernelspec": {
   "display_name": "Python 3 (ipykernel)",
   "language": "python",
   "name": "python3"
  },
  "language_info": {
   "codemirror_mode": {
    "name": "ipython",
    "version": 3
   },
   "file_extension": ".py",
   "mimetype": "text/x-python",
   "name": "python",
   "nbconvert_exporter": "python",
   "pygments_lexer": "ipython3",
   "version": "3.11.5"
  }
 },
 "nbformat": 4,
 "nbformat_minor": 5
}
