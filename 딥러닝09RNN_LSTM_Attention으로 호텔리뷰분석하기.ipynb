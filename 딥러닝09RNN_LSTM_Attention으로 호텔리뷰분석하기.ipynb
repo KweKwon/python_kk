{
 "cells": [
  {
   "cell_type": "code",
   "execution_count": 1,
   "id": "78867325",
   "metadata": {},
   "outputs": [],
   "source": [
    "from tensorflow.keras.preprocessing.text import Tokenizer, text_to_word_sequence\n",
    "from tensorflow.keras.preprocessing.sequence import pad_sequences\n",
    "from tensorflow.keras.models import Sequential\n",
    "from tensorflow.keras.layers import Dense, Flatten, Embedding\n",
    "from tensorflow.keras.callbacks import ModelCheckpoint, EarlyStopping\n",
    "from tensorflow.keras.utils import to_categorical\n",
    "from numpy import array"
   ]
  },
  {
   "cell_type": "code",
   "execution_count": 2,
   "id": "e7a3b5cc",
   "metadata": {},
   "outputs": [],
   "source": [
    "import pandas as pd\n",
    "import numpy as np\n",
    "import matplotlib.pyplot as plt\n",
    "import seaborn as sns\n",
    "import koreanize_matplotlib\n",
    "import os"
   ]
  },
  {
   "cell_type": "code",
   "execution_count": 3,
   "id": "b99c40d2",
   "metadata": {},
   "outputs": [
    {
     "data": {
      "text/html": [
       "<div>\n",
       "<style scoped>\n",
       "    .dataframe tbody tr th:only-of-type {\n",
       "        vertical-align: middle;\n",
       "    }\n",
       "\n",
       "    .dataframe tbody tr th {\n",
       "        vertical-align: top;\n",
       "    }\n",
       "\n",
       "    .dataframe thead th {\n",
       "        text-align: right;\n",
       "    }\n",
       "</style>\n",
       "<table border=\"1\" class=\"dataframe\">\n",
       "  <thead>\n",
       "    <tr style=\"text-align: right;\">\n",
       "      <th></th>\n",
       "      <th>Unnamed: 0.1</th>\n",
       "      <th>Unnamed: 0</th>\n",
       "      <th>hotelId</th>\n",
       "      <th>hotelName</th>\n",
       "      <th>tripType</th>\n",
       "      <th>tripTypeText</th>\n",
       "      <th>reviewDate</th>\n",
       "      <th>rating</th>\n",
       "      <th>description</th>\n",
       "      <th>isKorNot</th>\n",
       "    </tr>\n",
       "  </thead>\n",
       "  <tbody>\n",
       "    <tr>\n",
       "      <th>0</th>\n",
       "      <td>0</td>\n",
       "      <td>356</td>\n",
       "      <td>105343</td>\n",
       "      <td>서울 웨스틴조선호텔 (The Westin Chosun Seoul)</td>\n",
       "      <td>family</td>\n",
       "      <td>1박 가족 여행</td>\n",
       "      <td>2019년 1월 26일</td>\n",
       "      <td>10.0</td>\n",
       "      <td>직원들 서비스나 마인드 완벽합니다 다만 노후된 시설과 좁은 라운지가 호텔 이름에 비...</td>\n",
       "      <td>True</td>\n",
       "    </tr>\n",
       "    <tr>\n",
       "      <th>1</th>\n",
       "      <td>1</td>\n",
       "      <td>357</td>\n",
       "      <td>105343</td>\n",
       "      <td>서울 웨스틴조선호텔 (The Westin Chosun Seoul)</td>\n",
       "      <td>family</td>\n",
       "      <td>1박 가족 여행</td>\n",
       "      <td>2019년 2월 4일</td>\n",
       "      <td>10.0</td>\n",
       "      <td>웨스틴조선은 모든면에서 최고의 숙소라고 생각합니다 분위기 편의성 직원친절도까지 모두...</td>\n",
       "      <td>True</td>\n",
       "    </tr>\n",
       "  </tbody>\n",
       "</table>\n",
       "</div>"
      ],
      "text/plain": [
       "   Unnamed: 0.1  Unnamed: 0  hotelId                             hotelName  \\\n",
       "0             0         356   105343  서울 웨스틴조선호텔 (The Westin Chosun Seoul)   \n",
       "1             1         357   105343  서울 웨스틴조선호텔 (The Westin Chosun Seoul)   \n",
       "\n",
       "  tripType tripTypeText    reviewDate  rating  \\\n",
       "0   family     1박 가족 여행  2019년 1월 26일    10.0   \n",
       "1   family     1박 가족 여행   2019년 2월 4일    10.0   \n",
       "\n",
       "                                         description  isKorNot  \n",
       "0  직원들 서비스나 마인드 완벽합니다 다만 노후된 시설과 좁은 라운지가 호텔 이름에 비...      True  \n",
       "1  웨스틴조선은 모든면에서 최고의 숙소라고 생각합니다 분위기 편의성 직원친절도까지 모두...      True  "
      ]
     },
     "execution_count": 3,
     "metadata": {},
     "output_type": "execute_result"
    }
   ],
   "source": [
    "data = pd.read_csv(\"https://raw.githubusercontent.com/haram4th/ablearn/main/hotel_review_75000.csv\")\n",
    "data.head(2)"
   ]
  },
  {
   "cell_type": "code",
   "execution_count": 4,
   "id": "3b9b8e2b",
   "metadata": {},
   "outputs": [
    {
     "data": {
      "text/plain": [
       "Index(['Unnamed: 0.1', 'Unnamed: 0', 'hotelId', 'hotelName', 'tripType',\n",
       "       'tripTypeText', 'reviewDate', 'rating', 'description', 'isKorNot'],\n",
       "      dtype='object')"
      ]
     },
     "execution_count": 4,
     "metadata": {},
     "output_type": "execute_result"
    }
   ],
   "source": [
    "data.columns"
   ]
  },
  {
   "cell_type": "code",
   "execution_count": 5,
   "id": "6c29413d",
   "metadata": {},
   "outputs": [],
   "source": [
    "data = data[['rating', 'description']]"
   ]
  },
  {
   "cell_type": "code",
   "execution_count": 6,
   "id": "760163ba",
   "metadata": {},
   "outputs": [
    {
     "name": "stdout",
     "output_type": "stream",
     "text": [
      "<class 'pandas.core.frame.DataFrame'>\n",
      "RangeIndex: 75000 entries, 0 to 74999\n",
      "Data columns (total 2 columns):\n",
      " #   Column       Non-Null Count  Dtype  \n",
      "---  ------       --------------  -----  \n",
      " 0   rating       75000 non-null  float64\n",
      " 1   description  75000 non-null  object \n",
      "dtypes: float64(1), object(1)\n",
      "memory usage: 1.1+ MB\n"
     ]
    }
   ],
   "source": [
    "data.info()"
   ]
  },
  {
   "cell_type": "markdown",
   "id": "35fe03c3",
   "metadata": {},
   "source": [
    "* rating 8 이상이면 긍정 1, 미만은 부정 0 으로 해서 target 컬럼 생성\n",
    "* description컬럼 토크나이징, 시퀀스로 변환, 임베딩\n",
    "* train, valid, test로 데이터 분할\n",
    "* 딥러닝 네트워크 생성 후 분석\n",
    "* early_stopping, modelcheckpoint\n",
    "* 그래프로 loss 출력"
   ]
  },
  {
   "cell_type": "code",
   "execution_count": 7,
   "id": "ba9ad284",
   "metadata": {},
   "outputs": [
    {
     "data": {
      "text/html": [
       "<div>\n",
       "<style scoped>\n",
       "    .dataframe tbody tr th:only-of-type {\n",
       "        vertical-align: middle;\n",
       "    }\n",
       "\n",
       "    .dataframe tbody tr th {\n",
       "        vertical-align: top;\n",
       "    }\n",
       "\n",
       "    .dataframe thead th {\n",
       "        text-align: right;\n",
       "    }\n",
       "</style>\n",
       "<table border=\"1\" class=\"dataframe\">\n",
       "  <thead>\n",
       "    <tr style=\"text-align: right;\">\n",
       "      <th></th>\n",
       "      <th>rating</th>\n",
       "      <th>description</th>\n",
       "    </tr>\n",
       "  </thead>\n",
       "  <tbody>\n",
       "    <tr>\n",
       "      <th>0</th>\n",
       "      <td>10.0</td>\n",
       "      <td>직원들 서비스나 마인드 완벽합니다 다만 노후된 시설과 좁은 라운지가 호텔 이름에 비...</td>\n",
       "    </tr>\n",
       "    <tr>\n",
       "      <th>1</th>\n",
       "      <td>10.0</td>\n",
       "      <td>웨스틴조선은 모든면에서 최고의 숙소라고 생각합니다 분위기 편의성 직원친절도까지 모두...</td>\n",
       "    </tr>\n",
       "  </tbody>\n",
       "</table>\n",
       "</div>"
      ],
      "text/plain": [
       "   rating                                        description\n",
       "0    10.0  직원들 서비스나 마인드 완벽합니다 다만 노후된 시설과 좁은 라운지가 호텔 이름에 비...\n",
       "1    10.0  웨스틴조선은 모든면에서 최고의 숙소라고 생각합니다 분위기 편의성 직원친절도까지 모두..."
      ]
     },
     "execution_count": 7,
     "metadata": {},
     "output_type": "execute_result"
    }
   ],
   "source": [
    "data.head(2)"
   ]
  },
  {
   "cell_type": "code",
   "execution_count": 8,
   "id": "75399e26",
   "metadata": {},
   "outputs": [],
   "source": [
    "data['target'] = data['rating'].apply(lambda x: 1 if x >=8 else 0)"
   ]
  },
  {
   "cell_type": "code",
   "execution_count": 9,
   "id": "a6274323",
   "metadata": {},
   "outputs": [
    {
     "data": {
      "text/html": [
       "<div>\n",
       "<style scoped>\n",
       "    .dataframe tbody tr th:only-of-type {\n",
       "        vertical-align: middle;\n",
       "    }\n",
       "\n",
       "    .dataframe tbody tr th {\n",
       "        vertical-align: top;\n",
       "    }\n",
       "\n",
       "    .dataframe thead th {\n",
       "        text-align: right;\n",
       "    }\n",
       "</style>\n",
       "<table border=\"1\" class=\"dataframe\">\n",
       "  <thead>\n",
       "    <tr style=\"text-align: right;\">\n",
       "      <th></th>\n",
       "      <th>rating</th>\n",
       "      <th>description</th>\n",
       "      <th>target</th>\n",
       "    </tr>\n",
       "  </thead>\n",
       "  <tbody>\n",
       "    <tr>\n",
       "      <th>0</th>\n",
       "      <td>10.0</td>\n",
       "      <td>직원들 서비스나 마인드 완벽합니다 다만 노후된 시설과 좁은 라운지가 호텔 이름에 비...</td>\n",
       "      <td>1</td>\n",
       "    </tr>\n",
       "    <tr>\n",
       "      <th>1</th>\n",
       "      <td>10.0</td>\n",
       "      <td>웨스틴조선은 모든면에서 최고의 숙소라고 생각합니다 분위기 편의성 직원친절도까지 모두...</td>\n",
       "      <td>1</td>\n",
       "    </tr>\n",
       "    <tr>\n",
       "      <th>2</th>\n",
       "      <td>10.0</td>\n",
       "      <td>서울시내에서 호캉스를 누릴 수 있는 곳아침 뷔페가 맛있는 곳룸서비스가 좋았음요구사항...</td>\n",
       "      <td>1</td>\n",
       "    </tr>\n",
       "    <tr>\n",
       "      <th>3</th>\n",
       "      <td>10.0</td>\n",
       "      <td>가격에 맞게 만족했습니다</td>\n",
       "      <td>1</td>\n",
       "    </tr>\n",
       "    <tr>\n",
       "      <th>4</th>\n",
       "      <td>10.0</td>\n",
       "      <td>처음 세명으로 셋팅 되어있지 않은점 빼고는 직원들의 친절도 및 서비스는 모두 맘에 ...</td>\n",
       "      <td>1</td>\n",
       "    </tr>\n",
       "  </tbody>\n",
       "</table>\n",
       "</div>"
      ],
      "text/plain": [
       "   rating                                        description  target\n",
       "0    10.0  직원들 서비스나 마인드 완벽합니다 다만 노후된 시설과 좁은 라운지가 호텔 이름에 비...       1\n",
       "1    10.0  웨스틴조선은 모든면에서 최고의 숙소라고 생각합니다 분위기 편의성 직원친절도까지 모두...       1\n",
       "2    10.0  서울시내에서 호캉스를 누릴 수 있는 곳아침 뷔페가 맛있는 곳룸서비스가 좋았음요구사항...       1\n",
       "3    10.0                                      가격에 맞게 만족했습니다       1\n",
       "4    10.0  처음 세명으로 셋팅 되어있지 않은점 빼고는 직원들의 친절도 및 서비스는 모두 맘에 ...       1"
      ]
     },
     "execution_count": 9,
     "metadata": {},
     "output_type": "execute_result"
    }
   ],
   "source": [
    "data.head()"
   ]
  },
  {
   "cell_type": "code",
   "execution_count": 10,
   "id": "f22d48c9",
   "metadata": {},
   "outputs": [
    {
     "data": {
      "text/plain": [
       "pandas.core.series.Series"
      ]
     },
     "execution_count": 10,
     "metadata": {},
     "output_type": "execute_result"
    }
   ],
   "source": [
    "type(data['description']) # 리스트, np.array"
   ]
  },
  {
   "cell_type": "code",
   "execution_count": 11,
   "id": "99997d48",
   "metadata": {},
   "outputs": [],
   "source": [
    "text = data['description'][0]"
   ]
  },
  {
   "cell_type": "code",
   "execution_count": 12,
   "id": "c33a2be9",
   "metadata": {},
   "outputs": [
    {
     "name": "stdout",
     "output_type": "stream",
     "text": [
      "원문:  직원들 서비스나 마인드 완벽합니다 다만 노후된 시설과 좁은 라운지가 호텔 이름에 비해 약간 부족합니다\n",
      "토큰화:  ['직원들', '서비스나', '마인드', '완벽합니다', '다만', '노후된', '시설과', '좁은', '라운지가', '호텔', '이름에', '비해', '약간', '부족합니다']\n"
     ]
    }
   ],
   "source": [
    "result = text_to_word_sequence(data['description'][0])\n",
    "print(\"원문: \", text)\n",
    "print(\"토큰화: \", result) #토큰, 코퍼스(corpus)"
   ]
  },
  {
   "cell_type": "code",
   "execution_count": 13,
   "id": "15b08d94",
   "metadata": {},
   "outputs": [],
   "source": [
    "# 단어 빈도수 세기\n",
    "docs = data['description']"
   ]
  },
  {
   "cell_type": "markdown",
   "id": "81b32e00",
   "metadata": {},
   "source": [
    "## 토크나이저 사용법"
   ]
  },
  {
   "cell_type": "code",
   "execution_count": 14,
   "id": "a746e861",
   "metadata": {},
   "outputs": [],
   "source": [
    "# 문장 토큰화 하기\n",
    "token = Tokenizer(lower=False)\n",
    "token.fit_on_texts(docs)"
   ]
  },
  {
   "cell_type": "code",
   "execution_count": 15,
   "id": "0aca6453",
   "metadata": {},
   "outputs": [
    {
     "name": "stderr",
     "output_type": "stream",
     "text": [
      "IOPub data rate exceeded.\n",
      "The notebook server will temporarily stop sending output\n",
      "to the client in order to avoid crashing it.\n",
      "To change this limit, set the config variable\n",
      "`--NotebookApp.iopub_data_rate_limit`.\n",
      "\n",
      "Current values:\n",
      "NotebookApp.iopub_data_rate_limit=1000000.0 (bytes/sec)\n",
      "NotebookApp.rate_limit_window=3.0 (secs)\n",
      "\n"
     ]
    }
   ],
   "source": [
    "print('단어 카운트: ', token.word_counts)"
   ]
  },
  {
   "cell_type": "code",
   "execution_count": 16,
   "id": "70a65144",
   "metadata": {},
   "outputs": [
    {
     "name": "stdout",
     "output_type": "stream",
     "text": [
      "문장 카운트: 75000\n"
     ]
    }
   ],
   "source": [
    "print('문장 카운트:', token.document_count)"
   ]
  },
  {
   "cell_type": "code",
   "execution_count": 17,
   "id": "876eef98",
   "metadata": {},
   "outputs": [
    {
     "name": "stderr",
     "output_type": "stream",
     "text": [
      "IOPub data rate exceeded.\n",
      "The notebook server will temporarily stop sending output\n",
      "to the client in order to avoid crashing it.\n",
      "To change this limit, set the config variable\n",
      "`--NotebookApp.iopub_data_rate_limit`.\n",
      "\n",
      "Current values:\n",
      "NotebookApp.iopub_data_rate_limit=1000000.0 (bytes/sec)\n",
      "NotebookApp.rate_limit_window=3.0 (secs)\n",
      "\n"
     ]
    }
   ],
   "source": [
    "print('각 단어가 몇 개의 문장에 포함되어 있는가? ', token.word_docs)"
   ]
  },
  {
   "cell_type": "code",
   "execution_count": 18,
   "id": "a5021f51",
   "metadata": {},
   "outputs": [
    {
     "name": "stderr",
     "output_type": "stream",
     "text": [
      "IOPub data rate exceeded.\n",
      "The notebook server will temporarily stop sending output\n",
      "to the client in order to avoid crashing it.\n",
      "To change this limit, set the config variable\n",
      "`--NotebookApp.iopub_data_rate_limit`.\n",
      "\n",
      "Current values:\n",
      "NotebookApp.iopub_data_rate_limit=1000000.0 (bytes/sec)\n",
      "NotebookApp.rate_limit_window=3.0 (secs)\n",
      "\n"
     ]
    }
   ],
   "source": [
    "print('각 단어에 매겨진 인덱스:', token.word_index)"
   ]
  },
  {
   "cell_type": "code",
   "execution_count": 19,
   "id": "81c86917",
   "metadata": {},
   "outputs": [
    {
     "data": {
      "text/plain": [
       "261893"
      ]
     },
     "execution_count": 19,
     "metadata": {},
     "output_type": "execute_result"
    }
   ],
   "source": [
    "len(token.word_index)"
   ]
  },
  {
   "cell_type": "markdown",
   "id": "080d3e37",
   "metadata": {},
   "source": [
    "## 단어의 원-핫 인코딩"
   ]
  },
  {
   "cell_type": "code",
   "execution_count": 20,
   "id": "31fb686a",
   "metadata": {},
   "outputs": [
    {
     "name": "stdout",
     "output_type": "stream",
     "text": [
      "{'직원들': 1, '서비스나': 2, '마인드': 3, '완벽합니다': 4, '다만': 5, '노후된': 6, '시설과': 7, '좁은': 8, '라운지가': 9, '호텔': 10, '이름에': 11, '비해': 12, '약간': 13, '부족합니다': 14}\n"
     ]
    }
   ],
   "source": [
    "text = data['description'][0]\n",
    "token = Tokenizer(lower=False)\n",
    "token.fit_on_texts([text])\n",
    "print(token.word_index)"
   ]
  },
  {
   "cell_type": "code",
   "execution_count": 21,
   "id": "6badbad4",
   "metadata": {},
   "outputs": [],
   "source": [
    "# 단어를 벡터로 변환\n",
    "x = token.texts_to_sequences([text])"
   ]
  },
  {
   "cell_type": "code",
   "execution_count": 22,
   "id": "44265045",
   "metadata": {},
   "outputs": [
    {
     "data": {
      "text/plain": [
       "14"
      ]
     },
     "execution_count": 22,
     "metadata": {},
     "output_type": "execute_result"
    }
   ],
   "source": [
    "len(token.word_index)"
   ]
  },
  {
   "cell_type": "code",
   "execution_count": 23,
   "id": "d0d5853a",
   "metadata": {},
   "outputs": [],
   "source": [
    "# 인덱스에 1을 추가해서 원-핫 인코딩 배열 만들기\n",
    "word_size = len(token.word_index) + 1"
   ]
  },
  {
   "cell_type": "code",
   "execution_count": 24,
   "id": "7106acd8",
   "metadata": {},
   "outputs": [
    {
     "name": "stdout",
     "output_type": "stream",
     "text": [
      "[[[0. 1. 0. 0. 0. 0. 0. 0. 0. 0. 0. 0. 0. 0. 0.]\n",
      "  [0. 0. 1. 0. 0. 0. 0. 0. 0. 0. 0. 0. 0. 0. 0.]\n",
      "  [0. 0. 0. 1. 0. 0. 0. 0. 0. 0. 0. 0. 0. 0. 0.]\n",
      "  [0. 0. 0. 0. 1. 0. 0. 0. 0. 0. 0. 0. 0. 0. 0.]\n",
      "  [0. 0. 0. 0. 0. 1. 0. 0. 0. 0. 0. 0. 0. 0. 0.]\n",
      "  [0. 0. 0. 0. 0. 0. 1. 0. 0. 0. 0. 0. 0. 0. 0.]\n",
      "  [0. 0. 0. 0. 0. 0. 0. 1. 0. 0. 0. 0. 0. 0. 0.]\n",
      "  [0. 0. 0. 0. 0. 0. 0. 0. 1. 0. 0. 0. 0. 0. 0.]\n",
      "  [0. 0. 0. 0. 0. 0. 0. 0. 0. 1. 0. 0. 0. 0. 0.]\n",
      "  [0. 0. 0. 0. 0. 0. 0. 0. 0. 0. 1. 0. 0. 0. 0.]\n",
      "  [0. 0. 0. 0. 0. 0. 0. 0. 0. 0. 0. 1. 0. 0. 0.]\n",
      "  [0. 0. 0. 0. 0. 0. 0. 0. 0. 0. 0. 0. 1. 0. 0.]\n",
      "  [0. 0. 0. 0. 0. 0. 0. 0. 0. 0. 0. 0. 0. 1. 0.]\n",
      "  [0. 0. 0. 0. 0. 0. 0. 0. 0. 0. 0. 0. 0. 0. 1.]]]\n"
     ]
    }
   ],
   "source": [
    "x = to_categorical(x, num_classes=word_size)\n",
    "print(x)"
   ]
  },
  {
   "cell_type": "code",
   "execution_count": 25,
   "id": "33c8129e",
   "metadata": {},
   "outputs": [
    {
     "data": {
      "text/plain": [
       "(1, 14, 15)"
      ]
     },
     "execution_count": 25,
     "metadata": {},
     "output_type": "execute_result"
    }
   ],
   "source": [
    "x.shape"
   ]
  },
  {
   "cell_type": "markdown",
   "id": "20dc2259",
   "metadata": {},
   "source": [
    "## 텍스트를 읽고 긍정, 부정 예측하기"
   ]
  },
  {
   "cell_type": "code",
   "execution_count": 26,
   "id": "d949bcc0",
   "metadata": {},
   "outputs": [],
   "source": [
    "docs = data['description']\n",
    "\n",
    "# 긍정 리뷰는 1, 부정리뷰는 0으로 클래스 지정\n",
    "classes = array(data['target'])"
   ]
  },
  {
   "cell_type": "code",
   "execution_count": 27,
   "id": "8a871db6",
   "metadata": {},
   "outputs": [
    {
     "data": {
      "text/plain": [
       "array([1, 1, 1, ..., 1, 1, 0], dtype=int64)"
      ]
     },
     "execution_count": 27,
     "metadata": {},
     "output_type": "execute_result"
    }
   ],
   "source": [
    "classes"
   ]
  },
  {
   "cell_type": "code",
   "execution_count": 28,
   "id": "d26148fc",
   "metadata": {},
   "outputs": [
    {
     "data": {
      "text/plain": [
       "261893"
      ]
     },
     "execution_count": 28,
     "metadata": {},
     "output_type": "execute_result"
    }
   ],
   "source": [
    "# 토큰화\n",
    "token = Tokenizer(lower=False)\n",
    "token.fit_on_texts(docs)\n",
    "len(token.word_index)"
   ]
  },
  {
   "cell_type": "code",
   "execution_count": 29,
   "id": "bb01d8f2",
   "metadata": {},
   "outputs": [
    {
     "name": "stderr",
     "output_type": "stream",
     "text": [
      "IOPub data rate exceeded.\n",
      "The notebook server will temporarily stop sending output\n",
      "to the client in order to avoid crashing it.\n",
      "To change this limit, set the config variable\n",
      "`--NotebookApp.iopub_data_rate_limit`.\n",
      "\n",
      "Current values:\n",
      "NotebookApp.iopub_data_rate_limit=1000000.0 (bytes/sec)\n",
      "NotebookApp.rate_limit_window=3.0 (secs)\n",
      "\n"
     ]
    }
   ],
   "source": [
    "# 원핫인코딩\n",
    "x = token.texts_to_sequences(docs)\n",
    "print(x)"
   ]
  },
  {
   "cell_type": "code",
   "execution_count": 30,
   "id": "81461092",
   "metadata": {},
   "outputs": [
    {
     "data": {
      "text/plain": [
       "0        [268, 1162, 5870, 5689, 26, 1875, 661, 581, 48...\n",
       "1        [67077, 1725, 308, 4636, 488, 566, 6066, 67078...\n",
       "2        [21641, 1628, 8335, 7, 17, 42175, 3242, 849, 6...\n",
       "3                                         [117, 2276, 178]\n",
       "4        [214, 42176, 12702, 2929, 21643, 224, 326, 110...\n",
       "                               ...                        \n",
       "74995    [2226, 47880, 261879, 6346, 507, 261880, 26188...\n",
       "74996    [216, 16, 261888, 136, 21461, 93, 4619, 9183, ...\n",
       "74997    [27422, 20, 321, 261889, 4, 1159, 14804, 34736...\n",
       "74998    [407, 67, 1, 47, 896, 973, 1440, 196, 38, 2287...\n",
       "74999    [203, 1800, 57849, 12186, 165, 261892, 4611, 4...\n",
       "Length: 75000, dtype: object"
      ]
     },
     "execution_count": 30,
     "metadata": {},
     "output_type": "execute_result"
    }
   ],
   "source": [
    "x2 = pd.Series(x)\n",
    "x2"
   ]
  },
  {
   "cell_type": "code",
   "execution_count": 31,
   "id": "86bce96d",
   "metadata": {},
   "outputs": [
    {
     "data": {
      "text/plain": [
       "377"
      ]
     },
     "execution_count": 31,
     "metadata": {},
     "output_type": "execute_result"
    }
   ],
   "source": [
    "x2_len = x2.apply(len)\n",
    "x2_len.max()"
   ]
  },
  {
   "cell_type": "code",
   "execution_count": 32,
   "id": "c1a926fc",
   "metadata": {},
   "outputs": [
    {
     "name": "stdout",
     "output_type": "stream",
     "text": [
      "패딩 결과 [[     0      0      0 ...    101     83   2604]\n",
      " [     0      0      0 ...  67078     31   3858]\n",
      " [     0      0      0 ...  67082    665   4111]\n",
      " ...\n",
      " [     0      0      0 ...    195  42071  39796]\n",
      " [     0      0      0 ... 261891    502    437]\n",
      " [     0      0      0 ...   3199   8900     64]]\n"
     ]
    }
   ],
   "source": [
    "# 패딩 추가 pad_sequences(데이터, 가장 긴 문장의 길이)\n",
    "padded_x = pad_sequences(x, 377)\n",
    "print(\"패딩 결과\", padded_x )"
   ]
  },
  {
   "cell_type": "code",
   "execution_count": 33,
   "id": "ea2b10bb",
   "metadata": {},
   "outputs": [],
   "source": [
    "#임베딩에 입력된 단어의 수 지정\n",
    "word_size = len(token.word_index) + 1"
   ]
  },
  {
   "cell_type": "code",
   "execution_count": 34,
   "id": "377ee015",
   "metadata": {},
   "outputs": [],
   "source": [
    "from sklearn.model_selection import train_test_split\n",
    "X_train, X_test, y_train, y_test = train_test_split(padded_x, classes, test_size=0.4, random_state=7)\n",
    "X_valid, X_test, y_valid, y_test = train_test_split(X_test, y_test, test_size=0.5, random_state=7)"
   ]
  },
  {
   "cell_type": "code",
   "execution_count": 36,
   "id": "e377f989",
   "metadata": {},
   "outputs": [
    {
     "data": {
      "text/plain": [
       "261894"
      ]
     },
     "execution_count": 36,
     "metadata": {},
     "output_type": "execute_result"
    }
   ],
   "source": [
    "word_size"
   ]
  },
  {
   "cell_type": "code",
   "execution_count": 37,
   "id": "341e9b7d",
   "metadata": {},
   "outputs": [
    {
     "name": "stdout",
     "output_type": "stream",
     "text": [
      "Model: \"sequential\"\n",
      "_________________________________________________________________\n",
      " Layer (type)                Output Shape              Param #   \n",
      "=================================================================\n",
      " embedding (Embedding)       (None, 377, 32)           8380608   \n",
      "                                                                 \n",
      " flatten (Flatten)           (None, 12064)             0         \n",
      "                                                                 \n",
      " dense (Dense)               (None, 1)                 12065     \n",
      "                                                                 \n",
      "=================================================================\n",
      "Total params: 8,392,673\n",
      "Trainable params: 8,392,673\n",
      "Non-trainable params: 0\n",
      "_________________________________________________________________\n"
     ]
    }
   ],
   "source": [
    "# 단어 임베딩을 포함해서 딥러닝 모델 생성\n",
    "model = Sequential()\n",
    "model.add(Embedding(word_size, 32, input_length=377)) \n",
    "model.add(Flatten())\n",
    "model.add(Dense(1, activation='sigmoid'))\n",
    "model.summary()"
   ]
  },
  {
   "cell_type": "code",
   "execution_count": 38,
   "id": "5b0da717",
   "metadata": {},
   "outputs": [],
   "source": [
    "modelpath = \"./model/{epoch:02d}-{val_accuracy:.4f}.hdf5\"\n",
    "checkpointer = ModelCheckpoint(filepath=modelpath, monitor='val_loss', verbose=1, save_best_only=True)\n",
    "early_stopping_callback = EarlyStopping(monitor='val_loss', patience=2)"
   ]
  },
  {
   "cell_type": "code",
   "execution_count": 39,
   "id": "3ebd12a3",
   "metadata": {},
   "outputs": [
    {
     "name": "stdout",
     "output_type": "stream",
     "text": [
      "Epoch 1/5\n",
      "1404/1407 [============================>.] - ETA: 0s - loss: 0.3649 - accuracy: 0.8388\n",
      "Epoch 1: val_loss improved from inf to 0.31401, saving model to ./model\\01-0.8631.hdf5\n",
      "1407/1407 [==============================] - 24s 17ms/step - loss: 0.3648 - accuracy: 0.8388 - val_loss: 0.3140 - val_accuracy: 0.8631\n",
      "Epoch 2/5\n",
      "1406/1407 [============================>.] - ETA: 0s - loss: 0.1788 - accuracy: 0.9347\n",
      "Epoch 2: val_loss did not improve from 0.31401\n",
      "1407/1407 [==============================] - 23s 16ms/step - loss: 0.1788 - accuracy: 0.9347 - val_loss: 0.3391 - val_accuracy: 0.8659\n",
      "Epoch 3/5\n",
      "1405/1407 [============================>.] - ETA: 0s - loss: 0.0766 - accuracy: 0.9766\n",
      "Epoch 3: val_loss did not improve from 0.31401\n",
      "1407/1407 [==============================] - 23s 16ms/step - loss: 0.0766 - accuracy: 0.9766 - val_loss: 0.3961 - val_accuracy: 0.8574\n",
      "469/469 [==============================] - 1s 3ms/step - loss: 0.3987 - accuracy: 0.8536\n",
      "Accuracy:  0.853600025177002\n"
     ]
    }
   ],
   "source": [
    "model.compile(loss= 'binary_crossentropy', optimizer='adam', metrics=['accuracy'])\n",
    "history = model.fit(X_train, y_train, epochs=5, validation_data=(X_valid, y_valid), \n",
    "                   callbacks=[checkpointer, early_stopping_callback])\n",
    "print('Accuracy: ', model.evaluate(X_test, y_test)[1])"
   ]
  },
  {
   "cell_type": "code",
   "execution_count": 40,
   "id": "d8e6d530",
   "metadata": {},
   "outputs": [],
   "source": [
    "def plt_show(x):\n",
    "    y_val_loss = history.history['val_loss']\n",
    "    y_loss = history.history['loss']\n",
    "    x_len = np.arange(len(y_loss))\n",
    "    plt.plot(x_len, y_val_loss, marker='.', c=\"red\", label='Testset_loss')\n",
    "    plt.plot(x_len, y_loss, marker='.', c=\"blue\", label='trainset_loss')\n",
    "    plt.legend(loc='upper right')\n",
    "    plt.grid()\n",
    "    plt.xlabel('epoch')\n",
    "    plt.ylabel('loss')\n",
    "    plt.show()"
   ]
  },
  {
   "cell_type": "code",
   "execution_count": 41,
   "id": "16d7b688",
   "metadata": {},
   "outputs": [
    {
     "data": {
      "image/png": "[encoded data removed]",
      "text/plain": [
       "<Figure size 640x480 with 1 Axes>"
      ]
     },
     "metadata": {},
     "output_type": "display_data"
    }
   ],
   "source": [
    "plt_show(history)"
   ]
  },
  {
   "cell_type": "markdown",
   "id": "75b52b9f",
   "metadata": {},
   "source": [
    "## RNN, LSTM 텍스트 분석하기\n",
    "* RNN(Recurrent Neural Network) 시간적으로 연속성이 있는 데이터를 처리하려고 만든 인공 신경망\n",
    "* 이전 은닉층이 현재 은닉층의 입력이 되면서 '반복되는 순환 구조를 갖음'\n",
    "* RNN의 가장 큰 차이점은 기억(memory)을 갖는 신경망\n",
    "* 텍스트 분석, 시계열 데이터 분석에 활용"
   ]
  },
  {
   "cell_type": "markdown",
   "id": "8e6ad8df",
   "metadata": {},
   "source": [
    "## LSTM\n",
    "* RNN은 입력이 길어지면 가장 먼저 입력된 정보를 잊어버림 (기울기 소실)\n",
    "* 기울기 소멸 문제를 해결하기 위해 망각 게이트, 입력 게이트, 출력 게이트 추가\n",
    "* 정보가 소실되지 않고 계속 기억되도록 함."
   ]
  },
  {
   "cell_type": "code",
   "execution_count": 42,
   "id": "d7eb2442",
   "metadata": {},
   "outputs": [],
   "source": [
    "from tensorflow.keras.layers import LSTM"
   ]
  },
  {
   "cell_type": "code",
   "execution_count": 43,
   "id": "81a7246b",
   "metadata": {},
   "outputs": [
    {
     "name": "stdout",
     "output_type": "stream",
     "text": [
      "Model: \"sequential_1\"\n",
      "_________________________________________________________________\n",
      " Layer (type)                Output Shape              Param #   \n",
      "=================================================================\n",
      " embedding_1 (Embedding)     (None, 377, 32)           8380608   \n",
      "                                                                 \n",
      " lstm (LSTM)                 (None, 377)               618280    \n",
      "                                                                 \n",
      " dense_1 (Dense)             (None, 1)                 378       \n",
      "                                                                 \n",
      "=================================================================\n",
      "Total params: 8,999,266\n",
      "Trainable params: 8,999,266\n",
      "Non-trainable params: 0\n",
      "_________________________________________________________________\n"
     ]
    }
   ],
   "source": [
    "model = Sequential()\n",
    "model.add(Embedding(word_size, 32, input_length=377))\n",
    "model.add(LSTM(377, activation='tanh')) # LSTM에서는 하이퍼볼릭 탄젠트 활성화 함수를 사용\n",
    "model.add(Dense(1, activation='sigmoid'))\n",
    "model.summary()"
   ]
  },
  {
   "cell_type": "code",
   "execution_count": 44,
   "id": "e52046fd",
   "metadata": {},
   "outputs": [
    {
     "name": "stdout",
     "output_type": "stream",
     "text": [
      "Epoch 1/5\n",
      "1407/1407 [==============================] - 131s 83ms/step - loss: 0.3560 - accuracy: 0.8467 - val_loss: 0.3160 - val_accuracy: 0.8738\n",
      "Epoch 2/5\n",
      "1407/1407 [==============================] - 123s 87ms/step - loss: 0.1551 - accuracy: 0.9455 - val_loss: 0.3883 - val_accuracy: 0.8415\n",
      "Epoch 3/5\n",
      "1407/1407 [==============================] - 127s 90ms/step - loss: 0.0594 - accuracy: 0.9811 - val_loss: 0.5353 - val_accuracy: 0.8471\n",
      "Epoch 4/5\n",
      "1407/1407 [==============================] - 120s 85ms/step - loss: 0.0330 - accuracy: 0.9895 - val_loss: 0.5489 - val_accuracy: 0.8345\n",
      "Epoch 5/5\n",
      "1407/1407 [==============================] - 121s 86ms/step - loss: 0.0247 - accuracy: 0.9923 - val_loss: 0.6926 - val_accuracy: 0.8397\n",
      "469/469 [==============================] - 14s 30ms/step - loss: 0.7130 - accuracy: 0.8336\n",
      "Accuracy:  0.8335999846458435\n"
     ]
    },
    {
     "data": {
      "image/png": "[encoded data removed]",
      "text/plain": [
       "<Figure size 640x480 with 1 Axes>"
      ]
     },
     "metadata": {},
     "output_type": "display_data"
    }
   ],
   "source": [
    "modelpath = \"./model/{epoch:02d}-{val_accuracy:.4f}.hdf5\"\n",
    "checkpointer = ModelCheckpoint(filepath=modelpath, monitor='val_loss', verbose=1, save_best_only=True)\n",
    "early_stopping_callback = EarlyStopping(monitor='val_loss', patience=2)\n",
    "model.compile(loss= 'binary_crossentropy', optimizer='adam', metrics=['accuracy'])\n",
    "history = model.fit(X_train, y_train, epochs=5, validation_data=(X_valid, y_valid))\n",
    "print('Accuracy: ', model.evaluate(X_test, y_test)[1])\n",
    "plt_show(history)"
   ]
  },
  {
   "cell_type": "markdown",
   "id": "f7556a85",
   "metadata": {},
   "source": [
    "## LSTM과 CNN 조합 모델로 분석"
   ]
  },
  {
   "cell_type": "code",
   "execution_count": 45,
   "id": "99e6d81a",
   "metadata": {},
   "outputs": [],
   "source": [
    "from tensorflow.keras.layers import Dropout, Activation, Conv1D, MaxPooling1D"
   ]
  },
  {
   "cell_type": "code",
   "execution_count": 46,
   "id": "fa1981ae",
   "metadata": {},
   "outputs": [
    {
     "name": "stdout",
     "output_type": "stream",
     "text": [
      "Model: \"sequential_2\"\n",
      "_________________________________________________________________\n",
      " Layer (type)                Output Shape              Param #   \n",
      "=================================================================\n",
      " embedding_2 (Embedding)     (None, 377, 32)           8380608   \n",
      "                                                                 \n",
      " dropout (Dropout)           (None, 377, 32)           0         \n",
      "                                                                 \n",
      " conv1d (Conv1D)             (None, 373, 64)           10304     \n",
      "                                                                 \n",
      " max_pooling1d (MaxPooling1D  (None, 93, 64)           0         \n",
      " )                                                               \n",
      "                                                                 \n",
      " lstm_1 (LSTM)               (None, 377)               666536    \n",
      "                                                                 \n",
      " dense_2 (Dense)             (None, 128)               48384     \n",
      "                                                                 \n",
      " dense_3 (Dense)             (None, 64)                8256      \n",
      "                                                                 \n",
      " dense_4 (Dense)             (None, 32)                2080      \n",
      "                                                                 \n",
      " dense_5 (Dense)             (None, 1)                 33        \n",
      "                                                                 \n",
      " activation (Activation)     (None, 1)                 0         \n",
      "                                                                 \n",
      "=================================================================\n",
      "Total params: 9,116,201\n",
      "Trainable params: 9,116,201\n",
      "Non-trainable params: 0\n",
      "_________________________________________________________________\n"
     ]
    }
   ],
   "source": [
    "model = Sequential()\n",
    "model.add(Embedding(word_size, 32, input_length=377))\n",
    "model.add(Dropout(0.5))\n",
    "model.add(Conv1D(64, 5, padding='valid', activation='relu', strides=1))\n",
    "model.add(MaxPooling1D(pool_size=4))\n",
    "model.add(LSTM(377))\n",
    "model.add(Dense(128, activation='relu'))\n",
    "model.add(Dense(64, activation='relu'))\n",
    "model.add(Dense(32, activation='relu'))\n",
    "model.add(Dense(1))\n",
    "model.add(Activation('sigmoid'))\n",
    "model.summary()        "
   ]
  },
  {
   "cell_type": "code",
   "execution_count": 47,
   "id": "066e9da0",
   "metadata": {},
   "outputs": [
    {
     "name": "stdout",
     "output_type": "stream",
     "text": [
      "Epoch 1/5\n",
      "1407/1407 [==============================] - 68s 43ms/step - loss: 0.3986 - accuracy: 0.8297 - val_loss: 0.3237 - val_accuracy: 0.8619\n",
      "Epoch 2/5\n",
      "1407/1407 [==============================] - 58s 41ms/step - loss: 0.2258 - accuracy: 0.9131 - val_loss: 0.3451 - val_accuracy: 0.8565\n",
      "Epoch 3/5\n",
      "1407/1407 [==============================] - 59s 42ms/step - loss: 0.1297 - accuracy: 0.9538 - val_loss: 0.4424 - val_accuracy: 0.8472\n",
      "Epoch 4/5\n",
      "1407/1407 [==============================] - 59s 42ms/step - loss: 0.0907 - accuracy: 0.9689 - val_loss: 0.5025 - val_accuracy: 0.8413\n",
      "Epoch 5/5\n",
      "1407/1407 [==============================] - 59s 42ms/step - loss: 0.0691 - accuracy: 0.9764 - val_loss: 0.5689 - val_accuracy: 0.8293\n",
      "469/469 [==============================] - 5s 11ms/step - loss: 0.5819 - accuracy: 0.8267\n",
      "Accuracy:  0.8267333507537842\n"
     ]
    },
    {
     "data": {
      "image/png": "[encoded data removed]",
      "text/plain": [
       "<Figure size 640x480 with 1 Axes>"
      ]
     },
     "metadata": {},
     "output_type": "display_data"
    }
   ],
   "source": [
    "modelpath = \"./model/{epoch:02d}-{val_accuracy:.4f}.hdf5\"\n",
    "checkpointer = ModelCheckpoint(filepath=modelpath, monitor='val_loss', verbose=1, save_best_only=True)\n",
    "early_stopping_callback = EarlyStopping(monitor='val_loss', patience=2)\n",
    "model.compile(loss= 'binary_crossentropy', optimizer='adam', metrics=['accuracy'])\n",
    "history = model.fit(X_train, y_train, epochs=5, validation_data=(X_valid, y_valid))\n",
    "print('Accuracy: ', model.evaluate(X_test, y_test)[1])\n",
    "plt_show(history)"
   ]
  },
  {
   "cell_type": "markdown",
   "id": "2ee9b8f9",
   "metadata": {},
   "source": [
    "## Attention을 이용한 분석"
   ]
  },
  {
   "cell_type": "code",
   "execution_count": 48,
   "id": "d920fc4f",
   "metadata": {},
   "outputs": [
    {
     "name": "stdout",
     "output_type": "stream",
     "text": [
      "Requirement already satisfied: attention in c:\\users\\hi\\anaconda3\\envs\\tf\\lib\\site-packages (5.0.0)\n",
      "Requirement already satisfied: numpy>=1.18.1 in c:\\users\\hi\\anaconda3\\envs\\tf\\lib\\site-packages (from attention) (1.22.4)\n",
      "Requirement already satisfied: tensorflow>=2.1 in c:\\users\\hi\\anaconda3\\envs\\tf\\lib\\site-packages (from attention) (2.10.1)\n",
      "Requirement already satisfied: absl-py>=1.0.0 in c:\\users\\hi\\anaconda3\\envs\\tf\\lib\\site-packages (from tensorflow>=2.1->attention) (2.0.0)\n",
      "Requirement already satisfied: astunparse>=1.6.0 in c:\\users\\hi\\anaconda3\\envs\\tf\\lib\\site-packages (from tensorflow>=2.1->attention) (1.6.3)\n",
      "Requirement already satisfied: flatbuffers>=2.0 in c:\\users\\hi\\anaconda3\\envs\\tf\\lib\\site-packages (from tensorflow>=2.1->attention) (23.5.26)\n",
      "Requirement already satisfied: gast<=0.4.0,>=0.2.1 in c:\\users\\hi\\anaconda3\\envs\\tf\\lib\\site-packages (from tensorflow>=2.1->attention) (0.4.0)\n",
      "Requirement already satisfied: google-pasta>=0.1.1 in c:\\users\\hi\\anaconda3\\envs\\tf\\lib\\site-packages (from tensorflow>=2.1->attention) (0.2.0)\n",
      "Requirement already satisfied: h5py>=2.9.0 in c:\\users\\hi\\anaconda3\\envs\\tf\\lib\\site-packages (from tensorflow>=2.1->attention) (3.10.0)\n",
      "Requirement already satisfied: keras-preprocessing>=1.1.1 in c:\\users\\hi\\anaconda3\\envs\\tf\\lib\\site-packages (from tensorflow>=2.1->attention) (1.1.2)\n",
      "Requirement already satisfied: libclang>=13.0.0 in c:\\users\\hi\\anaconda3\\envs\\tf\\lib\\site-packages (from tensorflow>=2.1->attention) (16.0.6)\n",
      "Requirement already satisfied: opt-einsum>=2.3.2 in c:\\users\\hi\\anaconda3\\envs\\tf\\lib\\site-packages (from tensorflow>=2.1->attention) (3.3.0)\n",
      "Requirement already satisfied: packaging in c:\\users\\hi\\anaconda3\\envs\\tf\\lib\\site-packages (from tensorflow>=2.1->attention) (23.1)\n",
      "Requirement already satisfied: protobuf<3.20,>=3.9.2 in c:\\users\\hi\\anaconda3\\envs\\tf\\lib\\site-packages (from tensorflow>=2.1->attention) (3.19.6)\n",
      "Requirement already satisfied: setuptools in c:\\users\\hi\\anaconda3\\envs\\tf\\lib\\site-packages (from tensorflow>=2.1->attention) (68.0.0)\n",
      "Requirement already satisfied: six>=1.12.0 in c:\\users\\hi\\anaconda3\\envs\\tf\\lib\\site-packages (from tensorflow>=2.1->attention) (1.16.0)\n",
      "Requirement already satisfied: termcolor>=1.1.0 in c:\\users\\hi\\anaconda3\\envs\\tf\\lib\\site-packages (from tensorflow>=2.1->attention) (2.3.0)\n",
      "Requirement already satisfied: typing-extensions>=3.6.6 in c:\\users\\hi\\anaconda3\\envs\\tf\\lib\\site-packages (from tensorflow>=2.1->attention) (4.7.1)\n",
      "Requirement already satisfied: wrapt>=1.11.0 in c:\\users\\hi\\anaconda3\\envs\\tf\\lib\\site-packages (from tensorflow>=2.1->attention) (1.15.0)\n",
      "Requirement already satisfied: tensorflow-io-gcs-filesystem>=0.23.1 in c:\\users\\hi\\anaconda3\\envs\\tf\\lib\\site-packages (from tensorflow>=2.1->attention) (0.31.0)\n",
      "Requirement already satisfied: grpcio<2.0,>=1.24.3 in c:\\users\\hi\\anaconda3\\envs\\tf\\lib\\site-packages (from tensorflow>=2.1->attention) (1.59.0)\n",
      "Requirement already satisfied: tensorboard<2.11,>=2.10 in c:\\users\\hi\\anaconda3\\envs\\tf\\lib\\site-packages (from tensorflow>=2.1->attention) (2.10.1)\n",
      "Requirement already satisfied: tensorflow-estimator<2.11,>=2.10.0 in c:\\users\\hi\\anaconda3\\envs\\tf\\lib\\site-packages (from tensorflow>=2.1->attention) (2.10.0)\n",
      "Requirement already satisfied: keras<2.11,>=2.10.0 in c:\\users\\hi\\anaconda3\\envs\\tf\\lib\\site-packages (from tensorflow>=2.1->attention) (2.10.0)\n",
      "Requirement already satisfied: wheel<1.0,>=0.23.0 in c:\\users\\hi\\anaconda3\\envs\\tf\\lib\\site-packages (from astunparse>=1.6.0->tensorflow>=2.1->attention) (0.41.2)\n",
      "Requirement already satisfied: google-auth<3,>=1.6.3 in c:\\users\\hi\\anaconda3\\envs\\tf\\lib\\site-packages (from tensorboard<2.11,>=2.10->tensorflow>=2.1->attention) (2.23.3)\n",
      "Requirement already satisfied: google-auth-oauthlib<0.5,>=0.4.1 in c:\\users\\hi\\anaconda3\\envs\\tf\\lib\\site-packages (from tensorboard<2.11,>=2.10->tensorflow>=2.1->attention) (0.4.6)\n",
      "Requirement already satisfied: markdown>=2.6.8 in c:\\users\\hi\\anaconda3\\envs\\tf\\lib\\site-packages (from tensorboard<2.11,>=2.10->tensorflow>=2.1->attention) (3.5)\n",
      "Requirement already satisfied: requests<3,>=2.21.0 in c:\\users\\hi\\anaconda3\\envs\\tf\\lib\\site-packages (from tensorboard<2.11,>=2.10->tensorflow>=2.1->attention) (2.28.2)\n",
      "Requirement already satisfied: tensorboard-data-server<0.7.0,>=0.6.0 in c:\\users\\hi\\anaconda3\\envs\\tf\\lib\\site-packages (from tensorboard<2.11,>=2.10->tensorflow>=2.1->attention) (0.6.1)\n",
      "Requirement already satisfied: tensorboard-plugin-wit>=1.6.0 in c:\\users\\hi\\anaconda3\\envs\\tf\\lib\\site-packages (from tensorboard<2.11,>=2.10->tensorflow>=2.1->attention) (1.8.1)\n",
      "Requirement already satisfied: werkzeug>=1.0.1 in c:\\users\\hi\\anaconda3\\envs\\tf\\lib\\site-packages (from tensorboard<2.11,>=2.10->tensorflow>=2.1->attention) (3.0.1)\n",
      "Requirement already satisfied: cachetools<6.0,>=2.0.0 in c:\\users\\hi\\anaconda3\\envs\\tf\\lib\\site-packages (from google-auth<3,>=1.6.3->tensorboard<2.11,>=2.10->tensorflow>=2.1->attention) (5.3.2)\n",
      "Requirement already satisfied: pyasn1-modules>=0.2.1 in c:\\users\\hi\\anaconda3\\envs\\tf\\lib\\site-packages (from google-auth<3,>=1.6.3->tensorboard<2.11,>=2.10->tensorflow>=2.1->attention) (0.3.0)\n",
      "Requirement already satisfied: rsa<5,>=3.1.4 in c:\\users\\hi\\anaconda3\\envs\\tf\\lib\\site-packages (from google-auth<3,>=1.6.3->tensorboard<2.11,>=2.10->tensorflow>=2.1->attention) (4.9)\n",
      "Requirement already satisfied: requests-oauthlib>=0.7.0 in c:\\users\\hi\\anaconda3\\envs\\tf\\lib\\site-packages (from google-auth-oauthlib<0.5,>=0.4.1->tensorboard<2.11,>=2.10->tensorflow>=2.1->attention) (1.3.1)\n",
      "Requirement already satisfied: importlib-metadata>=4.4 in c:\\users\\hi\\anaconda3\\envs\\tf\\lib\\site-packages (from markdown>=2.6.8->tensorboard<2.11,>=2.10->tensorflow>=2.1->attention) (6.0.0)\n",
      "Requirement already satisfied: charset-normalizer<4,>=2 in c:\\users\\hi\\anaconda3\\envs\\tf\\lib\\site-packages (from requests<3,>=2.21.0->tensorboard<2.11,>=2.10->tensorflow>=2.1->attention) (3.3.1)\n",
      "Requirement already satisfied: idna<4,>=2.5 in c:\\users\\hi\\anaconda3\\envs\\tf\\lib\\site-packages (from requests<3,>=2.21.0->tensorboard<2.11,>=2.10->tensorflow>=2.1->attention) (3.4)\n",
      "Requirement already satisfied: urllib3<1.27,>=1.21.1 in c:\\users\\hi\\anaconda3\\envs\\tf\\lib\\site-packages (from requests<3,>=2.21.0->tensorboard<2.11,>=2.10->tensorflow>=2.1->attention) (1.26.18)\n",
      "Requirement already satisfied: certifi>=2017.4.17 in c:\\users\\hi\\anaconda3\\envs\\tf\\lib\\site-packages (from requests<3,>=2.21.0->tensorboard<2.11,>=2.10->tensorflow>=2.1->attention) (2023.7.22)\n",
      "Requirement already satisfied: MarkupSafe>=2.1.1 in c:\\users\\hi\\anaconda3\\envs\\tf\\lib\\site-packages (from werkzeug>=1.0.1->tensorboard<2.11,>=2.10->tensorflow>=2.1->attention) (2.1.1)\n",
      "Requirement already satisfied: zipp>=0.5 in c:\\users\\hi\\anaconda3\\envs\\tf\\lib\\site-packages (from importlib-metadata>=4.4->markdown>=2.6.8->tensorboard<2.11,>=2.10->tensorflow>=2.1->attention) (3.11.0)\n",
      "Requirement already satisfied: pyasn1<0.6.0,>=0.4.6 in c:\\users\\hi\\anaconda3\\envs\\tf\\lib\\site-packages (from pyasn1-modules>=0.2.1->google-auth<3,>=1.6.3->tensorboard<2.11,>=2.10->tensorflow>=2.1->attention) (0.5.0)\n",
      "Requirement already satisfied: oauthlib>=3.0.0 in c:\\users\\hi\\anaconda3\\envs\\tf\\lib\\site-packages (from requests-oauthlib>=0.7.0->google-auth-oauthlib<0.5,>=0.4.1->tensorboard<2.11,>=2.10->tensorflow>=2.1->attention) (3.2.2)\n"
     ]
    }
   ],
   "source": [
    "!pip install attention"
   ]
  },
  {
   "cell_type": "code",
   "execution_count": 49,
   "id": "bb20cd78",
   "metadata": {},
   "outputs": [],
   "source": [
    "from attention import Attention"
   ]
  },
  {
   "cell_type": "code",
   "execution_count": 50,
   "id": "2e9745e9",
   "metadata": {},
   "outputs": [
    {
     "name": "stdout",
     "output_type": "stream",
     "text": [
      "Model: \"sequential_3\"\n",
      "_________________________________________________________________\n",
      " Layer (type)                Output Shape              Param #   \n",
      "=================================================================\n",
      " embedding_3 (Embedding)     (None, 377, 32)           8380608   \n",
      "                                                                 \n",
      " dropout_1 (Dropout)         (None, 377, 32)           0         \n",
      "                                                                 \n",
      " lstm_2 (LSTM)               (None, 377, 64)           24832     \n",
      "                                                                 \n",
      " attention (Attention)       (None, 128)               20480     \n",
      "                                                                 \n",
      " dropout_2 (Dropout)         (None, 128)               0         \n",
      "                                                                 \n",
      " dense_6 (Dense)             (None, 256)               33024     \n",
      "                                                                 \n",
      " dense_7 (Dense)             (None, 128)               32896     \n",
      "                                                                 \n",
      " dense_8 (Dense)             (None, 64)                8256      \n",
      "                                                                 \n",
      " dense_9 (Dense)             (None, 62)                4030      \n",
      "                                                                 \n",
      " dense_10 (Dense)            (None, 1)                 63        \n",
      "                                                                 \n",
      " activation_1 (Activation)   (None, 1)                 0         \n",
      "                                                                 \n",
      "=================================================================\n",
      "Total params: 8,504,189\n",
      "Trainable params: 8,504,189\n",
      "Non-trainable params: 0\n",
      "_________________________________________________________________\n"
     ]
    }
   ],
   "source": [
    "model = Sequential()\n",
    "model.add(Embedding(word_size, 32, input_length=377))\n",
    "model.add(Dropout(0.5))\n",
    "model.add(LSTM(64, return_sequences=True))\n",
    "model.add(Attention())\n",
    "model.add(Dropout(0.5))\n",
    "model.add(Dense(256, activation='relu'))\n",
    "model.add(Dense(128, activation='relu'))\n",
    "model.add(Dense(64, activation='relu'))\n",
    "model.add(Dense(62, activation='relu'))\n",
    "model.add(Dense(1))\n",
    "model.add(Activation('sigmoid'))\n",
    "model.summary()"
   ]
  },
  {
   "cell_type": "code",
   "execution_count": 51,
   "id": "699fae0f",
   "metadata": {},
   "outputs": [
    {
     "name": "stdout",
     "output_type": "stream",
     "text": [
      "Epoch 1/5\n",
      "1407/1407 [==============================] - 55s 38ms/step - loss: 0.3927 - accuracy: 0.8281 - val_loss: 0.3153 - val_accuracy: 0.8669\n",
      "Epoch 2/5\n",
      "1407/1407 [==============================] - 53s 37ms/step - loss: 0.2174 - accuracy: 0.9180 - val_loss: 0.3280 - val_accuracy: 0.8622\n",
      "Epoch 3/5\n",
      "1407/1407 [==============================] - 53s 37ms/step - loss: 0.1089 - accuracy: 0.9628 - val_loss: 0.4050 - val_accuracy: 0.8470\n",
      "Epoch 4/5\n",
      "1407/1407 [==============================] - 52s 37ms/step - loss: 0.0661 - accuracy: 0.9784 - val_loss: 0.4950 - val_accuracy: 0.8370\n",
      "Epoch 5/5\n",
      "1407/1407 [==============================] - 53s 37ms/step - loss: 0.0471 - accuracy: 0.9851 - val_loss: 0.5508 - val_accuracy: 0.8329\n",
      "469/469 [==============================] - 5s 10ms/step - loss: 0.5564 - accuracy: 0.8309\n",
      "Accuracy:  0.8309333324432373\n"
     ]
    },
    {
     "data": {
      "image/png": "[encoded data removed]",
      "text/plain": [
       "<Figure size 640x480 with 1 Axes>"
      ]
     },
     "metadata": {},
     "output_type": "display_data"
    }
   ],
   "source": [
    "modelpath = \"./model/{epoch:02d}-{val_accuracy:.4f}.hdf5\"\n",
    "checkpointer = ModelCheckpoint(filepath=modelpath, monitor='val_loss', verbose=1, save_best_only=True)\n",
    "early_stopping_callback = EarlyStopping(monitor='val_loss', patience=2)\n",
    "model.compile(loss= 'binary_crossentropy', optimizer='adam', metrics=['accuracy'])\n",
    "history = model.fit(X_train, y_train, epochs=5, validation_data=(X_valid, y_valid))\n",
    "print('Accuracy: ', model.evaluate(X_test, y_test)[1])\n",
    "plt_show(history)"
   ]
  },
  {
   "cell_type": "code",
   "execution_count": null,
   "id": "9d5c43e2",
   "metadata": {},
   "outputs": [],
   "source": []
  },
  {
   "cell_type": "code",
   "execution_count": null,
   "id": "49b3075c",
   "metadata": {},
   "outputs": [],
   "source": []
  },
  {
   "cell_type": "code",
   "execution_count": null,
   "id": "414956ca",
   "metadata": {},
   "outputs": [],
   "source": []
  },
  {
   "cell_type": "code",
   "execution_count": null,
   "id": "4a61d129",
   "metadata": {},
   "outputs": [],
   "source": []
  },
  {
   "cell_type": "code",
   "execution_count": null,
   "id": "9f22dd0b",
   "metadata": {},
   "outputs": [],
   "source": []
  },
  {
   "cell_type": "code",
   "execution_count": null,
   "id": "3ec4eb0d",
   "metadata": {},
   "outputs": [],
   "source": []
  },
  {
   "cell_type": "code",
   "execution_count": null,
   "id": "cf8891ad",
   "metadata": {},
   "outputs": [],
   "source": []
  },
  {
   "cell_type": "code",
   "execution_count": null,
   "id": "32201090",
   "metadata": {},
   "outputs": [],
   "source": []
  },
  {
   "cell_type": "code",
   "execution_count": null,
   "id": "703b38f7",
   "metadata": {},
   "outputs": [],
   "source": []
  }
 ],
 "metadata": {
  "kernelspec": {
   "display_name": "Python 3 (ipykernel)",
   "language": "python",
   "name": "python3"
  },
  "language_info": {
   "codemirror_mode": {
    "name": "ipython",
    "version": 3
   },
   "file_extension": ".py",
   "mimetype": "text/x-python",
   "name": "python",
   "nbconvert_exporter": "python",
   "pygments_lexer": "ipython3",
   "version": "3.9.18"
  }
 },
 "nbformat": 4,
 "nbformat_minor": 5
}
