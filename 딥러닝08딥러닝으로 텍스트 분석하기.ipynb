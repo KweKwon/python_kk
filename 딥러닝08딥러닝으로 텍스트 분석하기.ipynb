{
 "cells": [
  {
   "cell_type": "code",
   "execution_count": 3,
   "id": "a04f71ce",
   "metadata": {},
   "outputs": [],
   "source": [
    "from tensorflow.keras.preprocessing.text import Tokenizer, text_to_word_sequence\n",
    "from tensorflow.keras.preprocessing.sequence import pad_sequences\n",
    "from tensorflow.keras.models import Sequential\n",
    "from tensorflow.keras.layers import Dense, Flatten, Embedding\n",
    "from tensorflow.keras.utils import to_categorical\n",
    "from numpy import array"
   ]
  },
  {
   "cell_type": "code",
   "execution_count": 4,
   "id": "1327fe9e",
   "metadata": {},
   "outputs": [],
   "source": [
    "text = '해보지 않으면 해낼 수 없다.'"
   ]
  },
  {
   "cell_type": "code",
   "execution_count": 5,
   "id": "b4235ff2",
   "metadata": {},
   "outputs": [
    {
     "name": "stdout",
     "output_type": "stream",
     "text": [
      "원문:  해보지 않으면 해낼 수 없다.\n",
      "토큰화:  ['해보지', '않으면', '해낼', '수', '없다']\n"
     ]
    }
   ],
   "source": [
    "result = text_to_word_sequence(text)\n",
    "print('원문: ', text)\n",
    "print('토큰화: ', result)"
   ]
  },
  {
   "cell_type": "code",
   "execution_count": 24,
   "id": "c4caa52e",
   "metadata": {},
   "outputs": [],
   "source": [
    "# 단어 빈도수 세기\n",
    "docs = ['먼저 텍스트의 각 단어를 나누어 토큰화 합니다.',\n",
    "       '텍스트의 단어로 토큰화해야 딥러닝에서 인식됩니다.',\n",
    "       '토큰화한 결과는 딥러닝에서 사용할 수 있습니다.']"
   ]
  },
  {
   "cell_type": "code",
   "execution_count": 7,
   "id": "d31af087",
   "metadata": {},
   "outputs": [],
   "source": [
    "# 문장 토큰화 하기\n",
    "token = Tokenizer(lower=False)\n",
    "token.fit_on_texts(docs)"
   ]
  },
  {
   "cell_type": "code",
   "execution_count": 8,
   "id": "531f21cf",
   "metadata": {},
   "outputs": [
    {
     "name": "stdout",
     "output_type": "stream",
     "text": [
      "단어 카운트:  OrderedDict([('먼저', 1), ('텍스트의', 2), ('각', 1), ('단어를', 1), ('나누어', 1), ('토큰화', 1), ('합니다', 1), ('단어로', 1), ('토큰화해야', 1), ('딥러닝에서', 2), ('인식됩니다', 1), ('토큰화한', 1), ('결과는', 1), ('사용할', 1), ('수', 1), ('있습니다', 1)])\n"
     ]
    }
   ],
   "source": [
    "print('단어 카운트: ', token.word_counts)"
   ]
  },
  {
   "cell_type": "code",
   "execution_count": 9,
   "id": "699514d1",
   "metadata": {},
   "outputs": [
    {
     "name": "stdout",
     "output_type": "stream",
     "text": [
      "문장 카운트:  3\n"
     ]
    }
   ],
   "source": [
    "print('문장 카운트: ', token.document_count)"
   ]
  },
  {
   "cell_type": "code",
   "execution_count": 10,
   "id": "e96f3716",
   "metadata": {},
   "outputs": [
    {
     "name": "stdout",
     "output_type": "stream",
     "text": [
      "각 단어가 몇 개의 문장에 포함되어 있는가? defaultdict(<class 'int'>, {'텍스트의': 2, '합니다': 1, '각': 1, '나누어': 1, '단어를': 1, '먼저': 1, '토큰화': 1, '인식됩니다': 1, '토큰화해야': 1, '딥러닝에서': 2, '단어로': 1, '있습니다': 1, '수': 1, '결과는': 1, '사용할': 1, '토큰화한': 1})\n"
     ]
    }
   ],
   "source": [
    "print('각 단어가 몇 개의 문장에 포함되어 있는가?', token.word_docs)"
   ]
  },
  {
   "cell_type": "code",
   "execution_count": 11,
   "id": "edd2e98d",
   "metadata": {},
   "outputs": [
    {
     "name": "stdout",
     "output_type": "stream",
     "text": [
      "각 단어에 메겨진 인덱스: {'텍스트의': 1, '딥러닝에서': 2, '먼저': 3, '각': 4, '단어를': 5, '나누어': 6, '토큰화': 7, '합니다': 8, '단어로': 9, '토큰화해야': 10, '인식됩니다': 11, '토큰화한': 12, '결과는': 13, '사용할': 14, '수': 15, '있습니다': 16}\n"
     ]
    }
   ],
   "source": [
    "print('각 단어에 메겨진 인덱스:', token.word_index)"
   ]
  },
  {
   "cell_type": "markdown",
   "id": "fe8e15bf",
   "metadata": {},
   "source": [
    "# 단어의 원-핫 인코딩"
   ]
  },
  {
   "cell_type": "code",
   "execution_count": 12,
   "id": "011a494a",
   "metadata": {},
   "outputs": [
    {
     "name": "stdout",
     "output_type": "stream",
     "text": [
      "{'오랫동안': 1, '꿈꾸는': 2, '이는': 3, '그': 4, '꿈을': 5, '닮아간다': 6}\n"
     ]
    }
   ],
   "source": [
    "text = '오랫동안 꿈꾸는 이는 그 꿈을 닮아간다'\n",
    "token = Tokenizer(lower=False)\n",
    "token.fit_on_texts([text])\n",
    "print(token.word_index)"
   ]
  },
  {
   "cell_type": "code",
   "execution_count": 13,
   "id": "e88c18dd",
   "metadata": {},
   "outputs": [],
   "source": [
    "# 단어를 벡터로 변환\n",
    "x = token.texts_to_sequences([text])"
   ]
  },
  {
   "cell_type": "code",
   "execution_count": 14,
   "id": "ec2b7d13",
   "metadata": {},
   "outputs": [
    {
     "data": {
      "text/plain": [
       "7"
      ]
     },
     "execution_count": 14,
     "metadata": {},
     "output_type": "execute_result"
    }
   ],
   "source": [
    "len(token.word_index) + 1"
   ]
  },
  {
   "cell_type": "code",
   "execution_count": 15,
   "id": "d4968ff5",
   "metadata": {},
   "outputs": [],
   "source": [
    "# 인덱스에 1을 추가해서 원-핫 인코딩 배열 만들기\n",
    "word_size = len(token.word_index) + 1"
   ]
  },
  {
   "cell_type": "code",
   "execution_count": 16,
   "id": "d098c017",
   "metadata": {},
   "outputs": [
    {
     "name": "stdout",
     "output_type": "stream",
     "text": [
      "[[[0. 1. 0. 0. 0. 0. 0.]\n",
      "  [0. 0. 1. 0. 0. 0. 0.]\n",
      "  [0. 0. 0. 1. 0. 0. 0.]\n",
      "  [0. 0. 0. 0. 1. 0. 0.]\n",
      "  [0. 0. 0. 0. 0. 1. 0.]\n",
      "  [0. 0. 0. 0. 0. 0. 1.]]]\n"
     ]
    }
   ],
   "source": [
    "x = to_categorical(x, num_classes=word_size)\n",
    "print(x)"
   ]
  },
  {
   "cell_type": "markdown",
   "id": "d00eca1d",
   "metadata": {},
   "source": [
    "# 텍스트를 읽고 긍정, 부정 예측하기"
   ]
  },
  {
   "cell_type": "code",
   "execution_count": 17,
   "id": "e8ceefa1",
   "metadata": {},
   "outputs": [],
   "source": [
    "docs = ['너무 재밋네요', '최고에요', '참 잘 만든 영화에요','추천하고 싶은 영화입니다.',\n",
    "       '한번 더 보고싶네요', '글쎄요', '별로에요', '생각보다 지루하네요', '연기가 어색해요',\n",
    "       '재미없어요']\n",
    "# 긍정 리뷰는1, 부정 리뷰는 0으로 클래스 지정\n",
    "classes = array([1,1,1,1,1,0,0,0,0,0])"
   ]
  },
  {
   "cell_type": "code",
   "execution_count": 18,
   "id": "6ab88048",
   "metadata": {},
   "outputs": [
    {
     "name": "stdout",
     "output_type": "stream",
     "text": [
      "{'너무': 1, '재밋네요': 2, '최고에요': 3, '참': 4, '잘': 5, '만든': 6, '영화에요': 7, '추천하고': 8, '싶은': 9, '영화입니다': 10, '한번': 11, '더': 12, '보고싶네요': 13, '글쎄요': 14, '별로에요': 15, '생각보다': 16, '지루하네요': 17, '연기가': 18, '어색해요': 19, '재미없어요': 20}\n"
     ]
    }
   ],
   "source": [
    "# 토큰화\n",
    "token = Tokenizer(lower=False)\n",
    "token.fit_on_texts(docs)\n",
    "print(token.word_index)"
   ]
  },
  {
   "cell_type": "code",
   "execution_count": 19,
   "id": "a7b375ac",
   "metadata": {},
   "outputs": [
    {
     "name": "stdout",
     "output_type": "stream",
     "text": [
      "[[1, 2], [3], [4, 5, 6, 7], [8, 9, 10], [11, 12, 13], [14], [15], [16, 17], [18, 19], [20]]\n"
     ]
    }
   ],
   "source": [
    "# 원핫인코딩\n",
    "x = token.texts_to_sequences(docs)\n",
    "print(x)"
   ]
  },
  {
   "cell_type": "code",
   "execution_count": 20,
   "id": "8bb05add",
   "metadata": {},
   "outputs": [
    {
     "name": "stdout",
     "output_type": "stream",
     "text": [
      "패딩 결과 [[ 0  0  1  2]\n",
      " [ 0  0  0  3]\n",
      " [ 4  5  6  7]\n",
      " [ 0  8  9 10]\n",
      " [ 0 11 12 13]\n",
      " [ 0  0  0 14]\n",
      " [ 0  0  0 15]\n",
      " [ 0  0 16 17]\n",
      " [ 0  0 18 19]\n",
      " [ 0  0  0 20]]\n"
     ]
    }
   ],
   "source": [
    "# 패딩 추가 pad_sequences(데이터, 가장 긴 문장의 길이)\n",
    "padded_x = pad_sequences(x, 4)\n",
    "print(\"패딩 결과\", padded_x)"
   ]
  },
  {
   "cell_type": "code",
   "execution_count": 21,
   "id": "19abaa2c",
   "metadata": {},
   "outputs": [],
   "source": [
    "# 임베딩에 입력된 단어의 수 지정\n",
    "word_size = len(token.word_index) + 1"
   ]
  },
  {
   "cell_type": "code",
   "execution_count": 22,
   "id": "78776494",
   "metadata": {},
   "outputs": [
    {
     "name": "stdout",
     "output_type": "stream",
     "text": [
      "Model: \"sequential\"\n",
      "_________________________________________________________________\n",
      " Layer (type)                Output Shape              Param #   \n",
      "=================================================================\n",
      " embedding (Embedding)       (None, 4, 8)              168       \n",
      "                                                                 \n",
      " flatten (Flatten)           (None, 32)                0         \n",
      "                                                                 \n",
      " dense (Dense)               (None, 1)                 33        \n",
      "                                                                 \n",
      "=================================================================\n",
      "Total params: 201\n",
      "Trainable params: 201\n",
      "Non-trainable params: 0\n",
      "_________________________________________________________________\n"
     ]
    }
   ],
   "source": [
    "# 단어 임베딩을 포함해서 딥러닝 모델 생성\n",
    "model = Sequential()\n",
    "model.add(Embedding(word_size, 8, input_length=4))\n",
    "model.add(Flatten())\n",
    "model.add(Dense(1, activation='sigmoid'))\n",
    "model.summary()"
   ]
  },
  {
   "cell_type": "code",
   "execution_count": 23,
   "id": "894ebc45",
   "metadata": {},
   "outputs": [
    {
     "name": "stdout",
     "output_type": "stream",
     "text": [
      "Epoch 1/20\n",
      "1/1 [==============================] - 3s 3s/step - loss: 0.6843 - accuracy: 0.8000\n",
      "Epoch 2/20\n",
      "1/1 [==============================] - 0s 17ms/step - loss: 0.6822 - accuracy: 0.8000\n",
      "Epoch 3/20\n",
      "1/1 [==============================] - 0s 4ms/step - loss: 0.6801 - accuracy: 0.8000\n",
      "Epoch 4/20\n",
      "1/1 [==============================] - 0s 16ms/step - loss: 0.6779 - accuracy: 0.8000\n",
      "Epoch 5/20\n",
      "1/1 [==============================] - 0s 13ms/step - loss: 0.6758 - accuracy: 0.8000\n",
      "Epoch 6/20\n",
      "1/1 [==============================] - 0s 0s/step - loss: 0.6737 - accuracy: 0.8000\n",
      "Epoch 7/20\n",
      "1/1 [==============================] - 0s 766us/step - loss: 0.6716 - accuracy: 0.8000\n",
      "Epoch 8/20\n",
      "1/1 [==============================] - 0s 18ms/step - loss: 0.6695 - accuracy: 0.8000\n",
      "Epoch 9/20\n",
      "1/1 [==============================] - 0s 0s/step - loss: 0.6674 - accuracy: 0.8000\n",
      "Epoch 10/20\n",
      "1/1 [==============================] - 0s 780us/step - loss: 0.6653 - accuracy: 0.8000\n",
      "Epoch 11/20\n",
      "1/1 [==============================] - 0s 17ms/step - loss: 0.6632 - accuracy: 0.8000\n",
      "Epoch 12/20\n",
      "1/1 [==============================] - 0s 0s/step - loss: 0.6611 - accuracy: 0.8000\n",
      "Epoch 13/20\n",
      "1/1 [==============================] - 0s 3ms/step - loss: 0.6589 - accuracy: 0.8000\n",
      "Epoch 14/20\n",
      "1/1 [==============================] - 0s 16ms/step - loss: 0.6568 - accuracy: 0.8000\n",
      "Epoch 15/20\n",
      "1/1 [==============================] - 0s 0s/step - loss: 0.6547 - accuracy: 0.8000\n",
      "Epoch 16/20\n",
      "1/1 [==============================] - 0s 18ms/step - loss: 0.6525 - accuracy: 0.8000\n",
      "Epoch 17/20\n",
      "1/1 [==============================] - 0s 13ms/step - loss: 0.6504 - accuracy: 0.8000\n",
      "Epoch 18/20\n",
      "1/1 [==============================] - 0s 0s/step - loss: 0.6482 - accuracy: 0.8000\n",
      "Epoch 19/20\n",
      "1/1 [==============================] - 0s 17ms/step - loss: 0.6460 - accuracy: 0.8000\n",
      "Epoch 20/20\n",
      "1/1 [==============================] - 0s 14ms/step - loss: 0.6439 - accuracy: 0.8000\n",
      "1/1 [==============================] - 0s 152ms/step - loss: 0.6417 - accuracy: 0.8000\n",
      "Accuracy:  0.800000011920929\n"
     ]
    }
   ],
   "source": [
    "model.compile(loss='binary_crossentropy', optimizer='adam', metrics=['accuracy'])\n",
    "history = model.fit(padded_x, classes, epochs=20)\n",
    "print('Accuracy: ', model.evaluate(padded_x, classes)[1])"
   ]
  },
  {
   "cell_type": "code",
   "execution_count": null,
   "id": "105fc3bb",
   "metadata": {},
   "outputs": [],
   "source": []
  },
  {
   "cell_type": "code",
   "execution_count": null,
   "id": "bcee77c1",
   "metadata": {},
   "outputs": [],
   "source": []
  }
 ],
 "metadata": {
  "kernelspec": {
   "display_name": "Python 3 (ipykernel)",
   "language": "python",
   "name": "python3"
  },
  "language_info": {
   "codemirror_mode": {
    "name": "ipython",
    "version": 3
   },
   "file_extension": ".py",
   "mimetype": "text/x-python",
   "name": "python",
   "nbconvert_exporter": "python",
   "pygments_lexer": "ipython3",
   "version": "3.9.18"
  }
 },
 "nbformat": 4,
 "nbformat_minor": 5
}
